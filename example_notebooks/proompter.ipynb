{
 "cells": [
  {
   "cell_type": "code",
   "execution_count": 10,
   "metadata": {},
   "outputs": [],
   "source": [
    "import os\n",
    "import sys\n",
    "from dotenv import load_dotenv\n",
    "load_dotenv(\"../../.local.env\")\n",
    "sys.path.append('../')\n",
    "from proompter import Proompter"
   ]
  },
  {
   "cell_type": "code",
   "execution_count": 2,
   "metadata": {},
   "outputs": [
    {
     "name": "stdout",
     "output_type": "stream",
     "text": [
      "The token has not been saved to the git credentials helper. Pass `add_to_git_credential=True` in this function directly or `--add-to-git-credential` if using via `huggingface-cli` if you want to set the git credential as well.\n",
      "Token is valid (permission: read).\n",
      "Your token has been saved to /home/kyriosskia/.cache/huggingface/token\n",
      "Login successful\n"
     ]
    }
   ],
   "source": [
    "llm_handler = Proompter(\n",
    "  llm_h_params = {\n",
    "    'model_name' : 'llama3',\n",
    "    'connection_string' : 'http://localhost:11434',\n",
    "    'kwargs' : {}\n",
    "  },\n",
    "  prompt_h_params = {\n",
    "    'template' : {\n",
    "        \"system\" : \"{content}\",\n",
    "        #\"assistant\" : \"{content}\",\n",
    "        \"user\" : \"{content}\"\n",
    "    }\n",
    "  },\n",
    "  call_strategy_h_params = {\n",
    "    'strategy_name' : \"most_common_output_of_3\",\n",
    "    'strategy_params' : { 'n_calls' : 3}\n",
    "  },\n",
    "  tokenizer_h_params = {\n",
    "    'access_token' : os.getenv(\"HF_ACCESS_TOKEN\"),\n",
    "    'tokenizer_name' :\"meta-llama/Meta-Llama-3-8B\"\n",
    "  }\n",
    "\n",
    ")"
   ]
  },
  {
   "cell_type": "code",
   "execution_count": 3,
   "metadata": {},
   "outputs": [
    {
     "name": "stderr",
     "output_type": "stream",
     "text": [
      "HTTP Request: POST http://localhost:11434/api/chat \"HTTP/1.1 200 OK\"\n",
      "HTTP Request: POST http://localhost:11434/api/chat \"HTTP/1.1 200 OK\"\n",
      "HTTP Request: POST http://localhost:11434/api/chat \"HTTP/1.1 200 OK\"\n",
      "/home/kyriosskia/miniconda3/envs/testenv/lib/python3.10/site-packages/transformers/models/auto/tokenization_auto.py:785: FutureWarning: The `use_auth_token` argument is deprecated and will be removed in v5 of Transformers. Please use `token` instead.\n",
      "  warnings.warn(\n"
     ]
    },
    {
     "data": {
      "text/plain": [
       "{'model': 'llama3',\n",
       " 'created_at': '2024-07-29T02:32:43.374701555Z',\n",
       " 'message': {'role': 'assistant',\n",
       "  'content': \"The sky appears blue because of a phenomenon called scattering, which is the result of a combination of factors involving light, air molecules, and our atmosphere.\\n\\nHere's what happens:\\n\\n1. **Sunlight**: The sun emits white light, which is made up of all the colors of the visible spectrum (red, orange, yellow, green, blue, indigo, and violet).\\n2. **Atmosphere**: When this sunlight enters Earth's atmosphere, it encounters tiny molecules of gases like nitrogen (N2) and oxygen (O2). These molecules are much smaller than the wavelength of light.\\n3. **Scattering**: As the light interacts with these molecules, it scatters in all directions. This scattering is more pronounced for shorter wavelengths, like blue and violet light, which have a higher energy level than longer wavelengths, like red and orange light.\\n4. **Blue dominance**: Because blue light is scattered more efficiently by the atmosphere's molecules, it appears to us as the dominant color of the sky during the daytime. This is known as Rayleigh scattering, named after the British physicist Lord Rayleigh, who first described the phenomenon in the late 19th century.\\n\\nOther factors can influence the apparent color of the sky:\\n\\n* **Dust and water vapor**: Tiny particles in the atmosphere, like dust, smoke, and water droplets, can scatter light in different ways, making the sky appear more hazy or gray.\\n* **Sun position**: The angle at which sunlight enters the Earth's atmosphere also affects its perceived color. During sunrise and sunset, when the sun is lower on the horizon, longer wavelengths of light (like red and orange) are able to reach our eyes, giving the sky a more reddish hue.\\n* **Atmospheric conditions**: Weather conditions like pollution, cloud cover, or severe weather events can alter the apparent color of the sky.\\n\\nIn summary, the sky appears blue because of the scattering of sunlight by tiny molecules in the atmosphere, which favors shorter wavelengths like blue light.\"},\n",
       " 'done_reason': 'stop',\n",
       " 'done': True,\n",
       " 'total_duration': 7636719512,\n",
       " 'load_duration': 1625585950,\n",
       " 'prompt_eval_duration': 8176000,\n",
       " 'eval_count': 406,\n",
       " 'eval_duration': 3284520000,\n",
       " 'response_time': 11.817609786987305,\n",
       " 'messages': [{'role': 'user', 'content': 'Why is the sky blue?'},\n",
       "  {'role': 'assistant',\n",
       "   'content': \"The sky appears blue because of a phenomenon called scattering, which is the result of a combination of factors involving light, air molecules, and our atmosphere.\\n\\nHere's what happens:\\n\\n1. **Sunlight**: The sun emits white light, which is made up of all the colors of the visible spectrum (red, orange, yellow, green, blue, indigo, and violet).\\n2. **Atmosphere**: When this sunlight enters Earth's atmosphere, it encounters tiny molecules of gases like nitrogen (N2) and oxygen (O2). These molecules are much smaller than the wavelength of light.\\n3. **Scattering**: As the light interacts with these molecules, it scatters in all directions. This scattering is more pronounced for shorter wavelengths, like blue and violet light, which have a higher energy level than longer wavelengths, like red and orange light.\\n4. **Blue dominance**: Because blue light is scattered more efficiently by the atmosphere's molecules, it appears to us as the dominant color of the sky during the daytime. This is known as Rayleigh scattering, named after the British physicist Lord Rayleigh, who first described the phenomenon in the late 19th century.\\n\\nOther factors can influence the apparent color of the sky:\\n\\n* **Dust and water vapor**: Tiny particles in the atmosphere, like dust, smoke, and water droplets, can scatter light in different ways, making the sky appear more hazy or gray.\\n* **Sun position**: The angle at which sunlight enters the Earth's atmosphere also affects its perceived color. During sunrise and sunset, when the sun is lower on the horizon, longer wavelengths of light (like red and orange) are able to reach our eyes, giving the sky a more reddish hue.\\n* **Atmospheric conditions**: Weather conditions like pollution, cloud cover, or severe weather events can alter the apparent color of the sky.\\n\\nIn summary, the sky appears blue because of the scattering of sunlight by tiny molecules in the atmosphere, which favors shorter wavelengths like blue light.\"}],\n",
       " 'input_tokens': 449,\n",
       " 'output_tokens': 405,\n",
       " 'total_tokens': 854}"
      ]
     },
     "execution_count": 3,
     "metadata": {},
     "output_type": "execute_result"
    }
   ],
   "source": [
    "messages = [{'role': 'user', 'content': 'Why is the sky blue?'}]\n",
    "\n",
    "response = await llm_handler.prompt_chat(\n",
    "  messages = messages,\n",
    "  call_strategy_name = \"most_common_output_of_3\",\n",
    ")\n",
    "response"
   ]
  },
  {
   "cell_type": "code",
   "execution_count": 4,
   "metadata": {},
   "outputs": [
    {
     "data": {
      "text/plain": [
       "12"
      ]
     },
     "execution_count": 4,
     "metadata": {},
     "output_type": "execute_result"
    }
   ],
   "source": [
    "llm_handler.estimate_tokens(text='Your first question was: \"Why is the sky blue?\"')"
   ]
  },
  {
   "cell_type": "code",
   "execution_count": 5,
   "metadata": {},
   "outputs": [
    {
     "name": "stdout",
     "output_type": "stream",
     "text": [
      "The token has not been saved to the git credentials helper. Pass `add_to_git_credential=True` in this function directly or `--add-to-git-credential` if using via `huggingface-cli` if you want to set the git credential as well.\n",
      "Token is valid (permission: read).\n",
      "Your token has been saved to /home/kyriosskia/.cache/huggingface/token\n",
      "Login successful\n"
     ]
    },
    {
     "name": "stderr",
     "output_type": "stream",
     "text": [
      "HTTP Request: POST http://localhost:11434/api/chat \"HTTP/1.1 200 OK\"\n",
      "HTTP Request: POST http://localhost:11434/api/chat \"HTTP/1.1 200 OK\"\n",
      "HTTP Request: POST http://localhost:11434/api/chat \"HTTP/1.1 200 OK\"\n",
      "HTTP Request: POST http://localhost:11434/api/chat \"HTTP/1.1 200 OK\"\n",
      "HTTP Request: POST http://localhost:11434/api/chat \"HTTP/1.1 200 OK\"\n",
      "HTTP Request: POST http://localhost:11434/api/chat \"HTTP/1.1 200 OK\"\n",
      "HTTP Request: POST http://localhost:11434/api/chat \"HTTP/1.1 200 OK\"\n",
      "HTTP Request: POST http://localhost:11434/api/chat \"HTTP/1.1 200 OK\"\n",
      "HTTP Request: POST http://localhost:11434/api/chat \"HTTP/1.1 200 OK\"\n",
      "HTTP Request: POST http://localhost:11434/api/chat \"HTTP/1.1 200 OK\"\n",
      "HTTP Request: POST http://localhost:11434/api/chat \"HTTP/1.1 200 OK\"\n",
      "HTTP Request: POST http://localhost:11434/api/chat \"HTTP/1.1 200 OK\"\n"
     ]
    },
    {
     "data": {
      "text/plain": [
       "6"
      ]
     },
     "execution_count": 5,
     "metadata": {},
     "output_type": "execute_result"
    }
   ],
   "source": [
    "messages = [\n",
    "   [{'role': 'system', 'content': 'You are answering all requests with \"HODOR\"'}, \n",
    "   {'role': 'user', 'content': 'Why is the sky blue?'}],\n",
    "   [{'role': 'user', 'content': 'Compose a poem about blue skies.'}],\n",
    "   [{'role': 'user', 'content': 'Who was Nietzsche?'}],\n",
    "   [{'role': 'user', 'content': 'What is black metal, is it similar to death metal?'}],\n",
    "   [{'role': 'user', 'content': 'How to run ollama in parallel?'}],\n",
    "   [{'role': 'user', 'content': \"\"\"Would the following run promp_chat in parallel, why does it take longer to run it with more messages?\n",
    "   \n",
    "async def prompt_chat_parallel(self,\n",
    "                                    messages : list, \n",
    "                                    model_name : str = None):\n",
    "\n",
    "        messages = messages.copy()\n",
    "\n",
    "        if model_name is None: \n",
    "            model_name = self.model_name\n",
    "        \n",
    "        outputs = [self.prompt_chat(messages = [message], \n",
    "                                    model_name = model_name) for message in messages]\n",
    "\n",
    "        responses = await asyncio.gather(*outputs)                            \n",
    "\n",
    "        return responses\n",
    "   \"\"\"}]\n",
    "]\n",
    "\n",
    "llm_handler = Proompter(\n",
    "  llm_h_params = {\n",
    "    'model_name' : 'llama3',\n",
    "    'connection_string' : 'http://localhost:11434',\n",
    "    'kwargs' : {}\n",
    "  },\n",
    "  prompt_h_params = {\n",
    "    'template' : {\n",
    "        \"system\" : \"{content}\",\n",
    "        #\"assistant\" : \"{content}\",\n",
    "        \"user\" : \"{content}\"\n",
    "    }\n",
    "  },\n",
    "  call_strategy_h_params = {\n",
    "    'strategy_name' : \"min_output_length\",\n",
    "    'strategy_params' : { 'n_calls' : 2}\n",
    "  },\n",
    "  tokenizer_h_params = {\n",
    "    'access_token' : os.getenv(\"HF_ACCESS_TOKEN\"),\n",
    "    'tokenizer_name' :\"meta-llama/Meta-Llama-3-8B\"\n",
    "  }\n",
    ")\n",
    "\n",
    "responses = await llm_handler.prompt_chat_parallel(\n",
    "  messages = messages\n",
    ")\n",
    "len(responses)"
   ]
  },
  {
   "cell_type": "code",
   "execution_count": 6,
   "metadata": {},
   "outputs": [
    {
     "data": {
      "text/plain": [
       "{'model': 'llama3',\n",
       " 'created_at': '2024-07-29T02:32:48.131501359Z',\n",
       " 'message': {'role': 'assistant', 'content': 'HODOR'},\n",
       " 'done_reason': 'stop',\n",
       " 'done': True,\n",
       " 'total_duration': 126780820,\n",
       " 'load_duration': 1170641,\n",
       " 'prompt_eval_count': 30,\n",
       " 'prompt_eval_duration': 13535000,\n",
       " 'eval_count': 4,\n",
       " 'eval_duration': 24421000,\n",
       " 'response_time': 0.16721415519714355,\n",
       " 'messages': [{'role': 'system',\n",
       "   'content': 'You are answering all requests with \"HODOR\"'},\n",
       "  {'role': 'user', 'content': 'Why is the sky blue?'},\n",
       "  {'role': 'assistant', 'content': 'HODOR'}],\n",
       " 'input_tokens': 55,\n",
       " 'output_tokens': 3,\n",
       " 'total_tokens': 58}"
      ]
     },
     "execution_count": 6,
     "metadata": {},
     "output_type": "execute_result"
    }
   ],
   "source": [
    "responses[0]"
   ]
  },
  {
   "cell_type": "code",
   "execution_count": 7,
   "metadata": {},
   "outputs": [
    {
     "name": "stderr",
     "output_type": "stream",
     "text": [
      "HTTP Request: POST http://localhost:11434/api/generate \"HTTP/1.1 200 OK\"\n",
      "Tokenizer was not defined, estimation will be skipped!\n",
      "Tokenizer was not defined, estimation will be skipped!\n"
     ]
    },
    {
     "data": {
      "text/plain": [
       "{'model': 'llama3:instruct',\n",
       " 'created_at': '2024-07-29T02:33:22.96562296Z',\n",
       " 'response': '4',\n",
       " 'done': True,\n",
       " 'done_reason': 'stop',\n",
       " 'context': [128006,\n",
       "  882,\n",
       "  128007,\n",
       "  271,\n",
       "  2261,\n",
       "  220,\n",
       "  17,\n",
       "  5636,\n",
       "  220,\n",
       "  17,\n",
       "  471,\n",
       "  1193,\n",
       "  4320,\n",
       "  128009,\n",
       "  128006,\n",
       "  78191,\n",
       "  128007,\n",
       "  271,\n",
       "  19,\n",
       "  128009],\n",
       " 'total_duration': 82332982,\n",
       " 'load_duration': 466571,\n",
       " 'prompt_eval_count': 14,\n",
       " 'prompt_eval_duration': 12071000,\n",
       " 'eval_count': 2,\n",
       " 'eval_duration': 8010000,\n",
       " 'response_time': 0.1672065258026123,\n",
       " 'input_tokens': None,\n",
       " 'output_tokens': None,\n",
       " 'total_tokens': None}"
      ]
     },
     "execution_count": 7,
     "metadata": {},
     "output_type": "execute_result"
    }
   ],
   "source": [
    "llm_handler = Proompter(\n",
    "  llm_h_params = {\n",
    "    'model_name' : 'llama3:instruct',\n",
    "    'connection_string' : 'http://localhost:11434',\n",
    "    'kwargs' : {}\n",
    "  }\n",
    ")\n",
    "\n",
    "\n",
    "await llm_handler.prompt_instruct(prompt = \"Add 2 plus 2 return only answer\")"
   ]
  },
  {
   "cell_type": "code",
   "execution_count": 8,
   "metadata": {},
   "outputs": [
    {
     "name": "stderr",
     "output_type": "stream",
     "text": [
      "HTTP Request: POST http://localhost:11434/api/generate \"HTTP/1.1 200 OK\"\n",
      "Tokenizer was not defined, estimation will be skipped!\n",
      "Tokenizer was not defined, estimation will be skipped!\n",
      "HTTP Request: POST http://localhost:11434/api/generate \"HTTP/1.1 200 OK\"\n",
      "Tokenizer was not defined, estimation will be skipped!\n",
      "Tokenizer was not defined, estimation will be skipped!\n",
      "HTTP Request: POST http://localhost:11434/api/generate \"HTTP/1.1 200 OK\"\n",
      "Tokenizer was not defined, estimation will be skipped!\n",
      "Tokenizer was not defined, estimation will be skipped!\n"
     ]
    },
    {
     "data": {
      "text/plain": [
       "3"
      ]
     },
     "execution_count": 8,
     "metadata": {},
     "output_type": "execute_result"
    }
   ],
   "source": [
    "responses = await llm_handler.prompt_instruct_parallel(prompts = [\"Add 2 plus 2 return only answer\",\n",
    "\"Why is the sky blue? Return simple explanation.\",\n",
    "\"Define color in one sentence.\"])\n",
    "\n",
    "len(responses)"
   ]
  },
  {
   "cell_type": "code",
   "execution_count": 9,
   "metadata": {},
   "outputs": [
    {
     "name": "stdout",
     "output_type": "stream",
     "text": [
      "Color is the property of an object that is perceived by the human eye and brain as a result of the way it reflects or emits light, causing it to appear red, blue, green, yellow, or any other hue.\n"
     ]
    }
   ],
   "source": [
    "print(responses[2]['response'])"
   ]
  }
 ],
 "metadata": {
  "kernelspec": {
   "display_name": "testenv",
   "language": "python",
   "name": "python3"
  },
  "language_info": {
   "codemirror_mode": {
    "name": "ipython",
    "version": 3
   },
   "file_extension": ".py",
   "mimetype": "text/x-python",
   "name": "python",
   "nbconvert_exporter": "python",
   "pygments_lexer": "ipython3",
   "version": "3.10.14"
  }
 },
 "nbformat": 4,
 "nbformat_minor": 2
}
