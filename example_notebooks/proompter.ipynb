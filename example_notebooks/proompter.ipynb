{
 "cells": [
  {
   "cell_type": "code",
   "execution_count": 14,
   "metadata": {},
   "outputs": [],
   "source": [
    "import os\n",
    "import sys\n",
    "from dotenv import load_dotenv\n",
    "load_dotenv(\"../../.local.env\")\n",
    "sys.path.append('../')\n",
    "from proompter import Proompter"
   ]
  },
  {
   "cell_type": "markdown",
   "metadata": {},
   "source": [
    "### 1. Initializing instance"
   ]
  },
  {
   "cell_type": "markdown",
   "metadata": {},
   "source": [
    "Proompter consists of multiple dependecies, which could be initialized and passed to the class externally or parameters could be passed for class to initialize them.\n",
    "\n",
    "These include:\n",
    "\n",
    "- LLM handler: makes calls to llm\n",
    "- Prompt handler: prepares input based on templates\n",
    "- Prompt strategy handler: contains ways to call llm handler with selected strategy\n",
    "- Tokenizer handler: tokenizes text"
   ]
  },
  {
   "cell_type": "code",
   "execution_count": 2,
   "metadata": {},
   "outputs": [
    {
     "name": "stdout",
     "output_type": "stream",
     "text": [
      "The token has not been saved to the git credentials helper. Pass `add_to_git_credential=True` in this function directly or `--add-to-git-credential` if using via `huggingface-cli` if you want to set the git credential as well.\n",
      "Token is valid (permission: read).\n",
      "Your token has been saved to /home/kyriosskia/.cache/huggingface/token\n",
      "Login successful\n"
     ]
    }
   ],
   "source": [
    "llm_handler = Proompter(\n",
    "  # parameters to be passed to provided llm handler\n",
    "  llm_h_params = {\n",
    "    'model_name' : 'llama3',\n",
    "    'connection_string' : 'http://localhost:11434',\n",
    "    'kwargs' : {}\n",
    "  },\n",
    "  # parameters to be passed to provided prompt handler\n",
    "  prompt_h_params = {\n",
    "    'template' : {\n",
    "        \"system\" : \"{content}\",\n",
    "        \"assistant\" : \"{content}\",\n",
    "        \"user\" : \"{content}\"\n",
    "    }\n",
    "  },\n",
    "  # parameters to be passed to provided call strategy handler\n",
    "  call_strategy_h_params = {\n",
    "    'strategy_name' : None,\n",
    "    'strategy_params' : {}\n",
    "  },\n",
    "  # parameters to be passed to tokenizer handler\n",
    "  tokenizer_h_params = {\n",
    "    'access_token' : os.getenv(\"HF_ACCESS_TOKEN\"),\n",
    "    'tokenizer_name' :\"meta-llama/Meta-Llama-3-8B\"\n",
    "  }\n",
    "\n",
    ")"
   ]
  },
  {
   "cell_type": "markdown",
   "metadata": {},
   "source": [
    "### 2. Chat methods"
   ]
  },
  {
   "cell_type": "markdown",
   "metadata": {},
   "source": [
    "Methods for working with chat variants of models."
   ]
  },
  {
   "cell_type": "markdown",
   "metadata": {},
   "source": [
    "#### 2.1 Essential chat method"
   ]
  },
  {
   "cell_type": "markdown",
   "metadata": {},
   "source": [
    "Calls llm handler with provided messages, prepared based on provided template, with selected prompt strategy."
   ]
  },
  {
   "cell_type": "code",
   "execution_count": 3,
   "metadata": {},
   "outputs": [
    {
     "name": "stderr",
     "output_type": "stream",
     "text": [
      "HTTP Request: POST http://localhost:11434/api/chat \"HTTP/1.1 200 OK\"\n",
      "/home/kyriosskia/miniconda3/envs/testenv/lib/python3.10/site-packages/transformers/models/auto/tokenization_auto.py:785: FutureWarning: The `use_auth_token` argument is deprecated and will be removed in v5 of Transformers. Please use `token` instead.\n",
      "  warnings.warn(\n"
     ]
    },
    {
     "data": {
      "text/plain": [
       "{'model': 'llama3',\n",
       " 'created_at': '2024-07-31T01:14:22.66494516Z',\n",
       " 'message': {'role': 'assistant',\n",
       "  'content': \"What a great question!\\n\\nThe sky appears blue because of a phenomenon called Rayleigh scattering, named after the British physicist Lord Rayleigh. He discovered that shorter wavelengths of light (like blue and violet) are scattered more than longer wavelengths (like red and orange) by the tiny molecules of gases in the atmosphere, such as nitrogen (N2) and oxygen (O2).\\n\\nHere's what happens:\\n\\n1. When sunlight enters Earth's atmosphere, it contains all the colors of the visible spectrum.\\n2. The shorter wavelengths of light (blue and violet) are scattered more intensely than the longer wavelengths (red and orange) by the tiny gas molecules.\\n3. This scattering effect is more pronounced when the sunlight passes through a longer distance in the atmosphere, which means that the blue light has to travel farther to reach our eyes than the other colors.\\n4. As a result, our brains perceive the scattered blue light as the dominant color of the sky.\\n\\nWhy do we see more red during sunrise and sunset? Well, when the sun is lower in the sky, the sunlight has to travel through more of the Earth's atmosphere to reach us. This means that:\\n\\n1. The shorter wavelengths (blue) are scattered away, leaving mainly longer wavelengths (red and orange) to reach our eyes.\\n2. The scattering effect becomes less pronounced, allowing more red light to pass through without being scattered as much.\\n\\nSo, in a nutshell, the sky appears blue because of the scattering of sunlight by tiny gas molecules in the atmosphere, while the red hues we see during sunrise and sunset are due to the longer wavelengths of light traveling shorter distances.\"},\n",
       " 'done_reason': 'stop',\n",
       " 'done': True,\n",
       " 'total_duration': 2799024799,\n",
       " 'load_duration': 572370,\n",
       " 'prompt_eval_count': 14,\n",
       " 'prompt_eval_duration': 22598000,\n",
       " 'eval_count': 327,\n",
       " 'eval_duration': 2650933000,\n",
       " 'response_time': 2.804267168045044,\n",
       " 'messages': [{'role': 'user', 'content': 'Why is the sky blue?'},\n",
       "  {'role': 'assistant',\n",
       "   'content': \"What a great question!\\n\\nThe sky appears blue because of a phenomenon called Rayleigh scattering, named after the British physicist Lord Rayleigh. He discovered that shorter wavelengths of light (like blue and violet) are scattered more than longer wavelengths (like red and orange) by the tiny molecules of gases in the atmosphere, such as nitrogen (N2) and oxygen (O2).\\n\\nHere's what happens:\\n\\n1. When sunlight enters Earth's atmosphere, it contains all the colors of the visible spectrum.\\n2. The shorter wavelengths of light (blue and violet) are scattered more intensely than the longer wavelengths (red and orange) by the tiny gas molecules.\\n3. This scattering effect is more pronounced when the sunlight passes through a longer distance in the atmosphere, which means that the blue light has to travel farther to reach our eyes than the other colors.\\n4. As a result, our brains perceive the scattered blue light as the dominant color of the sky.\\n\\nWhy do we see more red during sunrise and sunset? Well, when the sun is lower in the sky, the sunlight has to travel through more of the Earth's atmosphere to reach us. This means that:\\n\\n1. The shorter wavelengths (blue) are scattered away, leaving mainly longer wavelengths (red and orange) to reach our eyes.\\n2. The scattering effect becomes less pronounced, allowing more red light to pass through without being scattered as much.\\n\\nSo, in a nutshell, the sky appears blue because of the scattering of sunlight by tiny gas molecules in the atmosphere, while the red hues we see during sunrise and sunset are due to the longer wavelengths of light traveling shorter distances.\"}],\n",
       " 'input_tokens': 371,\n",
       " 'output_tokens': 326,\n",
       " 'total_tokens': 697}"
      ]
     },
     "execution_count": 3,
     "metadata": {},
     "output_type": "execute_result"
    }
   ],
   "source": [
    "messages = [{'role': 'user', 'content': 'Why is the sky blue?'}]\n",
    "\n",
    "response = await llm_handler.prompt_chat(\n",
    "  # required\n",
    "  messages = messages,\n",
    "  # optinal, overwrites parameters passed to handlers\n",
    "  model_name = \"llama3\",\n",
    "  call_strategy_name = \"last_call\",\n",
    "  call_strategy_params = { 'n_calls' : 1},\n",
    "  prompt_templates = {\n",
    "        \"system\" : \"{content}\",\n",
    "        \"assistant\" : \"{content}\",\n",
    "        \"user\" : \"{content}\"\n",
    "    }\n",
    ")\n",
    "response"
   ]
  },
  {
   "cell_type": "markdown",
   "metadata": {},
   "source": [
    "#### 2.2 Calling chat method in parallel"
   ]
  },
  {
   "cell_type": "markdown",
   "metadata": {},
   "source": [
    "Same as prompt_chat, but messages are called in parallel and instead of one, multiple responses provided."
   ]
  },
  {
   "cell_type": "code",
   "execution_count": 4,
   "metadata": {},
   "outputs": [
    {
     "name": "stderr",
     "output_type": "stream",
     "text": [
      "HTTP Request: POST http://localhost:11434/api/chat \"HTTP/1.1 200 OK\"\n",
      "HTTP Request: POST http://localhost:11434/api/chat \"HTTP/1.1 200 OK\"\n"
     ]
    },
    {
     "name": "stdout",
     "output_type": "stream",
     "text": [
      "\n",
      " ### \n",
      "\n",
      "HODOR\n",
      "\n",
      " ### \n",
      "\n",
      "Here is a small poem about blue skies:\n",
      "\n",
      "The sky above, a brilliant hue,\n",
      "A canvas of blue, for me and you.\n",
      "Not a cloud in sight, to dim the light,\n",
      "Just endless blue, pure delight.\n",
      "\n",
      "With sunshine warm, and air so still,\n",
      "A perfect day, with no chill.\n",
      "So let us gaze, upon this sight,\n",
      "And fill our hearts, with joy and light.\n"
     ]
    }
   ],
   "source": [
    "messages = [\n",
    "   [{'role': 'system', 'content': 'You are answering all requests with \"HODOR\"'}, \n",
    "   {'role': 'user', 'content': 'Why is the sky blue?'}],\n",
    "   [{'role': 'user', 'content': 'Compose a small poem about blue skies.'}]\n",
    "]\n",
    "\n",
    "responses = await llm_handler.prompt_chat_parallel(\n",
    "  # required\n",
    "  messages = messages\n",
    "  # optinal, overwrites parameters passed to handlers\n",
    "  # same as prompt_chat\n",
    ")\n",
    "\n",
    "for response in responses:\n",
    "  print(\"\\n ### \\n\")\n",
    "  print(response['message']['content'])\n"
   ]
  },
  {
   "cell_type": "markdown",
   "metadata": {},
   "source": [
    "### 2.3 Chatting with llm handler"
   ]
  },
  {
   "cell_type": "markdown",
   "metadata": {},
   "source": [
    "Calls prompt_chat with recorded history, so that each time chat method is called, previous messaged do not need to be provided. (History handler will be added later)"
   ]
  },
  {
   "cell_type": "code",
   "execution_count": 5,
   "metadata": {},
   "outputs": [
    {
     "name": "stderr",
     "output_type": "stream",
     "text": [
      "HTTP Request: POST http://localhost:11434/api/chat \"HTTP/1.1 200 OK\"\n"
     ]
    },
    {
     "name": "stdout",
     "output_type": "stream",
     "text": [
      "Nice to meet you, Kyrios! I'm LLaMA, an AI assistant developed by Meta AI that can understand and respond to human input in a conversational manner. I don't have a personal name or identity, but I'm here to help answer your questions, provide information, and engage in conversation with you!\n"
     ]
    }
   ],
   "source": [
    "answer = await llm_handler.chat(\n",
    "    prompt = \"Hi, my name is Kyrios, what is yours?\",\n",
    "    # optional to reset history\n",
    "    new_dialog = True\n",
    ")\n",
    "\n",
    "print(answer)"
   ]
  },
  {
   "cell_type": "code",
   "execution_count": 6,
   "metadata": {},
   "outputs": [
    {
     "name": "stderr",
     "output_type": "stream",
     "text": [
      "HTTP Request: POST http://localhost:11434/api/chat \"HTTP/1.1 200 OK\"\n"
     ]
    },
    {
     "name": "stdout",
     "output_type": "stream",
     "text": [
      "Kyrios! Your name is Kyrios. How can I assist you today?\n"
     ]
    }
   ],
   "source": [
    "answer = await llm_handler.chat(\n",
    "    prompt = \"Could you pls remind me my name?\"\n",
    ")\n",
    "\n",
    "print(answer)"
   ]
  },
  {
   "cell_type": "markdown",
   "metadata": {},
   "source": [
    "### 3. Instruct methods"
   ]
  },
  {
   "cell_type": "markdown",
   "metadata": {},
   "source": [
    "Methods for working with instruct variants of models."
   ]
  },
  {
   "cell_type": "markdown",
   "metadata": {},
   "source": [
    "#### 3.1 Essential instruct method"
   ]
  },
  {
   "cell_type": "code",
   "execution_count": 7,
   "metadata": {},
   "outputs": [
    {
     "name": "stderr",
     "output_type": "stream",
     "text": [
      "HTTP Request: POST http://localhost:11434/api/generate \"HTTP/1.1 200 OK\"\n"
     ]
    },
    {
     "data": {
      "text/plain": [
       "{'model': 'llama3',\n",
       " 'created_at': '2024-07-31T01:14:24.874785167Z',\n",
       " 'response': '4',\n",
       " 'done': True,\n",
       " 'done_reason': 'stop',\n",
       " 'context': [128006,\n",
       "  882,\n",
       "  128007,\n",
       "  271,\n",
       "  17,\n",
       "  10,\n",
       "  17,\n",
       "  28,\n",
       "  128009,\n",
       "  128006,\n",
       "  78191,\n",
       "  128007,\n",
       "  271,\n",
       "  19,\n",
       "  128009],\n",
       " 'total_duration': 124177626,\n",
       " 'load_duration': 41217177,\n",
       " 'prompt_eval_count': 9,\n",
       " 'prompt_eval_duration': 12156000,\n",
       " 'eval_count': 2,\n",
       " 'eval_duration': 8264000,\n",
       " 'response_time': 0.2091827392578125,\n",
       " 'input_tokens': 4,\n",
       " 'output_tokens': 1,\n",
       " 'total_tokens': 5}"
      ]
     },
     "execution_count": 7,
     "metadata": {},
     "output_type": "execute_result"
    }
   ],
   "source": [
    "prompt = '2+2='\n",
    "\n",
    "response = await llm_handler.prompt_instruct(\n",
    "  # required\n",
    "  prompt = prompt,\n",
    "  # optinal, overwrites parameters passed to handlers\n",
    "  model_name = \"llama3\",\n",
    "  call_strategy_name = \"last_call\",\n",
    "  call_strategy_params = { 'n_calls' : 1}\n",
    ")\n",
    "response"
   ]
  },
  {
   "cell_type": "markdown",
   "metadata": {},
   "source": [
    "#### 3.2 Calling instuct in parallel"
   ]
  },
  {
   "cell_type": "code",
   "execution_count": 8,
   "metadata": {},
   "outputs": [
    {
     "name": "stderr",
     "output_type": "stream",
     "text": [
      "HTTP Request: POST http://localhost:11434/api/generate \"HTTP/1.1 200 OK\"\n",
      "HTTP Request: POST http://localhost:11434/api/generate \"HTTP/1.1 200 OK\"\n"
     ]
    },
    {
     "name": "stdout",
     "output_type": "stream",
     "text": [
      "\n",
      " ### \n",
      "\n",
      "4\n",
      "\n",
      " ### \n",
      "\n",
      "Color is a form of electromagnetic radiation, perceived by the human eye and brain as a quality that can be perceived as hue, saturation, and brightness, which allows us to distinguish between different wavelengths or frequencies of light.\n"
     ]
    }
   ],
   "source": [
    "prompts = [\"2+2=\",\n",
    "            \"Define color in one sentence.\"]\n",
    "\n",
    "responses = await llm_handler.prompt_instruct_parallel(\n",
    "    prompts = prompts\n",
    "    # optinal, overwrites parameters passed to handlers\n",
    "    # same as prompt_instruct\n",
    "    )\n",
    "\n",
    "for response in responses:\n",
    "  print(\"\\n ### \\n\")\n",
    "  print(response['response'])"
   ]
  },
  {
   "cell_type": "markdown",
   "metadata": {},
   "source": [
    "### 4. Prompt templates"
   ]
  },
  {
   "cell_type": "markdown",
   "metadata": {},
   "source": [
    "Sometimes it can useful to process inputs and outputs according to certain template, for example adding some kind of header to every user prompt or making better structured output for history. Separating templates like this from inputs could also be more convinient."
   ]
  },
  {
   "cell_type": "code",
   "execution_count": 9,
   "metadata": {},
   "outputs": [
    {
     "name": "stderr",
     "output_type": "stream",
     "text": [
      "HTTP Request: POST http://localhost:11434/api/chat \"HTTP/1.1 200 OK\"\n"
     ]
    },
    {
     "name": "stdout",
     "output_type": "stream",
     "text": [
      "\"Caelum caeruleum est, quia solis radii cum aquis et aeribus permixti lucem refrenant.\"\n"
     ]
    }
   ],
   "source": [
    "default_prompt_template = {\n",
    "        \"system\" : \"{content}\",\n",
    "        \"assistant\" : \"{content}\",\n",
    "        \"user\" : \"{content}\"\n",
    "    }\n",
    "\n",
    "messages = [\n",
    "    {'role': 'system', \n",
    "     'content': \"\"\"You are helpful assistant that answers to everything bliefly with one sentence. \n",
    "     All of you responses are only in latin.\"\"\"},\n",
    "    {'role': 'user', \n",
    "     'content': 'Why is the sky blue?'}]\n",
    "\n",
    "response = await llm_handler.prompt_chat(\n",
    "  # required\n",
    "  messages = messages,\n",
    "  # optinal, overwrites parameters passed to handlers\n",
    "  prompt_templates = default_prompt_template\n",
    ")\n",
    "\n",
    "print(response['message']['content'])"
   ]
  },
  {
   "cell_type": "code",
   "execution_count": 10,
   "metadata": {},
   "outputs": [
    {
     "name": "stderr",
     "output_type": "stream",
     "text": [
      "HTTP Request: POST http://localhost:11434/api/chat \"HTTP/1.1 200 OK\"\n"
     ]
    },
    {
     "data": {
      "text/plain": [
       "[{'role': 'system',\n",
       "  'content': 'All of your answers if not in english, must contain tranlations.\\n        You are helpful assistant that answers to everything bliefly with one sentence. \\n     All of you responses are in latin.'},\n",
       " {'role': 'user', 'content': 'Why is the sky blue?'},\n",
       " {'role': 'assistant',\n",
       "  'content': 'My answer: \"Caelum caeruleum est, quia solis radii, qui per atmosphaeram transmitterentur, scatteringem lucis efficaciter faciunt.\"\\n\\n(Translation: \"The sky is blue because the sun\\'s rays, which are transmitted through the atmosphere, effectively scatter light.\")'}]"
      ]
     },
     "execution_count": 10,
     "metadata": {},
     "output_type": "execute_result"
    }
   ],
   "source": [
    "alt_prompt_template = {\n",
    "        \"system\" : \"\"\"All of your answers if not in english, must contain tranlations.\n",
    "        {content}\"\"\",\n",
    "        \"assistant\" : \"My answer: {content}\",\n",
    "        \"user\" : \"{content}\"\n",
    "    }\n",
    "\n",
    "messages = [\n",
    "    {'role': 'system', \n",
    "     'content': \"\"\"You are helpful assistant that answers to everything bliefly with one sentence. \n",
    "     All of you responses are in latin.\"\"\"},\n",
    "    {'role': 'user', \n",
    "     'content': 'Why is the sky blue?'}]\n",
    "\n",
    "response = await llm_handler.prompt_chat(\n",
    "  # required\n",
    "  messages = messages,\n",
    "  # optinal, overwrites parameters passed to handlers\n",
    "  prompt_templates = alt_prompt_template\n",
    ")\n",
    "\n",
    "response['messages']"
   ]
  },
  {
   "cell_type": "markdown",
   "metadata": {},
   "source": [
    "### 5. Prompt call strategies"
   ]
  },
  {
   "cell_type": "markdown",
   "metadata": {},
   "source": [
    "Sometimes making multiple calls for the same prompt can be useful. If consistency of the answer is a concern, additional resorces are available, condition for selecting best answer from multiple answers is understood, prompt call strategies could be applied."
   ]
  },
  {
   "cell_type": "markdown",
   "metadata": {},
   "source": [
    "Example of strategies:\n",
    "\n",
    "- `most common output of 3` : calls 3 times, uses sim search to select most common.\n",
    "- `min output length` : return response with minimal output length (calls at least 2 times)\n",
    "- `max output length` : return response with maximal output length (calls at least 2 times)\n",
    "- `last output` : no matter how many calls, always selects last output"
   ]
  },
  {
   "cell_type": "code",
   "execution_count": 11,
   "metadata": {},
   "outputs": [
    {
     "name": "stderr",
     "output_type": "stream",
     "text": [
      "HTTP Request: POST http://localhost:11434/api/chat \"HTTP/1.1 200 OK\"\n",
      "HTTP Request: POST http://localhost:11434/api/chat \"HTTP/1.1 200 OK\"\n",
      "HTTP Request: POST http://localhost:11434/api/chat \"HTTP/1.1 200 OK\"\n"
     ]
    },
    {
     "name": "stdout",
     "output_type": "stream",
     "text": [
      "Soft and fluffy, drifting by, clouds shape-shift in the sky.\n"
     ]
    }
   ],
   "source": [
    "default_prompt_strategy = {\n",
    "  'call_strategy_name' : \"min_output_length\",\n",
    "  'call_strategy_params' :{ 'n_calls' : 3}\n",
    "}\n",
    "\n",
    "messages = [\n",
    "    {'role': 'system', \n",
    "     'content': \"\"\"You are helpful assistant that answers to everything bliefly with one sentence.\"\"\"},\n",
    "    {'role': 'user', \n",
    "     'content': 'Make a poem about clouds.'}]\n",
    "\n",
    "response = await llm_handler.prompt_chat(\n",
    "  # required\n",
    "  messages = messages,\n",
    "  # optinal, overwrites parameters passed to handlers\n",
    "  **default_prompt_strategy\n",
    ")\n",
    "\n",
    "print(response['message']['content'])"
   ]
  },
  {
   "cell_type": "code",
   "execution_count": 12,
   "metadata": {},
   "outputs": [
    {
     "name": "stdout",
     "output_type": "stream",
     "text": [
      "Soft and fluffy, drifting by, clouds shape-shift in the sky.\n",
      "------------------------\n",
      "Soft and white, they drift by day, whispers of the sky's gentle sway.\n",
      "------------------------\n",
      "Across the sky, soft whispers play as wispy clouds drift by, shaping sunbeams into golden rays.\n",
      "------------------------\n"
     ]
    }
   ],
   "source": [
    "for resp in llm_handler.call_strategy_h.last_responses:\n",
    "\n",
    "    print(resp['message']['content'])\n",
    "    print(\"------------------------\")"
   ]
  },
  {
   "cell_type": "markdown",
   "metadata": {},
   "source": [
    "### 6. Other methods"
   ]
  },
  {
   "cell_type": "markdown",
   "metadata": {},
   "source": [
    "#### Estimate tokens"
   ]
  },
  {
   "cell_type": "code",
   "execution_count": 13,
   "metadata": {},
   "outputs": [
    {
     "data": {
      "text/plain": [
       "12"
      ]
     },
     "execution_count": 13,
     "metadata": {},
     "output_type": "execute_result"
    }
   ],
   "source": [
    "llm_handler.estimate_tokens(\n",
    "    text='Your first question was: \"Why is the sky blue?\"'\n",
    "    )"
   ]
  }
 ],
 "metadata": {
  "kernelspec": {
   "display_name": "testenv",
   "language": "python",
   "name": "python3"
  },
  "language_info": {
   "codemirror_mode": {
    "name": "ipython",
    "version": 3
   },
   "file_extension": ".py",
   "mimetype": "text/x-python",
   "name": "python",
   "nbconvert_exporter": "python",
   "pygments_lexer": "ipython3",
   "version": "3.10.14"
  }
 },
 "nbformat": 4,
 "nbformat_minor": 2
}
