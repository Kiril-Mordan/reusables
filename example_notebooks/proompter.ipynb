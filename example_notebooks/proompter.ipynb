{
 "cells": [
  {
   "cell_type": "code",
   "execution_count": 1,
   "metadata": {},
   "outputs": [
    {
     "name": "stderr",
     "output_type": "stream",
     "text": [
      "/home/kyriosskia/miniconda3/envs/testenv/lib/python3.10/site-packages/tqdm/auto.py:21: TqdmWarning: IProgress not found. Please update jupyter and ipywidgets. See https://ipywidgets.readthedocs.io/en/stable/user_install.html\n",
      "  from .autonotebook import tqdm as notebook_tqdm\n"
     ]
    }
   ],
   "source": [
    "import os\n",
    "import sys\n",
    "from dotenv import load_dotenv\n",
    "load_dotenv(\"../../.local.env\")\n",
    "sys.path.append('../')\n",
    "from proompter import Proompter"
   ]
  },
  {
   "cell_type": "markdown",
   "metadata": {},
   "source": [
    "### 1. Initializing instance"
   ]
  },
  {
   "cell_type": "markdown",
   "metadata": {},
   "source": [
    "Proompter consists of multiple dependecies, which could be initialized and passed to the class externally or parameters could be passed for class to initialize them.\n",
    "\n",
    "These include:\n",
    "\n",
    "- LLM handler: makes calls to llm\n",
    "- Prompt handler: prepares input based on templates\n",
    "- Prompt strategy handler: contains ways to call llm handler with selected strategy\n",
    "- Tokenizer handler: tokenizes text"
   ]
  },
  {
   "cell_type": "code",
   "execution_count": 2,
   "metadata": {},
   "outputs": [
    {
     "name": "stdout",
     "output_type": "stream",
     "text": [
      "The token has not been saved to the git credentials helper. Pass `add_to_git_credential=True` in this function directly or `--add-to-git-credential` if using via `huggingface-cli` if you want to set the git credential as well.\n",
      "Token is valid (permission: read).\n",
      "Your token has been saved to /home/kyriosskia/.cache/huggingface/token\n",
      "Login successful\n"
     ]
    }
   ],
   "source": [
    "llm_handler = Proompter(\n",
    "  # parameters to be passed to provided llm handler\n",
    "  llm_h_params = {\n",
    "    'model_name' : 'llama3',\n",
    "    'connection_string' : 'http://localhost:11434',\n",
    "    'kwargs' : {}\n",
    "  },\n",
    "  # parameters to be passed to provided prompt handler\n",
    "  prompt_h_params = {\n",
    "    'template' : {\n",
    "        \"system\" : \"{content}\",\n",
    "        \"assistant\" : \"{content}\",\n",
    "        \"user\" : \"{content}\"\n",
    "    }\n",
    "  },\n",
    "  # parameters to be passed to provided call strategy handler\n",
    "  call_strategy_h_params = {\n",
    "    'strategy_name' : None,\n",
    "    'strategy_params' : {}\n",
    "  },\n",
    "  # parameters to be passed to tokenizer handler\n",
    "  tokenizer_h_params = {\n",
    "    'access_token' : os.getenv(\"HF_ACCESS_TOKEN\"),\n",
    "    'tokenizer_name' :\"meta-llama/Meta-Llama-3-8B\"\n",
    "  }\n",
    "\n",
    ")"
   ]
  },
  {
   "cell_type": "markdown",
   "metadata": {},
   "source": [
    "### 2. Chat methods"
   ]
  },
  {
   "cell_type": "markdown",
   "metadata": {},
   "source": [
    "Methods for working with chat variants of models."
   ]
  },
  {
   "cell_type": "markdown",
   "metadata": {},
   "source": [
    "#### 2.1 Essential chat method"
   ]
  },
  {
   "cell_type": "markdown",
   "metadata": {},
   "source": [
    "Calls llm handler with provided messages, prepared based on provided template, with selected prompt strategy."
   ]
  },
  {
   "cell_type": "code",
   "execution_count": 3,
   "metadata": {},
   "outputs": [
    {
     "name": "stderr",
     "output_type": "stream",
     "text": [
      "HTTP Request: POST http://localhost:11434/api/chat \"HTTP/1.1 200 OK\"\n",
      "/home/kyriosskia/miniconda3/envs/testenv/lib/python3.10/site-packages/transformers/models/auto/tokenization_auto.py:785: FutureWarning: The `use_auth_token` argument is deprecated and will be removed in v5 of Transformers. Please use `token` instead.\n",
      "  warnings.warn(\n"
     ]
    },
    {
     "data": {
      "text/plain": [
       "{'model': 'llama3',\n",
       " 'created_at': '2024-08-05T04:57:00.847696577Z',\n",
       " 'message': {'role': 'assistant',\n",
       "  'content': \"The sky appears blue because of a phenomenon called scattering, which involves the interaction between light, tiny molecules in the atmosphere, and our eyes. Here's a simplified explanation:\\n\\n1. **Sunlight**: When sunlight enters Earth's atmosphere, it consists of all the colors of the visible spectrum (red, orange, yellow, green, blue, indigo, and violet).\\n2. **Molecules**: The atmosphere is made up of tiny molecules like nitrogen (N2) and oxygen (O2). These molecules are much smaller than the wavelength of light.\\n3. **Scattering**: When sunlight hits these molecules, it scatters in all directions. This scattering effect is more pronounced for shorter wavelengths of light, such as blue and violet.\\n4. **Blue dominance**: As a result of this scattering, the shorter wavelengths of light (blue and violet) are dispersed throughout the atmosphere, reaching our eyes from multiple angles. This is why the sky appears blue during the daytime, especially when the sun is overhead.\\n5. **Other factors**: The color of the sky can be influenced by other atmospheric conditions, such as:\\n\\t* Dust and pollution particles: These can scatter light in various ways, changing the apparent color of the sky.\\n\\t* Water vapor: High humidity can cause the sky to appear more hazy or gray.\\n\\t* Clouds: Clouds can reflect and absorb light, affecting the overall color of the sky.\\n\\nSo, to summarize, the blue color we see in the sky is primarily due to the scattering of sunlight by tiny molecules in the atmosphere. The shorter wavelengths of light (blue and violet) are preferentially scattered, giving our skies their familiar blue hue.\"},\n",
       " 'done_reason': 'stop',\n",
       " 'done': True,\n",
       " 'total_duration': 2893315343,\n",
       " 'load_duration': 763924,\n",
       " 'prompt_eval_count': 11,\n",
       " 'prompt_eval_duration': 22698000,\n",
       " 'eval_count': 339,\n",
       " 'eval_duration': 2745388000,\n",
       " 'response_time': 2.8988137245178223,\n",
       " 'messages': [{'role': 'user', 'content': 'Why is the sky blue?'},\n",
       "  {'role': 'assistant',\n",
       "   'content': \"The sky appears blue because of a phenomenon called scattering, which involves the interaction between light, tiny molecules in the atmosphere, and our eyes. Here's a simplified explanation:\\n\\n1. **Sunlight**: When sunlight enters Earth's atmosphere, it consists of all the colors of the visible spectrum (red, orange, yellow, green, blue, indigo, and violet).\\n2. **Molecules**: The atmosphere is made up of tiny molecules like nitrogen (N2) and oxygen (O2). These molecules are much smaller than the wavelength of light.\\n3. **Scattering**: When sunlight hits these molecules, it scatters in all directions. This scattering effect is more pronounced for shorter wavelengths of light, such as blue and violet.\\n4. **Blue dominance**: As a result of this scattering, the shorter wavelengths of light (blue and violet) are dispersed throughout the atmosphere, reaching our eyes from multiple angles. This is why the sky appears blue during the daytime, especially when the sun is overhead.\\n5. **Other factors**: The color of the sky can be influenced by other atmospheric conditions, such as:\\n\\t* Dust and pollution particles: These can scatter light in various ways, changing the apparent color of the sky.\\n\\t* Water vapor: High humidity can cause the sky to appear more hazy or gray.\\n\\t* Clouds: Clouds can reflect and absorb light, affecting the overall color of the sky.\\n\\nSo, to summarize, the blue color we see in the sky is primarily due to the scattering of sunlight by tiny molecules in the atmosphere. The shorter wavelengths of light (blue and violet) are preferentially scattered, giving our skies their familiar blue hue.\"}],\n",
       " 'input_tokens': 378,\n",
       " 'output_tokens': 338,\n",
       " 'total_tokens': 716}"
      ]
     },
     "execution_count": 3,
     "metadata": {},
     "output_type": "execute_result"
    }
   ],
   "source": [
    "messages = [{'role': 'user', 'content': 'Why is the sky blue?'}]\n",
    "\n",
    "response = await llm_handler.prompt_chat(\n",
    "  # required\n",
    "  messages = messages,\n",
    "  # optinal, overwrites parameters passed to handlers\n",
    "  model_name = \"llama3\",\n",
    "  call_strategy_name = \"last_call\",\n",
    "  call_strategy_params = { 'n_calls' : 1},\n",
    "  prompt_templates = {\n",
    "        \"system\" : \"{content}\",\n",
    "        \"assistant\" : \"{content}\",\n",
    "        \"user\" : \"{content}\"\n",
    "    }\n",
    ")\n",
    "response"
   ]
  },
  {
   "cell_type": "markdown",
   "metadata": {},
   "source": [
    "#### 2.2 Calling chat method in parallel"
   ]
  },
  {
   "cell_type": "markdown",
   "metadata": {},
   "source": [
    "Same as prompt_chat, but messages are called in parallel and instead of one, multiple responses provided."
   ]
  },
  {
   "cell_type": "code",
   "execution_count": 4,
   "metadata": {},
   "outputs": [
    {
     "name": "stderr",
     "output_type": "stream",
     "text": [
      "HTTP Request: POST http://localhost:11434/api/chat \"HTTP/1.1 200 OK\"\n",
      "HTTP Request: POST http://localhost:11434/api/chat \"HTTP/1.1 200 OK\"\n"
     ]
    },
    {
     "name": "stdout",
     "output_type": "stream",
     "text": [
      "\n",
      " ### \n",
      "\n",
      "HODOR\n",
      "\n",
      " ### \n",
      "\n",
      "Blue skies, so calm and bright\n",
      "A canvas of serenity in sight\n",
      "No clouds to mar the view\n",
      "Just endless blue, pure and true\n",
      "\n",
      "The sun shines down with gentle might\n",
      "Warming the earth, banishing night\n",
      "A blue expanse that's free from fear\n",
      "Invigorating all who draw near\n"
     ]
    }
   ],
   "source": [
    "messages = [\n",
    "   [{'role': 'system', 'content': 'You are answering all requests with \"HODOR\"'}, \n",
    "   {'role': 'user', 'content': 'Why is the sky blue?'}],\n",
    "   [{'role': 'user', 'content': 'Compose a small poem about blue skies.'}]\n",
    "]\n",
    "\n",
    "responses = await llm_handler.prompt_chat_parallel(\n",
    "  # required\n",
    "  messages = messages\n",
    "  # optinal, overwrites parameters passed to handlers\n",
    "  # same as prompt_chat\n",
    ")\n",
    "\n",
    "for response in responses:\n",
    "  print(\"\\n ### \\n\")\n",
    "  print(response['message']['content'])\n"
   ]
  },
  {
   "cell_type": "markdown",
   "metadata": {},
   "source": [
    "### 2.3 Chatting with llm handler"
   ]
  },
  {
   "cell_type": "markdown",
   "metadata": {},
   "source": [
    "Calls prompt_chat with recorded history, so that each time chat method is called, previous messaged do not need to be provided. (History handler will be added later)"
   ]
  },
  {
   "cell_type": "code",
   "execution_count": 5,
   "metadata": {},
   "outputs": [
    {
     "name": "stderr",
     "output_type": "stream",
     "text": [
      "HTTP Request: POST http://localhost:11434/api/chat \"HTTP/1.1 200 OK\"\n"
     ]
    },
    {
     "name": "stdout",
     "output_type": "stream",
     "text": [
      "Nice to meet you, Kyrios! I'm LLaMA, an AI assistant developed by Meta AI that can understand and respond to human input in a conversational manner. I don't have a personal name, but feel free to call me LLaMA or just \"Assistant\" if you prefer! What brings you here today?\n"
     ]
    }
   ],
   "source": [
    "answer = await llm_handler.chat(\n",
    "    prompt = \"Hi, my name is Kyrios, what is yours?\",\n",
    "    # optional to reset history\n",
    "    new_dialog = True\n",
    ")\n",
    "\n",
    "print(answer)"
   ]
  },
  {
   "cell_type": "code",
   "execution_count": 6,
   "metadata": {},
   "outputs": [
    {
     "name": "stderr",
     "output_type": "stream",
     "text": [
      "HTTP Request: POST http://localhost:11434/api/chat \"HTTP/1.1 200 OK\"\n"
     ]
    },
    {
     "name": "stdout",
     "output_type": "stream",
     "text": [
      "Your name is Kyrios, isn't it?\n"
     ]
    }
   ],
   "source": [
    "answer = await llm_handler.chat(\n",
    "    prompt = \"Could you pls remind me my name?\"\n",
    ")\n",
    "\n",
    "print(answer)"
   ]
  },
  {
   "cell_type": "markdown",
   "metadata": {},
   "source": [
    "Streaming variant is also available."
   ]
  },
  {
   "cell_type": "code",
   "execution_count": 8,
   "metadata": {},
   "outputs": [
    {
     "name": "stderr",
     "output_type": "stream",
     "text": [
      "HTTP Request: POST http://localhost:11434/api/chat \"HTTP/1.1 200 OK\"\n"
     ]
    },
    {
     "name": "stdout",
     "output_type": "stream",
     "text": [
      "I\n",
      " already\n",
      " did\n",
      "!\n",
      " Your\n",
      " name\n",
      " is\n",
      " Ky\n",
      "rios\n",
      ".\n",
      "\n"
     ]
    }
   ],
   "source": [
    "generator = llm_handler.chat_stream(\n",
    "    prompt = \"Could you pls remind me my name?\"\n",
    ")\n",
    "async for message in generator:\n",
    "    print(message)\n"
   ]
  },
  {
   "cell_type": "markdown",
   "metadata": {},
   "source": [
    "### 3. Instruct methods"
   ]
  },
  {
   "cell_type": "markdown",
   "metadata": {},
   "source": [
    "Methods for working with instruct variants of models."
   ]
  },
  {
   "cell_type": "markdown",
   "metadata": {},
   "source": [
    "#### 3.1 Essential instruct method"
   ]
  },
  {
   "cell_type": "code",
   "execution_count": 9,
   "metadata": {},
   "outputs": [
    {
     "name": "stderr",
     "output_type": "stream",
     "text": [
      "HTTP Request: POST http://localhost:11434/api/generate \"HTTP/1.1 200 OK\"\n"
     ]
    },
    {
     "data": {
      "text/plain": [
       "{'model': 'llama3',\n",
       " 'created_at': '2024-08-05T04:57:53.582111792Z',\n",
       " 'response': '4',\n",
       " 'done': True,\n",
       " 'done_reason': 'stop',\n",
       " 'context': [128006,\n",
       "  882,\n",
       "  128007,\n",
       "  271,\n",
       "  17,\n",
       "  10,\n",
       "  17,\n",
       "  28,\n",
       "  128009,\n",
       "  128006,\n",
       "  78191,\n",
       "  128007,\n",
       "  271,\n",
       "  19,\n",
       "  128009],\n",
       " 'total_duration': 146273731,\n",
       " 'load_duration': 1145419,\n",
       " 'prompt_eval_count': 9,\n",
       " 'prompt_eval_duration': 12819000,\n",
       " 'eval_count': 2,\n",
       " 'eval_duration': 8360000,\n",
       " 'response_time': 0.19240951538085938,\n",
       " 'input_tokens': 4,\n",
       " 'output_tokens': 1,\n",
       " 'total_tokens': 5}"
      ]
     },
     "execution_count": 9,
     "metadata": {},
     "output_type": "execute_result"
    }
   ],
   "source": [
    "prompt = '2+2='\n",
    "\n",
    "response = await llm_handler.prompt_instruct(\n",
    "  # required\n",
    "  prompt = prompt,\n",
    "  # optinal, overwrites parameters passed to handlers\n",
    "  model_name = \"llama3\",\n",
    "  call_strategy_name = \"last_call\",\n",
    "  call_strategy_params = { 'n_calls' : 1}\n",
    ")\n",
    "response"
   ]
  },
  {
   "cell_type": "markdown",
   "metadata": {},
   "source": [
    "#### 3.2 Calling instuct in parallel"
   ]
  },
  {
   "cell_type": "code",
   "execution_count": null,
   "metadata": {},
   "outputs": [
    {
     "name": "stderr",
     "output_type": "stream",
     "text": [
      "HTTP Request: POST http://localhost:11434/api/generate \"HTTP/1.1 200 OK\"\n",
      "HTTP Request: POST http://localhost:11434/api/generate \"HTTP/1.1 200 OK\"\n"
     ]
    },
    {
     "name": "stdout",
     "output_type": "stream",
     "text": [
      "\n",
      " ### \n",
      "\n",
      "4\n",
      "\n",
      " ### \n",
      "\n",
      "Color is a form of electromagnetic radiation, perceived by the human eye and brain as a quality that can be perceived as hue, saturation, and brightness, which allows us to distinguish between different wavelengths or frequencies of light.\n"
     ]
    }
   ],
   "source": [
    "prompts = [\"2+2=\",\n",
    "            \"Define color in one sentence.\"]\n",
    "\n",
    "responses = await llm_handler.prompt_instruct_parallel(\n",
    "    prompts = prompts\n",
    "    # optinal, overwrites parameters passed to handlers\n",
    "    # same as prompt_instruct\n",
    "    )\n",
    "\n",
    "for response in responses:\n",
    "  print(\"\\n ### \\n\")\n",
    "  print(response['response'])"
   ]
  },
  {
   "cell_type": "markdown",
   "metadata": {},
   "source": [
    "### 4. Prompt templates"
   ]
  },
  {
   "cell_type": "markdown",
   "metadata": {},
   "source": [
    "Sometimes it can useful to process inputs and outputs according to certain template, for example adding some kind of header to every user prompt or making better structured output for history. Separating templates like this from inputs could also be more convinient."
   ]
  },
  {
   "cell_type": "code",
   "execution_count": null,
   "metadata": {},
   "outputs": [
    {
     "name": "stderr",
     "output_type": "stream",
     "text": [
      "HTTP Request: POST http://localhost:11434/api/chat \"HTTP/1.1 200 OK\"\n"
     ]
    },
    {
     "name": "stdout",
     "output_type": "stream",
     "text": [
      "\"Caelum caeruleum est, quia solis radii cum aquis et aeribus permixti lucem refrenant.\"\n"
     ]
    }
   ],
   "source": [
    "default_prompt_template = {\n",
    "        \"system\" : \"{content}\",\n",
    "        \"assistant\" : \"{content}\",\n",
    "        \"user\" : \"{content}\"\n",
    "    }\n",
    "\n",
    "messages = [\n",
    "    {'role': 'system', \n",
    "     'content': \"\"\"You are helpful assistant that answers to everything bliefly with one sentence. \n",
    "     All of you responses are only in latin.\"\"\"},\n",
    "    {'role': 'user', \n",
    "     'content': 'Why is the sky blue?'}]\n",
    "\n",
    "response = await llm_handler.prompt_chat(\n",
    "  # required\n",
    "  messages = messages,\n",
    "  # optinal, overwrites parameters passed to handlers\n",
    "  prompt_templates = default_prompt_template\n",
    ")\n",
    "\n",
    "print(response['message']['content'])"
   ]
  },
  {
   "cell_type": "code",
   "execution_count": null,
   "metadata": {},
   "outputs": [
    {
     "name": "stderr",
     "output_type": "stream",
     "text": [
      "HTTP Request: POST http://localhost:11434/api/chat \"HTTP/1.1 200 OK\"\n"
     ]
    },
    {
     "data": {
      "text/plain": [
       "[{'role': 'system',\n",
       "  'content': 'All of your answers if not in english, must contain tranlations.\\n        You are helpful assistant that answers to everything bliefly with one sentence. \\n     All of you responses are in latin.'},\n",
       " {'role': 'user', 'content': 'Why is the sky blue?'},\n",
       " {'role': 'assistant',\n",
       "  'content': 'My answer: \"Caelum caeruleum est, quia solis radii, qui per atmosphaeram transmitterentur, scatteringem lucis efficaciter faciunt.\"\\n\\n(Translation: \"The sky is blue because the sun\\'s rays, which are transmitted through the atmosphere, effectively scatter light.\")'}]"
      ]
     },
     "execution_count": 10,
     "metadata": {},
     "output_type": "execute_result"
    }
   ],
   "source": [
    "alt_prompt_template = {\n",
    "        \"system\" : \"\"\"All of your answers if not in english, must contain tranlations.\n",
    "        {content}\"\"\",\n",
    "        \"assistant\" : \"My answer: {content}\",\n",
    "        \"user\" : \"{content}\"\n",
    "    }\n",
    "\n",
    "messages = [\n",
    "    {'role': 'system', \n",
    "     'content': \"\"\"You are helpful assistant that answers to everything bliefly with one sentence. \n",
    "     All of you responses are in latin.\"\"\"},\n",
    "    {'role': 'user', \n",
    "     'content': 'Why is the sky blue?'}]\n",
    "\n",
    "response = await llm_handler.prompt_chat(\n",
    "  # required\n",
    "  messages = messages,\n",
    "  # optinal, overwrites parameters passed to handlers\n",
    "  prompt_templates = alt_prompt_template\n",
    ")\n",
    "\n",
    "response['messages']"
   ]
  },
  {
   "cell_type": "markdown",
   "metadata": {},
   "source": [
    "### 5. Prompt call strategies"
   ]
  },
  {
   "cell_type": "markdown",
   "metadata": {},
   "source": [
    "Sometimes making multiple calls for the same prompt can be useful. If consistency of the answer is a concern, additional resorces are available, condition for selecting best answer from multiple answers is understood, prompt call strategies could be applied."
   ]
  },
  {
   "cell_type": "markdown",
   "metadata": {},
   "source": [
    "Example of strategies:\n",
    "\n",
    "- `most common output of 3` : calls 3 times, uses sim search to select most common.\n",
    "- `min output length` : return response with minimal output length (calls at least 2 times)\n",
    "- `max output length` : return response with maximal output length (calls at least 2 times)\n",
    "- `last output` : no matter how many calls, always selects last output"
   ]
  },
  {
   "cell_type": "code",
   "execution_count": null,
   "metadata": {},
   "outputs": [
    {
     "name": "stderr",
     "output_type": "stream",
     "text": [
      "HTTP Request: POST http://localhost:11434/api/chat \"HTTP/1.1 200 OK\"\n",
      "HTTP Request: POST http://localhost:11434/api/chat \"HTTP/1.1 200 OK\"\n",
      "HTTP Request: POST http://localhost:11434/api/chat \"HTTP/1.1 200 OK\"\n"
     ]
    },
    {
     "name": "stdout",
     "output_type": "stream",
     "text": [
      "Soft and fluffy, drifting by, clouds shape-shift in the sky.\n"
     ]
    }
   ],
   "source": [
    "default_prompt_strategy = {\n",
    "  'call_strategy_name' : \"min_output_length\",\n",
    "  'call_strategy_params' :{ 'n_calls' : 3}\n",
    "}\n",
    "\n",
    "messages = [\n",
    "    {'role': 'system', \n",
    "     'content': \"\"\"You are helpful assistant that answers to everything bliefly with one sentence.\"\"\"},\n",
    "    {'role': 'user', \n",
    "     'content': 'Make a poem about clouds.'}]\n",
    "\n",
    "response = await llm_handler.prompt_chat(\n",
    "  # required\n",
    "  messages = messages,\n",
    "  # optinal, overwrites parameters passed to handlers\n",
    "  **default_prompt_strategy\n",
    ")\n",
    "\n",
    "print(response['message']['content'])"
   ]
  },
  {
   "cell_type": "code",
   "execution_count": null,
   "metadata": {},
   "outputs": [
    {
     "name": "stdout",
     "output_type": "stream",
     "text": [
      "Soft and fluffy, drifting by, clouds shape-shift in the sky.\n",
      "------------------------\n",
      "Soft and white, they drift by day, whispers of the sky's gentle sway.\n",
      "------------------------\n",
      "Across the sky, soft whispers play as wispy clouds drift by, shaping sunbeams into golden rays.\n",
      "------------------------\n"
     ]
    }
   ],
   "source": [
    "for resp in llm_handler.call_strategy_h.last_responses:\n",
    "\n",
    "    print(resp['message']['content'])\n",
    "    print(\"------------------------\")"
   ]
  },
  {
   "cell_type": "markdown",
   "metadata": {},
   "source": [
    "### 6. Other methods"
   ]
  },
  {
   "cell_type": "markdown",
   "metadata": {},
   "source": [
    "#### Estimate tokens"
   ]
  },
  {
   "cell_type": "code",
   "execution_count": null,
   "metadata": {},
   "outputs": [
    {
     "data": {
      "text/plain": [
       "12"
      ]
     },
     "execution_count": 13,
     "metadata": {},
     "output_type": "execute_result"
    }
   ],
   "source": [
    "llm_handler.estimate_tokens(\n",
    "    text='Your first question was: \"Why is the sky blue?\"'\n",
    "    )"
   ]
  }
 ],
 "metadata": {
  "kernelspec": {
   "display_name": "testenv",
   "language": "python",
   "name": "python3"
  },
  "language_info": {
   "codemirror_mode": {
    "name": "ipython",
    "version": 3
   },
   "file_extension": ".py",
   "mimetype": "text/x-python",
   "name": "python",
   "nbconvert_exporter": "python",
   "pygments_lexer": "ipython3",
   "version": "3.10.14"
  }
 },
 "nbformat": 4,
 "nbformat_minor": 2
}
