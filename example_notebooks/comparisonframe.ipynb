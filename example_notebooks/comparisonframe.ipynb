{
 "cells": [
  {
   "cell_type": "code",
   "execution_count": 17,
   "metadata": {},
   "outputs": [],
   "source": [
    "# import sys\n",
    "# sys.path.append('../')\n",
    "from comparisonframe import ComparisonFrame"
   ]
  },
  {
   "cell_type": "markdown",
   "metadata": {},
   "source": [
    "## Usage examples"
   ]
  },
  {
   "cell_type": "markdown",
   "metadata": {},
   "source": [
    "The examples contain: \n",
    "1. creating validation set and saving it to be reused\n",
    "2. comparing newly generated data with expected results \n",
    "3. recording test statuses\n",
    "4. reseting statuses, flushing records and comparison results"
   ]
  },
  {
   "cell_type": "markdown",
   "metadata": {},
   "source": [
    "### 1. Creating validation set"
   ]
  },
  {
   "cell_type": "markdown",
   "metadata": {},
   "source": [
    "### 1.1 Initialize comparison class"
   ]
  },
  {
   "cell_type": "code",
   "execution_count": 2,
   "metadata": {},
   "outputs": [
    {
     "name": "stderr",
     "output_type": "stream",
     "text": [
      "/home/kyriosskia/miniconda3/envs/testenv/lib/python3.10/site-packages/transformers/tokenization_utils_base.py:1601: FutureWarning: `clean_up_tokenization_spaces` was not set. It will be set to `True` by default. This behavior will be depracted in transformers v4.45, and will be then set to `False` by default. For more details check this issue: https://github.com/huggingface/transformers/issues/31884\n",
      "  warnings.warn(\n"
     ]
    }
   ],
   "source": [
    "comparer = ComparisonFrame(\n",
    "    # optionally\n",
    "    ## mocker default parameters\n",
    "    mocker_params = {\n",
    "        'file_path' : \"./comparisonframe_storage\",\n",
    "         'persist' : True},\n",
    "\n",
    "    ## scores to calculate\n",
    "    compare_scores = ['char_count_diff',\n",
    "                        'word_count_diff',\n",
    "                        'line_count_diff',\n",
    "                        'punctuation_diff',\n",
    "                        'semantic_similarity']\n",
    ")"
   ]
  },
  {
   "cell_type": "markdown",
   "metadata": {},
   "source": [
    "#### 1.2 Recording queries and expected responses (validation set)"
   ]
  },
  {
   "cell_type": "code",
   "execution_count": 3,
   "metadata": {},
   "outputs": [],
   "source": [
    "comparer.record_queries(\n",
    "    queries = [\"Black metal\", \n",
    "               \"Tribulation\"],\n",
    "    expected_texts = [\"Black metal is an extreme subgenre of heavy metal music.\",\n",
    "    \"Tribulation are a Swedish heavy metal band from Arvika that formed in 2005.\"],\n",
    "    metadata = {'name' : 'metal_bands'})"
   ]
  },
  {
   "cell_type": "markdown",
   "metadata": {},
   "source": [
    "### 2. Comparing with expected results"
   ]
  },
  {
   "cell_type": "markdown",
   "metadata": {},
   "source": [
    "#### 2.1 Initialize new comparison class"
   ]
  },
  {
   "cell_type": "code",
   "execution_count": 4,
   "metadata": {},
   "outputs": [],
   "source": [
    "comparer = ComparisonFrame()"
   ]
  },
  {
   "cell_type": "markdown",
   "metadata": {},
   "source": [
    "### 2.2 Show validation set"
   ]
  },
  {
   "cell_type": "code",
   "execution_count": 5,
   "metadata": {},
   "outputs": [
    {
     "name": "stdout",
     "output_type": "stream",
     "text": [
      "['Black metal', 'Tribulation']\n"
     ]
    }
   ],
   "source": [
    "untested_queries = comparer.get_all_queries(\n",
    "    ## optional\n",
    "    metadata_filters={'name' : 'metal_bands'})\n",
    "print(untested_queries)"
   ]
  },
  {
   "cell_type": "code",
   "execution_count": 6,
   "metadata": {},
   "outputs": [
    {
     "data": {
      "text/plain": [
       "[{'expected_text': 'Black metal is an extreme subgenre of heavy metal music.',\n",
       "  'record_id': '0cc157453395b440f36d1a1aee24aa76a03f5f9ab0a7a8bd7b663c92f2f16e87',\n",
       "  'query': 'Black metal'},\n",
       " {'expected_text': 'Tribulation are a Swedish heavy metal band from Arvika that formed in 2005.',\n",
       "  'record_id': 'eecd9c2a5b25ee6053891b894157fa30372ed694763385e1ada1dc9ad8e41625',\n",
       "  'query': 'Tribulation'}]"
      ]
     },
     "execution_count": 6,
     "metadata": {},
     "output_type": "execute_result"
    }
   ],
   "source": [
    "comparer.get_all_records()"
   ]
  },
  {
   "cell_type": "code",
   "execution_count": 7,
   "metadata": {},
   "outputs": [
    {
     "data": {
      "text/html": [
       "<div>\n",
       "<style scoped>\n",
       "    .dataframe tbody tr th:only-of-type {\n",
       "        vertical-align: middle;\n",
       "    }\n",
       "\n",
       "    .dataframe tbody tr th {\n",
       "        vertical-align: top;\n",
       "    }\n",
       "\n",
       "    .dataframe thead th {\n",
       "        text-align: right;\n",
       "    }\n",
       "</style>\n",
       "<table border=\"1\" class=\"dataframe\">\n",
       "  <thead>\n",
       "    <tr style=\"text-align: right;\">\n",
       "      <th></th>\n",
       "      <th>expected_text</th>\n",
       "      <th>record_id</th>\n",
       "      <th>query</th>\n",
       "    </tr>\n",
       "  </thead>\n",
       "  <tbody>\n",
       "    <tr>\n",
       "      <th>0</th>\n",
       "      <td>Black metal is an extreme subgenre of heavy me...</td>\n",
       "      <td>0cc157453395b440f36d1a1aee24aa76a03f5f9ab0a7a8...</td>\n",
       "      <td>Black metal</td>\n",
       "    </tr>\n",
       "    <tr>\n",
       "      <th>1</th>\n",
       "      <td>Tribulation are a Swedish heavy metal band fro...</td>\n",
       "      <td>eecd9c2a5b25ee6053891b894157fa30372ed694763385...</td>\n",
       "      <td>Tribulation</td>\n",
       "    </tr>\n",
       "  </tbody>\n",
       "</table>\n",
       "</div>"
      ],
      "text/plain": [
       "                                       expected_text  \\\n",
       "0  Black metal is an extreme subgenre of heavy me...   \n",
       "1  Tribulation are a Swedish heavy metal band fro...   \n",
       "\n",
       "                                           record_id        query  \n",
       "0  0cc157453395b440f36d1a1aee24aa76a03f5f9ab0a7a8...  Black metal  \n",
       "1  eecd9c2a5b25ee6053891b894157fa30372ed694763385...  Tribulation  "
      ]
     },
     "execution_count": 7,
     "metadata": {},
     "output_type": "execute_result"
    }
   ],
   "source": [
    "comparer.get_all_records_df()"
   ]
  },
  {
   "cell_type": "markdown",
   "metadata": {},
   "source": [
    "#### 2.3 Insert newly generated with records"
   ]
  },
  {
   "cell_type": "code",
   "execution_count": 8,
   "metadata": {},
   "outputs": [],
   "source": [
    "valid_answer_query_1 = \"Black metal is an extreme subgenre of heavy metal music.\"\n",
    "very_similar_answer_query_1 = \"Black metal is a subgenre of heavy metal music.\"\n",
    "unexpected_answer_query_1 = \"Black metals are beautiful and are often used in jewelry design.\""
   ]
  },
  {
   "cell_type": "code",
   "execution_count": 9,
   "metadata": {},
   "outputs": [],
   "source": [
    "comparer.record_runs(queries = [\"Black metal\"],\n",
    "                     provided_texts = [valid_answer_query_1,\n",
    "                                      very_similar_answer_query_1,\n",
    "                                      unexpected_answer_query_1],\n",
    "                    metadata={'desc' : 'definitions'})"
   ]
  },
  {
   "cell_type": "code",
   "execution_count": 10,
   "metadata": {},
   "outputs": [
    {
     "data": {
      "text/html": [
       "<div>\n",
       "<style scoped>\n",
       "    .dataframe tbody tr th:only-of-type {\n",
       "        vertical-align: middle;\n",
       "    }\n",
       "\n",
       "    .dataframe tbody tr th {\n",
       "        vertical-align: top;\n",
       "    }\n",
       "\n",
       "    .dataframe thead th {\n",
       "        text-align: right;\n",
       "    }\n",
       "</style>\n",
       "<table border=\"1\" class=\"dataframe\">\n",
       "  <thead>\n",
       "    <tr style=\"text-align: right;\">\n",
       "      <th></th>\n",
       "      <th>provided_text</th>\n",
       "      <th>timestamp</th>\n",
       "      <th>query</th>\n",
       "      <th>run_id</th>\n",
       "    </tr>\n",
       "  </thead>\n",
       "  <tbody>\n",
       "    <tr>\n",
       "      <th>0</th>\n",
       "      <td>Black metal is an extreme subgenre of heavy me...</td>\n",
       "      <td>2024-08-19 23:55:02</td>\n",
       "      <td>Black metal</td>\n",
       "      <td>9b116b11b58349fa7945803013fa971f190b9914bdf9db...</td>\n",
       "    </tr>\n",
       "    <tr>\n",
       "      <th>1</th>\n",
       "      <td>Black metal is a subgenre of heavy metal music.</td>\n",
       "      <td>2024-08-19 23:55:02</td>\n",
       "      <td>Black metal</td>\n",
       "      <td>d041163ef6e1bf8016a2817aac5025903fedeafad57bd3...</td>\n",
       "    </tr>\n",
       "    <tr>\n",
       "      <th>2</th>\n",
       "      <td>Black metals are beautiful and are often used ...</td>\n",
       "      <td>2024-08-19 23:55:02</td>\n",
       "      <td>Black metal</td>\n",
       "      <td>51b73dc0de1172717a3638155a95d0e13b768a23ddd07c...</td>\n",
       "    </tr>\n",
       "  </tbody>\n",
       "</table>\n",
       "</div>"
      ],
      "text/plain": [
       "                                       provided_text            timestamp  \\\n",
       "0  Black metal is an extreme subgenre of heavy me...  2024-08-19 23:55:02   \n",
       "1    Black metal is a subgenre of heavy metal music.  2024-08-19 23:55:02   \n",
       "2  Black metals are beautiful and are often used ...  2024-08-19 23:55:02   \n",
       "\n",
       "         query                                             run_id  \n",
       "0  Black metal  9b116b11b58349fa7945803013fa971f190b9914bdf9db...  \n",
       "1  Black metal  d041163ef6e1bf8016a2817aac5025903fedeafad57bd3...  \n",
       "2  Black metal  51b73dc0de1172717a3638155a95d0e13b768a23ddd07c...  "
      ]
     },
     "execution_count": 10,
     "metadata": {},
     "output_type": "execute_result"
    }
   ],
   "source": [
    "df = comparer.get_all_runs_df()\n",
    "df"
   ]
  },
  {
   "cell_type": "markdown",
   "metadata": {},
   "source": [
    "### 2.4 Comparing runs with records"
   ]
  },
  {
   "cell_type": "code",
   "execution_count": 11,
   "metadata": {},
   "outputs": [
    {
     "name": "stderr",
     "output_type": "stream",
     "text": [
      "WARNING:ComparisonFrame:No data was found with applied filters!\n"
     ]
    }
   ],
   "source": [
    "comparer.compare_runs_with_records()"
   ]
  },
  {
   "cell_type": "code",
   "execution_count": 12,
   "metadata": {},
   "outputs": [
    {
     "data": {
      "text/html": [
       "<div>\n",
       "<style scoped>\n",
       "    .dataframe tbody tr th:only-of-type {\n",
       "        vertical-align: middle;\n",
       "    }\n",
       "\n",
       "    .dataframe tbody tr th {\n",
       "        vertical-align: top;\n",
       "    }\n",
       "\n",
       "    .dataframe thead th {\n",
       "        text-align: right;\n",
       "    }\n",
       "</style>\n",
       "<table border=\"1\" class=\"dataframe\">\n",
       "  <thead>\n",
       "    <tr style=\"text-align: right;\">\n",
       "      <th></th>\n",
       "      <th>provided_text</th>\n",
       "      <th>timestamp</th>\n",
       "      <th>query</th>\n",
       "      <th>run_id</th>\n",
       "      <th>record_id</th>\n",
       "      <th>char_count_diff</th>\n",
       "      <th>word_count_diff</th>\n",
       "      <th>line_count_diff</th>\n",
       "      <th>punctuation_diff</th>\n",
       "      <th>semantic_similarity</th>\n",
       "      <th>comparison_id</th>\n",
       "    </tr>\n",
       "  </thead>\n",
       "  <tbody>\n",
       "    <tr>\n",
       "      <th>0</th>\n",
       "      <td>Black metal is an extreme subgenre of heavy me...</td>\n",
       "      <td>2024-08-19 23:55:06</td>\n",
       "      <td>Black metal</td>\n",
       "      <td>9b116b11b58349fa7945803013fa971f190b9914bdf9db...</td>\n",
       "      <td>0cc157453395b440f36d1a1aee24aa76a03f5f9ab0a7a8...</td>\n",
       "      <td>0</td>\n",
       "      <td>0</td>\n",
       "      <td>0</td>\n",
       "      <td>0</td>\n",
       "      <td>1.000000</td>\n",
       "      <td>30015aca1e9728ac448f679071c6412013c4aecc41636a...</td>\n",
       "    </tr>\n",
       "    <tr>\n",
       "      <th>1</th>\n",
       "      <td>Black metal is a subgenre of heavy metal music.</td>\n",
       "      <td>2024-08-19 23:55:06</td>\n",
       "      <td>Black metal</td>\n",
       "      <td>d041163ef6e1bf8016a2817aac5025903fedeafad57bd3...</td>\n",
       "      <td>0cc157453395b440f36d1a1aee24aa76a03f5f9ab0a7a8...</td>\n",
       "      <td>9</td>\n",
       "      <td>1</td>\n",
       "      <td>0</td>\n",
       "      <td>0</td>\n",
       "      <td>0.985985</td>\n",
       "      <td>b2a05016bd5899e9932e66797dac9eedfc9162c5078c81...</td>\n",
       "    </tr>\n",
       "    <tr>\n",
       "      <th>2</th>\n",
       "      <td>Black metals are beautiful and are often used ...</td>\n",
       "      <td>2024-08-19 23:55:06</td>\n",
       "      <td>Black metal</td>\n",
       "      <td>51b73dc0de1172717a3638155a95d0e13b768a23ddd07c...</td>\n",
       "      <td>0cc157453395b440f36d1a1aee24aa76a03f5f9ab0a7a8...</td>\n",
       "      <td>8</td>\n",
       "      <td>1</td>\n",
       "      <td>0</td>\n",
       "      <td>0</td>\n",
       "      <td>0.494053</td>\n",
       "      <td>0469be6671431d1961113c7d153b28314b3e35703dba4a...</td>\n",
       "    </tr>\n",
       "  </tbody>\n",
       "</table>\n",
       "</div>"
      ],
      "text/plain": [
       "                                       provided_text            timestamp  \\\n",
       "0  Black metal is an extreme subgenre of heavy me...  2024-08-19 23:55:06   \n",
       "1    Black metal is a subgenre of heavy metal music.  2024-08-19 23:55:06   \n",
       "2  Black metals are beautiful and are often used ...  2024-08-19 23:55:06   \n",
       "\n",
       "         query                                             run_id  \\\n",
       "0  Black metal  9b116b11b58349fa7945803013fa971f190b9914bdf9db...   \n",
       "1  Black metal  d041163ef6e1bf8016a2817aac5025903fedeafad57bd3...   \n",
       "2  Black metal  51b73dc0de1172717a3638155a95d0e13b768a23ddd07c...   \n",
       "\n",
       "                                           record_id  char_count_diff  \\\n",
       "0  0cc157453395b440f36d1a1aee24aa76a03f5f9ab0a7a8...                0   \n",
       "1  0cc157453395b440f36d1a1aee24aa76a03f5f9ab0a7a8...                9   \n",
       "2  0cc157453395b440f36d1a1aee24aa76a03f5f9ab0a7a8...                8   \n",
       "\n",
       "   word_count_diff  line_count_diff  punctuation_diff  semantic_similarity  \\\n",
       "0                0                0                 0             1.000000   \n",
       "1                1                0                 0             0.985985   \n",
       "2                1                0                 0             0.494053   \n",
       "\n",
       "                                       comparison_id  \n",
       "0  30015aca1e9728ac448f679071c6412013c4aecc41636a...  \n",
       "1  b2a05016bd5899e9932e66797dac9eedfc9162c5078c81...  \n",
       "2  0469be6671431d1961113c7d153b28314b3e35703dba4a...  "
      ]
     },
     "execution_count": 12,
     "metadata": {},
     "output_type": "execute_result"
    }
   ],
   "source": [
    "comparer.get_all_run_scores_df()"
   ]
  },
  {
   "cell_type": "markdown",
   "metadata": {},
   "source": [
    "### 2.5 Calculate aggregate scores"
   ]
  },
  {
   "cell_type": "code",
   "execution_count": 13,
   "metadata": {},
   "outputs": [
    {
     "name": "stderr",
     "output_type": "stream",
     "text": [
      "WARNING:ComparisonFrame:No data was found with applied filters!\n",
      "WARNING:ComparisonFrame:No comparisons were completed for queries!\n"
     ]
    }
   ],
   "source": [
    "comparer.calculate_aggr_scores()"
   ]
  },
  {
   "cell_type": "code",
   "execution_count": 14,
   "metadata": {},
   "outputs": [
    {
     "name": "stderr",
     "output_type": "stream",
     "text": [
      "WARNING:ComparisonFrame:No data was found with applied filters!\n"
     ]
    },
    {
     "data": {
      "text/html": [
       "<div>\n",
       "<style scoped>\n",
       "    .dataframe tbody tr th:only-of-type {\n",
       "        vertical-align: middle;\n",
       "    }\n",
       "\n",
       "    .dataframe tbody tr th {\n",
       "        vertical-align: top;\n",
       "    }\n",
       "\n",
       "    .dataframe thead th {\n",
       "        text-align: right;\n",
       "    }\n",
       "</style>\n",
       "<table border=\"1\" class=\"dataframe\">\n",
       "  <thead>\n",
       "    <tr style=\"text-align: right;\">\n",
       "      <th></th>\n",
       "    </tr>\n",
       "  </thead>\n",
       "  <tbody>\n",
       "  </tbody>\n",
       "</table>\n",
       "</div>"
      ],
      "text/plain": [
       "Empty DataFrame\n",
       "Columns: []\n",
       "Index: []"
      ]
     },
     "execution_count": 14,
     "metadata": {},
     "output_type": "execute_result"
    }
   ],
   "source": [
    "comparer.get_all_aggr_scores_df()"
   ]
  }
 ],
 "metadata": {
  "kernelspec": {
   "display_name": "msearch",
   "language": "python",
   "name": "python3"
  },
  "language_info": {
   "codemirror_mode": {
    "name": "ipython",
    "version": 3
   },
   "file_extension": ".py",
   "mimetype": "text/x-python",
   "name": "python",
   "nbconvert_exporter": "python",
   "pygments_lexer": "ipython3",
   "version": "3.10.14"
  },
  "orig_nbformat": 4
 },
 "nbformat": 4,
 "nbformat_minor": 2
}
