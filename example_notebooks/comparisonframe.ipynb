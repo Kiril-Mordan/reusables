{
 "cells": [
  {
   "cell_type": "code",
   "execution_count": 15,
   "metadata": {},
   "outputs": [],
   "source": [
    "from comparisonframe import ComparisonFrame"
   ]
  },
  {
   "cell_type": "markdown",
   "metadata": {},
   "source": [
    "## Usage examples"
   ]
  },
  {
   "cell_type": "markdown",
   "metadata": {},
   "source": [
    "The examples contain: \n",
    "1. creating validation set and saving it to be reused\n",
    "2. comparing newly generated data with expected results \n",
    "3. recording test statuses\n",
    "4. reseting statuses, flushing records and comparison results"
   ]
  },
  {
   "cell_type": "markdown",
   "metadata": {},
   "source": [
    "### 1. Creating validation set"
   ]
  },
  {
   "cell_type": "markdown",
   "metadata": {},
   "source": [
    "### 1.1 Initialize comparison class"
   ]
  },
  {
   "cell_type": "code",
   "execution_count": 2,
   "metadata": {},
   "outputs": [
    {
     "name": "stderr",
     "output_type": "stream",
     "text": [
      "INFO:sentence_transformers.SentenceTransformer:Load pretrained SentenceTransformer: all-mpnet-base-v2\n",
      "INFO:sentence_transformers.SentenceTransformer:Use pytorch device: cpu\n"
     ]
    }
   ],
   "source": [
    "comparer = ComparisonFrame(\n",
    "    # optionally\n",
    "    ## provide name of the model from sentence_transformer package\n",
    "    model_name = \"all-mpnet-base-v2\",\n",
    "    ## provide filenames to persist state\n",
    "    record_file = \"record_file.csv\",  # file where queries and expected results are stored\n",
    "    results_file = \"comparison_results.csv\", # file where comparison results will be stored\n",
    "    embeddings_file = \"embeddings.dill\",\n",
    "    ## provide soup for scraping if was already defined externally\n",
    "    embedder = None\n",
    ")"
   ]
  },
  {
   "cell_type": "markdown",
   "metadata": {},
   "source": [
    "#### 1.2 Recording queries and expected responses (validation set)"
   ]
  },
  {
   "cell_type": "code",
   "execution_count": 3,
   "metadata": {},
   "outputs": [
    {
     "name": "stderr",
     "output_type": "stream",
     "text": [
      "Batches:   0%|          | 0/1 [00:00<?, ?it/s]"
     ]
    },
    {
     "name": "stderr",
     "output_type": "stream",
     "text": [
      "Batches: 100%|██████████| 1/1 [00:00<00:00,  1.76it/s]\n",
      "Batches: 100%|██████████| 1/1 [00:00<00:00,  8.03it/s]\n"
     ]
    }
   ],
   "source": [
    "comparer.record_query(query = \"Black metal\",\n",
    "                      expected_text = \"Black metal is an extreme subgenre of heavy metal music.\")\n",
    "comparer.record_query(query = \"Tribulation\",\n",
    "                      expected_text = \"Tribulation are a Swedish heavy metal band from Arvika that formed in 2005.\")"
   ]
  },
  {
   "cell_type": "markdown",
   "metadata": {},
   "source": [
    "### 2. Comparing with expected results"
   ]
  },
  {
   "cell_type": "markdown",
   "metadata": {},
   "source": [
    "#### 2.1 Initialize new comparison class"
   ]
  },
  {
   "cell_type": "code",
   "execution_count": 2,
   "metadata": {},
   "outputs": [
    {
     "name": "stderr",
     "output_type": "stream",
     "text": [
      "INFO:sentence_transformers.SentenceTransformer:Load pretrained SentenceTransformer: all-mpnet-base-v2\n",
      "INFO:sentence_transformers.SentenceTransformer:Use pytorch device: cpu\n"
     ]
    }
   ],
   "source": [
    "comparer = ComparisonFrame()"
   ]
  },
  {
   "cell_type": "markdown",
   "metadata": {},
   "source": [
    "### 2.2 Show validation set"
   ]
  },
  {
   "cell_type": "code",
   "execution_count": 4,
   "metadata": {},
   "outputs": [
    {
     "name": "stdout",
     "output_type": "stream",
     "text": [
      "['Black metal', 'Tribulation']\n"
     ]
    }
   ],
   "source": [
    "untested_queries = comparer.get_all_queries(\n",
    "    ## optionall\n",
    "    untested_only=True)\n",
    "print(untested_queries)"
   ]
  },
  {
   "cell_type": "code",
   "execution_count": 3,
   "metadata": {},
   "outputs": [
    {
     "data": {
      "text/html": [
       "<div>\n",
       "<style scoped>\n",
       "    .dataframe tbody tr th:only-of-type {\n",
       "        vertical-align: middle;\n",
       "    }\n",
       "\n",
       "    .dataframe tbody tr th {\n",
       "        vertical-align: top;\n",
       "    }\n",
       "\n",
       "    .dataframe thead th {\n",
       "        text-align: right;\n",
       "    }\n",
       "</style>\n",
       "<table border=\"1\" class=\"dataframe\">\n",
       "  <thead>\n",
       "    <tr style=\"text-align: right;\">\n",
       "      <th></th>\n",
       "      <th>id</th>\n",
       "      <th>timestamp</th>\n",
       "      <th>query</th>\n",
       "      <th>expected_text</th>\n",
       "      <th>tested</th>\n",
       "      <th>test_status</th>\n",
       "    </tr>\n",
       "  </thead>\n",
       "  <tbody>\n",
       "    <tr>\n",
       "      <th>0</th>\n",
       "      <td>1</td>\n",
       "      <td>2023-11-04 03:28:48</td>\n",
       "      <td>Black metal</td>\n",
       "      <td>Black metal is an extreme subgenre of heavy me...</td>\n",
       "      <td>no</td>\n",
       "      <td>NaN</td>\n",
       "    </tr>\n",
       "    <tr>\n",
       "      <th>1</th>\n",
       "      <td>2</td>\n",
       "      <td>2023-11-04 03:28:48</td>\n",
       "      <td>Tribulation</td>\n",
       "      <td>Tribulation are a Swedish heavy metal band fro...</td>\n",
       "      <td>no</td>\n",
       "      <td>NaN</td>\n",
       "    </tr>\n",
       "  </tbody>\n",
       "</table>\n",
       "</div>"
      ],
      "text/plain": [
       "   id            timestamp        query  \\\n",
       "0   1  2023-11-04 03:28:48  Black metal   \n",
       "1   2  2023-11-04 03:28:48  Tribulation   \n",
       "\n",
       "                                       expected_text tested  test_status  \n",
       "0  Black metal is an extreme subgenre of heavy me...     no          NaN  \n",
       "1  Tribulation are a Swedish heavy metal band fro...     no          NaN  "
      ]
     },
     "execution_count": 3,
     "metadata": {},
     "output_type": "execute_result"
    }
   ],
   "source": [
    "comparer.get_all_records()"
   ]
  },
  {
   "cell_type": "markdown",
   "metadata": {},
   "source": [
    "#### 2.3 Compare newly generated with recorded"
   ]
  },
  {
   "cell_type": "code",
   "execution_count": 4,
   "metadata": {},
   "outputs": [],
   "source": [
    "valid_answer_query_1 = \"Black metal is an extreme subgenre of heavy metal music.\"\n",
    "very_similar_answer_query_1 = \"Black metal is a subgenre of heavy metal music.\"\n",
    "unexpected_answer_query_1 = \"Black metals are beautiful and are often used in jewelry design.\""
   ]
  },
  {
   "cell_type": "code",
   "execution_count": 5,
   "metadata": {},
   "outputs": [
    {
     "name": "stderr",
     "output_type": "stream",
     "text": [
      "Batches:   0%|          | 0/1 [00:00<?, ?it/s]"
     ]
    },
    {
     "name": "stderr",
     "output_type": "stream",
     "text": [
      "Batches: 100%|██████████| 1/1 [00:00<00:00,  1.66it/s]\n",
      "Batches: 100%|██████████| 1/1 [00:00<00:00,  9.88it/s]\n",
      "Batches: 100%|██████████| 1/1 [00:00<00:00, 10.24it/s]\n",
      "Batches: 100%|██████████| 1/1 [00:00<00:00, 10.22it/s]\n",
      "Batches: 100%|██████████| 1/1 [00:00<00:00, 10.25it/s]\n",
      "Batches: 100%|██████████| 1/1 [00:00<00:00, 10.38it/s]\n"
     ]
    }
   ],
   "source": [
    "# with no entry to records\n",
    "comparer.compare_with_record(query = \"Black metal\",\n",
    "                             provided_text = valid_answer_query_1,\n",
    "                             mark_as_tested=False)\n",
    "comparer.compare_with_record(query = \"Black metal\",\n",
    "                             provided_text = very_similar_answer_query_1,\n",
    "                             mark_as_tested=False)\n",
    "comparer.compare_with_record(query = \"Black metal\",\n",
    "                             provided_text = unexpected_answer_query_1,\n",
    "                             mark_as_tested=False)"
   ]
  },
  {
   "cell_type": "markdown",
   "metadata": {},
   "source": [
    "#### 2.4 Check comparison results"
   ]
  },
  {
   "cell_type": "code",
   "execution_count": 6,
   "metadata": {},
   "outputs": [
    {
     "data": {
      "text/html": [
       "<div>\n",
       "<style scoped>\n",
       "    .dataframe tbody tr th:only-of-type {\n",
       "        vertical-align: middle;\n",
       "    }\n",
       "\n",
       "    .dataframe tbody tr th {\n",
       "        vertical-align: top;\n",
       "    }\n",
       "\n",
       "    .dataframe thead th {\n",
       "        text-align: right;\n",
       "    }\n",
       "</style>\n",
       "<table border=\"1\" class=\"dataframe\">\n",
       "  <thead>\n",
       "    <tr style=\"text-align: right;\">\n",
       "      <th></th>\n",
       "      <th>query</th>\n",
       "      <th>char_count_diff</th>\n",
       "      <th>word_count_diff</th>\n",
       "      <th>line_count_diff</th>\n",
       "      <th>punctuation_diff</th>\n",
       "      <th>semantic_similarity</th>\n",
       "      <th>expected_text</th>\n",
       "      <th>provided_text</th>\n",
       "      <th>id</th>\n",
       "    </tr>\n",
       "  </thead>\n",
       "  <tbody>\n",
       "    <tr>\n",
       "      <th>0</th>\n",
       "      <td>Black metal</td>\n",
       "      <td>0</td>\n",
       "      <td>0</td>\n",
       "      <td>0</td>\n",
       "      <td>0</td>\n",
       "      <td>1.000000</td>\n",
       "      <td>Black metal is an extreme subgenre of heavy me...</td>\n",
       "      <td>Black metal is an extreme subgenre of heavy me...</td>\n",
       "      <td>1</td>\n",
       "    </tr>\n",
       "    <tr>\n",
       "      <th>1</th>\n",
       "      <td>Black metal</td>\n",
       "      <td>9</td>\n",
       "      <td>1</td>\n",
       "      <td>0</td>\n",
       "      <td>0</td>\n",
       "      <td>0.974236</td>\n",
       "      <td>Black metal is an extreme subgenre of heavy me...</td>\n",
       "      <td>Black metal is a subgenre of heavy metal music.</td>\n",
       "      <td>1</td>\n",
       "    </tr>\n",
       "    <tr>\n",
       "      <th>2</th>\n",
       "      <td>Black metal</td>\n",
       "      <td>8</td>\n",
       "      <td>1</td>\n",
       "      <td>0</td>\n",
       "      <td>0</td>\n",
       "      <td>0.499244</td>\n",
       "      <td>Black metal is an extreme subgenre of heavy me...</td>\n",
       "      <td>Black metals are beautiful and are often used ...</td>\n",
       "      <td>1</td>\n",
       "    </tr>\n",
       "  </tbody>\n",
       "</table>\n",
       "</div>"
      ],
      "text/plain": [
       "         query  char_count_diff  word_count_diff  line_count_diff  \\\n",
       "0  Black metal                0                0                0   \n",
       "1  Black metal                9                1                0   \n",
       "2  Black metal                8                1                0   \n",
       "\n",
       "   punctuation_diff  semantic_similarity  \\\n",
       "0                 0             1.000000   \n",
       "1                 0             0.974236   \n",
       "2                 0             0.499244   \n",
       "\n",
       "                                       expected_text  \\\n",
       "0  Black metal is an extreme subgenre of heavy me...   \n",
       "1  Black metal is an extreme subgenre of heavy me...   \n",
       "2  Black metal is an extreme subgenre of heavy me...   \n",
       "\n",
       "                                       provided_text  id  \n",
       "0  Black metal is an extreme subgenre of heavy me...   1  \n",
       "1    Black metal is a subgenre of heavy metal music.   1  \n",
       "2  Black metals are beautiful and are often used ...   1  "
      ]
     },
     "execution_count": 6,
     "metadata": {},
     "output_type": "execute_result"
    }
   ],
   "source": [
    "comparer.get_comparison_results()"
   ]
  },
  {
   "cell_type": "markdown",
   "metadata": {},
   "source": [
    "### 3. Record test statuses"
   ]
  },
  {
   "cell_type": "code",
   "execution_count": 7,
   "metadata": {},
   "outputs": [
    {
     "name": "stderr",
     "output_type": "stream",
     "text": [
      "Batches: 100%|██████████| 1/1 [00:00<00:00,  9.84it/s]\n",
      "Batches: 100%|██████████| 1/1 [00:00<00:00,  8.83it/s]\n"
     ]
    }
   ],
   "source": [
    "comparer.compare_with_record(query = \"Black metal\",\n",
    "                             provided_text = very_similar_answer_query_1,\n",
    "                             mark_as_tested=True)"
   ]
  },
  {
   "cell_type": "code",
   "execution_count": 8,
   "metadata": {},
   "outputs": [
    {
     "data": {
      "text/html": [
       "<div>\n",
       "<style scoped>\n",
       "    .dataframe tbody tr th:only-of-type {\n",
       "        vertical-align: middle;\n",
       "    }\n",
       "\n",
       "    .dataframe tbody tr th {\n",
       "        vertical-align: top;\n",
       "    }\n",
       "\n",
       "    .dataframe thead th {\n",
       "        text-align: right;\n",
       "    }\n",
       "</style>\n",
       "<table border=\"1\" class=\"dataframe\">\n",
       "  <thead>\n",
       "    <tr style=\"text-align: right;\">\n",
       "      <th></th>\n",
       "      <th>id</th>\n",
       "      <th>timestamp</th>\n",
       "      <th>query</th>\n",
       "      <th>expected_text</th>\n",
       "      <th>tested</th>\n",
       "      <th>test_status</th>\n",
       "    </tr>\n",
       "  </thead>\n",
       "  <tbody>\n",
       "    <tr>\n",
       "      <th>0</th>\n",
       "      <td>1</td>\n",
       "      <td>2023-11-04 03:28:48</td>\n",
       "      <td>Black metal</td>\n",
       "      <td>Black metal is an extreme subgenre of heavy me...</td>\n",
       "      <td>yes</td>\n",
       "      <td>pass</td>\n",
       "    </tr>\n",
       "    <tr>\n",
       "      <th>1</th>\n",
       "      <td>2</td>\n",
       "      <td>2023-11-04 03:28:48</td>\n",
       "      <td>Tribulation</td>\n",
       "      <td>Tribulation are a Swedish heavy metal band fro...</td>\n",
       "      <td>no</td>\n",
       "      <td>NaN</td>\n",
       "    </tr>\n",
       "  </tbody>\n",
       "</table>\n",
       "</div>"
      ],
      "text/plain": [
       "   id            timestamp        query  \\\n",
       "0   1  2023-11-04 03:28:48  Black metal   \n",
       "1   2  2023-11-04 03:28:48  Tribulation   \n",
       "\n",
       "                                       expected_text tested test_status  \n",
       "0  Black metal is an extreme subgenre of heavy me...    yes        pass  \n",
       "1  Tribulation are a Swedish heavy metal band fro...     no         NaN  "
      ]
     },
     "execution_count": 8,
     "metadata": {},
     "output_type": "execute_result"
    }
   ],
   "source": [
    "comparer.get_all_records()"
   ]
  },
  {
   "cell_type": "markdown",
   "metadata": {},
   "source": [
    "### 4. Reseting and flushing results"
   ]
  },
  {
   "cell_type": "markdown",
   "metadata": {},
   "source": [
    "#### 4.1 Reselt test statuses"
   ]
  },
  {
   "cell_type": "code",
   "execution_count": 9,
   "metadata": {},
   "outputs": [],
   "source": [
    "comparer.reset_record_statuses(\n",
    "    # optionally\n",
    "    record_ids = [1]\n",
    ")"
   ]
  },
  {
   "cell_type": "code",
   "execution_count": 10,
   "metadata": {},
   "outputs": [
    {
     "data": {
      "text/html": [
       "<div>\n",
       "<style scoped>\n",
       "    .dataframe tbody tr th:only-of-type {\n",
       "        vertical-align: middle;\n",
       "    }\n",
       "\n",
       "    .dataframe tbody tr th {\n",
       "        vertical-align: top;\n",
       "    }\n",
       "\n",
       "    .dataframe thead th {\n",
       "        text-align: right;\n",
       "    }\n",
       "</style>\n",
       "<table border=\"1\" class=\"dataframe\">\n",
       "  <thead>\n",
       "    <tr style=\"text-align: right;\">\n",
       "      <th></th>\n",
       "      <th>id</th>\n",
       "      <th>timestamp</th>\n",
       "      <th>query</th>\n",
       "      <th>expected_text</th>\n",
       "      <th>tested</th>\n",
       "      <th>test_status</th>\n",
       "    </tr>\n",
       "  </thead>\n",
       "  <tbody>\n",
       "    <tr>\n",
       "      <th>0</th>\n",
       "      <td>1</td>\n",
       "      <td>2023-11-04 03:28:48</td>\n",
       "      <td>Black metal</td>\n",
       "      <td>Black metal is an extreme subgenre of heavy me...</td>\n",
       "      <td>no</td>\n",
       "      <td>NaN</td>\n",
       "    </tr>\n",
       "    <tr>\n",
       "      <th>1</th>\n",
       "      <td>2</td>\n",
       "      <td>2023-11-04 03:28:48</td>\n",
       "      <td>Tribulation</td>\n",
       "      <td>Tribulation are a Swedish heavy metal band fro...</td>\n",
       "      <td>no</td>\n",
       "      <td>NaN</td>\n",
       "    </tr>\n",
       "  </tbody>\n",
       "</table>\n",
       "</div>"
      ],
      "text/plain": [
       "   id            timestamp        query  \\\n",
       "0   1  2023-11-04 03:28:48  Black metal   \n",
       "1   2  2023-11-04 03:28:48  Tribulation   \n",
       "\n",
       "                                       expected_text tested  test_status  \n",
       "0  Black metal is an extreme subgenre of heavy me...     no          NaN  \n",
       "1  Tribulation are a Swedish heavy metal band fro...     no          NaN  "
      ]
     },
     "execution_count": 10,
     "metadata": {},
     "output_type": "execute_result"
    }
   ],
   "source": [
    "comparer.get_all_records()"
   ]
  },
  {
   "cell_type": "markdown",
   "metadata": {},
   "source": [
    "#### 4.2 Flush comparison results"
   ]
  },
  {
   "cell_type": "code",
   "execution_count": 11,
   "metadata": {},
   "outputs": [],
   "source": [
    "comparer.flush_comparison_results()"
   ]
  },
  {
   "cell_type": "code",
   "execution_count": 12,
   "metadata": {},
   "outputs": [
    {
     "name": "stderr",
     "output_type": "stream",
     "text": [
      "ERROR:ComparisonFrame:No results file found. Please perform some comparisons first.\n"
     ]
    }
   ],
   "source": [
    "comparer.get_comparison_results()"
   ]
  },
  {
   "cell_type": "markdown",
   "metadata": {},
   "source": [
    "#### 4.3 Flush records"
   ]
  },
  {
   "cell_type": "code",
   "execution_count": 13,
   "metadata": {},
   "outputs": [],
   "source": [
    "comparer.flush_records()"
   ]
  },
  {
   "cell_type": "code",
   "execution_count": 14,
   "metadata": {},
   "outputs": [
    {
     "data": {
      "text/html": [
       "<div>\n",
       "<style scoped>\n",
       "    .dataframe tbody tr th:only-of-type {\n",
       "        vertical-align: middle;\n",
       "    }\n",
       "\n",
       "    .dataframe tbody tr th {\n",
       "        vertical-align: top;\n",
       "    }\n",
       "\n",
       "    .dataframe thead th {\n",
       "        text-align: right;\n",
       "    }\n",
       "</style>\n",
       "<table border=\"1\" class=\"dataframe\">\n",
       "  <thead>\n",
       "    <tr style=\"text-align: right;\">\n",
       "      <th></th>\n",
       "      <th>id</th>\n",
       "      <th>timestamp</th>\n",
       "      <th>query</th>\n",
       "      <th>expected_text</th>\n",
       "      <th>tested</th>\n",
       "      <th>test_status</th>\n",
       "    </tr>\n",
       "  </thead>\n",
       "  <tbody>\n",
       "  </tbody>\n",
       "</table>\n",
       "</div>"
      ],
      "text/plain": [
       "Empty DataFrame\n",
       "Columns: [id, timestamp, query, expected_text, tested, test_status]\n",
       "Index: []"
      ]
     },
     "execution_count": 14,
     "metadata": {},
     "output_type": "execute_result"
    }
   ],
   "source": [
    "comparer.get_all_records()"
   ]
  }
 ],
 "metadata": {
  "kernelspec": {
   "display_name": "msearch",
   "language": "python",
   "name": "python3"
  },
  "language_info": {
   "codemirror_mode": {
    "name": "ipython",
    "version": 3
   },
   "file_extension": ".py",
   "mimetype": "text/x-python",
   "name": "python",
   "nbconvert_exporter": "python",
   "pygments_lexer": "ipython3",
   "version": "3.11.6"
  },
  "orig_nbformat": 4
 },
 "nbformat": 4,
 "nbformat_minor": 2
}
