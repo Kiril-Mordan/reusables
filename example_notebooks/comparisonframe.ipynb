{
 "cells": [
  {
   "cell_type": "code",
   "execution_count": 1,
   "metadata": {},
   "outputs": [
    {
     "name": "stderr",
     "output_type": "stream",
     "text": [
      "/home/kyriosskia/miniconda3/envs/testenv/lib/python3.10/site-packages/tqdm/auto.py:21: TqdmWarning: IProgress not found. Please update jupyter and ipywidgets. See https://ipywidgets.readthedocs.io/en/stable/user_install.html\n",
      "  from .autonotebook import tqdm as notebook_tqdm\n"
     ]
    }
   ],
   "source": [
    "import sys\n",
    "sys.path.append('../')\n",
    "from python_modules.comparisonframe import ComparisonFrame"
   ]
  },
  {
   "cell_type": "markdown",
   "metadata": {},
   "source": [
    "## Usage examples"
   ]
  },
  {
   "cell_type": "markdown",
   "metadata": {},
   "source": [
    "The examples contain: \n",
    "1. Creating validation set and saving it to be reused\n",
    "2. Comparing newly generated data with expected results \n",
    "3. Calculating aggregate comparison scores\n",
    "4. Recording test statuses\n",
    "5. Reseting statuses, flushing records and comparison results"
   ]
  },
  {
   "cell_type": "markdown",
   "metadata": {},
   "source": [
    "### 1. Creating validation set"
   ]
  },
  {
   "cell_type": "markdown",
   "metadata": {},
   "source": [
    "### 1.1 Initialize comparison class"
   ]
  },
  {
   "cell_type": "code",
   "execution_count": 2,
   "metadata": {},
   "outputs": [
    {
     "name": "stderr",
     "output_type": "stream",
     "text": [
      "/home/kyriosskia/miniconda3/envs/testenv/lib/python3.10/site-packages/transformers/tokenization_utils_base.py:1601: FutureWarning: `clean_up_tokenization_spaces` was not set. It will be set to `True` by default. This behavior will be depracted in transformers v4.45, and will be then set to `False` by default. For more details check this issue: https://github.com/huggingface/transformers/issues/31884\n",
      "  warnings.warn(\n"
     ]
    }
   ],
   "source": [
    "comparer = ComparisonFrame(\n",
    "    # optionally\n",
    "    ## mocker default parameters\n",
    "    mocker_params = {\n",
    "        'file_path' : \"./comparisonframe_storage\",\n",
    "         'persist' : True},\n",
    "\n",
    "    ## scores to calculate\n",
    "    compare_scores = ['char_count_diff',\n",
    "                        'word_count_diff',\n",
    "                        'line_count_diff',\n",
    "                        'punctuation_diff',\n",
    "                        'semantic_similarity']\n",
    ")"
   ]
  },
  {
   "cell_type": "markdown",
   "metadata": {},
   "source": [
    "#### 1.2 Recording queries and expected responses (validation set)"
   ]
  },
  {
   "cell_type": "code",
   "execution_count": 3,
   "metadata": {},
   "outputs": [],
   "source": [
    "comparer.record_queries(\n",
    "    queries = [\"Black metal\", \n",
    "               \"Tribulation\"],\n",
    "    expected_texts = [\"Black metal is an extreme subgenre of heavy metal music.\",\n",
    "    \"Tribulation are a Swedish heavy metal band from Arvika that formed in 2005.\"],\n",
    "    metadata = {'name' : 'metal_bands'})"
   ]
  },
  {
   "cell_type": "markdown",
   "metadata": {},
   "source": [
    "### 2. Comparing newly generated data with expected results "
   ]
  },
  {
   "cell_type": "markdown",
   "metadata": {},
   "source": [
    "#### 2.1 Initialize new comparison class"
   ]
  },
  {
   "cell_type": "code",
   "execution_count": 4,
   "metadata": {},
   "outputs": [],
   "source": [
    "comparer = ComparisonFrame()"
   ]
  },
  {
   "cell_type": "markdown",
   "metadata": {},
   "source": [
    "### 2.2 Show validation set"
   ]
  },
  {
   "cell_type": "code",
   "execution_count": 5,
   "metadata": {},
   "outputs": [
    {
     "name": "stdout",
     "output_type": "stream",
     "text": [
      "['Black metal', 'Tribulation']\n"
     ]
    }
   ],
   "source": [
    "untested_queries = comparer.get_all_queries(\n",
    "    ## optional\n",
    "    metadata_filters={'name' : 'metal_bands'})\n",
    "print(untested_queries)"
   ]
  },
  {
   "cell_type": "code",
   "execution_count": 6,
   "metadata": {},
   "outputs": [
    {
     "data": {
      "text/plain": [
       "[{'query': 'Black metal',\n",
       "  'record_id': '0cc157453395b440f36d1a1aee24aa76a03f5f9ab0a7a8bd7b663c92f2f16e87',\n",
       "  'expected_text': 'Black metal is an extreme subgenre of heavy metal music.'},\n",
       " {'query': 'Tribulation',\n",
       "  'record_id': 'eecd9c2a5b25ee6053891b894157fa30372ed694763385e1ada1dc9ad8e41625',\n",
       "  'expected_text': 'Tribulation are a Swedish heavy metal band from Arvika that formed in 2005.'}]"
      ]
     },
     "execution_count": 6,
     "metadata": {},
     "output_type": "execute_result"
    }
   ],
   "source": [
    "comparer.get_all_records()"
   ]
  },
  {
   "cell_type": "code",
   "execution_count": 7,
   "metadata": {},
   "outputs": [
    {
     "data": {
      "text/html": [
       "<div>\n",
       "<style scoped>\n",
       "    .dataframe tbody tr th:only-of-type {\n",
       "        vertical-align: middle;\n",
       "    }\n",
       "\n",
       "    .dataframe tbody tr th {\n",
       "        vertical-align: top;\n",
       "    }\n",
       "\n",
       "    .dataframe thead th {\n",
       "        text-align: right;\n",
       "    }\n",
       "</style>\n",
       "<table border=\"1\" class=\"dataframe\">\n",
       "  <thead>\n",
       "    <tr style=\"text-align: right;\">\n",
       "      <th></th>\n",
       "      <th>query</th>\n",
       "      <th>record_id</th>\n",
       "      <th>expected_text</th>\n",
       "    </tr>\n",
       "  </thead>\n",
       "  <tbody>\n",
       "    <tr>\n",
       "      <th>0</th>\n",
       "      <td>Black metal</td>\n",
       "      <td>0cc157453395b440f36d1a1aee24aa76a03f5f9ab0a7a8...</td>\n",
       "      <td>Black metal is an extreme subgenre of heavy me...</td>\n",
       "    </tr>\n",
       "    <tr>\n",
       "      <th>1</th>\n",
       "      <td>Tribulation</td>\n",
       "      <td>eecd9c2a5b25ee6053891b894157fa30372ed694763385...</td>\n",
       "      <td>Tribulation are a Swedish heavy metal band fro...</td>\n",
       "    </tr>\n",
       "  </tbody>\n",
       "</table>\n",
       "</div>"
      ],
      "text/plain": [
       "         query                                          record_id  \\\n",
       "0  Black metal  0cc157453395b440f36d1a1aee24aa76a03f5f9ab0a7a8...   \n",
       "1  Tribulation  eecd9c2a5b25ee6053891b894157fa30372ed694763385...   \n",
       "\n",
       "                                       expected_text  \n",
       "0  Black metal is an extreme subgenre of heavy me...  \n",
       "1  Tribulation are a Swedish heavy metal band fro...  "
      ]
     },
     "execution_count": 7,
     "metadata": {},
     "output_type": "execute_result"
    }
   ],
   "source": [
    "comparer.get_all_records_df()"
   ]
  },
  {
   "cell_type": "markdown",
   "metadata": {},
   "source": [
    "#### 2.3 Insert newly generated with records"
   ]
  },
  {
   "cell_type": "code",
   "execution_count": 8,
   "metadata": {},
   "outputs": [],
   "source": [
    "valid_answer_query_1 = \"Black metal is an extreme subgenre of heavy metal music.\"\n",
    "very_similar_answer_query_1 = \"Black metal is a subgenre of heavy metal music.\"\n",
    "unexpected_answer_query_1 = \"Black metals are beautiful and are often used in jewelry design.\""
   ]
  },
  {
   "cell_type": "code",
   "execution_count": 9,
   "metadata": {},
   "outputs": [],
   "source": [
    "comparer.record_runs(queries = [\"Black metal\"],\n",
    "                     provided_texts = [valid_answer_query_1,\n",
    "                                      very_similar_answer_query_1,\n",
    "                                      unexpected_answer_query_1],\n",
    "                    metadata={'desc' : 'definitions'})"
   ]
  },
  {
   "cell_type": "code",
   "execution_count": 10,
   "metadata": {},
   "outputs": [
    {
     "data": {
      "text/html": [
       "<div>\n",
       "<style scoped>\n",
       "    .dataframe tbody tr th:only-of-type {\n",
       "        vertical-align: middle;\n",
       "    }\n",
       "\n",
       "    .dataframe tbody tr th {\n",
       "        vertical-align: top;\n",
       "    }\n",
       "\n",
       "    .dataframe thead th {\n",
       "        text-align: right;\n",
       "    }\n",
       "</style>\n",
       "<table border=\"1\" class=\"dataframe\">\n",
       "  <thead>\n",
       "    <tr style=\"text-align: right;\">\n",
       "      <th></th>\n",
       "      <th>query</th>\n",
       "      <th>run_id</th>\n",
       "      <th>timestamp</th>\n",
       "      <th>provided_text</th>\n",
       "    </tr>\n",
       "  </thead>\n",
       "  <tbody>\n",
       "    <tr>\n",
       "      <th>0</th>\n",
       "      <td>Black metal</td>\n",
       "      <td>84ba591f22f9a85d02b819cc975406050179159c153462...</td>\n",
       "      <td>2024-08-21 23:06:21</td>\n",
       "      <td>Black metal is an extreme subgenre of heavy me...</td>\n",
       "    </tr>\n",
       "    <tr>\n",
       "      <th>1</th>\n",
       "      <td>Black metal</td>\n",
       "      <td>f8decbaf2684cb3910a1b6dd585e33e15f7affff173ab3...</td>\n",
       "      <td>2024-08-21 23:06:21</td>\n",
       "      <td>Black metal is a subgenre of heavy metal music.</td>\n",
       "    </tr>\n",
       "    <tr>\n",
       "      <th>2</th>\n",
       "      <td>Black metal</td>\n",
       "      <td>dc09a47365766f8d414e71081d5960930e8f323d76abed...</td>\n",
       "      <td>2024-08-21 23:06:21</td>\n",
       "      <td>Black metals are beautiful and are often used ...</td>\n",
       "    </tr>\n",
       "  </tbody>\n",
       "</table>\n",
       "</div>"
      ],
      "text/plain": [
       "         query                                             run_id  \\\n",
       "0  Black metal  84ba591f22f9a85d02b819cc975406050179159c153462...   \n",
       "1  Black metal  f8decbaf2684cb3910a1b6dd585e33e15f7affff173ab3...   \n",
       "2  Black metal  dc09a47365766f8d414e71081d5960930e8f323d76abed...   \n",
       "\n",
       "             timestamp                                      provided_text  \n",
       "0  2024-08-21 23:06:21  Black metal is an extreme subgenre of heavy me...  \n",
       "1  2024-08-21 23:06:21    Black metal is a subgenre of heavy metal music.  \n",
       "2  2024-08-21 23:06:21  Black metals are beautiful and are often used ...  "
      ]
     },
     "execution_count": 10,
     "metadata": {},
     "output_type": "execute_result"
    }
   ],
   "source": [
    "df = comparer.get_all_runs_df()\n",
    "df"
   ]
  },
  {
   "cell_type": "markdown",
   "metadata": {},
   "source": [
    "### 2.4 Comparing runs with records"
   ]
  },
  {
   "cell_type": "code",
   "execution_count": 11,
   "metadata": {},
   "outputs": [
    {
     "name": "stderr",
     "output_type": "stream",
     "text": [
      "WARNING:ComparisonFrame:No data was found with applied filters!\n"
     ]
    }
   ],
   "source": [
    "comparer.compare_runs_with_records()"
   ]
  },
  {
   "cell_type": "code",
   "execution_count": 12,
   "metadata": {},
   "outputs": [
    {
     "data": {
      "text/html": [
       "<div>\n",
       "<style scoped>\n",
       "    .dataframe tbody tr th:only-of-type {\n",
       "        vertical-align: middle;\n",
       "    }\n",
       "\n",
       "    .dataframe tbody tr th {\n",
       "        vertical-align: top;\n",
       "    }\n",
       "\n",
       "    .dataframe thead th {\n",
       "        text-align: right;\n",
       "    }\n",
       "</style>\n",
       "<table border=\"1\" class=\"dataframe\">\n",
       "  <thead>\n",
       "    <tr style=\"text-align: right;\">\n",
       "      <th></th>\n",
       "      <th>query</th>\n",
       "      <th>run_id</th>\n",
       "      <th>timestamp</th>\n",
       "      <th>provided_text</th>\n",
       "      <th>record_id</th>\n",
       "      <th>char_count_diff</th>\n",
       "      <th>word_count_diff</th>\n",
       "      <th>line_count_diff</th>\n",
       "      <th>punctuation_diff</th>\n",
       "      <th>semantic_similarity</th>\n",
       "      <th>comparison_id</th>\n",
       "    </tr>\n",
       "  </thead>\n",
       "  <tbody>\n",
       "    <tr>\n",
       "      <th>0</th>\n",
       "      <td>Black metal</td>\n",
       "      <td>84ba591f22f9a85d02b819cc975406050179159c153462...</td>\n",
       "      <td>2024-08-21 23:06:21</td>\n",
       "      <td>Black metal is an extreme subgenre of heavy me...</td>\n",
       "      <td>0cc157453395b440f36d1a1aee24aa76a03f5f9ab0a7a8...</td>\n",
       "      <td>0</td>\n",
       "      <td>0</td>\n",
       "      <td>0</td>\n",
       "      <td>0</td>\n",
       "      <td>1.000000</td>\n",
       "      <td>76527d9ba703d734ba3362e10706f6734028e648d8362b...</td>\n",
       "    </tr>\n",
       "    <tr>\n",
       "      <th>1</th>\n",
       "      <td>Black metal</td>\n",
       "      <td>f8decbaf2684cb3910a1b6dd585e33e15f7affff173ab3...</td>\n",
       "      <td>2024-08-21 23:06:21</td>\n",
       "      <td>Black metal is a subgenre of heavy metal music.</td>\n",
       "      <td>0cc157453395b440f36d1a1aee24aa76a03f5f9ab0a7a8...</td>\n",
       "      <td>9</td>\n",
       "      <td>1</td>\n",
       "      <td>0</td>\n",
       "      <td>0</td>\n",
       "      <td>0.985985</td>\n",
       "      <td>ec33ef2dc6c3125c5606d110ac301435cfe350c055da93...</td>\n",
       "    </tr>\n",
       "    <tr>\n",
       "      <th>2</th>\n",
       "      <td>Black metal</td>\n",
       "      <td>dc09a47365766f8d414e71081d5960930e8f323d76abed...</td>\n",
       "      <td>2024-08-21 23:06:21</td>\n",
       "      <td>Black metals are beautiful and are often used ...</td>\n",
       "      <td>0cc157453395b440f36d1a1aee24aa76a03f5f9ab0a7a8...</td>\n",
       "      <td>8</td>\n",
       "      <td>1</td>\n",
       "      <td>0</td>\n",
       "      <td>0</td>\n",
       "      <td>0.494053</td>\n",
       "      <td>aafc4e6ef286d89086d04d48ca33edd39f0aacfb07d8bc...</td>\n",
       "    </tr>\n",
       "  </tbody>\n",
       "</table>\n",
       "</div>"
      ],
      "text/plain": [
       "         query                                             run_id  \\\n",
       "0  Black metal  84ba591f22f9a85d02b819cc975406050179159c153462...   \n",
       "1  Black metal  f8decbaf2684cb3910a1b6dd585e33e15f7affff173ab3...   \n",
       "2  Black metal  dc09a47365766f8d414e71081d5960930e8f323d76abed...   \n",
       "\n",
       "             timestamp                                      provided_text  \\\n",
       "0  2024-08-21 23:06:21  Black metal is an extreme subgenre of heavy me...   \n",
       "1  2024-08-21 23:06:21    Black metal is a subgenre of heavy metal music.   \n",
       "2  2024-08-21 23:06:21  Black metals are beautiful and are often used ...   \n",
       "\n",
       "                                           record_id  char_count_diff  \\\n",
       "0  0cc157453395b440f36d1a1aee24aa76a03f5f9ab0a7a8...                0   \n",
       "1  0cc157453395b440f36d1a1aee24aa76a03f5f9ab0a7a8...                9   \n",
       "2  0cc157453395b440f36d1a1aee24aa76a03f5f9ab0a7a8...                8   \n",
       "\n",
       "   word_count_diff  line_count_diff  punctuation_diff  semantic_similarity  \\\n",
       "0                0                0                 0             1.000000   \n",
       "1                1                0                 0             0.985985   \n",
       "2                1                0                 0             0.494053   \n",
       "\n",
       "                                       comparison_id  \n",
       "0  76527d9ba703d734ba3362e10706f6734028e648d8362b...  \n",
       "1  ec33ef2dc6c3125c5606d110ac301435cfe350c055da93...  \n",
       "2  aafc4e6ef286d89086d04d48ca33edd39f0aacfb07d8bc...  "
      ]
     },
     "execution_count": 12,
     "metadata": {},
     "output_type": "execute_result"
    }
   ],
   "source": [
    "comparer.get_all_run_scores_df()"
   ]
  },
  {
   "cell_type": "markdown",
   "metadata": {},
   "source": [
    "### 3 Calculating aggregate comparison scores"
   ]
  },
  {
   "cell_type": "code",
   "execution_count": 13,
   "metadata": {},
   "outputs": [
    {
     "name": "stderr",
     "output_type": "stream",
     "text": [
      "WARNING:ComparisonFrame:No data was found with applied filters!\n"
     ]
    }
   ],
   "source": [
    "comparer.calculate_aggr_scores()"
   ]
  },
  {
   "cell_type": "code",
   "execution_count": 23,
   "metadata": {},
   "outputs": [
    {
     "data": {
      "text/html": [
       "<div>\n",
       "<style scoped>\n",
       "    .dataframe tbody tr th:only-of-type {\n",
       "        vertical-align: middle;\n",
       "    }\n",
       "\n",
       "    .dataframe tbody tr th {\n",
       "        vertical-align: top;\n",
       "    }\n",
       "\n",
       "    .dataframe thead th {\n",
       "        text-align: right;\n",
       "    }\n",
       "</style>\n",
       "<table border=\"1\" class=\"dataframe\">\n",
       "  <thead>\n",
       "    <tr style=\"text-align: right;\">\n",
       "      <th></th>\n",
       "      <th>timestamp</th>\n",
       "      <th>comparison_id</th>\n",
       "      <th>query</th>\n",
       "      <th>min_char_count_diff</th>\n",
       "      <th>min_word_count_diff</th>\n",
       "      <th>min_line_count_diff</th>\n",
       "      <th>min_punctuation_diff</th>\n",
       "      <th>min_semantic_similarity</th>\n",
       "      <th>p25_char_count_diff</th>\n",
       "      <th>p25_word_count_diff</th>\n",
       "      <th>...</th>\n",
       "      <th>p75_word_count_diff</th>\n",
       "      <th>p75_line_count_diff</th>\n",
       "      <th>p75_punctuation_diff</th>\n",
       "      <th>p75_semantic_similarity</th>\n",
       "      <th>max_char_count_diff</th>\n",
       "      <th>max_word_count_diff</th>\n",
       "      <th>max_line_count_diff</th>\n",
       "      <th>max_punctuation_diff</th>\n",
       "      <th>max_semantic_similarity</th>\n",
       "      <th>record_status_id</th>\n",
       "    </tr>\n",
       "  </thead>\n",
       "  <tbody>\n",
       "    <tr>\n",
       "      <th>0</th>\n",
       "      <td>2024-08-21 23:06:21</td>\n",
       "      <td>[76527d9ba703d734ba3362e10706f6734028e648d8362...</td>\n",
       "      <td>Black metal</td>\n",
       "      <td>0.0</td>\n",
       "      <td>0.0</td>\n",
       "      <td>0.0</td>\n",
       "      <td>0.0</td>\n",
       "      <td>0.494053</td>\n",
       "      <td>4.0</td>\n",
       "      <td>0.5</td>\n",
       "      <td>...</td>\n",
       "      <td>1.0</td>\n",
       "      <td>0.0</td>\n",
       "      <td>0.0</td>\n",
       "      <td>0.992993</td>\n",
       "      <td>9.0</td>\n",
       "      <td>1.0</td>\n",
       "      <td>0.0</td>\n",
       "      <td>0.0</td>\n",
       "      <td>1.0</td>\n",
       "      <td>79da5e839e21568134a6185f0a8164879526b1a8102b53...</td>\n",
       "    </tr>\n",
       "  </tbody>\n",
       "</table>\n",
       "<p>1 rows × 34 columns</p>\n",
       "</div>"
      ],
      "text/plain": [
       "             timestamp                                      comparison_id  \\\n",
       "0  2024-08-21 23:06:21  [76527d9ba703d734ba3362e10706f6734028e648d8362...   \n",
       "\n",
       "         query  min_char_count_diff  min_word_count_diff  min_line_count_diff  \\\n",
       "0  Black metal                  0.0                  0.0                  0.0   \n",
       "\n",
       "   min_punctuation_diff  min_semantic_similarity  p25_char_count_diff  \\\n",
       "0                   0.0                 0.494053                  4.0   \n",
       "\n",
       "   p25_word_count_diff  ...  p75_word_count_diff  p75_line_count_diff  \\\n",
       "0                  0.5  ...                  1.0                  0.0   \n",
       "\n",
       "   p75_punctuation_diff  p75_semantic_similarity  max_char_count_diff  \\\n",
       "0                   0.0                 0.992993                  9.0   \n",
       "\n",
       "   max_word_count_diff  max_line_count_diff  max_punctuation_diff  \\\n",
       "0                  1.0                  0.0                   0.0   \n",
       "\n",
       "   max_semantic_similarity                                   record_status_id  \n",
       "0                      1.0  79da5e839e21568134a6185f0a8164879526b1a8102b53...  \n",
       "\n",
       "[1 rows x 34 columns]"
      ]
     },
     "execution_count": 23,
     "metadata": {},
     "output_type": "execute_result"
    }
   ],
   "source": [
    "comparer.get_all_aggr_scores_df()"
   ]
  },
  {
   "cell_type": "markdown",
   "metadata": {},
   "source": [
    "### 4. Recording test statuses"
   ]
  },
  {
   "cell_type": "code",
   "execution_count": 3,
   "metadata": {},
   "outputs": [],
   "source": [
    "comparer.calculate_test_statuses(test_query = \"p75_semantic_similarity > 0\")\n"
   ]
  },
  {
   "cell_type": "code",
   "execution_count": 3,
   "metadata": {},
   "outputs": [
    {
     "data": {
      "text/plain": [
       "[{'timestamp': '2024-08-21 23:50:32',\n",
       "  'record_id': '0cc157453395b440f36d1a1aee24aa76a03f5f9ab0a7a8bd7b663c92f2f16e87',\n",
       "  'record_status_id': '79da5e839e21568134a6185f0a8164879526b1a8102b5334711f5c470a872db8',\n",
       "  'query': 'Black metal',\n",
       "  'valid': True}]"
      ]
     },
     "execution_count": 3,
     "metadata": {},
     "output_type": "execute_result"
    }
   ],
   "source": [
    "comparer.get_test_statuses()"
   ]
  },
  {
   "cell_type": "code",
   "execution_count": 4,
   "metadata": {},
   "outputs": [
    {
     "data": {
      "text/html": [
       "<div>\n",
       "<style scoped>\n",
       "    .dataframe tbody tr th:only-of-type {\n",
       "        vertical-align: middle;\n",
       "    }\n",
       "\n",
       "    .dataframe tbody tr th {\n",
       "        vertical-align: top;\n",
       "    }\n",
       "\n",
       "    .dataframe thead th {\n",
       "        text-align: right;\n",
       "    }\n",
       "</style>\n",
       "<table border=\"1\" class=\"dataframe\">\n",
       "  <thead>\n",
       "    <tr style=\"text-align: right;\">\n",
       "      <th></th>\n",
       "      <th>timestamp</th>\n",
       "      <th>record_id</th>\n",
       "      <th>record_status_id</th>\n",
       "      <th>query</th>\n",
       "      <th>valid</th>\n",
       "    </tr>\n",
       "  </thead>\n",
       "  <tbody>\n",
       "    <tr>\n",
       "      <th>0</th>\n",
       "      <td>2024-08-21 23:50:32</td>\n",
       "      <td>0cc157453395b440f36d1a1aee24aa76a03f5f9ab0a7a8...</td>\n",
       "      <td>79da5e839e21568134a6185f0a8164879526b1a8102b53...</td>\n",
       "      <td>Black metal</td>\n",
       "      <td>True</td>\n",
       "    </tr>\n",
       "  </tbody>\n",
       "</table>\n",
       "</div>"
      ],
      "text/plain": [
       "             timestamp                                          record_id  \\\n",
       "0  2024-08-21 23:50:32  0cc157453395b440f36d1a1aee24aa76a03f5f9ab0a7a8...   \n",
       "\n",
       "                                    record_status_id        query  valid  \n",
       "0  79da5e839e21568134a6185f0a8164879526b1a8102b53...  Black metal   True  "
      ]
     },
     "execution_count": 4,
     "metadata": {},
     "output_type": "execute_result"
    }
   ],
   "source": [
    "comparer.get_test_statuses_df()"
   ]
  },
  {
   "cell_type": "markdown",
   "metadata": {},
   "source": [
    "### 5. Reseting statuses, flushing records and comparison results"
   ]
  },
  {
   "cell_type": "code",
   "execution_count": null,
   "metadata": {},
   "outputs": [],
   "source": []
  }
 ],
 "metadata": {
  "kernelspec": {
   "display_name": "msearch",
   "language": "python",
   "name": "python3"
  },
  "language_info": {
   "codemirror_mode": {
    "name": "ipython",
    "version": 3
   },
   "file_extension": ".py",
   "mimetype": "text/x-python",
   "name": "python",
   "nbconvert_exporter": "python",
   "pygments_lexer": "ipython3",
   "version": "3.10.14"
  },
  "orig_nbformat": 4
 },
 "nbformat": 4,
 "nbformat_minor": 2
}
