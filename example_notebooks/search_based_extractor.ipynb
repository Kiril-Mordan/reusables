{
 "cells": [
  {
   "cell_type": "code",
   "execution_count": 1,
   "metadata": {},
   "outputs": [],
   "source": [
    "import sys\n",
    "import os\n",
    "## switching path to main lvl\n",
    "sys.path.append('../../')\n",
    "from src.cl.search_based_extractor import SearchBasedExtractor"
   ]
  },
  {
   "cell_type": "code",
   "execution_count": 2,
   "metadata": {},
   "outputs": [],
   "source": [
    "sbe = SearchBasedExtractor()\n",
    "sbe.initialize_soup(link = 'https://metalstorm.net/pub/review.php?review_id=7207')"
   ]
  },
  {
   "cell_type": "code",
   "execution_count": 3,
   "metadata": {},
   "outputs": [],
   "source": [
    "sbe.find_path_with_text(search_text = \"I'm not a huge fan of nu-metal right now\")"
   ]
  },
  {
   "cell_type": "code",
   "execution_count": 4,
   "metadata": {},
   "outputs": [
    {
     "data": {
      "text/plain": [
       "'html\\n Korn - See You On The Other Side review - Metal Storm\\n Login\\n Register\\n Toggle navigation\\n band\\n style\\n album\\n video\\n musician\\n event\\n forum\\n user\\n Metal Storm\\n Metal Storm\\n Home\\n About us\\n Metal Storm Awards\\n Site tour\\n FAQ\\n Promo media\\n Community\\n Community\\n Forum\\n Members\\n Top lists\\n Tradelist\\n Staff\\n Bands\\n Bands\\n Bands\\n Albums\\n Album charts\\n Top 200 albums\\n Videos\\n Musicians\\n News & events\\n News & events\\n Combined updates\\n News\\n New releases\\n Upcoming releases\\n Events\\n Metal locations\\n Publications\\n Publications\\n Reviews\\n Interviews\\n Articles\\n Concert reviews\\n Features\\n Blogs\\n Photo galleries\\n Misc\\n Misc\\n Funny stuff\\n MetalQuiz\\n Interviews\\n News\\n Cirith Ungol\\n Venomous Echoes\\n Kollapsed\\n Nadja\\n 29.10 -\\n Steve Riley\\'s L.A. Guns - Steve Riley Passed Away\\n 29.10 -\\n Liv Sin - Present Cover For Deathstars\\' \\'Synthetic Generation\\'\\n 29.10 -\\n Neal Morse - To Release Next Studio Record In January\\n 29.10 -\\n Manticora - \\'Beast Of The Fall\\' Single Unleashed\\n 29.10 -\\n Dominum - Several New Tunes Streaming\\n 28.10 -\\n Lucifer - Fifth Long Player Announced & Detailed\\n 28.10 -\\n Gothminister - Release \\'Battle Of The Underworlds\\' Single\\n 28.10 -\\n Nile - Introduce New Touring Line-Up\\n 28.10 -\\n Fall Of Serenity - Debut New Music Piece\\n 28.10 -\\n Space Of Variations - Return To European Stages In 2024\\n 28.10 -\\n Endseeker - Premiere \\'Global Worming\\' Music Video\\n 28.10 -\\n Scanner - Disclose New Album\\'s Additional Info\\n Show more\\n Shoutbox\\n 02:38 -\\n VileVick Bryant\\n [\\n link\\n ]\\n 23:27 -\\n GOD ofMETALSTORM\\n I remember Friends showed on vietnamese tv in 2005.\\n 22:44 -\\n Boxcar Willy\\n [\\n link\\n ]\\n 18:40 -\\n Azarath\\n And constant reruns ever since.\\n 18:32 -\\n F3ynman2000\\n Actually, only 10 [\\n link\\n ]\\n 18:18 -\\n no one\\n 30 years! I\\'m sure it was just 2 then 30 years of re runs\\n 17:48 -\\n F3ynman2000\\n Haha I see\\n Reviews\\n Articles\\n Modern Technology\\n Conditions Of Worth\\n Warcrab\\n The Howling Silence\\n Cemetery Urn\\n Suffer The Fallen\\n Angelus Apatrida\\n Aftermath\\n The Answer Lies In The Black Void\\n Thou Shalt\\n Laster\\n Andermans Mijne\\n Asagraum\\n Veil Of Death, Ruptured\\n Cirith Ungol\\n Dark Parade\\n Gruzja\\n Koniec Wakacji\\n Telesterion\\n Epopteia\\n Show more\\n 25.10 -\\n Beyond The Redshift 2023\\n 15.10 -\\n Wait A Minute! This Isn\\'t Metal! - September 2023\\n 08.10 -\\n Clandestine Cuts Vol. 13 Issue #9 - Awesome New Demos and EPs\\n 01.10 -\\n Sunn O))) - Europe Tour 2023\\n 15.09 -\\n Wait A Minute! This Isn\\'t Metal! - August 2023\\n 03.09 -\\n Clandestine Cuts Vol. 13 Issue #8 - Awesome New Demos and EPs\\n 30.08 -\\n ArcTanGent 2023\\n 28.08 -\\n Abattoir\\'s Concert Hunt - Red Hot Chili Peppers (Live In Vienna); Måneskin (Live In Trieste)\\n Show more\\n Events\\n Now online\\n Today\\n 23.11\\t\\t\\t\\t\\t\\t\\t\\t\\t\\t\\t - Serbia\\n Batushka: European Fall Tour 2023\\n 4\\n 29.03\\t\\t\\t\\t\\t\\t\\t\\t\\t\\t\\t - Czech Republic\\n Judas Priest: European Tour 2024\\n 4\\n 18.11\\t\\t\\t\\t\\t\\t\\t\\t\\t\\t\\t - Czech Republic\\n Insomnium: European Tour 2023\\n 3\\n 09.11\\t\\t\\t\\t\\t\\t\\t\\t\\t\\t\\t - Czech Republic\\n Sigh: 30 Years Of Eastern Darkness European Tour 2023\\n 2\\n 10.11\\t\\t\\t\\t\\t\\t\\t\\t\\t\\t\\t - Slovak Republic\\n Amorphis: Halo European Tour 2023\\n 2\\n 10.11\\t\\t\\t\\t\\t\\t\\t\\t\\t\\t\\t - Mexico\\n Mexico Metal Fest VII\\n 2\\n 04.11\\t\\t\\t\\t\\t\\t\\t\\t\\t\\t\\t - The Netherlands\\n Dutch Doom Days XXI\\n 2\\n Show more\\n Members:\\n 8\\n Ansercanagicus\\n bj_waters\\n Crawltipede\\n Elisyon\\n nightbreed\\n Pavel_K\\n Syd\\n Zyk\\n Guests:\\n 937\\n Musicians\\' birthdays:\\n 40 -\\n Abilio \"Bil\" Martins\\n 36 -\\n Alberts Mednis\\n 44 -\\n Alex Landenburg\\n 44 -\\n Alexander \"Alex\" Shuster\\n 45 -\\n Alexis Xanthopoulos\\n 51 -\\n António Gião\\n 43 -\\n Björn Thorup\\n 54 -\\n Bob Crolla\\n 77 -\\n Christopher \"Chris\" Rees\\n 31 -\\n Daniel Kitchka\\n 57 -\\n Daniel Zimmermann\\n 49 -\\n Dario D\\'Alessandro\\n 45 -\\n David \"Dave\" Zwanzger\\n 32 -\\n Erik Hemingsen\\n 33 -\\n Erik Molnar\\n 30 -\\n Francesco Torresi\\n 58 -\\n Gavin Rossdale\\n 37 -\\n Igor Rodrigues\\n 49 -\\n Johnny Gordon\\n 34 -\\n Mark Michell\\n 49 -\\n Martin Henriksson\\n 37 -\\n Mathieu Vanlandtschoote\\n 46 -\\n Maurizio Malta\\n 48 -\\n Olaf Langner\\n 33 -\\n Sam Vos\\n 49 -\\n Sam Williams\\n 45 -\\n Scott Sorry\\n 64 -\\n Tito García\\n 47 -\\n Tobias\\n 28 -\\n Vsevolod Stupichev\\n RIP:\\n 2015 -\\n Adrian Rugina\\n 2013 -\\n Alejandro Del Río Álvarez\\n 2019 -\\n Brenden James Gunn\\n 2006 -\\n Ian William Rilen\\n 2015 -\\n Mihai Alexandru\\n 2015 -\\n Vlad Țelea\\n Charts\\n Top of 2023\\n Top 200\\n 1.\\n Sulphur Aeon\\n Seven Crowns And Seven Seals\\n 2.\\n On Thorns I Lay\\n On Thorns I Lay\\n 3.\\n Primordial\\n How It Ends\\n 4.\\n October Tide\\n The Cancer Pledge\\n 5.\\n Moonlight Sorcery\\n Horned Lord Of The Thorned Castle\\n 6.\\n Sorcerer\\n Reign Of The Reaper\\n 7.\\n Décembre Noir\\n Your Sunset / My Sunrise\\n 8.\\n Stortregn\\n Finitude\\n 9.\\n Fortíð\\n Narkissos\\n 10.\\n Carnifex\\n Necromanteum\\n Show more\\n 1.\\n Megadeth\\n Rust In Peace\\n 2.\\n Death\\n Symbolic\\n 3.\\n Judas Priest\\n Painkiller\\n 4.\\n Opeth\\n Blackwater Park\\n 5.\\n Metallica\\n Ride The Lightning\\n 6.\\n Metallica\\n Master Of Puppets\\n 7.\\n Black Sabbath\\n Paranoid\\n 8.\\n Iron Maiden\\n Powerslave\\n 9.\\n Agalloch\\n The Mantle\\n 10.\\n Death\\n The Sound Of Perseverance\\n Show more\\n 1.\\n Fires In The Distance\\n Air Not Meant For Us\\n 2.\\n Ne Obliviscaris\\n Exul\\n 3.\\n Moonlight Sorcery\\n Horned Lord Of The Thorned Castle\\n 4.\\n Cattle Decapitation\\n Terrasite\\n 5.\\n Sworn\\n A Journey Told Through Fire\\n 6.\\n Hellripper\\n Warlocks Grim & Withered Hags\\n 7.\\n On Thorns I Lay\\n On Thorns I Lay\\n 8.\\n Insomnium\\n Anno 1696\\n 9.\\n Thy Catafalque\\n Alföld\\n 10.\\n Sulphur Aeon\\n Seven Crowns And Seven Seals\\n Show more\\n Korn - See You On The Other Side review\\n Index\\n |\\n Updates\\n |\\n Popular\\n |\\n Queue\\n |\\n RSS\\n |\\n A\\n B\\n C\\n D\\n E\\n F\\n G\\n H\\n I\\n J\\n K\\n L\\n M\\n N\\n O\\n P\\n Q\\n R\\n S\\n T\\n U\\n V\\n W\\n X\\n Y\\n Z\\n Reviewer:\\n 8.3\\n 374 users:\\n 6.03\\n Band:\\n Korn\\n Album:\\n See You On The Other Side\\n Release date:\\n December 2005\\n Disc I\\n 01.\\n Twisted Transistor\\n 02.\\n Politics\\n 03.\\n Hypocrites\\n 04.\\n Souvenir\\n 05.\\n 10 Or A 2-Way\\n 06.\\n Throw Me Away\\n 07.\\n Love Song\\n 08.\\n Open Up\\n 09.\\n Coming Undone\\n 10.\\n Getting Off\\n 11.\\n Liar\\n 12.\\n For No One\\n 13.\\n Seen It All\\n 14.\\n Tearjerker\\n 15.\\n Too Late I\\'m Dead\\n [Japanese deluxe edition bonus]\\n Disc II\\n Deluxe Edition & Japanese Deluxe Edition\\n 01.\\n It\\'s Me Again\\n 02.\\n Eaten Up Inside\\n 03.\\n Last Legal Drug (Le Petit Mort)\\n 04.\\n Twisted Transistor\\n [The Dante Ross Mix]\\n 05.\\n Twisted Transistor\\n [Dummies Club Mix]\\n +\\n Twisted Transistor\\n [video]\\n [Live In Moscow]\\n +\\n Hypocrites\\n [video]\\n [Live In Moscow]\\n +\\n One Year Membership To KoRn BSC Fan Club featuring exclusive behind-the-scenes media content, Korn community membership with personal home page and blog, pre-sale ticket access for the Korn tour\\n [deluxe edition bonus]\\n +\\n Password access to two digital download tracks at Best Buy Exclusive!\\n [deluxe edition bonus]\\n +\\n One Year Membership To KoRn BSC Fan Club with two books, first with texts of songs in English and Japanese, and second with pictures\\n [japanese deluxe edition bonus]\\n I\\'m not a huge fan of nu-metal right now, but\\n Korn\\n used to be a favourite of mine. They\\'ve been trying to re-invent themselves for a while now, from the electronic beats and strings on Untouchables to the hard-hitting\\n Take A Look In The Mirror\\n , to the borderline-electronica of the untitled album. But I still think that this album, where\\n Korn\\n went industrial, was their most successful attempt at reinvention yet, and made the untitled album even more disappointing.\\n Firstly,\\n Korn\\n brought on two big-name producers - Atticus Ross, of the band 12 Rounds, and at that point working with\\n Nine Inch Nails\\n ; and the Matrix, a group whose clients have included Hilary Duff and Avril Lavigne. Jonathan Davis also steps behind the boards, as he\\'s done for every\\n Korn\\n album since\\n Follow The Leader\\n (bar\\n Issues\\n ). While hardcore\\n Korn\\n devotees gnash their teeth at having their heroes in proximity to Hilary Duff\\'s schlockmeisters, it worked. Take lead single \"Twisted Transistor\", for example. It\\'s laden with pop hooks, Munky\\'s simple riff takes center stage, and Jonathan Davis isn\\'t singing with rage, but rather with a kind of morbid happiness. Amazingly, this is one of the best songs they\\'ve written in a while, grinding away with thick industrial rhythms and morbid imagery of sex and violence (\"hold it between your legs, turn it up, turn it up\"; the distorted growl of \"This won\\'t hurt a bit\" near the end). This is\\n Korn\\n , and pop for them is anything but fun.\\n \"Twisted Transistor\" and the other two singles, \"Coming Undone\" and \"Politics\", take center stage on this album. \"Coming Undone\" is another one of their better songs, stripped-down, crunchy and stomping away, reminiscent of\\n Take A Look In The Mirror\\n . \"Politics\" is another pointed stomp, but there\\'s some wonderful synth ambience courtesy of Atticus Ross, and Davis\\' rant about not caring about politics is really quite useful for this day and age. Three of\\n Korn\\n \\'s better singles, to be sure, but there\\'s some other gems buried in the mix. Davis\\' contorted vocals sound, not filled with rage and vengeance as they did on Follow Your Leader, but more three-dimensional, able to express more emotion. And with Head\\'s departure, the three remaining members besides Davis sound downright vengeful, Munky\\'s sizzling seven-string attack, Fieldy\\'s slinky, funky basslines and David Silveria\\'s pounding rhythms beating the songs into your head.\\n The album tracks are just as good. Sure, there are some failed experiments - they try a bit too hard to be\\n Nine Inch Nails\\n on \"Throw Me Away\", \"Seen It All\" doesn\\'t blend its influence successfully, and the bonus track \"Eaten Up Inside\" is just that bit too slick - but hey, there\\'s some great ones too. The\\n Nine Inch Nails\\n influence works on the synth-rock rhythms of \"Open Up\", and the heavy metallic grind of \"Liar\" and \"Getting Off\" remind me somewhat of\\n Follow The Leader\\n .\\n Overall\\n See You On The Other Side\\n is a good album, with a few mediocre tracks. But hey,\\n Korn\\n have reinvented themselves, and very nicely at that. Actually, on further reflection, it might be their best album. Their follow-up, on the other hand, is their worst...but that\\'s for another time.\\n Written by\\n [insert name]\\n | 09.10.2009\\n Tweet\\n !function(d,s,id){var js,fjs=d.getElementsByTagName(s)[0],p=/^https:/.test(d.location)?\\'http\\':\\'https\\';if(!d.getElementById(id)){js=d.createElement(s);js.id=id;js.src=p+\\'://platform.twitter.com/widgets.js\\';fjs.parentNode.insertBefore(js,fjs);}}(document, \\'script\\', \\'twitter-wjs\\');\\n function fbs_click() {u=location.href;t=document.title;window.open(\\'https://www.facebook.com/sharer.php?u=\\'+encodeURIComponent(u)+\\'&t=\\'+encodeURIComponent(t),\\'sharer\\',\\'toolbar=0,status=0,width=626,height=436\\');return false;}\\n Guest review disclaimer:\\n This is a guest review, which means it does not necessarily represent the point of view of the MS Staff.\\n Staff review by\\n jupitreas\\n Rating:\\n N/A\\n Rating:\\n N/A\\n What a lot of you people don\\'t get is that Korn is a band that has been striving hard to remain creatively relevant even though, by the mysterious whims of the gods of popular culture, they found themselves at the center of mainstream attention. There are many such bands that become extremely popular even though their music is non-conventional and non-conformist. All of a sudden, the band is thrown into the dog-eat-dog realm of the mainstream, dominated by plastically engineered music designed to satisfy the statistical and non-demanding MTV audience. At this point, a lot of bands just switch to automatic and release more of what made them popular without ever trying to push the envelope any more (and if they do, they tend to make music so removed from the trends in the underground that it can be seen as a joke, at best). Surviving in such a world is not such an easy thing to do and most bands end up destroying themselves, either creatively (Metallica) or literally (Nirvana). I am happy to say that some minor missteps aside, Korn seems to be coping with their popularity just fine and the new album See You On The Other Side is for the most part a very rewarding and interesting listen.\\n Read more\\n ››\\n published\\n 08.12.2005\\n |\\n Comments\\n (\\n 23\\n )\\n Comments\\n ‹‹\\n Back to Reviews\\n Comments:\\n 2\\n Visited by:\\n 64 users\\n BenWasHere\\n Posts:\\n 123\\n From:\\n USA\\n 09.10.2009 - 21:27\\n Rating:\\n 10\\n BenWasHere\\n Posts:\\n 123\\n From:\\n USA\\n At least someone else thinks like me\\n Loading...\\n HelloMe\\n Posts:\\n 12\\n From:\\n Chile\\n 02.07.2011 - 04:01\\n HelloMe\\n Posts:\\n 12\\n From:\\n Chile\\n Bad album\\n Loading...\\n Hits total:\\n 3802\\n | This month:\\n 25\\n Useful links\\n Contact us\\n |\\n Staff\\n |\\n FAQ\\n |\\n Privacy\\n Join us on\\n ©2000-2023 Metal Storm\\n original design & programming by\\n Ivan\\n currently maintained by\\n corrupt\\n Are you sure?\\n OK\\n Cancel\\n $(document).ready(function(){\\n\\t\\t// Save screen width to PHP session\\n\\t\\tvar windowWidth = window.innerWidth && document.documentElement.clientWidth ? \\n\\t\\t\\tMath.min(window.innerWidth, document.documentElement.clientWidth) : \\n\\t\\t\\twindow.innerWidth || \\n\\t\\t\\tdocument.documentElement.clientWidth || \\n\\t\\t\\tdocument.getElementsByTagName(\\'body\\')[0].clientWidth;\\n\\t\\tvar windowWidthSession = null;\\n\\t\\tif(windowWidth!=windowWidthSession) {\\n\\t\\t\\tresolution_change(windowWidth);\\n\\t\\t}\\n\\t\\t\\n\\t\\t// Show privacy consent if expired\\n\\t\\tvar forcedPrivacyConsent = false;\\n\\t\\tif(forcedPrivacyConsent) {\\n\\t\\t\\tshowPrivacyConsent(1);\\n\\t\\t}\\n\\t});\\n'"
      ]
     },
     "execution_count": 4,
     "metadata": {},
     "output_type": "execute_result"
    }
   ],
   "source": [
    "sbe.extract_visible_text(new_line_separator = '\\n')"
   ]
  },
  {
   "cell_type": "code",
   "execution_count": 5,
   "metadata": {},
   "outputs": [
    {
     "name": "stdout",
     "output_type": "stream",
     "text": [
      "I'm not a huge fan of nu-metal right now, but Korn used to be a favourite of mine. They've been trying to re-invent themselves for a while now, from the electronic beats and strings on Untouchables to the hard-hitting Take A Look In The Mirror, to the borderline-electronica of the untitled album. But I still think that this album, where Korn went industrial, was their most successful attempt at reinvention yet, and made the untitled album even more disappointing. \n",
      "\n",
      "Firstly, Korn brought on two big-name producers - Atticus Ross, of the band 12 Rounds, and at that point working with Nine Inch Nails; and the Matrix, a group whose clients have included Hilary Duff and Avril Lavigne. Jonathan Davis also steps behind the boards, as he's done for every Korn album since Follow The Leader (bar Issues). While hardcore Korn devotees gnash their teeth at having their heroes in proximity to Hilary Duff's schlockmeisters, it worked. Take lead single \"Twisted Transistor\", for example. It's laden with pop hooks, Munky's simple riff takes center stage, and Jonathan Davis isn't singing with rage, but rather with a kind of morbid happiness. Amazingly, this is one of the best songs they've written in a while, grinding away with thick industrial rhythms and morbid imagery of sex and violence (\"hold it between your legs, turn it up, turn it up\"; the distorted growl of \"This won't hurt a bit\" near the end). This is Korn, and pop for them is anything but fun. \n",
      "\n",
      "\"Twisted Transistor\" and the other two singles, \"Coming Undone\" and \"Politics\", take center stage on this album. \"Coming Undone\" is another one of their better songs, stripped-down, crunchy and stomping away, reminiscent of Take A Look In The Mirror. \"Politics\" is another pointed stomp, but there's some wonderful synth ambience courtesy of Atticus Ross, and Davis' rant about not caring about politics is really quite useful for this day and age. Three of Korn's better singles, to be sure, but there's some other gems buried in the mix. Davis' contorted vocals sound, not filled with rage and vengeance as they did on Follow Your Leader, but more three-dimensional, able to express more emotion. And with Head's departure, the three remaining members besides Davis sound downright vengeful, Munky's sizzling seven-string attack, Fieldy's slinky, funky basslines and David Silveria's pounding rhythms beating the songs into your head. \n",
      "\n",
      "The album tracks are just as good. Sure, there are some failed experiments - they try a bit too hard to be Nine Inch Nails on \"Throw Me Away\", \"Seen It All\" doesn't blend its influence successfully, and the bonus track \"Eaten Up Inside\" is just that bit too slick - but hey, there's some great ones too. The Nine Inch Nails influence works on the synth-rock rhythms of \"Open Up\", and the heavy metallic grind of \"Liar\" and \"Getting Off\" remind me somewhat of Follow The Leader. \n",
      "\n",
      "Overall See You On The Other Side is a good album, with a few mediocre tracks. But hey, Korn have reinvented themselves, and very nicely at that. Actually, on further reflection, it might be their best album. Their follow-up, on the other hand, is their worst...but that's for another time.\n",
      "\n"
     ]
    }
   ],
   "source": [
    "print(sbe.extract_from_path(search_text_start=\"I'm not a huge fan of nu-metal right now\",\n",
    "                            search_text_end=\"Written by\"))"
   ]
  },
  {
   "cell_type": "code",
   "execution_count": 6,
   "metadata": {},
   "outputs": [
    {
     "name": "stderr",
     "output_type": "stream",
     "text": [
      "INFO:SearchBasedExtractor:Data saved to 'recorded_sbe.json'\n"
     ]
    }
   ],
   "source": [
    "sbe.save_recorded_sbe()"
   ]
  },
  {
   "cell_type": "code",
   "execution_count": 7,
   "metadata": {},
   "outputs": [
    {
     "name": "stdout",
     "output_type": "stream",
     "text": [
      "Link: https://metalstorm.net/pub/review.php?review_id=7207\n",
      "Searched Text: I'm not a huge fan of nu-metal right now\n",
      "Path: [['[document]', 0], ['html', 0], ['body', 0], ['div', 1], ['div', 1], ['div', 0], ['div', 0], ['div', 2], ['div', 0], ['div', 0], ['div', 1]]\n"
     ]
    }
   ],
   "source": [
    "sbe.show_recorded_sbe()"
   ]
  },
  {
   "cell_type": "code",
   "execution_count": 9,
   "metadata": {},
   "outputs": [
    {
     "name": "stderr",
     "output_type": "stream",
     "text": [
      "INFO:SearchBasedExtractor:Path loaded from recorded_sbe.json\n"
     ]
    }
   ],
   "source": [
    "sbe = SearchBasedExtractor()\n",
    "sbe.initialize_soup(link = 'https://metalstorm.net/pub/review.php?review_id=16350', reset=True)\n",
    "sbe.load_recorded_sbe()"
   ]
  },
  {
   "cell_type": "code",
   "execution_count": 10,
   "metadata": {},
   "outputs": [
    {
     "name": "stdout",
     "output_type": "stream",
     "text": [
      "\n",
      "\n",
      "Reviewer:\n",
      "7.8330 users:\n",
      "8.24\n",
      "\n",
      "\n",
      "\n",
      "\n",
      "Band:\n",
      "\n",
      "Mors Principium Est\n",
      "\n",
      "\n",
      "\n",
      "Album:\n",
      "\n",
      "\n",
      "Seven\n",
      "\n",
      "\n",
      "\n",
      "Release date:\n",
      "\n",
      " October 2020\n",
      "\n",
      "01. A Day For Redemption02. Lost In A Starless Aeon03. In Frozen Fields04. March To War05. Rebirth06. Reverence07. Master Of The Dead08. The Everlong Night09. At The Shores Of Silver Sand10. My Home, My GraveMors Principium Est are one of the most reliable bands in melodeath, and Seven has no plans of changing that reputation. \n",
      "\n",
      "In contrast to their compatriots in Insomnium and Omnium Gatherum, Mors Principium Est veer away from the melancholic melodeath sound associated with Finland and instead take a somewhat more Gothenburg-rooted approach, albeit with increased technicality and a more symphonic approach from the keyboards compared with the likes of Dark Tranquillity; there's certainly a hint of the extreme power sound of Kalmah or Children Of Bodom somewhere in there (although the Dark Tranquillity is strong on \"The Everlong Night\" here). Whilst they've not quite developed the followings that the biggest Gothenburg or Finnish melodeath groups have accumulated, each new record has been hotly anticipated and well-received, meaning that the group enter their seventh record, helpfully titled Seven, with a lot of momentum behind them.\n",
      "\n",
      "The formula here is very much the same as on the previous couple of records, although the dalliances with more Gothic territory that popped up on previous record Embers Of A Dying World have not been carried over onto Seven. The album is for the most part (the interlude \"Reverence\" being the only notable exception) one up-tempo melodeath celebration of riffs and hooky guitar licks after another; the band elect not to begin with a standalone short introductory symphonic track this time around, instead packaging said dramatic intro into \"A Day For Redemption\" alongside the very classic-sounding melodeath song that follows. The emphatic, ear-catching guitar leads, energetic and technically minded riffs and symphonic interjections; everything you would expect from the opening track of a Mors Principium Est is here and ready to feed hungry fans. \"Lost In A Starless Aeon\" carries on much the same, the verses peppered with exciting harmonized guitar arpeggios and the chorus instantly memorable.\n",
      "\n",
      "\"Lost In A Starless Aeon\" is an early highlight, but it's not the only quality track here. Most of my other top picks lurk towards the end of the album. \"Master Of The Dead\" has some solid riffs and effective use of synths, as well as probably the most memorable solo on the record, although the sweeps on \"At The Shores Of Silver Sand\" may rival it for that title. Probably the most consistently attention-grabbing song for me, however, was closer \"My Home, My Grave\"; the chorus on this song is the only one outside of that in \"Lost In A Starless Aeon\" that stuck with me each time the album, a perfect combination Finnish melodeath guitar leads, suspenseful chords and ripping vocals. It was the one track that I've found myself getting excited over as soon as it started each time I've run through Seven, and it makes for a pretty epic conclusion to the record.\n",
      "\n",
      "So, Seven offers more of the classic Mors Principium Est sound, and does it well. However, I'm not sure it's the best rendition of it; having revisited their previous two records in between replays of this, I find the tracks on Dawn Of The 5th Era and Embers Of A Dying World more consistently memorable than those on Seven. I feel like including some of the diversity that those Gothic tangents on their last record offered would have helped with that, as without something like that, a lot of tracks here do blend together, despite little flourishes such as the big symphonic opening to \"March To War\" that offer brief changes in pace; each song in isolation sounds good and enjoyable, but together in a row, it feels like hearing the same guitar leads and riffs slightly reworked on a song-to-song basis, particularly due to the frantic, technical nature of the riffs.\n",
      "\n",
      "I can see this being considered slightly nitpicky; plenty of bands in melodeath and death metal fill their records with songs all in the same style, and if it's a band with as strong a sound as Mors Principium Est putting out a bunch of new songs all in their signature style, it's hard to see big fans of the group complaining. However, as someone with a passing rather than vested interest in Mors Principium Est, the combination of the lack of variety and the lack of especially memorable hooks (fast melodic riffs such as those found in abundance here sound very cool, but it's hard to remember one when you're barraged with dozens that sound very similar) does mean that on the times that I wish to revisit the group, Seven isn't likely to be the album I feel most strongly inclined to put on. Nevertheless, for those that just want to hear Mors Principium Est be Mors Principium Est, I would be surprised if Seven does not scratch that itch in a highly satisfying manner.\n",
      "\n",
      "Rating breakdown\n",
      "\n",
      "\n",
      "Performance:\n",
      "\n",
      "9\n",
      "\n",
      "\n",
      "Songwriting:\n",
      "\n",
      "7\n",
      "\n",
      "\n",
      "Originality:\n",
      "\n",
      "6\n",
      "\n",
      "\n",
      "Production:\n",
      "\n",
      "9\n",
      "\n",
      " \n",
      "\n",
      "Tweet\n",
      "\n",
      "\n",
      "\n",
      "\n",
      "\n",
      "\n",
      "\n",
      "\n",
      "\n",
      "\n",
      "\n",
      "\n",
      "\n",
      "\n",
      "\n",
      "\n",
      "\n",
      "\n",
      "\n",
      "\n",
      "\n",
      "Written on 25.10.2020 by\n",
      "musclassia\n",
      "\t\t\t\t\t\tHey chief let's talk why not\n",
      "\t\t\t\t\t\t\n",
      "\t\t\t\t\t\n",
      "\n",
      "\n",
      "\n",
      "More reviews by musclassia ››\n",
      "\n",
      "\n"
     ]
    }
   ],
   "source": [
    "print(sbe.extract_from_path())"
   ]
  },
  {
   "cell_type": "code",
   "execution_count": 11,
   "metadata": {},
   "outputs": [
    {
     "name": "stdout",
     "output_type": "stream",
     "text": [
      "Mors Principium Est are one of the most reliable bands in melodeath, and Seven has no plans of changing that reputation. \n",
      "\n",
      "In contrast to their compatriots in Insomnium and Omnium Gatherum, Mors Principium Est veer away from the melancholic melodeath sound associated with Finland and instead take a somewhat more Gothenburg-rooted approach, albeit with increased technicality and a more symphonic approach from the keyboards compared with the likes of Dark Tranquillity; there's certainly a hint of the extreme power sound of Kalmah or Children Of Bodom somewhere in there (although the Dark Tranquillity is strong on \"The Everlong Night\" here). Whilst they've not quite developed the followings that the biggest Gothenburg or Finnish melodeath groups have accumulated, each new record has been hotly anticipated and well-received, meaning that the group enter their seventh record, helpfully titled Seven, with a lot of momentum behind them.\n",
      "\n",
      "The formula here is very much the same as on the previous couple of records, although the dalliances with more Gothic territory that popped up on previous record Embers Of A Dying World have not been carried over onto Seven. The album is for the most part (the interlude \"Reverence\" being the only notable exception) one up-tempo melodeath celebration of riffs and hooky guitar licks after another; the band elect not to begin with a standalone short introductory symphonic track this time around, instead packaging said dramatic intro into \"A Day For Redemption\" alongside the very classic-sounding melodeath song that follows. The emphatic, ear-catching guitar leads, energetic and technically minded riffs and symphonic interjections; everything you would expect from the opening track of a Mors Principium Est is here and ready to feed hungry fans. \"Lost In A Starless Aeon\" carries on much the same, the verses peppered with exciting harmonized guitar arpeggios and the chorus instantly memorable.\n",
      "\n",
      "\"Lost In A Starless Aeon\" is an early highlight, but it's not the only quality track here. Most of my other top picks lurk towards the end of the album. \"Master Of The Dead\" has some solid riffs and effective use of synths, as well as probably the most memorable solo on the record, although the sweeps on \"At The Shores Of Silver Sand\" may rival it for that title. Probably the most consistently attention-grabbing song for me, however, was closer \"My Home, My Grave\"; the chorus on this song is the only one outside of that in \"Lost In A Starless Aeon\" that stuck with me each time the album, a perfect combination Finnish melodeath guitar leads, suspenseful chords and ripping vocals. It was the one track that I've found myself getting excited over as soon as it started each time I've run through Seven, and it makes for a pretty epic conclusion to the record.\n",
      "\n",
      "So, Seven offers more of the classic Mors Principium Est sound, and does it well. However, I'm not sure it's the best rendition of it; having revisited their previous two records in between replays of this, I find the tracks on Dawn Of The 5th Era and Embers Of A Dying World more consistently memorable than those on Seven. I feel like including some of the diversity that those Gothic tangents on their last record offered would have helped with that, as without something like that, a lot of tracks here do blend together, despite little flourishes such as the big symphonic opening to \"March To War\" that offer brief changes in pace; each song in isolation sounds good and enjoyable, but together in a row, it feels like hearing the same guitar leads and riffs slightly reworked on a song-to-song basis, particularly due to the frantic, technical nature of the riffs.\n",
      "\n",
      "I can see this being considered slightly nitpicky; plenty of bands in melodeath and death metal fill their records with songs all in the same style, and if it's a band with as strong a sound as Mors Principium Est putting out a bunch of new songs all in their signature style, it's hard to see big fans of the group complaining. However, as someone with a passing rather than vested interest in Mors Principium Est, the combination of the lack of variety and the lack of especially memorable hooks (fast melodic riffs such as those found in abundance here sound very cool, but it's hard to remember one when you're barraged with dozens that sound very similar) does mean that on the times that I wish to revisit the group, Seven isn't likely to be the album I feel most strongly inclined to put on. Nevertheless, for those that just want to hear Mors Principium Est be Mors Principium Est, I would be surprised if Seven does not scratch that itch in a highly satisfying manner.\n",
      "\n",
      "Rating breakdown\n",
      "\n",
      "\n",
      "P\n"
     ]
    }
   ],
   "source": [
    "print(sbe.extract_from_path(search_text_start=\"are one of the most reliable bands in melodeath\", \n",
    "                            search_text_end=\"Rating breakdown\",\n",
    "                            context_len= 20))"
   ]
  }
 ],
 "metadata": {
  "kernelspec": {
   "display_name": "mscraper",
   "language": "python",
   "name": "python3"
  },
  "language_info": {
   "codemirror_mode": {
    "name": "ipython",
    "version": 3
   },
   "file_extension": ".py",
   "mimetype": "text/x-python",
   "name": "python",
   "nbconvert_exporter": "python",
   "pygments_lexer": "ipython3",
   "version": "3.10.12"
  },
  "orig_nbformat": 4
 },
 "nbformat": 4,
 "nbformat_minor": 2
}
