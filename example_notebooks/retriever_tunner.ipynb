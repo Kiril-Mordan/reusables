{
 "cells": [
  {
   "cell_type": "markdown",
   "metadata": {},
   "source": [
    "# Retriever tunner\n",
    "\n",
    "A simple tool to compare and tune retriever performance, given a desired ranking to strive for. \n",
    "The goal is to provide a simple metric to measure how a given retriever is close to the 'ideal', generated for example\n",
    "with a use of more expensive, slower or simply no-existant method. "
   ]
  },
  {
   "cell_type": "code",
   "execution_count": 1,
   "metadata": {},
   "outputs": [],
   "source": [
    "import sys\n",
    "sys.path.append('../')\n",
    "from python_modules.retriever_tunner import RetrieverTunner"
   ]
  },
  {
   "cell_type": "markdown",
   "metadata": {},
   "source": [
    "### 1. Downloading test data"
   ]
  },
  {
   "cell_type": "code",
   "execution_count": 2,
   "metadata": {},
   "outputs": [
    {
     "name": "stderr",
     "output_type": "stream",
     "text": [
      "[nltk_data] Downloading package brown to\n",
      "[nltk_data]     /Users/insani_dei/nltk_data...\n",
      "[nltk_data]   Package brown is already up-to-date!\n",
      "[nltk_data] Downloading package punkt to\n",
      "[nltk_data]     /Users/insani_dei/nltk_data...\n",
      "[nltk_data]   Package punkt is already up-to-date!\n"
     ]
    },
    {
     "name": "stdout",
     "output_type": "stream",
     "text": [
      "Number of sentences: 56601\n",
      "First few sentences:\n",
      "The Fulton County Grand Jury said Friday an investigation of Atlanta's recent primary election produced `` no evidence '' that any irregularities took place .\n",
      "The jury further said in term-end presentments that the City Executive Committee , which had over-all charge of the election , `` deserves the praise and thanks of the City of Atlanta '' for the manner in which the election was conducted .\n",
      "The September-October term jury had been charged by Fulton Superior Court Judge Durwood Pye to investigate reports of possible `` irregularities '' in the hard-fought primary which was won by Mayor-nominate Ivan Allen Jr. .\n",
      "`` Only a relative handful of such reports was received '' , the jury said , `` considering the widespread interest in the election , the number of voters and the size of this city '' .\n",
      "The jury said it did find that many of Georgia's registration and election laws `` are outmoded or inadequate and often ambiguous '' .\n"
     ]
    }
   ],
   "source": [
    "import nltk\n",
    "from nltk.corpus import brown\n",
    "\n",
    "# Download the necessary datasets from NLTK\n",
    "nltk.download('brown')\n",
    "nltk.download('punkt')\n",
    "\n",
    "# Load the Brown Corpus as plain text\n",
    "brown_corpus_text = ' '.join(brown.words())\n",
    "\n",
    "# Split the corpus into sentences\n",
    "sentences = nltk.sent_tokenize(brown_corpus_text)\n",
    "\n",
    "# Display the number of sentences and first few sentences as a sample\n",
    "print(f\"Number of sentences: {len(sentences)}\")\n",
    "print(\"First few sentences:\")\n",
    "for sentence in sentences[:5]:\n",
    "    print(sentence)"
   ]
  },
  {
   "cell_type": "markdown",
   "metadata": {},
   "source": [
    "### 2. Initialize RetrieverTunner"
   ]
  },
  {
   "cell_type": "code",
   "execution_count": 3,
   "metadata": {},
   "outputs": [],
   "source": [
    "rt = RetrieverTunner(\n",
    "    # optional/ required\n",
    "    search_values_list = sentences[0:2000],\n",
    "    target_ranking_name = 'all-mpnet-base-v2',\n",
    "    embedding_model_names = ['paraphrase-multilingual-mpnet-base-v2',\n",
    "                             'all-mpnet-base-v2', \n",
    "                             'multi-qa-mpnet-base-dot-v1', \n",
    "                             'all-MiniLM-L6-v2'],\n",
    "    # optional\n",
    "    similarity_search_h_params = {'processing_type' : 'parallel',\n",
    "                                                  'max_workers' : 8,\n",
    "                                                   'tbatch_size' : 1000},\n",
    "    n_random_queries = 100,\n",
    "    seed = 23,\n",
    "    metrics_params = {'n_results' : [1,3,5,10],   \n",
    "                      'ceilings' : [10],\n",
    "                      'prep_types' : ['correction', 'ceiling'],\n",
    "                      'weights_ratio' : 0.6,\n",
    "                      'weights_sum' : 1,\n",
    "                      'inverted' : True},\n",
    "    # for plotting\n",
    "    plots_params = {'top_n' : 3,\n",
    "                    'text_lim' : 10,\n",
    "                    'alpha' : 0.5,\n",
    "                    'save_comp_plot' : False}\n",
    "    )\n"
   ]
  },
  {
   "cell_type": "markdown",
   "metadata": {},
   "source": [
    "### 3. Construct ranking"
   ]
  },
  {
   "cell_type": "code",
   "execution_count": 4,
   "metadata": {},
   "outputs": [],
   "source": [
    "rt.construct_rankings(\n",
    "    # optional\n",
    "    queries = rt.queries,\n",
    "    queries_filters = None,\n",
    "    search_values_dicts = None,\n",
    "    search_values_list = rt.search_values_list,\n",
    "    model_names = rt.embedding_model_names,\n",
    "    handlers = rt.sim_search_handlers\n",
    ")"
   ]
  },
  {
   "cell_type": "markdown",
   "metadata": {},
   "source": [
    "### 4. Make scores"
   ]
  },
  {
   "cell_type": "code",
   "execution_count": 5,
   "metadata": {},
   "outputs": [
    {
     "data": {
      "text/plain": [
       "{'all-mpnet-base-v2|paraphrase-multilingual-mpnet-base-v2': {'rdm|1|100|correction': 1.0,\n",
       "  'rdm|2|100|correction': 0.5072,\n",
       "  'rdm|100|100|correction': 0.0},\n",
       " 'all-mpnet-base-v2|multi-qa-mpnet-base-dot-v1': {'rdm|1|100|correction': 0.99,\n",
       "  'rdm|2|100|correction': 0.5348,\n",
       "  'rdm|100|100|correction': 0.0},\n",
       " 'all-mpnet-base-v2|all-MiniLM-L6-v2': {'rdm|1|100|correction': 0.99,\n",
       "  'rdm|2|100|correction': 0.5136000000000001,\n",
       "  'rdm|100|100|correction': 0.0}}"
      ]
     },
     "execution_count": 5,
     "metadata": {},
     "output_type": "execute_result"
    }
   ],
   "source": [
    "rt.make_scores_dict(\n",
    "    # optional\n",
    "    target_ranking = rt.ranking_dicts[rt.target_ranking_name],\n",
    "    compared_rankings = {ranking : rt.ranking_dicts[ranking] for ranking in rt.embedding_model_names \\\n",
    "                if ranking != rt.target_ranking_name},\n",
    "    n_results = [1,2], \n",
    "    ceilings=[], \n",
    "    prep_types=['correction'],\n",
    "    weights_ratio=0.8, # weight skewed to right\n",
    "    weights_sum = rt.metrics_params['weights_sum'],\n",
    "    inverted = True)"
   ]
  },
  {
   "cell_type": "markdown",
   "metadata": {},
   "source": [
    "### 5. Plot rankings"
   ]
  },
  {
   "cell_type": "code",
   "execution_count": 10,
   "metadata": {},
   "outputs": [
    {
     "data": {
      "application/vnd.plotly.v1+json": {
       "config": {
        "plotlyServerURL": "https://plot.ly"
       },
       "data": [
        {
         "marker": {
          "opacity": 0.5
         },
         "mode": "markers",
         "name": "He said th",
         "type": "scatter",
         "x": [
          1894,
          1874,
          1870
         ],
         "y": [
          1894,
          1874,
          1870
         ]
        },
        {
         "marker": {
          "opacity": 0.5
         },
         "mode": "markers",
         "name": "`` Usually",
         "type": "scatter",
         "x": [
          1596,
          1592,
          1601
         ],
         "y": [
          1596,
          1592,
          1695
         ]
        },
        {
         "marker": {
          "opacity": 0.5
         },
         "mode": "markers",
         "name": "Robinson t",
         "type": "scatter",
         "x": [
          1942,
          1943,
          1939
         ],
         "y": [
          1942,
          1943,
          1944
         ]
        },
        {
         "marker": {
          "opacity": 0.5
         },
         "mode": "markers",
         "name": "`` I'm a m",
         "type": "scatter",
         "x": [
          593,
          592,
          913
         ],
         "y": [
          593,
          592,
          912
         ]
        },
        {
         "marker": {
          "opacity": 0.5
         },
         "mode": "markers",
         "name": "Each had b",
         "type": "scatter",
         "x": [
          1827,
          1786,
          747
         ],
         "y": [
          1827,
          1284,
          79
         ]
        },
        {
         "marker": {
          "opacity": 0.5
         },
         "mode": "markers",
         "name": "Mrs. Arthu",
         "type": "scatter",
         "x": [
          1699,
          1727,
          1631
         ],
         "y": [
          1699,
          1727,
          1726
         ]
        },
        {
         "marker": {
          "opacity": 0.5
         },
         "mode": "markers",
         "name": "Dr. Clark ",
         "type": "scatter",
         "x": [
          171,
          167,
          170
         ],
         "y": [
          171,
          167,
          170
         ]
        },
        {
         "marker": {
          "opacity": 0.5
         },
         "mode": "markers",
         "name": "Aj .",
         "type": "scatter",
         "x": [
          34,
          1836,
          1632
         ],
         "y": [
          34,
          1573,
          1750
         ]
        },
        {
         "marker": {
          "opacity": 0.5
         },
         "mode": "markers",
         "name": "Gauer work",
         "type": "scatter",
         "x": [
          1212,
          1276,
          1282
         ],
         "y": [
          1212,
          1474,
          543
         ]
        },
        {
         "marker": {
          "opacity": 0.5
         },
         "mode": "markers",
         "name": "The three ",
         "type": "scatter",
         "x": [
          628,
          618,
          630
         ],
         "y": [
          628,
          618,
          630
         ]
        },
        {
         "marker": {
          "opacity": 0.5
         },
         "mode": "markers",
         "name": "Last week ",
         "type": "scatter",
         "x": [
          867,
          868,
          845
         ],
         "y": [
          867,
          868,
          894
         ]
        },
        {
         "marker": {
          "opacity": 0.5
         },
         "mode": "markers",
         "name": "Backs high",
         "type": "scatter",
         "x": [
          776,
          764,
          763
         ],
         "y": [
          776,
          763,
          778
         ]
        },
        {
         "marker": {
          "opacity": 0.5
         },
         "mode": "markers",
         "name": "`` Our int",
         "type": "scatter",
         "x": [
          1085,
          1086,
          1088
         ],
         "y": [
          1085,
          1086,
          1101
         ]
        },
        {
         "marker": {
          "opacity": 0.5
         },
         "mode": "markers",
         "name": "Managing D",
         "type": "scatter",
         "x": [
          733,
          537,
          529
         ],
         "y": [
          733,
          846,
          819
         ]
        },
        {
         "marker": {
          "opacity": 0.5
         },
         "mode": "markers",
         "name": "Legislator",
         "type": "scatter",
         "x": [
          266,
          223,
          269
         ],
         "y": [
          266,
          223,
          240
         ]
        },
        {
         "marker": {
          "opacity": 0.5
         },
         "mode": "markers",
         "name": "Miss Burke",
         "type": "scatter",
         "x": [
          1486,
          1474,
          1480
         ],
         "y": [
          1486,
          1485,
          1480
         ]
        },
        {
         "marker": {
          "opacity": 0.5
         },
         "mode": "markers",
         "name": "The only d",
         "type": "scatter",
         "x": [
          393,
          392,
          396
         ],
         "y": [
          393,
          396,
          1192
         ]
        },
        {
         "marker": {
          "opacity": 0.5
         },
         "mode": "markers",
         "name": "The Mayor ",
         "type": "scatter",
         "x": [
          547,
          1316,
          545
         ],
         "y": [
          547,
          532,
          643
         ]
        },
        {
         "marker": {
          "opacity": 0.5
         },
         "mode": "markers",
         "name": "A capsule ",
         "type": "scatter",
         "x": [
          910,
          907,
          912
         ],
         "y": [
          910,
          907,
          912
         ]
        },
        {
         "marker": {
          "opacity": 0.5
         },
         "mode": "markers",
         "name": "They have ",
         "type": "scatter",
         "x": [
          28,
          1446,
          1655
         ],
         "y": [
          28,
          1742,
          1446
         ]
        },
        {
         "marker": {
          "opacity": 0.5
         },
         "mode": "markers",
         "name": "Regrets at",
         "type": "scatter",
         "x": [
          452,
          465,
          441
         ],
         "y": [
          452,
          469,
          465
         ]
        },
        {
         "marker": {
          "opacity": 0.5
         },
         "mode": "markers",
         "name": "A couple o",
         "type": "scatter",
         "x": [
          1270,
          1311,
          1266
         ],
         "y": [
          1270,
          1008,
          1009
         ]
        },
        {
         "marker": {
          "opacity": 0.5
         },
         "mode": "markers",
         "name": "Three were",
         "type": "scatter",
         "x": [
          931,
          973,
          936
         ],
         "y": [
          931,
          973,
          936
         ]
        },
        {
         "marker": {
          "opacity": 0.5
         },
         "mode": "markers",
         "name": "From the o",
         "type": "scatter",
         "x": [
          1846,
          1845,
          271
         ],
         "y": [
          1846,
          1845,
          273
         ]
        },
        {
         "marker": {
          "opacity": 0.5
         },
         "mode": "markers",
         "name": "He will be",
         "type": "scatter",
         "x": [
          50,
          1209,
          39
         ],
         "y": [
          50,
          166,
          51
         ]
        },
        {
         "marker": {
          "opacity": 0.5
         },
         "mode": "markers",
         "name": "Wexler had",
         "type": "scatter",
         "x": [
          216,
          208,
          209
         ],
         "y": [
          216,
          209,
          220
         ]
        },
        {
         "marker": {
          "opacity": 0.5
         },
         "mode": "markers",
         "name": "Chester O.",
         "type": "scatter",
         "x": [
          175,
          1741,
          1828
         ],
         "y": [
          175,
          1959,
          1505
         ]
        },
        {
         "marker": {
          "opacity": 0.5
         },
         "mode": "markers",
         "name": "Mrs. Henry",
         "type": "scatter",
         "x": [
          1454,
          1668,
          1579
         ],
         "y": [
          1454,
          1579,
          1668
         ]
        },
        {
         "marker": {
          "opacity": 0.5
         },
         "mode": "markers",
         "name": "I never di",
         "type": "scatter",
         "x": [
          1020,
          1019,
          1053
         ],
         "y": [
          1020,
          1019,
          1023
         ]
        },
        {
         "marker": {
          "opacity": 0.5
         },
         "mode": "markers",
         "name": "On Friday ",
         "type": "scatter",
         "x": [
          862,
          828,
          863
         ],
         "y": [
          862,
          828,
          863
         ]
        },
        {
         "marker": {
          "opacity": 0.5
         },
         "mode": "markers",
         "name": "Georgia Re",
         "type": "scatter",
         "x": [
          40,
          46,
          44
         ],
         "y": [
          40,
          42,
          46
         ]
        },
        {
         "marker": {
          "opacity": 0.5
         },
         "mode": "markers",
         "name": "`` He knoc",
         "type": "scatter",
         "x": [
          1049,
          1120,
          1387
         ],
         "y": [
          1049,
          1281,
          1282
         ]
        },
        {
         "marker": {
          "opacity": 0.5
         },
         "mode": "markers",
         "name": "So he woun",
         "type": "scatter",
         "x": [
          1285,
          1297,
          1286
         ],
         "y": [
          1285,
          1270,
          1297
         ]
        },
        {
         "marker": {
          "opacity": 0.5
         },
         "mode": "markers",
         "name": "He's been ",
         "type": "scatter",
         "x": [
          1503,
          1809,
          1502
         ],
         "y": [
          1503,
          1064,
          1809
         ]
        },
        {
         "marker": {
          "opacity": 0.5
         },
         "mode": "markers",
         "name": "The change",
         "type": "scatter",
         "x": [
          883,
          884,
          882
         ],
         "y": [
          883,
          887,
          5
         ]
        },
        {
         "marker": {
          "opacity": 0.5
         },
         "mode": "markers",
         "name": "Concern ba",
         "type": "scatter",
         "x": [
          735,
          736,
          512
         ],
         "y": [
          735,
          736,
          740
         ]
        },
        {
         "marker": {
          "opacity": 0.5
         },
         "mode": "markers",
         "name": "Mrs. Roger",
         "type": "scatter",
         "x": [
          1578,
          1744,
          1645
         ],
         "y": [
          1578,
          1744,
          1755
         ]
        },
        {
         "marker": {
          "opacity": 0.5
         },
         "mode": "markers",
         "name": "While deta",
         "type": "scatter",
         "x": [
          117,
          116,
          418
         ],
         "y": [
          117,
          116,
          143
         ]
        },
        {
         "marker": {
          "opacity": 0.5
         },
         "mode": "markers",
         "name": "He assured",
         "type": "scatter",
         "x": [
          421,
          385,
          855
         ],
         "y": [
          421,
          416,
          414
         ]
        },
        {
         "marker": {
          "opacity": 0.5
         },
         "mode": "markers",
         "name": "In another",
         "type": "scatter",
         "x": [
          1603,
          1605,
          1602
         ],
         "y": [
          1603,
          1602,
          1610
         ]
        },
        {
         "marker": {
          "opacity": 0.5
         },
         "mode": "markers",
         "name": "Barber , w",
         "type": "scatter",
         "x": [
          72,
          74,
          71
         ],
         "y": [
          72,
          74,
          570
         ]
        },
        {
         "marker": {
          "opacity": 0.5
         },
         "mode": "markers",
         "name": "Only Bucky",
         "type": "scatter",
         "x": [
          1206,
          1205,
          1177
         ],
         "y": [
          1206,
          1178,
          1414
         ]
        },
        {
         "marker": {
          "opacity": 0.5
         },
         "mode": "markers",
         "name": "know enoug",
         "type": "scatter",
         "x": [
          755,
          749,
          752
         ],
         "y": [
          755,
          752,
          749
         ]
        },
        {
         "marker": {
          "opacity": 0.5
         },
         "mode": "markers",
         "name": "After a le",
         "type": "scatter",
         "x": [
          1347,
          1346,
          1349
         ],
         "y": [
          1347,
          1346,
          1349
         ]
        },
        {
         "marker": {
          "opacity": 0.5
         },
         "mode": "markers",
         "name": "His sense ",
         "type": "scatter",
         "x": [
          352,
          346,
          350
         ],
         "y": [
          352,
          346,
          348
         ]
        },
        {
         "marker": {
          "opacity": 0.5
         },
         "mode": "markers",
         "name": "It made hi",
         "type": "scatter",
         "x": [
          1271,
          1275,
          1324
         ],
         "y": [
          1271,
          1156,
          449
         ]
        },
        {
         "marker": {
          "opacity": 0.5
         },
         "mode": "markers",
         "name": "It was gre",
         "type": "scatter",
         "x": [
          442,
          857,
          275
         ],
         "y": [
          442,
          648,
          857
         ]
        },
        {
         "marker": {
          "opacity": 0.5
         },
         "mode": "markers",
         "name": "Services t",
         "type": "scatter",
         "x": [
          1988,
          1987,
          1998
         ],
         "y": [
          1988,
          1487,
          1987
         ]
        },
        {
         "marker": {
          "opacity": 0.5
         },
         "mode": "markers",
         "name": "As we bull",
         "type": "scatter",
         "x": [
          1505,
          1436,
          1629
         ],
         "y": [
          1505,
          1436,
          1485
         ]
        },
        {
         "marker": {
          "opacity": 0.5
         },
         "mode": "markers",
         "name": "The contra",
         "type": "scatter",
         "x": [
          742,
          743,
          729
         ],
         "y": [
          742,
          741,
          743
         ]
        },
        {
         "marker": {
          "opacity": 0.5
         },
         "mode": "markers",
         "name": "He said he",
         "type": "scatter",
         "x": [
          1158,
          1157,
          1150
         ],
         "y": [
          1158,
          73,
          538
         ]
        },
        {
         "marker": {
          "opacity": 0.5
         },
         "mode": "markers",
         "name": "Gene Marsh",
         "type": "scatter",
         "x": [
          1556,
          1553,
          1340
         ],
         "y": [
          1556,
          1553,
          1247
         ]
        },
        {
         "marker": {
          "opacity": 0.5
         },
         "mode": "markers",
         "name": "When the A",
         "type": "scatter",
         "x": [
          1761,
          1645,
          1661
         ],
         "y": [
          1761,
          1489,
          1705
         ]
        },
        {
         "marker": {
          "opacity": 0.5
         },
         "mode": "markers",
         "name": "Some 30 sp",
         "type": "scatter",
         "x": [
          1983,
          1984,
          217
         ],
         "y": [
          1983,
          1978,
          1979
         ]
        },
        {
         "marker": {
          "opacity": 0.5
         },
         "mode": "markers",
         "name": "Yes , with",
         "type": "scatter",
         "x": [
          1171,
          880,
          1580
         ],
         "y": [
          1171,
          1719,
          1727
         ]
        },
        {
         "marker": {
          "opacity": 0.5
         },
         "mode": "markers",
         "name": "The educat",
         "type": "scatter",
         "x": [
          576,
          580,
          139
         ],
         "y": [
          576,
          580,
          139
         ]
        },
        {
         "marker": {
          "opacity": 0.5
         },
         "mode": "markers",
         "name": "`` Lindy M",
         "type": "scatter",
         "x": [
          1352,
          1355,
          1362
         ],
         "y": [
          1352,
          1362,
          937
         ]
        },
        {
         "marker": {
          "opacity": 0.5
         },
         "mode": "markers",
         "name": "Kowalski ,",
         "type": "scatter",
         "x": [
          1996,
          1824,
          1998
         ],
         "y": [
          1996,
          1998,
          1941
         ]
        },
        {
         "marker": {
          "opacity": 0.5
         },
         "mode": "markers",
         "name": "But from a",
         "type": "scatter",
         "x": [
          643,
          1673,
          306
         ],
         "y": [
          643,
          666,
          101
         ]
        },
        {
         "marker": {
          "opacity": 0.5
         },
         "mode": "markers",
         "name": "I remember",
         "type": "scatter",
         "x": [
          1173,
          1418,
          1133
         ],
         "y": [
          1173,
          1023,
          1194
         ]
        },
        {
         "marker": {
          "opacity": 0.5
         },
         "mode": "markers",
         "name": "The women ",
         "type": "scatter",
         "x": [
          1667,
          1753,
          1721
         ],
         "y": [
          1667,
          1690,
          1452
         ]
        },
        {
         "marker": {
          "opacity": 0.5
         },
         "mode": "markers",
         "name": "The 22-yea",
         "type": "scatter",
         "x": [
          970,
          172,
          953
         ],
         "y": [
          970,
          1108,
          956
         ]
        },
        {
         "marker": {
          "opacity": 0.5
         },
         "mode": "markers",
         "name": "Along with",
         "type": "scatter",
         "x": [
          363,
          374,
          354
         ],
         "y": [
          363,
          374,
          354
         ]
        },
        {
         "marker": {
          "opacity": 0.5
         },
         "mode": "markers",
         "name": "!",
         "type": "scatter",
         "x": [
          1470,
          1521,
          1624
         ],
         "y": [
          1470,
          1541,
          1521
         ]
        },
        {
         "marker": {
          "opacity": 0.5
         },
         "mode": "markers",
         "name": "She was mo",
         "type": "scatter",
         "x": [
          989,
          1258,
          256
         ],
         "y": [
          989,
          256,
          1258
         ]
        },
        {
         "marker": {
          "opacity": 0.5
         },
         "mode": "markers",
         "name": "He succeed",
         "type": "scatter",
         "x": [
          1209,
          50,
          39
         ],
         "y": [
          1209,
          1226,
          1220
         ]
        },
        {
         "marker": {
          "opacity": 0.5
         },
         "mode": "markers",
         "name": "Some even ",
         "type": "scatter",
         "x": [
          1620,
          1619,
          1610
         ],
         "y": [
          1620,
          1619,
          1610
         ]
        },
        {
         "marker": {
          "opacity": 0.5
         },
         "mode": "markers",
         "name": "Denials we",
         "type": "scatter",
         "x": [
          916,
          915,
          203
         ],
         "y": [
          916,
          191,
          917
         ]
        },
        {
         "marker": {
          "opacity": 0.5
         },
         "mode": "markers",
         "name": "They knew ",
         "type": "scatter",
         "x": [
          1383,
          1382,
          1917
         ],
         "y": [
          1383,
          758,
          1045
         ]
        },
        {
         "marker": {
          "opacity": 0.5
         },
         "mode": "markers",
         "name": "Asked Palm",
         "type": "scatter",
         "x": [
          1315,
          449,
          1273
         ],
         "y": [
          1315,
          449,
          1323
         ]
        },
        {
         "marker": {
          "opacity": 0.5
         },
         "mode": "markers",
         "name": "And after ",
         "type": "scatter",
         "x": [
          335,
          334,
          24
         ],
         "y": [
          335,
          621,
          334
         ]
        },
        {
         "marker": {
          "opacity": 0.5
         },
         "mode": "markers",
         "name": "Mr. Hawksl",
         "type": "scatter",
         "x": [
          372,
          369,
          623
         ],
         "y": [
          372,
          369,
          364
         ]
        },
        {
         "marker": {
          "opacity": 0.5
         },
         "mode": "markers",
         "name": "Miss Joan ",
         "type": "scatter",
         "x": [
          1636,
          1653,
          1637
         ],
         "y": [
          1636,
          1653,
          1637
         ]
        },
        {
         "marker": {
          "opacity": 0.5
         },
         "mode": "markers",
         "name": "One advant",
         "type": "scatter",
         "x": [
          365,
          354,
          359
         ],
         "y": [
          365,
          354,
          457
         ]
        },
        {
         "marker": {
          "opacity": 0.5
         },
         "mode": "markers",
         "name": "He was cal",
         "type": "scatter",
         "x": [
          1092,
          1277,
          1023
         ],
         "y": [
          1092,
          1182,
          1019
         ]
        },
        {
         "marker": {
          "opacity": 0.5
         },
         "mode": "markers",
         "name": "Division s",
         "type": "scatter",
         "x": [
          662,
          661,
          659
         ],
         "y": [
          662,
          661,
          295
         ]
        },
        {
         "marker": {
          "opacity": 0.5
         },
         "mode": "markers",
         "name": "The most v",
         "type": "scatter",
         "x": [
          1379,
          1380,
          1262
         ],
         "y": [
          1379,
          1387,
          944
         ]
        },
        {
         "marker": {
          "opacity": 0.5
         },
         "mode": "markers",
         "name": "We've been",
         "type": "scatter",
         "x": [
          1670,
          1070,
          1069
         ],
         "y": [
          1670,
          1070,
          1069
         ]
        },
        {
         "marker": {
          "opacity": 0.5
         },
         "mode": "markers",
         "name": "Rice has n",
         "type": "scatter",
         "x": [
          1065,
          1060,
          1073
         ],
         "y": [
          1065,
          1013,
          1073
         ]
        },
        {
         "marker": {
          "opacity": 0.5
         },
         "mode": "markers",
         "name": "He suggest",
         "type": "scatter",
         "x": [
          400,
          43,
          520
         ],
         "y": [
          400,
          83,
          485
         ]
        },
        {
         "marker": {
          "opacity": 0.5
         },
         "mode": "markers",
         "name": "There are ",
         "type": "scatter",
         "x": [
          1192,
          565,
          430
         ],
         "y": [
          1192,
          1070,
          393
         ]
        },
        {
         "marker": {
          "opacity": 0.5
         },
         "mode": "markers",
         "name": "Nursing ho",
         "type": "scatter",
         "x": [
          234,
          235,
          236
         ],
         "y": [
          234,
          236,
          235
         ]
        },
        {
         "marker": {
          "opacity": 0.5
         },
         "mode": "markers",
         "name": "He also re",
         "type": "scatter",
         "x": [
          168,
          634,
          828
         ],
         "y": [
          168,
          167,
          171
         ]
        },
        {
         "marker": {
          "opacity": 0.5
         },
         "mode": "markers",
         "name": "Decisions ",
         "type": "scatter",
         "x": [
          201,
          202,
          200
         ],
         "y": [
          201,
          202,
          908
         ]
        },
        {
         "marker": {
          "opacity": 0.5
         },
         "mode": "markers",
         "name": "Other spea",
         "type": "scatter",
         "x": [
          872,
          1265,
          870
         ],
         "y": [
          872,
          1580,
          1265
         ]
        },
        {
         "marker": {
          "opacity": 0.5
         },
         "mode": "markers",
         "name": "Ordinary C",
         "type": "scatter",
         "x": [
          79,
          88,
          87
         ],
         "y": [
          79,
          88,
          87
         ]
        },
        {
         "marker": {
          "opacity": 0.5
         },
         "mode": "markers",
         "name": "Just when ",
         "type": "scatter",
         "x": [
          1163,
          1412,
          1186
         ],
         "y": [
          1163,
          1186,
          1165
         ]
        },
        {
         "marker": {
          "opacity": 0.5
         },
         "mode": "markers",
         "name": "An assista",
         "type": "scatter",
         "x": [
          564,
          388,
          351
         ],
         "y": [
          564,
          652,
          825
         ]
        },
        {
         "marker": {
          "opacity": 0.5
         },
         "mode": "markers",
         "name": "They , on ",
         "type": "scatter",
         "x": [
          1925,
          1924,
          1932
         ],
         "y": [
          1925,
          1924,
          1932
         ]
        },
        {
         "marker": {
          "opacity": 0.5
         },
         "mode": "markers",
         "name": "The $6,100",
         "type": "scatter",
         "x": [
          574,
          568,
          514
         ],
         "y": [
          574,
          568,
          514
         ]
        },
        {
         "marker": {
          "opacity": 0.5
         },
         "mode": "markers",
         "name": "But we hav",
         "type": "scatter",
         "x": [
          1680,
          1676,
          1684
         ],
         "y": [
          1680,
          1676,
          1684
         ]
        },
        {
         "marker": {
          "opacity": 0.5
         },
         "mode": "markers",
         "name": "Skorich re",
         "type": "scatter",
         "x": [
          1208,
          1220,
          1771
         ],
         "y": [
          1208,
          1220,
          1227
         ]
        },
        {
         "marker": {
          "opacity": 0.5
         },
         "mode": "markers",
         "name": "Districts ",
         "type": "scatter",
         "x": [
          677,
          679,
          721
         ],
         "y": [
          677,
          679,
          717
         ]
        },
        {
         "marker": {
          "opacity": 0.5
         },
         "mode": "markers",
         "name": "The aged c",
         "type": "scatter",
         "x": [
          223,
          266,
          221
         ],
         "y": [
          223,
          266,
          239
         ]
        },
        {
         "marker": {
          "opacity": 0.5
         },
         "mode": "markers",
         "name": "`` We want",
         "type": "scatter",
         "x": [
          757,
          759,
          758
         ],
         "y": [
          757,
          758,
          759
         ]
        },
        {
         "marker": {
          "opacity": 0.5
         },
         "mode": "markers",
         "name": "Now 38 , M",
         "type": "scatter",
         "x": [
          1843,
          1845,
          1842
         ],
         "y": [
          1843,
          1845,
          1842
         ]
        },
        {
         "marker": {
          "opacity": 0.5
         },
         "mode": "markers",
         "name": "The U. S. ",
         "type": "scatter",
         "x": [
          590,
          591,
          575
         ],
         "y": [
          590,
          591,
          842
         ]
        },
        {
         "marker": {
          "opacity": 0.5
         },
         "mode": "markers",
         "name": "Dick McAul",
         "type": "scatter",
         "x": [
          1110,
          1114,
          1111
         ],
         "y": [
          1110,
          1114,
          1111
         ]
        },
        {
         "marker": {
          "opacity": 0.5
         },
         "mode": "markers",
         "name": "Tactics st",
         "type": "scatter",
         "x": [
          624,
          304,
          298
         ],
         "y": [
          624,
          293,
          298
         ]
        },
        {
         "marker": {
          "opacity": 0.5
         },
         "mode": "markers",
         "name": "Her husban",
         "type": "scatter",
         "x": [
          1832,
          1831,
          1794
         ],
         "y": [
          1832,
          1831,
          1971
         ]
        }
       ],
       "layout": {
        "template": {
         "data": {
          "bar": [
           {
            "error_x": {
             "color": "#2a3f5f"
            },
            "error_y": {
             "color": "#2a3f5f"
            },
            "marker": {
             "line": {
              "color": "#E5ECF6",
              "width": 0.5
             },
             "pattern": {
              "fillmode": "overlay",
              "size": 10,
              "solidity": 0.2
             }
            },
            "type": "bar"
           }
          ],
          "barpolar": [
           {
            "marker": {
             "line": {
              "color": "#E5ECF6",
              "width": 0.5
             },
             "pattern": {
              "fillmode": "overlay",
              "size": 10,
              "solidity": 0.2
             }
            },
            "type": "barpolar"
           }
          ],
          "carpet": [
           {
            "aaxis": {
             "endlinecolor": "#2a3f5f",
             "gridcolor": "white",
             "linecolor": "white",
             "minorgridcolor": "white",
             "startlinecolor": "#2a3f5f"
            },
            "baxis": {
             "endlinecolor": "#2a3f5f",
             "gridcolor": "white",
             "linecolor": "white",
             "minorgridcolor": "white",
             "startlinecolor": "#2a3f5f"
            },
            "type": "carpet"
           }
          ],
          "choropleth": [
           {
            "colorbar": {
             "outlinewidth": 0,
             "ticks": ""
            },
            "type": "choropleth"
           }
          ],
          "contour": [
           {
            "colorbar": {
             "outlinewidth": 0,
             "ticks": ""
            },
            "colorscale": [
             [
              0,
              "#0d0887"
             ],
             [
              0.1111111111111111,
              "#46039f"
             ],
             [
              0.2222222222222222,
              "#7201a8"
             ],
             [
              0.3333333333333333,
              "#9c179e"
             ],
             [
              0.4444444444444444,
              "#bd3786"
             ],
             [
              0.5555555555555556,
              "#d8576b"
             ],
             [
              0.6666666666666666,
              "#ed7953"
             ],
             [
              0.7777777777777778,
              "#fb9f3a"
             ],
             [
              0.8888888888888888,
              "#fdca26"
             ],
             [
              1,
              "#f0f921"
             ]
            ],
            "type": "contour"
           }
          ],
          "contourcarpet": [
           {
            "colorbar": {
             "outlinewidth": 0,
             "ticks": ""
            },
            "type": "contourcarpet"
           }
          ],
          "heatmap": [
           {
            "colorbar": {
             "outlinewidth": 0,
             "ticks": ""
            },
            "colorscale": [
             [
              0,
              "#0d0887"
             ],
             [
              0.1111111111111111,
              "#46039f"
             ],
             [
              0.2222222222222222,
              "#7201a8"
             ],
             [
              0.3333333333333333,
              "#9c179e"
             ],
             [
              0.4444444444444444,
              "#bd3786"
             ],
             [
              0.5555555555555556,
              "#d8576b"
             ],
             [
              0.6666666666666666,
              "#ed7953"
             ],
             [
              0.7777777777777778,
              "#fb9f3a"
             ],
             [
              0.8888888888888888,
              "#fdca26"
             ],
             [
              1,
              "#f0f921"
             ]
            ],
            "type": "heatmap"
           }
          ],
          "heatmapgl": [
           {
            "colorbar": {
             "outlinewidth": 0,
             "ticks": ""
            },
            "colorscale": [
             [
              0,
              "#0d0887"
             ],
             [
              0.1111111111111111,
              "#46039f"
             ],
             [
              0.2222222222222222,
              "#7201a8"
             ],
             [
              0.3333333333333333,
              "#9c179e"
             ],
             [
              0.4444444444444444,
              "#bd3786"
             ],
             [
              0.5555555555555556,
              "#d8576b"
             ],
             [
              0.6666666666666666,
              "#ed7953"
             ],
             [
              0.7777777777777778,
              "#fb9f3a"
             ],
             [
              0.8888888888888888,
              "#fdca26"
             ],
             [
              1,
              "#f0f921"
             ]
            ],
            "type": "heatmapgl"
           }
          ],
          "histogram": [
           {
            "marker": {
             "pattern": {
              "fillmode": "overlay",
              "size": 10,
              "solidity": 0.2
             }
            },
            "type": "histogram"
           }
          ],
          "histogram2d": [
           {
            "colorbar": {
             "outlinewidth": 0,
             "ticks": ""
            },
            "colorscale": [
             [
              0,
              "#0d0887"
             ],
             [
              0.1111111111111111,
              "#46039f"
             ],
             [
              0.2222222222222222,
              "#7201a8"
             ],
             [
              0.3333333333333333,
              "#9c179e"
             ],
             [
              0.4444444444444444,
              "#bd3786"
             ],
             [
              0.5555555555555556,
              "#d8576b"
             ],
             [
              0.6666666666666666,
              "#ed7953"
             ],
             [
              0.7777777777777778,
              "#fb9f3a"
             ],
             [
              0.8888888888888888,
              "#fdca26"
             ],
             [
              1,
              "#f0f921"
             ]
            ],
            "type": "histogram2d"
           }
          ],
          "histogram2dcontour": [
           {
            "colorbar": {
             "outlinewidth": 0,
             "ticks": ""
            },
            "colorscale": [
             [
              0,
              "#0d0887"
             ],
             [
              0.1111111111111111,
              "#46039f"
             ],
             [
              0.2222222222222222,
              "#7201a8"
             ],
             [
              0.3333333333333333,
              "#9c179e"
             ],
             [
              0.4444444444444444,
              "#bd3786"
             ],
             [
              0.5555555555555556,
              "#d8576b"
             ],
             [
              0.6666666666666666,
              "#ed7953"
             ],
             [
              0.7777777777777778,
              "#fb9f3a"
             ],
             [
              0.8888888888888888,
              "#fdca26"
             ],
             [
              1,
              "#f0f921"
             ]
            ],
            "type": "histogram2dcontour"
           }
          ],
          "mesh3d": [
           {
            "colorbar": {
             "outlinewidth": 0,
             "ticks": ""
            },
            "type": "mesh3d"
           }
          ],
          "parcoords": [
           {
            "line": {
             "colorbar": {
              "outlinewidth": 0,
              "ticks": ""
             }
            },
            "type": "parcoords"
           }
          ],
          "pie": [
           {
            "automargin": true,
            "type": "pie"
           }
          ],
          "scatter": [
           {
            "fillpattern": {
             "fillmode": "overlay",
             "size": 10,
             "solidity": 0.2
            },
            "type": "scatter"
           }
          ],
          "scatter3d": [
           {
            "line": {
             "colorbar": {
              "outlinewidth": 0,
              "ticks": ""
             }
            },
            "marker": {
             "colorbar": {
              "outlinewidth": 0,
              "ticks": ""
             }
            },
            "type": "scatter3d"
           }
          ],
          "scattercarpet": [
           {
            "marker": {
             "colorbar": {
              "outlinewidth": 0,
              "ticks": ""
             }
            },
            "type": "scattercarpet"
           }
          ],
          "scattergeo": [
           {
            "marker": {
             "colorbar": {
              "outlinewidth": 0,
              "ticks": ""
             }
            },
            "type": "scattergeo"
           }
          ],
          "scattergl": [
           {
            "marker": {
             "colorbar": {
              "outlinewidth": 0,
              "ticks": ""
             }
            },
            "type": "scattergl"
           }
          ],
          "scattermapbox": [
           {
            "marker": {
             "colorbar": {
              "outlinewidth": 0,
              "ticks": ""
             }
            },
            "type": "scattermapbox"
           }
          ],
          "scatterpolar": [
           {
            "marker": {
             "colorbar": {
              "outlinewidth": 0,
              "ticks": ""
             }
            },
            "type": "scatterpolar"
           }
          ],
          "scatterpolargl": [
           {
            "marker": {
             "colorbar": {
              "outlinewidth": 0,
              "ticks": ""
             }
            },
            "type": "scatterpolargl"
           }
          ],
          "scatterternary": [
           {
            "marker": {
             "colorbar": {
              "outlinewidth": 0,
              "ticks": ""
             }
            },
            "type": "scatterternary"
           }
          ],
          "surface": [
           {
            "colorbar": {
             "outlinewidth": 0,
             "ticks": ""
            },
            "colorscale": [
             [
              0,
              "#0d0887"
             ],
             [
              0.1111111111111111,
              "#46039f"
             ],
             [
              0.2222222222222222,
              "#7201a8"
             ],
             [
              0.3333333333333333,
              "#9c179e"
             ],
             [
              0.4444444444444444,
              "#bd3786"
             ],
             [
              0.5555555555555556,
              "#d8576b"
             ],
             [
              0.6666666666666666,
              "#ed7953"
             ],
             [
              0.7777777777777778,
              "#fb9f3a"
             ],
             [
              0.8888888888888888,
              "#fdca26"
             ],
             [
              1,
              "#f0f921"
             ]
            ],
            "type": "surface"
           }
          ],
          "table": [
           {
            "cells": {
             "fill": {
              "color": "#EBF0F8"
             },
             "line": {
              "color": "white"
             }
            },
            "header": {
             "fill": {
              "color": "#C8D4E3"
             },
             "line": {
              "color": "white"
             }
            },
            "type": "table"
           }
          ]
         },
         "layout": {
          "annotationdefaults": {
           "arrowcolor": "#2a3f5f",
           "arrowhead": 0,
           "arrowwidth": 1
          },
          "autotypenumbers": "strict",
          "coloraxis": {
           "colorbar": {
            "outlinewidth": 0,
            "ticks": ""
           }
          },
          "colorscale": {
           "diverging": [
            [
             0,
             "#8e0152"
            ],
            [
             0.1,
             "#c51b7d"
            ],
            [
             0.2,
             "#de77ae"
            ],
            [
             0.3,
             "#f1b6da"
            ],
            [
             0.4,
             "#fde0ef"
            ],
            [
             0.5,
             "#f7f7f7"
            ],
            [
             0.6,
             "#e6f5d0"
            ],
            [
             0.7,
             "#b8e186"
            ],
            [
             0.8,
             "#7fbc41"
            ],
            [
             0.9,
             "#4d9221"
            ],
            [
             1,
             "#276419"
            ]
           ],
           "sequential": [
            [
             0,
             "#0d0887"
            ],
            [
             0.1111111111111111,
             "#46039f"
            ],
            [
             0.2222222222222222,
             "#7201a8"
            ],
            [
             0.3333333333333333,
             "#9c179e"
            ],
            [
             0.4444444444444444,
             "#bd3786"
            ],
            [
             0.5555555555555556,
             "#d8576b"
            ],
            [
             0.6666666666666666,
             "#ed7953"
            ],
            [
             0.7777777777777778,
             "#fb9f3a"
            ],
            [
             0.8888888888888888,
             "#fdca26"
            ],
            [
             1,
             "#f0f921"
            ]
           ],
           "sequentialminus": [
            [
             0,
             "#0d0887"
            ],
            [
             0.1111111111111111,
             "#46039f"
            ],
            [
             0.2222222222222222,
             "#7201a8"
            ],
            [
             0.3333333333333333,
             "#9c179e"
            ],
            [
             0.4444444444444444,
             "#bd3786"
            ],
            [
             0.5555555555555556,
             "#d8576b"
            ],
            [
             0.6666666666666666,
             "#ed7953"
            ],
            [
             0.7777777777777778,
             "#fb9f3a"
            ],
            [
             0.8888888888888888,
             "#fdca26"
            ],
            [
             1,
             "#f0f921"
            ]
           ]
          },
          "colorway": [
           "#636efa",
           "#EF553B",
           "#00cc96",
           "#ab63fa",
           "#FFA15A",
           "#19d3f3",
           "#FF6692",
           "#B6E880",
           "#FF97FF",
           "#FECB52"
          ],
          "font": {
           "color": "#2a3f5f"
          },
          "geo": {
           "bgcolor": "white",
           "lakecolor": "white",
           "landcolor": "#E5ECF6",
           "showlakes": true,
           "showland": true,
           "subunitcolor": "white"
          },
          "hoverlabel": {
           "align": "left"
          },
          "hovermode": "closest",
          "mapbox": {
           "style": "light"
          },
          "paper_bgcolor": "white",
          "plot_bgcolor": "#E5ECF6",
          "polar": {
           "angularaxis": {
            "gridcolor": "white",
            "linecolor": "white",
            "ticks": ""
           },
           "bgcolor": "#E5ECF6",
           "radialaxis": {
            "gridcolor": "white",
            "linecolor": "white",
            "ticks": ""
           }
          },
          "scene": {
           "xaxis": {
            "backgroundcolor": "#E5ECF6",
            "gridcolor": "white",
            "gridwidth": 2,
            "linecolor": "white",
            "showbackground": true,
            "ticks": "",
            "zerolinecolor": "white"
           },
           "yaxis": {
            "backgroundcolor": "#E5ECF6",
            "gridcolor": "white",
            "gridwidth": 2,
            "linecolor": "white",
            "showbackground": true,
            "ticks": "",
            "zerolinecolor": "white"
           },
           "zaxis": {
            "backgroundcolor": "#E5ECF6",
            "gridcolor": "white",
            "gridwidth": 2,
            "linecolor": "white",
            "showbackground": true,
            "ticks": "",
            "zerolinecolor": "white"
           }
          },
          "shapedefaults": {
           "line": {
            "color": "#2a3f5f"
           }
          },
          "ternary": {
           "aaxis": {
            "gridcolor": "white",
            "linecolor": "white",
            "ticks": ""
           },
           "baxis": {
            "gridcolor": "white",
            "linecolor": "white",
            "ticks": ""
           },
           "bgcolor": "#E5ECF6",
           "caxis": {
            "gridcolor": "white",
            "linecolor": "white",
            "ticks": ""
           }
          },
          "title": {
           "x": 0.05
          },
          "xaxis": {
           "automargin": true,
           "gridcolor": "white",
           "linecolor": "white",
           "ticks": "",
           "title": {
            "standoff": 15
           },
           "zerolinecolor": "white",
           "zerolinewidth": 2
          },
          "yaxis": {
           "automargin": true,
           "gridcolor": "white",
           "linecolor": "white",
           "ticks": "",
           "title": {
            "standoff": 15
           },
           "zerolinecolor": "white",
           "zerolinewidth": 2
          }
         }
        },
        "title": {
         "text": "Comparison of all-mpnet-base-v2 vs paraphrase-multilingual-mpnet-base-v2"
        },
        "xaxis": {
         "anchor": "y",
         "domain": [
          0,
          1
         ],
         "title": {
          "text": "all-mpnet-base-v2"
         }
        },
        "yaxis": {
         "anchor": "x",
         "domain": [
          0,
          1
         ],
         "title": {
          "text": "paraphrase-multilingual-mpnet-base-v2"
         }
        }
       }
      }
     },
     "metadata": {},
     "output_type": "display_data"
    }
   ],
   "source": [
    "rt.show_model_comparison_plot(\n",
    "    # optional\n",
    "    ranking_dicts = rt.ranking_dicts,\n",
    "    target_model = rt.target_ranking_name,\n",
    "    compared_model = 'paraphrase-multilingual-mpnet-base-v2',\n",
    "    top_n = 3, \n",
    "    alpha = 0.5,\n",
    "    text_lim = rt.plots_params['text_lim']\n",
    ")"
   ]
  },
  {
   "cell_type": "code",
   "execution_count": 8,
   "metadata": {},
   "outputs": [
    {
     "data": {
      "application/vnd.plotly.v1+json": {
       "config": {
        "plotlyServerURL": "https://plot.ly"
       },
       "data": [
        {
         "marker": {
          "opacity": 0.5
         },
         "mode": "markers",
         "name": "He said th",
         "type": "scatter",
         "x": [
          1894,
          1874,
          1870
         ],
         "y": [
          1894,
          1874,
          1870
         ]
        },
        {
         "marker": {
          "opacity": 0.5
         },
         "mode": "markers",
         "name": "`` Usually",
         "type": "scatter",
         "x": [
          1596,
          1592,
          1601
         ],
         "y": [
          1596,
          1592,
          1695
         ]
        },
        {
         "marker": {
          "opacity": 0.5
         },
         "mode": "markers",
         "name": "Robinson t",
         "type": "scatter",
         "x": [
          1942,
          1943,
          1939
         ],
         "y": [
          1942,
          1943,
          1944
         ]
        },
        {
         "marker": {
          "opacity": 0.5
         },
         "mode": "markers",
         "name": "`` I'm a m",
         "type": "scatter",
         "x": [
          593,
          592,
          913
         ],
         "y": [
          593,
          592,
          912
         ]
        },
        {
         "marker": {
          "opacity": 0.5
         },
         "mode": "markers",
         "name": "Each had b",
         "type": "scatter",
         "x": [
          1827,
          1786,
          747
         ],
         "y": [
          1827,
          1284,
          79
         ]
        },
        {
         "marker": {
          "opacity": 0.5
         },
         "mode": "markers",
         "name": "Mrs. Arthu",
         "type": "scatter",
         "x": [
          1699,
          1727,
          1631
         ],
         "y": [
          1699,
          1727,
          1726
         ]
        },
        {
         "marker": {
          "opacity": 0.5
         },
         "mode": "markers",
         "name": "Dr. Clark ",
         "type": "scatter",
         "x": [
          171,
          167,
          170
         ],
         "y": [
          171,
          167,
          170
         ]
        },
        {
         "marker": {
          "opacity": 0.5
         },
         "mode": "markers",
         "name": "Aj .",
         "type": "scatter",
         "x": [
          34,
          1836,
          1632
         ],
         "y": [
          34,
          1573,
          1750
         ]
        },
        {
         "marker": {
          "opacity": 0.5
         },
         "mode": "markers",
         "name": "Gauer work",
         "type": "scatter",
         "x": [
          1212,
          1276,
          1282
         ],
         "y": [
          1212,
          1474,
          543
         ]
        },
        {
         "marker": {
          "opacity": 0.5
         },
         "mode": "markers",
         "name": "The three ",
         "type": "scatter",
         "x": [
          628,
          618,
          630
         ],
         "y": [
          628,
          618,
          630
         ]
        },
        {
         "marker": {
          "opacity": 0.5
         },
         "mode": "markers",
         "name": "Last week ",
         "type": "scatter",
         "x": [
          867,
          868,
          845
         ],
         "y": [
          867,
          868,
          894
         ]
        },
        {
         "marker": {
          "opacity": 0.5
         },
         "mode": "markers",
         "name": "Backs high",
         "type": "scatter",
         "x": [
          776,
          764,
          763
         ],
         "y": [
          776,
          763,
          778
         ]
        },
        {
         "marker": {
          "opacity": 0.5
         },
         "mode": "markers",
         "name": "`` Our int",
         "type": "scatter",
         "x": [
          1085,
          1086,
          1088
         ],
         "y": [
          1085,
          1086,
          1101
         ]
        },
        {
         "marker": {
          "opacity": 0.5
         },
         "mode": "markers",
         "name": "Managing D",
         "type": "scatter",
         "x": [
          733,
          537,
          529
         ],
         "y": [
          733,
          846,
          819
         ]
        },
        {
         "marker": {
          "opacity": 0.5
         },
         "mode": "markers",
         "name": "Legislator",
         "type": "scatter",
         "x": [
          266,
          223,
          269
         ],
         "y": [
          266,
          223,
          240
         ]
        },
        {
         "marker": {
          "opacity": 0.5
         },
         "mode": "markers",
         "name": "Miss Burke",
         "type": "scatter",
         "x": [
          1486,
          1474,
          1480
         ],
         "y": [
          1486,
          1485,
          1480
         ]
        },
        {
         "marker": {
          "opacity": 0.5
         },
         "mode": "markers",
         "name": "The only d",
         "type": "scatter",
         "x": [
          393,
          392,
          396
         ],
         "y": [
          393,
          396,
          1192
         ]
        },
        {
         "marker": {
          "opacity": 0.5
         },
         "mode": "markers",
         "name": "The Mayor ",
         "type": "scatter",
         "x": [
          547,
          1316,
          545
         ],
         "y": [
          547,
          532,
          643
         ]
        },
        {
         "marker": {
          "opacity": 0.5
         },
         "mode": "markers",
         "name": "A capsule ",
         "type": "scatter",
         "x": [
          910,
          907,
          912
         ],
         "y": [
          910,
          907,
          912
         ]
        },
        {
         "marker": {
          "opacity": 0.5
         },
         "mode": "markers",
         "name": "They have ",
         "type": "scatter",
         "x": [
          28,
          1446,
          1655
         ],
         "y": [
          28,
          1742,
          1446
         ]
        },
        {
         "marker": {
          "opacity": 0.5
         },
         "mode": "markers",
         "name": "Regrets at",
         "type": "scatter",
         "x": [
          452,
          465,
          441
         ],
         "y": [
          452,
          469,
          465
         ]
        },
        {
         "marker": {
          "opacity": 0.5
         },
         "mode": "markers",
         "name": "A couple o",
         "type": "scatter",
         "x": [
          1270,
          1311,
          1266
         ],
         "y": [
          1270,
          1008,
          1009
         ]
        },
        {
         "marker": {
          "opacity": 0.5
         },
         "mode": "markers",
         "name": "Three were",
         "type": "scatter",
         "x": [
          931,
          973,
          936
         ],
         "y": [
          931,
          973,
          936
         ]
        },
        {
         "marker": {
          "opacity": 0.5
         },
         "mode": "markers",
         "name": "From the o",
         "type": "scatter",
         "x": [
          1846,
          1845,
          271
         ],
         "y": [
          1846,
          1845,
          273
         ]
        },
        {
         "marker": {
          "opacity": 0.5
         },
         "mode": "markers",
         "name": "He will be",
         "type": "scatter",
         "x": [
          50,
          1209,
          39
         ],
         "y": [
          50,
          166,
          51
         ]
        },
        {
         "marker": {
          "opacity": 0.5
         },
         "mode": "markers",
         "name": "Wexler had",
         "type": "scatter",
         "x": [
          216,
          208,
          209
         ],
         "y": [
          216,
          209,
          220
         ]
        },
        {
         "marker": {
          "opacity": 0.5
         },
         "mode": "markers",
         "name": "Chester O.",
         "type": "scatter",
         "x": [
          175,
          1741,
          1828
         ],
         "y": [
          175,
          1959,
          1505
         ]
        },
        {
         "marker": {
          "opacity": 0.5
         },
         "mode": "markers",
         "name": "Mrs. Henry",
         "type": "scatter",
         "x": [
          1454,
          1668,
          1579
         ],
         "y": [
          1454,
          1579,
          1668
         ]
        },
        {
         "marker": {
          "opacity": 0.5
         },
         "mode": "markers",
         "name": "I never di",
         "type": "scatter",
         "x": [
          1020,
          1019,
          1053
         ],
         "y": [
          1020,
          1019,
          1023
         ]
        },
        {
         "marker": {
          "opacity": 0.5
         },
         "mode": "markers",
         "name": "On Friday ",
         "type": "scatter",
         "x": [
          862,
          828,
          863
         ],
         "y": [
          862,
          828,
          863
         ]
        },
        {
         "marker": {
          "opacity": 0.5
         },
         "mode": "markers",
         "name": "Georgia Re",
         "type": "scatter",
         "x": [
          40,
          46,
          44
         ],
         "y": [
          40,
          42,
          46
         ]
        },
        {
         "marker": {
          "opacity": 0.5
         },
         "mode": "markers",
         "name": "`` He knoc",
         "type": "scatter",
         "x": [
          1049,
          1120,
          1387
         ],
         "y": [
          1049,
          1281,
          1282
         ]
        },
        {
         "marker": {
          "opacity": 0.5
         },
         "mode": "markers",
         "name": "So he woun",
         "type": "scatter",
         "x": [
          1285,
          1297,
          1286
         ],
         "y": [
          1285,
          1270,
          1297
         ]
        },
        {
         "marker": {
          "opacity": 0.5
         },
         "mode": "markers",
         "name": "He's been ",
         "type": "scatter",
         "x": [
          1503,
          1809,
          1502
         ],
         "y": [
          1503,
          1064,
          1809
         ]
        },
        {
         "marker": {
          "opacity": 0.5
         },
         "mode": "markers",
         "name": "The change",
         "type": "scatter",
         "x": [
          883,
          884,
          882
         ],
         "y": [
          883,
          887,
          5
         ]
        },
        {
         "marker": {
          "opacity": 0.5
         },
         "mode": "markers",
         "name": "Concern ba",
         "type": "scatter",
         "x": [
          735,
          736,
          512
         ],
         "y": [
          735,
          736,
          740
         ]
        },
        {
         "marker": {
          "opacity": 0.5
         },
         "mode": "markers",
         "name": "Mrs. Roger",
         "type": "scatter",
         "x": [
          1578,
          1744,
          1645
         ],
         "y": [
          1578,
          1744,
          1755
         ]
        },
        {
         "marker": {
          "opacity": 0.5
         },
         "mode": "markers",
         "name": "While deta",
         "type": "scatter",
         "x": [
          117,
          116,
          418
         ],
         "y": [
          117,
          116,
          143
         ]
        },
        {
         "marker": {
          "opacity": 0.5
         },
         "mode": "markers",
         "name": "He assured",
         "type": "scatter",
         "x": [
          421,
          385,
          855
         ],
         "y": [
          421,
          416,
          414
         ]
        },
        {
         "marker": {
          "opacity": 0.5
         },
         "mode": "markers",
         "name": "In another",
         "type": "scatter",
         "x": [
          1603,
          1605,
          1602
         ],
         "y": [
          1603,
          1602,
          1610
         ]
        },
        {
         "marker": {
          "opacity": 0.5
         },
         "mode": "markers",
         "name": "Barber , w",
         "type": "scatter",
         "x": [
          72,
          74,
          71
         ],
         "y": [
          72,
          74,
          570
         ]
        },
        {
         "marker": {
          "opacity": 0.5
         },
         "mode": "markers",
         "name": "Only Bucky",
         "type": "scatter",
         "x": [
          1206,
          1205,
          1177
         ],
         "y": [
          1206,
          1178,
          1414
         ]
        },
        {
         "marker": {
          "opacity": 0.5
         },
         "mode": "markers",
         "name": "know enoug",
         "type": "scatter",
         "x": [
          755,
          749,
          752
         ],
         "y": [
          755,
          752,
          749
         ]
        },
        {
         "marker": {
          "opacity": 0.5
         },
         "mode": "markers",
         "name": "After a le",
         "type": "scatter",
         "x": [
          1347,
          1346,
          1349
         ],
         "y": [
          1347,
          1346,
          1349
         ]
        },
        {
         "marker": {
          "opacity": 0.5
         },
         "mode": "markers",
         "name": "His sense ",
         "type": "scatter",
         "x": [
          352,
          346,
          350
         ],
         "y": [
          352,
          346,
          348
         ]
        },
        {
         "marker": {
          "opacity": 0.5
         },
         "mode": "markers",
         "name": "It made hi",
         "type": "scatter",
         "x": [
          1271,
          1275,
          1324
         ],
         "y": [
          1271,
          1156,
          449
         ]
        },
        {
         "marker": {
          "opacity": 0.5
         },
         "mode": "markers",
         "name": "It was gre",
         "type": "scatter",
         "x": [
          442,
          857,
          275
         ],
         "y": [
          442,
          648,
          857
         ]
        },
        {
         "marker": {
          "opacity": 0.5
         },
         "mode": "markers",
         "name": "Services t",
         "type": "scatter",
         "x": [
          1988,
          1987,
          1998
         ],
         "y": [
          1988,
          1487,
          1987
         ]
        },
        {
         "marker": {
          "opacity": 0.5
         },
         "mode": "markers",
         "name": "As we bull",
         "type": "scatter",
         "x": [
          1505,
          1436,
          1629
         ],
         "y": [
          1505,
          1436,
          1485
         ]
        },
        {
         "marker": {
          "opacity": 0.5
         },
         "mode": "markers",
         "name": "The contra",
         "type": "scatter",
         "x": [
          742,
          743,
          729
         ],
         "y": [
          742,
          741,
          743
         ]
        },
        {
         "marker": {
          "opacity": 0.5
         },
         "mode": "markers",
         "name": "He said he",
         "type": "scatter",
         "x": [
          1158,
          1157,
          1150
         ],
         "y": [
          1158,
          73,
          538
         ]
        },
        {
         "marker": {
          "opacity": 0.5
         },
         "mode": "markers",
         "name": "Gene Marsh",
         "type": "scatter",
         "x": [
          1556,
          1553,
          1340
         ],
         "y": [
          1556,
          1553,
          1247
         ]
        },
        {
         "marker": {
          "opacity": 0.5
         },
         "mode": "markers",
         "name": "When the A",
         "type": "scatter",
         "x": [
          1761,
          1645,
          1661
         ],
         "y": [
          1761,
          1489,
          1705
         ]
        },
        {
         "marker": {
          "opacity": 0.5
         },
         "mode": "markers",
         "name": "Some 30 sp",
         "type": "scatter",
         "x": [
          1983,
          1984,
          217
         ],
         "y": [
          1983,
          1978,
          1979
         ]
        },
        {
         "marker": {
          "opacity": 0.5
         },
         "mode": "markers",
         "name": "Yes , with",
         "type": "scatter",
         "x": [
          1171,
          880,
          1580
         ],
         "y": [
          1171,
          1719,
          1727
         ]
        },
        {
         "marker": {
          "opacity": 0.5
         },
         "mode": "markers",
         "name": "The educat",
         "type": "scatter",
         "x": [
          576,
          580,
          139
         ],
         "y": [
          576,
          580,
          139
         ]
        },
        {
         "marker": {
          "opacity": 0.5
         },
         "mode": "markers",
         "name": "`` Lindy M",
         "type": "scatter",
         "x": [
          1352,
          1355,
          1362
         ],
         "y": [
          1352,
          1362,
          937
         ]
        },
        {
         "marker": {
          "opacity": 0.5
         },
         "mode": "markers",
         "name": "Kowalski ,",
         "type": "scatter",
         "x": [
          1996,
          1824,
          1998
         ],
         "y": [
          1996,
          1998,
          1941
         ]
        },
        {
         "marker": {
          "opacity": 0.5
         },
         "mode": "markers",
         "name": "But from a",
         "type": "scatter",
         "x": [
          643,
          1673,
          306
         ],
         "y": [
          643,
          666,
          101
         ]
        },
        {
         "marker": {
          "opacity": 0.5
         },
         "mode": "markers",
         "name": "I remember",
         "type": "scatter",
         "x": [
          1173,
          1418,
          1133
         ],
         "y": [
          1173,
          1023,
          1194
         ]
        },
        {
         "marker": {
          "opacity": 0.5
         },
         "mode": "markers",
         "name": "The women ",
         "type": "scatter",
         "x": [
          1667,
          1753,
          1721
         ],
         "y": [
          1667,
          1690,
          1452
         ]
        },
        {
         "marker": {
          "opacity": 0.5
         },
         "mode": "markers",
         "name": "The 22-yea",
         "type": "scatter",
         "x": [
          970,
          172,
          953
         ],
         "y": [
          970,
          1108,
          956
         ]
        },
        {
         "marker": {
          "opacity": 0.5
         },
         "mode": "markers",
         "name": "Along with",
         "type": "scatter",
         "x": [
          363,
          374,
          354
         ],
         "y": [
          363,
          374,
          354
         ]
        },
        {
         "marker": {
          "opacity": 0.5
         },
         "mode": "markers",
         "name": "!",
         "type": "scatter",
         "x": [
          1470,
          1521,
          1624
         ],
         "y": [
          1470,
          1541,
          1521
         ]
        },
        {
         "marker": {
          "opacity": 0.5
         },
         "mode": "markers",
         "name": "She was mo",
         "type": "scatter",
         "x": [
          989,
          1258,
          256
         ],
         "y": [
          989,
          256,
          1258
         ]
        },
        {
         "marker": {
          "opacity": 0.5
         },
         "mode": "markers",
         "name": "He succeed",
         "type": "scatter",
         "x": [
          1209,
          50,
          39
         ],
         "y": [
          1209,
          1226,
          1220
         ]
        },
        {
         "marker": {
          "opacity": 0.5
         },
         "mode": "markers",
         "name": "Some even ",
         "type": "scatter",
         "x": [
          1620,
          1619,
          1610
         ],
         "y": [
          1620,
          1619,
          1610
         ]
        },
        {
         "marker": {
          "opacity": 0.5
         },
         "mode": "markers",
         "name": "Denials we",
         "type": "scatter",
         "x": [
          916,
          915,
          203
         ],
         "y": [
          916,
          191,
          917
         ]
        },
        {
         "marker": {
          "opacity": 0.5
         },
         "mode": "markers",
         "name": "They knew ",
         "type": "scatter",
         "x": [
          1383,
          1382,
          1917
         ],
         "y": [
          1383,
          758,
          1045
         ]
        },
        {
         "marker": {
          "opacity": 0.5
         },
         "mode": "markers",
         "name": "Asked Palm",
         "type": "scatter",
         "x": [
          1315,
          449,
          1273
         ],
         "y": [
          1315,
          449,
          1323
         ]
        },
        {
         "marker": {
          "opacity": 0.5
         },
         "mode": "markers",
         "name": "And after ",
         "type": "scatter",
         "x": [
          335,
          334,
          24
         ],
         "y": [
          335,
          621,
          334
         ]
        },
        {
         "marker": {
          "opacity": 0.5
         },
         "mode": "markers",
         "name": "Mr. Hawksl",
         "type": "scatter",
         "x": [
          372,
          369,
          623
         ],
         "y": [
          372,
          369,
          364
         ]
        },
        {
         "marker": {
          "opacity": 0.5
         },
         "mode": "markers",
         "name": "Miss Joan ",
         "type": "scatter",
         "x": [
          1636,
          1653,
          1637
         ],
         "y": [
          1636,
          1653,
          1637
         ]
        },
        {
         "marker": {
          "opacity": 0.5
         },
         "mode": "markers",
         "name": "One advant",
         "type": "scatter",
         "x": [
          365,
          354,
          359
         ],
         "y": [
          365,
          354,
          457
         ]
        },
        {
         "marker": {
          "opacity": 0.5
         },
         "mode": "markers",
         "name": "He was cal",
         "type": "scatter",
         "x": [
          1092,
          1277,
          1023
         ],
         "y": [
          1092,
          1182,
          1019
         ]
        },
        {
         "marker": {
          "opacity": 0.5
         },
         "mode": "markers",
         "name": "Division s",
         "type": "scatter",
         "x": [
          662,
          661,
          659
         ],
         "y": [
          662,
          661,
          295
         ]
        },
        {
         "marker": {
          "opacity": 0.5
         },
         "mode": "markers",
         "name": "The most v",
         "type": "scatter",
         "x": [
          1379,
          1380,
          1262
         ],
         "y": [
          1379,
          1387,
          944
         ]
        },
        {
         "marker": {
          "opacity": 0.5
         },
         "mode": "markers",
         "name": "We've been",
         "type": "scatter",
         "x": [
          1670,
          1070,
          1069
         ],
         "y": [
          1670,
          1070,
          1069
         ]
        },
        {
         "marker": {
          "opacity": 0.5
         },
         "mode": "markers",
         "name": "Rice has n",
         "type": "scatter",
         "x": [
          1065,
          1060,
          1073
         ],
         "y": [
          1065,
          1013,
          1073
         ]
        },
        {
         "marker": {
          "opacity": 0.5
         },
         "mode": "markers",
         "name": "He suggest",
         "type": "scatter",
         "x": [
          400,
          43,
          520
         ],
         "y": [
          400,
          83,
          485
         ]
        },
        {
         "marker": {
          "opacity": 0.5
         },
         "mode": "markers",
         "name": "There are ",
         "type": "scatter",
         "x": [
          1192,
          565,
          430
         ],
         "y": [
          1192,
          1070,
          393
         ]
        },
        {
         "marker": {
          "opacity": 0.5
         },
         "mode": "markers",
         "name": "Nursing ho",
         "type": "scatter",
         "x": [
          234,
          235,
          236
         ],
         "y": [
          234,
          236,
          235
         ]
        },
        {
         "marker": {
          "opacity": 0.5
         },
         "mode": "markers",
         "name": "He also re",
         "type": "scatter",
         "x": [
          168,
          634,
          828
         ],
         "y": [
          168,
          167,
          171
         ]
        },
        {
         "marker": {
          "opacity": 0.5
         },
         "mode": "markers",
         "name": "Decisions ",
         "type": "scatter",
         "x": [
          201,
          202,
          200
         ],
         "y": [
          201,
          202,
          908
         ]
        },
        {
         "marker": {
          "opacity": 0.5
         },
         "mode": "markers",
         "name": "Other spea",
         "type": "scatter",
         "x": [
          872,
          1265,
          870
         ],
         "y": [
          872,
          1580,
          1265
         ]
        },
        {
         "marker": {
          "opacity": 0.5
         },
         "mode": "markers",
         "name": "Ordinary C",
         "type": "scatter",
         "x": [
          79,
          88,
          87
         ],
         "y": [
          79,
          88,
          87
         ]
        },
        {
         "marker": {
          "opacity": 0.5
         },
         "mode": "markers",
         "name": "Just when ",
         "type": "scatter",
         "x": [
          1163,
          1412,
          1186
         ],
         "y": [
          1163,
          1186,
          1165
         ]
        },
        {
         "marker": {
          "opacity": 0.5
         },
         "mode": "markers",
         "name": "An assista",
         "type": "scatter",
         "x": [
          564,
          388,
          351
         ],
         "y": [
          564,
          652,
          825
         ]
        },
        {
         "marker": {
          "opacity": 0.5
         },
         "mode": "markers",
         "name": "They , on ",
         "type": "scatter",
         "x": [
          1925,
          1924,
          1932
         ],
         "y": [
          1925,
          1924,
          1932
         ]
        },
        {
         "marker": {
          "opacity": 0.5
         },
         "mode": "markers",
         "name": "The $6,100",
         "type": "scatter",
         "x": [
          574,
          568,
          514
         ],
         "y": [
          574,
          568,
          514
         ]
        },
        {
         "marker": {
          "opacity": 0.5
         },
         "mode": "markers",
         "name": "But we hav",
         "type": "scatter",
         "x": [
          1680,
          1676,
          1684
         ],
         "y": [
          1680,
          1676,
          1684
         ]
        },
        {
         "marker": {
          "opacity": 0.5
         },
         "mode": "markers",
         "name": "Skorich re",
         "type": "scatter",
         "x": [
          1208,
          1220,
          1771
         ],
         "y": [
          1208,
          1220,
          1227
         ]
        },
        {
         "marker": {
          "opacity": 0.5
         },
         "mode": "markers",
         "name": "Districts ",
         "type": "scatter",
         "x": [
          677,
          679,
          721
         ],
         "y": [
          677,
          679,
          717
         ]
        },
        {
         "marker": {
          "opacity": 0.5
         },
         "mode": "markers",
         "name": "The aged c",
         "type": "scatter",
         "x": [
          223,
          266,
          221
         ],
         "y": [
          223,
          266,
          239
         ]
        },
        {
         "marker": {
          "opacity": 0.5
         },
         "mode": "markers",
         "name": "`` We want",
         "type": "scatter",
         "x": [
          757,
          759,
          758
         ],
         "y": [
          757,
          758,
          759
         ]
        },
        {
         "marker": {
          "opacity": 0.5
         },
         "mode": "markers",
         "name": "Now 38 , M",
         "type": "scatter",
         "x": [
          1843,
          1845,
          1842
         ],
         "y": [
          1843,
          1845,
          1842
         ]
        },
        {
         "marker": {
          "opacity": 0.5
         },
         "mode": "markers",
         "name": "The U. S. ",
         "type": "scatter",
         "x": [
          590,
          591,
          575
         ],
         "y": [
          590,
          591,
          842
         ]
        },
        {
         "marker": {
          "opacity": 0.5
         },
         "mode": "markers",
         "name": "Dick McAul",
         "type": "scatter",
         "x": [
          1110,
          1114,
          1111
         ],
         "y": [
          1110,
          1114,
          1111
         ]
        },
        {
         "marker": {
          "opacity": 0.5
         },
         "mode": "markers",
         "name": "Tactics st",
         "type": "scatter",
         "x": [
          624,
          304,
          298
         ],
         "y": [
          624,
          293,
          298
         ]
        },
        {
         "marker": {
          "opacity": 0.5
         },
         "mode": "markers",
         "name": "Her husban",
         "type": "scatter",
         "x": [
          1832,
          1831,
          1794
         ],
         "y": [
          1832,
          1831,
          1971
         ]
        }
       ],
       "layout": {
        "template": {
         "data": {
          "bar": [
           {
            "error_x": {
             "color": "#2a3f5f"
            },
            "error_y": {
             "color": "#2a3f5f"
            },
            "marker": {
             "line": {
              "color": "#E5ECF6",
              "width": 0.5
             },
             "pattern": {
              "fillmode": "overlay",
              "size": 10,
              "solidity": 0.2
             }
            },
            "type": "bar"
           }
          ],
          "barpolar": [
           {
            "marker": {
             "line": {
              "color": "#E5ECF6",
              "width": 0.5
             },
             "pattern": {
              "fillmode": "overlay",
              "size": 10,
              "solidity": 0.2
             }
            },
            "type": "barpolar"
           }
          ],
          "carpet": [
           {
            "aaxis": {
             "endlinecolor": "#2a3f5f",
             "gridcolor": "white",
             "linecolor": "white",
             "minorgridcolor": "white",
             "startlinecolor": "#2a3f5f"
            },
            "baxis": {
             "endlinecolor": "#2a3f5f",
             "gridcolor": "white",
             "linecolor": "white",
             "minorgridcolor": "white",
             "startlinecolor": "#2a3f5f"
            },
            "type": "carpet"
           }
          ],
          "choropleth": [
           {
            "colorbar": {
             "outlinewidth": 0,
             "ticks": ""
            },
            "type": "choropleth"
           }
          ],
          "contour": [
           {
            "colorbar": {
             "outlinewidth": 0,
             "ticks": ""
            },
            "colorscale": [
             [
              0,
              "#0d0887"
             ],
             [
              0.1111111111111111,
              "#46039f"
             ],
             [
              0.2222222222222222,
              "#7201a8"
             ],
             [
              0.3333333333333333,
              "#9c179e"
             ],
             [
              0.4444444444444444,
              "#bd3786"
             ],
             [
              0.5555555555555556,
              "#d8576b"
             ],
             [
              0.6666666666666666,
              "#ed7953"
             ],
             [
              0.7777777777777778,
              "#fb9f3a"
             ],
             [
              0.8888888888888888,
              "#fdca26"
             ],
             [
              1,
              "#f0f921"
             ]
            ],
            "type": "contour"
           }
          ],
          "contourcarpet": [
           {
            "colorbar": {
             "outlinewidth": 0,
             "ticks": ""
            },
            "type": "contourcarpet"
           }
          ],
          "heatmap": [
           {
            "colorbar": {
             "outlinewidth": 0,
             "ticks": ""
            },
            "colorscale": [
             [
              0,
              "#0d0887"
             ],
             [
              0.1111111111111111,
              "#46039f"
             ],
             [
              0.2222222222222222,
              "#7201a8"
             ],
             [
              0.3333333333333333,
              "#9c179e"
             ],
             [
              0.4444444444444444,
              "#bd3786"
             ],
             [
              0.5555555555555556,
              "#d8576b"
             ],
             [
              0.6666666666666666,
              "#ed7953"
             ],
             [
              0.7777777777777778,
              "#fb9f3a"
             ],
             [
              0.8888888888888888,
              "#fdca26"
             ],
             [
              1,
              "#f0f921"
             ]
            ],
            "type": "heatmap"
           }
          ],
          "heatmapgl": [
           {
            "colorbar": {
             "outlinewidth": 0,
             "ticks": ""
            },
            "colorscale": [
             [
              0,
              "#0d0887"
             ],
             [
              0.1111111111111111,
              "#46039f"
             ],
             [
              0.2222222222222222,
              "#7201a8"
             ],
             [
              0.3333333333333333,
              "#9c179e"
             ],
             [
              0.4444444444444444,
              "#bd3786"
             ],
             [
              0.5555555555555556,
              "#d8576b"
             ],
             [
              0.6666666666666666,
              "#ed7953"
             ],
             [
              0.7777777777777778,
              "#fb9f3a"
             ],
             [
              0.8888888888888888,
              "#fdca26"
             ],
             [
              1,
              "#f0f921"
             ]
            ],
            "type": "heatmapgl"
           }
          ],
          "histogram": [
           {
            "marker": {
             "pattern": {
              "fillmode": "overlay",
              "size": 10,
              "solidity": 0.2
             }
            },
            "type": "histogram"
           }
          ],
          "histogram2d": [
           {
            "colorbar": {
             "outlinewidth": 0,
             "ticks": ""
            },
            "colorscale": [
             [
              0,
              "#0d0887"
             ],
             [
              0.1111111111111111,
              "#46039f"
             ],
             [
              0.2222222222222222,
              "#7201a8"
             ],
             [
              0.3333333333333333,
              "#9c179e"
             ],
             [
              0.4444444444444444,
              "#bd3786"
             ],
             [
              0.5555555555555556,
              "#d8576b"
             ],
             [
              0.6666666666666666,
              "#ed7953"
             ],
             [
              0.7777777777777778,
              "#fb9f3a"
             ],
             [
              0.8888888888888888,
              "#fdca26"
             ],
             [
              1,
              "#f0f921"
             ]
            ],
            "type": "histogram2d"
           }
          ],
          "histogram2dcontour": [
           {
            "colorbar": {
             "outlinewidth": 0,
             "ticks": ""
            },
            "colorscale": [
             [
              0,
              "#0d0887"
             ],
             [
              0.1111111111111111,
              "#46039f"
             ],
             [
              0.2222222222222222,
              "#7201a8"
             ],
             [
              0.3333333333333333,
              "#9c179e"
             ],
             [
              0.4444444444444444,
              "#bd3786"
             ],
             [
              0.5555555555555556,
              "#d8576b"
             ],
             [
              0.6666666666666666,
              "#ed7953"
             ],
             [
              0.7777777777777778,
              "#fb9f3a"
             ],
             [
              0.8888888888888888,
              "#fdca26"
             ],
             [
              1,
              "#f0f921"
             ]
            ],
            "type": "histogram2dcontour"
           }
          ],
          "mesh3d": [
           {
            "colorbar": {
             "outlinewidth": 0,
             "ticks": ""
            },
            "type": "mesh3d"
           }
          ],
          "parcoords": [
           {
            "line": {
             "colorbar": {
              "outlinewidth": 0,
              "ticks": ""
             }
            },
            "type": "parcoords"
           }
          ],
          "pie": [
           {
            "automargin": true,
            "type": "pie"
           }
          ],
          "scatter": [
           {
            "fillpattern": {
             "fillmode": "overlay",
             "size": 10,
             "solidity": 0.2
            },
            "type": "scatter"
           }
          ],
          "scatter3d": [
           {
            "line": {
             "colorbar": {
              "outlinewidth": 0,
              "ticks": ""
             }
            },
            "marker": {
             "colorbar": {
              "outlinewidth": 0,
              "ticks": ""
             }
            },
            "type": "scatter3d"
           }
          ],
          "scattercarpet": [
           {
            "marker": {
             "colorbar": {
              "outlinewidth": 0,
              "ticks": ""
             }
            },
            "type": "scattercarpet"
           }
          ],
          "scattergeo": [
           {
            "marker": {
             "colorbar": {
              "outlinewidth": 0,
              "ticks": ""
             }
            },
            "type": "scattergeo"
           }
          ],
          "scattergl": [
           {
            "marker": {
             "colorbar": {
              "outlinewidth": 0,
              "ticks": ""
             }
            },
            "type": "scattergl"
           }
          ],
          "scattermapbox": [
           {
            "marker": {
             "colorbar": {
              "outlinewidth": 0,
              "ticks": ""
             }
            },
            "type": "scattermapbox"
           }
          ],
          "scatterpolar": [
           {
            "marker": {
             "colorbar": {
              "outlinewidth": 0,
              "ticks": ""
             }
            },
            "type": "scatterpolar"
           }
          ],
          "scatterpolargl": [
           {
            "marker": {
             "colorbar": {
              "outlinewidth": 0,
              "ticks": ""
             }
            },
            "type": "scatterpolargl"
           }
          ],
          "scatterternary": [
           {
            "marker": {
             "colorbar": {
              "outlinewidth": 0,
              "ticks": ""
             }
            },
            "type": "scatterternary"
           }
          ],
          "surface": [
           {
            "colorbar": {
             "outlinewidth": 0,
             "ticks": ""
            },
            "colorscale": [
             [
              0,
              "#0d0887"
             ],
             [
              0.1111111111111111,
              "#46039f"
             ],
             [
              0.2222222222222222,
              "#7201a8"
             ],
             [
              0.3333333333333333,
              "#9c179e"
             ],
             [
              0.4444444444444444,
              "#bd3786"
             ],
             [
              0.5555555555555556,
              "#d8576b"
             ],
             [
              0.6666666666666666,
              "#ed7953"
             ],
             [
              0.7777777777777778,
              "#fb9f3a"
             ],
             [
              0.8888888888888888,
              "#fdca26"
             ],
             [
              1,
              "#f0f921"
             ]
            ],
            "type": "surface"
           }
          ],
          "table": [
           {
            "cells": {
             "fill": {
              "color": "#EBF0F8"
             },
             "line": {
              "color": "white"
             }
            },
            "header": {
             "fill": {
              "color": "#C8D4E3"
             },
             "line": {
              "color": "white"
             }
            },
            "type": "table"
           }
          ]
         },
         "layout": {
          "annotationdefaults": {
           "arrowcolor": "#2a3f5f",
           "arrowhead": 0,
           "arrowwidth": 1
          },
          "autotypenumbers": "strict",
          "coloraxis": {
           "colorbar": {
            "outlinewidth": 0,
            "ticks": ""
           }
          },
          "colorscale": {
           "diverging": [
            [
             0,
             "#8e0152"
            ],
            [
             0.1,
             "#c51b7d"
            ],
            [
             0.2,
             "#de77ae"
            ],
            [
             0.3,
             "#f1b6da"
            ],
            [
             0.4,
             "#fde0ef"
            ],
            [
             0.5,
             "#f7f7f7"
            ],
            [
             0.6,
             "#e6f5d0"
            ],
            [
             0.7,
             "#b8e186"
            ],
            [
             0.8,
             "#7fbc41"
            ],
            [
             0.9,
             "#4d9221"
            ],
            [
             1,
             "#276419"
            ]
           ],
           "sequential": [
            [
             0,
             "#0d0887"
            ],
            [
             0.1111111111111111,
             "#46039f"
            ],
            [
             0.2222222222222222,
             "#7201a8"
            ],
            [
             0.3333333333333333,
             "#9c179e"
            ],
            [
             0.4444444444444444,
             "#bd3786"
            ],
            [
             0.5555555555555556,
             "#d8576b"
            ],
            [
             0.6666666666666666,
             "#ed7953"
            ],
            [
             0.7777777777777778,
             "#fb9f3a"
            ],
            [
             0.8888888888888888,
             "#fdca26"
            ],
            [
             1,
             "#f0f921"
            ]
           ],
           "sequentialminus": [
            [
             0,
             "#0d0887"
            ],
            [
             0.1111111111111111,
             "#46039f"
            ],
            [
             0.2222222222222222,
             "#7201a8"
            ],
            [
             0.3333333333333333,
             "#9c179e"
            ],
            [
             0.4444444444444444,
             "#bd3786"
            ],
            [
             0.5555555555555556,
             "#d8576b"
            ],
            [
             0.6666666666666666,
             "#ed7953"
            ],
            [
             0.7777777777777778,
             "#fb9f3a"
            ],
            [
             0.8888888888888888,
             "#fdca26"
            ],
            [
             1,
             "#f0f921"
            ]
           ]
          },
          "colorway": [
           "#636efa",
           "#EF553B",
           "#00cc96",
           "#ab63fa",
           "#FFA15A",
           "#19d3f3",
           "#FF6692",
           "#B6E880",
           "#FF97FF",
           "#FECB52"
          ],
          "font": {
           "color": "#2a3f5f"
          },
          "geo": {
           "bgcolor": "white",
           "lakecolor": "white",
           "landcolor": "#E5ECF6",
           "showlakes": true,
           "showland": true,
           "subunitcolor": "white"
          },
          "hoverlabel": {
           "align": "left"
          },
          "hovermode": "closest",
          "mapbox": {
           "style": "light"
          },
          "paper_bgcolor": "white",
          "plot_bgcolor": "#E5ECF6",
          "polar": {
           "angularaxis": {
            "gridcolor": "white",
            "linecolor": "white",
            "ticks": ""
           },
           "bgcolor": "#E5ECF6",
           "radialaxis": {
            "gridcolor": "white",
            "linecolor": "white",
            "ticks": ""
           }
          },
          "scene": {
           "xaxis": {
            "backgroundcolor": "#E5ECF6",
            "gridcolor": "white",
            "gridwidth": 2,
            "linecolor": "white",
            "showbackground": true,
            "ticks": "",
            "zerolinecolor": "white"
           },
           "yaxis": {
            "backgroundcolor": "#E5ECF6",
            "gridcolor": "white",
            "gridwidth": 2,
            "linecolor": "white",
            "showbackground": true,
            "ticks": "",
            "zerolinecolor": "white"
           },
           "zaxis": {
            "backgroundcolor": "#E5ECF6",
            "gridcolor": "white",
            "gridwidth": 2,
            "linecolor": "white",
            "showbackground": true,
            "ticks": "",
            "zerolinecolor": "white"
           }
          },
          "shapedefaults": {
           "line": {
            "color": "#2a3f5f"
           }
          },
          "ternary": {
           "aaxis": {
            "gridcolor": "white",
            "linecolor": "white",
            "ticks": ""
           },
           "baxis": {
            "gridcolor": "white",
            "linecolor": "white",
            "ticks": ""
           },
           "bgcolor": "#E5ECF6",
           "caxis": {
            "gridcolor": "white",
            "linecolor": "white",
            "ticks": ""
           }
          },
          "title": {
           "x": 0.05
          },
          "xaxis": {
           "automargin": true,
           "gridcolor": "white",
           "linecolor": "white",
           "ticks": "",
           "title": {
            "standoff": 15
           },
           "zerolinecolor": "white",
           "zerolinewidth": 2
          },
          "yaxis": {
           "automargin": true,
           "gridcolor": "white",
           "linecolor": "white",
           "ticks": "",
           "title": {
            "standoff": 15
           },
           "zerolinecolor": "white",
           "zerolinewidth": 2
          }
         }
        },
        "title": {
         "text": "Comparison of all-mpnet-base-v2 vs paraphrase-multilingual-mpnet-base-v2"
        },
        "xaxis": {
         "anchor": "y",
         "domain": [
          0,
          1
         ],
         "title": {
          "text": "all-mpnet-base-v2"
         }
        },
        "yaxis": {
         "anchor": "x",
         "domain": [
          0,
          1
         ],
         "title": {
          "text": "paraphrase-multilingual-mpnet-base-v2"
         }
        }
       }
      }
     },
     "metadata": {},
     "output_type": "display_data"
    },
    {
     "data": {
      "application/vnd.plotly.v1+json": {
       "config": {
        "plotlyServerURL": "https://plot.ly"
       },
       "data": [
        {
         "marker": {
          "opacity": 0.5
         },
         "mode": "markers",
         "name": "He said th",
         "type": "scatter",
         "x": [
          1894,
          1874,
          1870
         ],
         "y": [
          1894,
          1870,
          1874
         ]
        },
        {
         "marker": {
          "opacity": 0.5
         },
         "mode": "markers",
         "name": "`` Usually",
         "type": "scatter",
         "x": [
          1596,
          1592,
          1601
         ],
         "y": [
          1596,
          1592,
          1594
         ]
        },
        {
         "marker": {
          "opacity": 0.5
         },
         "mode": "markers",
         "name": "Robinson t",
         "type": "scatter",
         "x": [
          1942,
          1943,
          1939
         ],
         "y": [
          1942,
          1943,
          1944
         ]
        },
        {
         "marker": {
          "opacity": 0.5
         },
         "mode": "markers",
         "name": "`` I'm a m",
         "type": "scatter",
         "x": [
          593,
          592,
          913
         ],
         "y": [
          593,
          592,
          1599
         ]
        },
        {
         "marker": {
          "opacity": 0.5
         },
         "mode": "markers",
         "name": "Each had b",
         "type": "scatter",
         "x": [
          1827,
          1786,
          747
         ],
         "y": [
          1827,
          1826,
          1833
         ]
        },
        {
         "marker": {
          "opacity": 0.5
         },
         "mode": "markers",
         "name": "Mrs. Arthu",
         "type": "scatter",
         "x": [
          1699,
          1727,
          1631
         ],
         "y": [
          1699,
          1727,
          1579
         ]
        },
        {
         "marker": {
          "opacity": 0.5
         },
         "mode": "markers",
         "name": "Dr. Clark ",
         "type": "scatter",
         "x": [
          171,
          167,
          170
         ],
         "y": [
          171,
          167,
          169
         ]
        },
        {
         "marker": {
          "opacity": 0.5
         },
         "mode": "markers",
         "name": "Aj .",
         "type": "scatter",
         "x": [
          34,
          1836,
          1632
         ],
         "y": [
          34,
          1836,
          1656
         ]
        },
        {
         "marker": {
          "opacity": 0.5
         },
         "mode": "markers",
         "name": "Gauer work",
         "type": "scatter",
         "x": [
          1212,
          1276,
          1282
         ],
         "y": [
          1212,
          858,
          364
         ]
        },
        {
         "marker": {
          "opacity": 0.5
         },
         "mode": "markers",
         "name": "The three ",
         "type": "scatter",
         "x": [
          628,
          618,
          630
         ],
         "y": [
          628,
          618,
          621
         ]
        },
        {
         "marker": {
          "opacity": 0.5
         },
         "mode": "markers",
         "name": "Last week ",
         "type": "scatter",
         "x": [
          867,
          868,
          845
         ],
         "y": [
          867,
          865,
          868
         ]
        },
        {
         "marker": {
          "opacity": 0.5
         },
         "mode": "markers",
         "name": "Backs high",
         "type": "scatter",
         "x": [
          776,
          764,
          763
         ],
         "y": [
          776,
          763,
          777
         ]
        },
        {
         "marker": {
          "opacity": 0.5
         },
         "mode": "markers",
         "name": "`` Our int",
         "type": "scatter",
         "x": [
          1085,
          1086,
          1088
         ],
         "y": [
          1085,
          1086,
          1084
         ]
        },
        {
         "marker": {
          "opacity": 0.5
         },
         "mode": "markers",
         "name": "Managing D",
         "type": "scatter",
         "x": [
          733,
          537,
          529
         ],
         "y": [
          733,
          737,
          753
         ]
        },
        {
         "marker": {
          "opacity": 0.5
         },
         "mode": "markers",
         "name": "Legislator",
         "type": "scatter",
         "x": [
          266,
          223,
          269
         ],
         "y": [
          266,
          223,
          221
         ]
        },
        {
         "marker": {
          "opacity": 0.5
         },
         "mode": "markers",
         "name": "Miss Burke",
         "type": "scatter",
         "x": [
          1486,
          1474,
          1480
         ],
         "y": [
          1486,
          1476,
          1482
         ]
        },
        {
         "marker": {
          "opacity": 0.5
         },
         "mode": "markers",
         "name": "The only d",
         "type": "scatter",
         "x": [
          393,
          392,
          396
         ],
         "y": [
          393,
          396,
          392
         ]
        },
        {
         "marker": {
          "opacity": 0.5
         },
         "mode": "markers",
         "name": "The Mayor ",
         "type": "scatter",
         "x": [
          547,
          1316,
          545
         ],
         "y": [
          547,
          30,
          690
         ]
        },
        {
         "marker": {
          "opacity": 0.5
         },
         "mode": "markers",
         "name": "A capsule ",
         "type": "scatter",
         "x": [
          910,
          907,
          912
         ],
         "y": [
          910,
          907,
          912
         ]
        },
        {
         "marker": {
          "opacity": 0.5
         },
         "mode": "markers",
         "name": "They have ",
         "type": "scatter",
         "x": [
          28,
          1446,
          1655
         ],
         "y": [
          28,
          1446,
          638
         ]
        },
        {
         "marker": {
          "opacity": 0.5
         },
         "mode": "markers",
         "name": "Regrets at",
         "type": "scatter",
         "x": [
          452,
          465,
          441
         ],
         "y": [
          452,
          465,
          441
         ]
        },
        {
         "marker": {
          "opacity": 0.5
         },
         "mode": "markers",
         "name": "A couple o",
         "type": "scatter",
         "x": [
          1270,
          1311,
          1266
         ],
         "y": [
          1270,
          1267,
          1009
         ]
        },
        {
         "marker": {
          "opacity": 0.5
         },
         "mode": "markers",
         "name": "Three were",
         "type": "scatter",
         "x": [
          931,
          973,
          936
         ],
         "y": [
          931,
          973,
          1053
         ]
        },
        {
         "marker": {
          "opacity": 0.5
         },
         "mode": "markers",
         "name": "From the o",
         "type": "scatter",
         "x": [
          1846,
          1845,
          271
         ],
         "y": [
          1846,
          1845,
          294
         ]
        },
        {
         "marker": {
          "opacity": 0.5
         },
         "mode": "markers",
         "name": "He will be",
         "type": "scatter",
         "x": [
          50,
          1209,
          39
         ],
         "y": [
          50,
          1209,
          39
         ]
        },
        {
         "marker": {
          "opacity": 0.5
         },
         "mode": "markers",
         "name": "Wexler had",
         "type": "scatter",
         "x": [
          216,
          208,
          209
         ],
         "y": [
          216,
          203,
          212
         ]
        },
        {
         "marker": {
          "opacity": 0.5
         },
         "mode": "markers",
         "name": "Chester O.",
         "type": "scatter",
         "x": [
          175,
          1741,
          1828
         ],
         "y": [
          175,
          1893,
          1741
         ]
        },
        {
         "marker": {
          "opacity": 0.5
         },
         "mode": "markers",
         "name": "Mrs. Henry",
         "type": "scatter",
         "x": [
          1454,
          1668,
          1579
         ],
         "y": [
          1454,
          1579,
          1697
         ]
        },
        {
         "marker": {
          "opacity": 0.5
         },
         "mode": "markers",
         "name": "I never di",
         "type": "scatter",
         "x": [
          1020,
          1019,
          1053
         ],
         "y": [
          1020,
          1019,
          1053
         ]
        },
        {
         "marker": {
          "opacity": 0.5
         },
         "mode": "markers",
         "name": "On Friday ",
         "type": "scatter",
         "x": [
          862,
          828,
          863
         ],
         "y": [
          862,
          831,
          1841
         ]
        },
        {
         "marker": {
          "opacity": 0.5
         },
         "mode": "markers",
         "name": "Georgia Re",
         "type": "scatter",
         "x": [
          40,
          46,
          44
         ],
         "y": [
          40,
          70,
          52
         ]
        },
        {
         "marker": {
          "opacity": 0.5
         },
         "mode": "markers",
         "name": "`` He knoc",
         "type": "scatter",
         "x": [
          1049,
          1120,
          1387
         ],
         "y": [
          1049,
          495,
          1051
         ]
        },
        {
         "marker": {
          "opacity": 0.5
         },
         "mode": "markers",
         "name": "So he woun",
         "type": "scatter",
         "x": [
          1285,
          1297,
          1286
         ],
         "y": [
          1285,
          1296,
          261
         ]
        },
        {
         "marker": {
          "opacity": 0.5
         },
         "mode": "markers",
         "name": "He's been ",
         "type": "scatter",
         "x": [
          1503,
          1809,
          1502
         ],
         "y": [
          1503,
          1064,
          1502
         ]
        },
        {
         "marker": {
          "opacity": 0.5
         },
         "mode": "markers",
         "name": "The change",
         "type": "scatter",
         "x": [
          883,
          884,
          882
         ],
         "y": [
          883,
          884,
          882
         ]
        },
        {
         "marker": {
          "opacity": 0.5
         },
         "mode": "markers",
         "name": "Concern ba",
         "type": "scatter",
         "x": [
          735,
          736,
          512
         ],
         "y": [
          735,
          736,
          740
         ]
        },
        {
         "marker": {
          "opacity": 0.5
         },
         "mode": "markers",
         "name": "Mrs. Roger",
         "type": "scatter",
         "x": [
          1578,
          1744,
          1645
         ],
         "y": [
          1578,
          1699,
          1661
         ]
        },
        {
         "marker": {
          "opacity": 0.5
         },
         "mode": "markers",
         "name": "While deta",
         "type": "scatter",
         "x": [
          117,
          116,
          418
         ],
         "y": [
          117,
          116,
          151
         ]
        },
        {
         "marker": {
          "opacity": 0.5
         },
         "mode": "markers",
         "name": "He assured",
         "type": "scatter",
         "x": [
          421,
          385,
          855
         ],
         "y": [
          421,
          213,
          383
         ]
        },
        {
         "marker": {
          "opacity": 0.5
         },
         "mode": "markers",
         "name": "In another",
         "type": "scatter",
         "x": [
          1603,
          1605,
          1602
         ],
         "y": [
          1603,
          1602,
          1605
         ]
        },
        {
         "marker": {
          "opacity": 0.5
         },
         "mode": "markers",
         "name": "Barber , w",
         "type": "scatter",
         "x": [
          72,
          74,
          71
         ],
         "y": [
          72,
          74,
          67
         ]
        },
        {
         "marker": {
          "opacity": 0.5
         },
         "mode": "markers",
         "name": "Only Bucky",
         "type": "scatter",
         "x": [
          1206,
          1205,
          1177
         ],
         "y": [
          1206,
          1205,
          1178
         ]
        },
        {
         "marker": {
          "opacity": 0.5
         },
         "mode": "markers",
         "name": "know enoug",
         "type": "scatter",
         "x": [
          755,
          749,
          752
         ],
         "y": [
          755,
          749,
          741
         ]
        },
        {
         "marker": {
          "opacity": 0.5
         },
         "mode": "markers",
         "name": "After a le",
         "type": "scatter",
         "x": [
          1347,
          1346,
          1349
         ],
         "y": [
          1347,
          1346,
          1127
         ]
        },
        {
         "marker": {
          "opacity": 0.5
         },
         "mode": "markers",
         "name": "His sense ",
         "type": "scatter",
         "x": [
          352,
          346,
          350
         ],
         "y": [
          352,
          348,
          346
         ]
        },
        {
         "marker": {
          "opacity": 0.5
         },
         "mode": "markers",
         "name": "It made hi",
         "type": "scatter",
         "x": [
          1271,
          1275,
          1324
         ],
         "y": [
          1271,
          1298,
          1156
         ]
        },
        {
         "marker": {
          "opacity": 0.5
         },
         "mode": "markers",
         "name": "It was gre",
         "type": "scatter",
         "x": [
          442,
          857,
          275
         ],
         "y": [
          442,
          648,
          454
         ]
        },
        {
         "marker": {
          "opacity": 0.5
         },
         "mode": "markers",
         "name": "Services t",
         "type": "scatter",
         "x": [
          1988,
          1987,
          1998
         ],
         "y": [
          1988,
          1987,
          1991
         ]
        },
        {
         "marker": {
          "opacity": 0.5
         },
         "mode": "markers",
         "name": "As we bull",
         "type": "scatter",
         "x": [
          1505,
          1436,
          1629
         ],
         "y": [
          1505,
          1146,
          638
         ]
        },
        {
         "marker": {
          "opacity": 0.5
         },
         "mode": "markers",
         "name": "The contra",
         "type": "scatter",
         "x": [
          742,
          743,
          729
         ],
         "y": [
          742,
          743,
          729
         ]
        },
        {
         "marker": {
          "opacity": 0.5
         },
         "mode": "markers",
         "name": "He said he",
         "type": "scatter",
         "x": [
          1158,
          1157,
          1150
         ],
         "y": [
          1158,
          1157,
          449
         ]
        },
        {
         "marker": {
          "opacity": 0.5
         },
         "mode": "markers",
         "name": "Gene Marsh",
         "type": "scatter",
         "x": [
          1556,
          1553,
          1340
         ],
         "y": [
          1556,
          1553,
          1340
         ]
        },
        {
         "marker": {
          "opacity": 0.5
         },
         "mode": "markers",
         "name": "When the A",
         "type": "scatter",
         "x": [
          1761,
          1645,
          1661
         ],
         "y": [
          1761,
          1661,
          1645
         ]
        },
        {
         "marker": {
          "opacity": 0.5
         },
         "mode": "markers",
         "name": "Some 30 sp",
         "type": "scatter",
         "x": [
          1983,
          1984,
          217
         ],
         "y": [
          1983,
          1984,
          1978
         ]
        },
        {
         "marker": {
          "opacity": 0.5
         },
         "mode": "markers",
         "name": "Yes , with",
         "type": "scatter",
         "x": [
          1171,
          880,
          1580
         ],
         "y": [
          1171,
          1316,
          1719
         ]
        },
        {
         "marker": {
          "opacity": 0.5
         },
         "mode": "markers",
         "name": "The educat",
         "type": "scatter",
         "x": [
          576,
          580,
          139
         ],
         "y": [
          576,
          580,
          567
         ]
        },
        {
         "marker": {
          "opacity": 0.5
         },
         "mode": "markers",
         "name": "`` Lindy M",
         "type": "scatter",
         "x": [
          1352,
          1355,
          1362
         ],
         "y": [
          1352,
          1355,
          963
         ]
        },
        {
         "marker": {
          "opacity": 0.5
         },
         "mode": "markers",
         "name": "Kowalski ,",
         "type": "scatter",
         "x": [
          1996,
          1824,
          1998
         ],
         "y": [
          1996,
          1986,
          1995
         ]
        },
        {
         "marker": {
          "opacity": 0.5
         },
         "mode": "markers",
         "name": "But from a",
         "type": "scatter",
         "x": [
          643,
          1673,
          306
         ],
         "y": [
          643,
          330,
          686
         ]
        },
        {
         "marker": {
          "opacity": 0.5
         },
         "mode": "markers",
         "name": "I remember",
         "type": "scatter",
         "x": [
          1173,
          1418,
          1133
         ],
         "y": [
          1173,
          1277,
          1022
         ]
        },
        {
         "marker": {
          "opacity": 0.5
         },
         "mode": "markers",
         "name": "The women ",
         "type": "scatter",
         "x": [
          1667,
          1753,
          1721
         ],
         "y": [
          1667,
          1490,
          1721
         ]
        },
        {
         "marker": {
          "opacity": 0.5
         },
         "mode": "markers",
         "name": "The 22-yea",
         "type": "scatter",
         "x": [
          970,
          172,
          953
         ],
         "y": [
          970,
          956,
          958
         ]
        },
        {
         "marker": {
          "opacity": 0.5
         },
         "mode": "markers",
         "name": "Along with",
         "type": "scatter",
         "x": [
          363,
          374,
          354
         ],
         "y": [
          363,
          374,
          360
         ]
        },
        {
         "marker": {
          "opacity": 0.5
         },
         "mode": "markers",
         "name": "!",
         "type": "scatter",
         "x": [
          1470,
          1521,
          1624
         ],
         "y": [
          1081,
          1521,
          1523
         ]
        },
        {
         "marker": {
          "opacity": 0.5
         },
         "mode": "markers",
         "name": "She was mo",
         "type": "scatter",
         "x": [
          989,
          1258,
          256
         ],
         "y": [
          989,
          256,
          1513
         ]
        },
        {
         "marker": {
          "opacity": 0.5
         },
         "mode": "markers",
         "name": "He succeed",
         "type": "scatter",
         "x": [
          1209,
          50,
          39
         ],
         "y": [
          1209,
          50,
          1224
         ]
        },
        {
         "marker": {
          "opacity": 0.5
         },
         "mode": "markers",
         "name": "Some even ",
         "type": "scatter",
         "x": [
          1620,
          1619,
          1610
         ],
         "y": [
          1620,
          1619,
          1615
         ]
        },
        {
         "marker": {
          "opacity": 0.5
         },
         "mode": "markers",
         "name": "Denials we",
         "type": "scatter",
         "x": [
          916,
          915,
          203
         ],
         "y": [
          916,
          207,
          917
         ]
        },
        {
         "marker": {
          "opacity": 0.5
         },
         "mode": "markers",
         "name": "They knew ",
         "type": "scatter",
         "x": [
          1383,
          1382,
          1917
         ],
         "y": [
          1383,
          1382,
          1925
         ]
        },
        {
         "marker": {
          "opacity": 0.5
         },
         "mode": "markers",
         "name": "Asked Palm",
         "type": "scatter",
         "x": [
          1315,
          449,
          1273
         ],
         "y": [
          1315,
          1316,
          476
         ]
        },
        {
         "marker": {
          "opacity": 0.5
         },
         "mode": "markers",
         "name": "And after ",
         "type": "scatter",
         "x": [
          335,
          334,
          24
         ],
         "y": [
          335,
          340,
          334
         ]
        },
        {
         "marker": {
          "opacity": 0.5
         },
         "mode": "markers",
         "name": "Mr. Hawksl",
         "type": "scatter",
         "x": [
          372,
          369,
          623
         ],
         "y": [
          372,
          369,
          355
         ]
        },
        {
         "marker": {
          "opacity": 0.5
         },
         "mode": "markers",
         "name": "Miss Joan ",
         "type": "scatter",
         "x": [
          1636,
          1653,
          1637
         ],
         "y": [
          1636,
          1653,
          1637
         ]
        },
        {
         "marker": {
          "opacity": 0.5
         },
         "mode": "markers",
         "name": "One advant",
         "type": "scatter",
         "x": [
          365,
          354,
          359
         ],
         "y": [
          365,
          354,
          356
         ]
        },
        {
         "marker": {
          "opacity": 0.5
         },
         "mode": "markers",
         "name": "He was cal",
         "type": "scatter",
         "x": [
          1092,
          1277,
          1023
         ],
         "y": [
          1092,
          1023,
          1277
         ]
        },
        {
         "marker": {
          "opacity": 0.5
         },
         "mode": "markers",
         "name": "Division s",
         "type": "scatter",
         "x": [
          662,
          661,
          659
         ],
         "y": [
          662,
          661,
          658
         ]
        },
        {
         "marker": {
          "opacity": 0.5
         },
         "mode": "markers",
         "name": "The most v",
         "type": "scatter",
         "x": [
          1379,
          1380,
          1262
         ],
         "y": [
          1379,
          1386,
          1387
         ]
        },
        {
         "marker": {
          "opacity": 0.5
         },
         "mode": "markers",
         "name": "We've been",
         "type": "scatter",
         "x": [
          1670,
          1070,
          1069
         ],
         "y": [
          1670,
          280,
          1045
         ]
        },
        {
         "marker": {
          "opacity": 0.5
         },
         "mode": "markers",
         "name": "Rice has n",
         "type": "scatter",
         "x": [
          1065,
          1060,
          1073
         ],
         "y": [
          1065,
          1073,
          1061
         ]
        },
        {
         "marker": {
          "opacity": 0.5
         },
         "mode": "markers",
         "name": "He suggest",
         "type": "scatter",
         "x": [
          400,
          43,
          520
         ],
         "y": [
          400,
          500,
          408
         ]
        },
        {
         "marker": {
          "opacity": 0.5
         },
         "mode": "markers",
         "name": "There are ",
         "type": "scatter",
         "x": [
          1192,
          565,
          430
         ],
         "y": [
          1192,
          1608,
          1130
         ]
        },
        {
         "marker": {
          "opacity": 0.5
         },
         "mode": "markers",
         "name": "Nursing ho",
         "type": "scatter",
         "x": [
          234,
          235,
          236
         ],
         "y": [
          234,
          236,
          235
         ]
        },
        {
         "marker": {
          "opacity": 0.5
         },
         "mode": "markers",
         "name": "He also re",
         "type": "scatter",
         "x": [
          168,
          634,
          828
         ],
         "y": [
          168,
          634,
          1632
         ]
        },
        {
         "marker": {
          "opacity": 0.5
         },
         "mode": "markers",
         "name": "Decisions ",
         "type": "scatter",
         "x": [
          201,
          202,
          200
         ],
         "y": [
          201,
          202,
          200
         ]
        },
        {
         "marker": {
          "opacity": 0.5
         },
         "mode": "markers",
         "name": "Other spea",
         "type": "scatter",
         "x": [
          872,
          1265,
          870
         ],
         "y": [
          872,
          869,
          1697
         ]
        },
        {
         "marker": {
          "opacity": 0.5
         },
         "mode": "markers",
         "name": "Ordinary C",
         "type": "scatter",
         "x": [
          79,
          88,
          87
         ],
         "y": [
          79,
          88,
          87
         ]
        },
        {
         "marker": {
          "opacity": 0.5
         },
         "mode": "markers",
         "name": "Just when ",
         "type": "scatter",
         "x": [
          1163,
          1412,
          1186
         ],
         "y": [
          1163,
          1186,
          1419
         ]
        },
        {
         "marker": {
          "opacity": 0.5
         },
         "mode": "markers",
         "name": "An assista",
         "type": "scatter",
         "x": [
          564,
          388,
          351
         ],
         "y": [
          564,
          1930,
          388
         ]
        },
        {
         "marker": {
          "opacity": 0.5
         },
         "mode": "markers",
         "name": "They , on ",
         "type": "scatter",
         "x": [
          1925,
          1924,
          1932
         ],
         "y": [
          1925,
          649,
          1383
         ]
        },
        {
         "marker": {
          "opacity": 0.5
         },
         "mode": "markers",
         "name": "The $6,100",
         "type": "scatter",
         "x": [
          574,
          568,
          514
         ],
         "y": [
          574,
          149,
          514
         ]
        },
        {
         "marker": {
          "opacity": 0.5
         },
         "mode": "markers",
         "name": "But we hav",
         "type": "scatter",
         "x": [
          1680,
          1676,
          1684
         ],
         "y": [
          1680,
          1676,
          1669
         ]
        },
        {
         "marker": {
          "opacity": 0.5
         },
         "mode": "markers",
         "name": "Skorich re",
         "type": "scatter",
         "x": [
          1208,
          1220,
          1771
         ],
         "y": [
          1208,
          1221,
          1220
         ]
        },
        {
         "marker": {
          "opacity": 0.5
         },
         "mode": "markers",
         "name": "Districts ",
         "type": "scatter",
         "x": [
          677,
          679,
          721
         ],
         "y": [
          677,
          679,
          53
         ]
        },
        {
         "marker": {
          "opacity": 0.5
         },
         "mode": "markers",
         "name": "The aged c",
         "type": "scatter",
         "x": [
          223,
          266,
          221
         ],
         "y": [
          223,
          247,
          222
         ]
        },
        {
         "marker": {
          "opacity": 0.5
         },
         "mode": "markers",
         "name": "`` We want",
         "type": "scatter",
         "x": [
          757,
          759,
          758
         ],
         "y": [
          757,
          759,
          758
         ]
        },
        {
         "marker": {
          "opacity": 0.5
         },
         "mode": "markers",
         "name": "Now 38 , M",
         "type": "scatter",
         "x": [
          1843,
          1845,
          1842
         ],
         "y": [
          1843,
          1252,
          634
         ]
        },
        {
         "marker": {
          "opacity": 0.5
         },
         "mode": "markers",
         "name": "The U. S. ",
         "type": "scatter",
         "x": [
          590,
          591,
          575
         ],
         "y": [
          590,
          591,
          225
         ]
        },
        {
         "marker": {
          "opacity": 0.5
         },
         "mode": "markers",
         "name": "Dick McAul",
         "type": "scatter",
         "x": [
          1110,
          1114,
          1111
         ],
         "y": [
          1110,
          1116,
          1114
         ]
        },
        {
         "marker": {
          "opacity": 0.5
         },
         "mode": "markers",
         "name": "Tactics st",
         "type": "scatter",
         "x": [
          624,
          304,
          298
         ],
         "y": [
          624,
          301,
          287
         ]
        },
        {
         "marker": {
          "opacity": 0.5
         },
         "mode": "markers",
         "name": "Her husban",
         "type": "scatter",
         "x": [
          1832,
          1831,
          1794
         ],
         "y": [
          1832,
          1811,
          1794
         ]
        }
       ],
       "layout": {
        "template": {
         "data": {
          "bar": [
           {
            "error_x": {
             "color": "#2a3f5f"
            },
            "error_y": {
             "color": "#2a3f5f"
            },
            "marker": {
             "line": {
              "color": "#E5ECF6",
              "width": 0.5
             },
             "pattern": {
              "fillmode": "overlay",
              "size": 10,
              "solidity": 0.2
             }
            },
            "type": "bar"
           }
          ],
          "barpolar": [
           {
            "marker": {
             "line": {
              "color": "#E5ECF6",
              "width": 0.5
             },
             "pattern": {
              "fillmode": "overlay",
              "size": 10,
              "solidity": 0.2
             }
            },
            "type": "barpolar"
           }
          ],
          "carpet": [
           {
            "aaxis": {
             "endlinecolor": "#2a3f5f",
             "gridcolor": "white",
             "linecolor": "white",
             "minorgridcolor": "white",
             "startlinecolor": "#2a3f5f"
            },
            "baxis": {
             "endlinecolor": "#2a3f5f",
             "gridcolor": "white",
             "linecolor": "white",
             "minorgridcolor": "white",
             "startlinecolor": "#2a3f5f"
            },
            "type": "carpet"
           }
          ],
          "choropleth": [
           {
            "colorbar": {
             "outlinewidth": 0,
             "ticks": ""
            },
            "type": "choropleth"
           }
          ],
          "contour": [
           {
            "colorbar": {
             "outlinewidth": 0,
             "ticks": ""
            },
            "colorscale": [
             [
              0,
              "#0d0887"
             ],
             [
              0.1111111111111111,
              "#46039f"
             ],
             [
              0.2222222222222222,
              "#7201a8"
             ],
             [
              0.3333333333333333,
              "#9c179e"
             ],
             [
              0.4444444444444444,
              "#bd3786"
             ],
             [
              0.5555555555555556,
              "#d8576b"
             ],
             [
              0.6666666666666666,
              "#ed7953"
             ],
             [
              0.7777777777777778,
              "#fb9f3a"
             ],
             [
              0.8888888888888888,
              "#fdca26"
             ],
             [
              1,
              "#f0f921"
             ]
            ],
            "type": "contour"
           }
          ],
          "contourcarpet": [
           {
            "colorbar": {
             "outlinewidth": 0,
             "ticks": ""
            },
            "type": "contourcarpet"
           }
          ],
          "heatmap": [
           {
            "colorbar": {
             "outlinewidth": 0,
             "ticks": ""
            },
            "colorscale": [
             [
              0,
              "#0d0887"
             ],
             [
              0.1111111111111111,
              "#46039f"
             ],
             [
              0.2222222222222222,
              "#7201a8"
             ],
             [
              0.3333333333333333,
              "#9c179e"
             ],
             [
              0.4444444444444444,
              "#bd3786"
             ],
             [
              0.5555555555555556,
              "#d8576b"
             ],
             [
              0.6666666666666666,
              "#ed7953"
             ],
             [
              0.7777777777777778,
              "#fb9f3a"
             ],
             [
              0.8888888888888888,
              "#fdca26"
             ],
             [
              1,
              "#f0f921"
             ]
            ],
            "type": "heatmap"
           }
          ],
          "heatmapgl": [
           {
            "colorbar": {
             "outlinewidth": 0,
             "ticks": ""
            },
            "colorscale": [
             [
              0,
              "#0d0887"
             ],
             [
              0.1111111111111111,
              "#46039f"
             ],
             [
              0.2222222222222222,
              "#7201a8"
             ],
             [
              0.3333333333333333,
              "#9c179e"
             ],
             [
              0.4444444444444444,
              "#bd3786"
             ],
             [
              0.5555555555555556,
              "#d8576b"
             ],
             [
              0.6666666666666666,
              "#ed7953"
             ],
             [
              0.7777777777777778,
              "#fb9f3a"
             ],
             [
              0.8888888888888888,
              "#fdca26"
             ],
             [
              1,
              "#f0f921"
             ]
            ],
            "type": "heatmapgl"
           }
          ],
          "histogram": [
           {
            "marker": {
             "pattern": {
              "fillmode": "overlay",
              "size": 10,
              "solidity": 0.2
             }
            },
            "type": "histogram"
           }
          ],
          "histogram2d": [
           {
            "colorbar": {
             "outlinewidth": 0,
             "ticks": ""
            },
            "colorscale": [
             [
              0,
              "#0d0887"
             ],
             [
              0.1111111111111111,
              "#46039f"
             ],
             [
              0.2222222222222222,
              "#7201a8"
             ],
             [
              0.3333333333333333,
              "#9c179e"
             ],
             [
              0.4444444444444444,
              "#bd3786"
             ],
             [
              0.5555555555555556,
              "#d8576b"
             ],
             [
              0.6666666666666666,
              "#ed7953"
             ],
             [
              0.7777777777777778,
              "#fb9f3a"
             ],
             [
              0.8888888888888888,
              "#fdca26"
             ],
             [
              1,
              "#f0f921"
             ]
            ],
            "type": "histogram2d"
           }
          ],
          "histogram2dcontour": [
           {
            "colorbar": {
             "outlinewidth": 0,
             "ticks": ""
            },
            "colorscale": [
             [
              0,
              "#0d0887"
             ],
             [
              0.1111111111111111,
              "#46039f"
             ],
             [
              0.2222222222222222,
              "#7201a8"
             ],
             [
              0.3333333333333333,
              "#9c179e"
             ],
             [
              0.4444444444444444,
              "#bd3786"
             ],
             [
              0.5555555555555556,
              "#d8576b"
             ],
             [
              0.6666666666666666,
              "#ed7953"
             ],
             [
              0.7777777777777778,
              "#fb9f3a"
             ],
             [
              0.8888888888888888,
              "#fdca26"
             ],
             [
              1,
              "#f0f921"
             ]
            ],
            "type": "histogram2dcontour"
           }
          ],
          "mesh3d": [
           {
            "colorbar": {
             "outlinewidth": 0,
             "ticks": ""
            },
            "type": "mesh3d"
           }
          ],
          "parcoords": [
           {
            "line": {
             "colorbar": {
              "outlinewidth": 0,
              "ticks": ""
             }
            },
            "type": "parcoords"
           }
          ],
          "pie": [
           {
            "automargin": true,
            "type": "pie"
           }
          ],
          "scatter": [
           {
            "fillpattern": {
             "fillmode": "overlay",
             "size": 10,
             "solidity": 0.2
            },
            "type": "scatter"
           }
          ],
          "scatter3d": [
           {
            "line": {
             "colorbar": {
              "outlinewidth": 0,
              "ticks": ""
             }
            },
            "marker": {
             "colorbar": {
              "outlinewidth": 0,
              "ticks": ""
             }
            },
            "type": "scatter3d"
           }
          ],
          "scattercarpet": [
           {
            "marker": {
             "colorbar": {
              "outlinewidth": 0,
              "ticks": ""
             }
            },
            "type": "scattercarpet"
           }
          ],
          "scattergeo": [
           {
            "marker": {
             "colorbar": {
              "outlinewidth": 0,
              "ticks": ""
             }
            },
            "type": "scattergeo"
           }
          ],
          "scattergl": [
           {
            "marker": {
             "colorbar": {
              "outlinewidth": 0,
              "ticks": ""
             }
            },
            "type": "scattergl"
           }
          ],
          "scattermapbox": [
           {
            "marker": {
             "colorbar": {
              "outlinewidth": 0,
              "ticks": ""
             }
            },
            "type": "scattermapbox"
           }
          ],
          "scatterpolar": [
           {
            "marker": {
             "colorbar": {
              "outlinewidth": 0,
              "ticks": ""
             }
            },
            "type": "scatterpolar"
           }
          ],
          "scatterpolargl": [
           {
            "marker": {
             "colorbar": {
              "outlinewidth": 0,
              "ticks": ""
             }
            },
            "type": "scatterpolargl"
           }
          ],
          "scatterternary": [
           {
            "marker": {
             "colorbar": {
              "outlinewidth": 0,
              "ticks": ""
             }
            },
            "type": "scatterternary"
           }
          ],
          "surface": [
           {
            "colorbar": {
             "outlinewidth": 0,
             "ticks": ""
            },
            "colorscale": [
             [
              0,
              "#0d0887"
             ],
             [
              0.1111111111111111,
              "#46039f"
             ],
             [
              0.2222222222222222,
              "#7201a8"
             ],
             [
              0.3333333333333333,
              "#9c179e"
             ],
             [
              0.4444444444444444,
              "#bd3786"
             ],
             [
              0.5555555555555556,
              "#d8576b"
             ],
             [
              0.6666666666666666,
              "#ed7953"
             ],
             [
              0.7777777777777778,
              "#fb9f3a"
             ],
             [
              0.8888888888888888,
              "#fdca26"
             ],
             [
              1,
              "#f0f921"
             ]
            ],
            "type": "surface"
           }
          ],
          "table": [
           {
            "cells": {
             "fill": {
              "color": "#EBF0F8"
             },
             "line": {
              "color": "white"
             }
            },
            "header": {
             "fill": {
              "color": "#C8D4E3"
             },
             "line": {
              "color": "white"
             }
            },
            "type": "table"
           }
          ]
         },
         "layout": {
          "annotationdefaults": {
           "arrowcolor": "#2a3f5f",
           "arrowhead": 0,
           "arrowwidth": 1
          },
          "autotypenumbers": "strict",
          "coloraxis": {
           "colorbar": {
            "outlinewidth": 0,
            "ticks": ""
           }
          },
          "colorscale": {
           "diverging": [
            [
             0,
             "#8e0152"
            ],
            [
             0.1,
             "#c51b7d"
            ],
            [
             0.2,
             "#de77ae"
            ],
            [
             0.3,
             "#f1b6da"
            ],
            [
             0.4,
             "#fde0ef"
            ],
            [
             0.5,
             "#f7f7f7"
            ],
            [
             0.6,
             "#e6f5d0"
            ],
            [
             0.7,
             "#b8e186"
            ],
            [
             0.8,
             "#7fbc41"
            ],
            [
             0.9,
             "#4d9221"
            ],
            [
             1,
             "#276419"
            ]
           ],
           "sequential": [
            [
             0,
             "#0d0887"
            ],
            [
             0.1111111111111111,
             "#46039f"
            ],
            [
             0.2222222222222222,
             "#7201a8"
            ],
            [
             0.3333333333333333,
             "#9c179e"
            ],
            [
             0.4444444444444444,
             "#bd3786"
            ],
            [
             0.5555555555555556,
             "#d8576b"
            ],
            [
             0.6666666666666666,
             "#ed7953"
            ],
            [
             0.7777777777777778,
             "#fb9f3a"
            ],
            [
             0.8888888888888888,
             "#fdca26"
            ],
            [
             1,
             "#f0f921"
            ]
           ],
           "sequentialminus": [
            [
             0,
             "#0d0887"
            ],
            [
             0.1111111111111111,
             "#46039f"
            ],
            [
             0.2222222222222222,
             "#7201a8"
            ],
            [
             0.3333333333333333,
             "#9c179e"
            ],
            [
             0.4444444444444444,
             "#bd3786"
            ],
            [
             0.5555555555555556,
             "#d8576b"
            ],
            [
             0.6666666666666666,
             "#ed7953"
            ],
            [
             0.7777777777777778,
             "#fb9f3a"
            ],
            [
             0.8888888888888888,
             "#fdca26"
            ],
            [
             1,
             "#f0f921"
            ]
           ]
          },
          "colorway": [
           "#636efa",
           "#EF553B",
           "#00cc96",
           "#ab63fa",
           "#FFA15A",
           "#19d3f3",
           "#FF6692",
           "#B6E880",
           "#FF97FF",
           "#FECB52"
          ],
          "font": {
           "color": "#2a3f5f"
          },
          "geo": {
           "bgcolor": "white",
           "lakecolor": "white",
           "landcolor": "#E5ECF6",
           "showlakes": true,
           "showland": true,
           "subunitcolor": "white"
          },
          "hoverlabel": {
           "align": "left"
          },
          "hovermode": "closest",
          "mapbox": {
           "style": "light"
          },
          "paper_bgcolor": "white",
          "plot_bgcolor": "#E5ECF6",
          "polar": {
           "angularaxis": {
            "gridcolor": "white",
            "linecolor": "white",
            "ticks": ""
           },
           "bgcolor": "#E5ECF6",
           "radialaxis": {
            "gridcolor": "white",
            "linecolor": "white",
            "ticks": ""
           }
          },
          "scene": {
           "xaxis": {
            "backgroundcolor": "#E5ECF6",
            "gridcolor": "white",
            "gridwidth": 2,
            "linecolor": "white",
            "showbackground": true,
            "ticks": "",
            "zerolinecolor": "white"
           },
           "yaxis": {
            "backgroundcolor": "#E5ECF6",
            "gridcolor": "white",
            "gridwidth": 2,
            "linecolor": "white",
            "showbackground": true,
            "ticks": "",
            "zerolinecolor": "white"
           },
           "zaxis": {
            "backgroundcolor": "#E5ECF6",
            "gridcolor": "white",
            "gridwidth": 2,
            "linecolor": "white",
            "showbackground": true,
            "ticks": "",
            "zerolinecolor": "white"
           }
          },
          "shapedefaults": {
           "line": {
            "color": "#2a3f5f"
           }
          },
          "ternary": {
           "aaxis": {
            "gridcolor": "white",
            "linecolor": "white",
            "ticks": ""
           },
           "baxis": {
            "gridcolor": "white",
            "linecolor": "white",
            "ticks": ""
           },
           "bgcolor": "#E5ECF6",
           "caxis": {
            "gridcolor": "white",
            "linecolor": "white",
            "ticks": ""
           }
          },
          "title": {
           "x": 0.05
          },
          "xaxis": {
           "automargin": true,
           "gridcolor": "white",
           "linecolor": "white",
           "ticks": "",
           "title": {
            "standoff": 15
           },
           "zerolinecolor": "white",
           "zerolinewidth": 2
          },
          "yaxis": {
           "automargin": true,
           "gridcolor": "white",
           "linecolor": "white",
           "ticks": "",
           "title": {
            "standoff": 15
           },
           "zerolinecolor": "white",
           "zerolinewidth": 2
          }
         }
        },
        "title": {
         "text": "Comparison of all-mpnet-base-v2 vs multi-qa-mpnet-base-dot-v1"
        },
        "xaxis": {
         "anchor": "y",
         "domain": [
          0,
          1
         ],
         "title": {
          "text": "all-mpnet-base-v2"
         }
        },
        "yaxis": {
         "anchor": "x",
         "domain": [
          0,
          1
         ],
         "title": {
          "text": "multi-qa-mpnet-base-dot-v1"
         }
        }
       }
      }
     },
     "metadata": {},
     "output_type": "display_data"
    },
    {
     "data": {
      "application/vnd.plotly.v1+json": {
       "config": {
        "plotlyServerURL": "https://plot.ly"
       },
       "data": [
        {
         "marker": {
          "opacity": 0.5
         },
         "mode": "markers",
         "name": "He said th",
         "type": "scatter",
         "x": [
          1894,
          1874,
          1870
         ],
         "y": [
          1894,
          1870,
          1899
         ]
        },
        {
         "marker": {
          "opacity": 0.5
         },
         "mode": "markers",
         "name": "`` Usually",
         "type": "scatter",
         "x": [
          1596,
          1592,
          1601
         ],
         "y": [
          1596,
          1695,
          1592
         ]
        },
        {
         "marker": {
          "opacity": 0.5
         },
         "mode": "markers",
         "name": "Robinson t",
         "type": "scatter",
         "x": [
          1942,
          1943,
          1939
         ],
         "y": [
          1942,
          1944,
          1943
         ]
        },
        {
         "marker": {
          "opacity": 0.5
         },
         "mode": "markers",
         "name": "`` I'm a m",
         "type": "scatter",
         "x": [
          593,
          592,
          913
         ],
         "y": [
          593,
          592,
          1599
         ]
        },
        {
         "marker": {
          "opacity": 0.5
         },
         "mode": "markers",
         "name": "Each had b",
         "type": "scatter",
         "x": [
          1827,
          1786,
          747
         ],
         "y": [
          1827,
          1284,
          1053
         ]
        },
        {
         "marker": {
          "opacity": 0.5
         },
         "mode": "markers",
         "name": "Mrs. Arthu",
         "type": "scatter",
         "x": [
          1699,
          1727,
          1631
         ],
         "y": [
          1699,
          1726,
          1737
         ]
        },
        {
         "marker": {
          "opacity": 0.5
         },
         "mode": "markers",
         "name": "Dr. Clark ",
         "type": "scatter",
         "x": [
          171,
          167,
          170
         ],
         "y": [
          171,
          167,
          169
         ]
        },
        {
         "marker": {
          "opacity": 0.5
         },
         "mode": "markers",
         "name": "Aj .",
         "type": "scatter",
         "x": [
          34,
          1836,
          1632
         ],
         "y": [
          34,
          663,
          1632
         ]
        },
        {
         "marker": {
          "opacity": 0.5
         },
         "mode": "markers",
         "name": "Gauer work",
         "type": "scatter",
         "x": [
          1212,
          1276,
          1282
         ],
         "y": [
          1212,
          1120,
          1351
         ]
        },
        {
         "marker": {
          "opacity": 0.5
         },
         "mode": "markers",
         "name": "The three ",
         "type": "scatter",
         "x": [
          628,
          618,
          630
         ],
         "y": [
          628,
          618,
          621
         ]
        },
        {
         "marker": {
          "opacity": 0.5
         },
         "mode": "markers",
         "name": "Last week ",
         "type": "scatter",
         "x": [
          867,
          868,
          845
         ],
         "y": [
          867,
          868,
          865
         ]
        },
        {
         "marker": {
          "opacity": 0.5
         },
         "mode": "markers",
         "name": "Backs high",
         "type": "scatter",
         "x": [
          776,
          764,
          763
         ],
         "y": [
          776,
          764,
          778
         ]
        },
        {
         "marker": {
          "opacity": 0.5
         },
         "mode": "markers",
         "name": "`` Our int",
         "type": "scatter",
         "x": [
          1085,
          1086,
          1088
         ],
         "y": [
          1085,
          1086,
          1390
         ]
        },
        {
         "marker": {
          "opacity": 0.5
         },
         "mode": "markers",
         "name": "Managing D",
         "type": "scatter",
         "x": [
          733,
          537,
          529
         ],
         "y": [
          733,
          529,
          532
         ]
        },
        {
         "marker": {
          "opacity": 0.5
         },
         "mode": "markers",
         "name": "Legislator",
         "type": "scatter",
         "x": [
          266,
          223,
          269
         ],
         "y": [
          266,
          223,
          221
         ]
        },
        {
         "marker": {
          "opacity": 0.5
         },
         "mode": "markers",
         "name": "Miss Burke",
         "type": "scatter",
         "x": [
          1486,
          1474,
          1480
         ],
         "y": [
          1486,
          1483,
          1480
         ]
        },
        {
         "marker": {
          "opacity": 0.5
         },
         "mode": "markers",
         "name": "The only d",
         "type": "scatter",
         "x": [
          393,
          392,
          396
         ],
         "y": [
          393,
          392,
          1192
         ]
        },
        {
         "marker": {
          "opacity": 0.5
         },
         "mode": "markers",
         "name": "The Mayor ",
         "type": "scatter",
         "x": [
          547,
          1316,
          545
         ],
         "y": [
          547,
          538,
          109
         ]
        },
        {
         "marker": {
          "opacity": 0.5
         },
         "mode": "markers",
         "name": "A capsule ",
         "type": "scatter",
         "x": [
          910,
          907,
          912
         ],
         "y": [
          910,
          907,
          895
         ]
        },
        {
         "marker": {
          "opacity": 0.5
         },
         "mode": "markers",
         "name": "They have ",
         "type": "scatter",
         "x": [
          28,
          1446,
          1655
         ],
         "y": [
          28,
          1742,
          1733
         ]
        },
        {
         "marker": {
          "opacity": 0.5
         },
         "mode": "markers",
         "name": "Regrets at",
         "type": "scatter",
         "x": [
          452,
          465,
          441
         ],
         "y": [
          452,
          469,
          512
         ]
        },
        {
         "marker": {
          "opacity": 0.5
         },
         "mode": "markers",
         "name": "A couple o",
         "type": "scatter",
         "x": [
          1270,
          1311,
          1266
         ],
         "y": [
          1270,
          1311,
          1320
         ]
        },
        {
         "marker": {
          "opacity": 0.5
         },
         "mode": "markers",
         "name": "Three were",
         "type": "scatter",
         "x": [
          931,
          973,
          936
         ],
         "y": [
          931,
          973,
          936
         ]
        },
        {
         "marker": {
          "opacity": 0.5
         },
         "mode": "markers",
         "name": "From the o",
         "type": "scatter",
         "x": [
          1846,
          1845,
          271
         ],
         "y": [
          1846,
          1845,
          521
         ]
        },
        {
         "marker": {
          "opacity": 0.5
         },
         "mode": "markers",
         "name": "He will be",
         "type": "scatter",
         "x": [
          50,
          1209,
          39
         ],
         "y": [
          50,
          1209,
          826
         ]
        },
        {
         "marker": {
          "opacity": 0.5
         },
         "mode": "markers",
         "name": "Wexler had",
         "type": "scatter",
         "x": [
          216,
          208,
          209
         ],
         "y": [
          216,
          209,
          208
         ]
        },
        {
         "marker": {
          "opacity": 0.5
         },
         "mode": "markers",
         "name": "Chester O.",
         "type": "scatter",
         "x": [
          175,
          1741,
          1828
         ],
         "y": [
          175,
          880,
          937
         ]
        },
        {
         "marker": {
          "opacity": 0.5
         },
         "mode": "markers",
         "name": "Mrs. Henry",
         "type": "scatter",
         "x": [
          1454,
          1668,
          1579
         ],
         "y": [
          1454,
          1668,
          1580
         ]
        },
        {
         "marker": {
          "opacity": 0.5
         },
         "mode": "markers",
         "name": "I never di",
         "type": "scatter",
         "x": [
          1020,
          1019,
          1053
         ],
         "y": [
          1020,
          1019,
          1043
         ]
        },
        {
         "marker": {
          "opacity": 0.5
         },
         "mode": "markers",
         "name": "On Friday ",
         "type": "scatter",
         "x": [
          862,
          828,
          863
         ],
         "y": [
          862,
          828,
          863
         ]
        },
        {
         "marker": {
          "opacity": 0.5
         },
         "mode": "markers",
         "name": "Georgia Re",
         "type": "scatter",
         "x": [
          40,
          46,
          44
         ],
         "y": [
          40,
          501,
          439
         ]
        },
        {
         "marker": {
          "opacity": 0.5
         },
         "mode": "markers",
         "name": "`` He knoc",
         "type": "scatter",
         "x": [
          1049,
          1120,
          1387
         ],
         "y": [
          1049,
          1055,
          1063
         ]
        },
        {
         "marker": {
          "opacity": 0.5
         },
         "mode": "markers",
         "name": "So he woun",
         "type": "scatter",
         "x": [
          1285,
          1297,
          1286
         ],
         "y": [
          1285,
          1297,
          1294
         ]
        },
        {
         "marker": {
          "opacity": 0.5
         },
         "mode": "markers",
         "name": "He's been ",
         "type": "scatter",
         "x": [
          1503,
          1809,
          1502
         ],
         "y": [
          1503,
          1542,
          1502
         ]
        },
        {
         "marker": {
          "opacity": 0.5
         },
         "mode": "markers",
         "name": "The change",
         "type": "scatter",
         "x": [
          883,
          884,
          882
         ],
         "y": [
          883,
          882,
          884
         ]
        },
        {
         "marker": {
          "opacity": 0.5
         },
         "mode": "markers",
         "name": "Concern ba",
         "type": "scatter",
         "x": [
          735,
          736,
          512
         ],
         "y": [
          735,
          736,
          740
         ]
        },
        {
         "marker": {
          "opacity": 0.5
         },
         "mode": "markers",
         "name": "Mrs. Roger",
         "type": "scatter",
         "x": [
          1578,
          1744,
          1645
         ],
         "y": [
          1578,
          1731,
          1758
         ]
        },
        {
         "marker": {
          "opacity": 0.5
         },
         "mode": "markers",
         "name": "While deta",
         "type": "scatter",
         "x": [
          117,
          116,
          418
         ],
         "y": [
          117,
          485,
          69
         ]
        },
        {
         "marker": {
          "opacity": 0.5
         },
         "mode": "markers",
         "name": "He assured",
         "type": "scatter",
         "x": [
          421,
          385,
          855
         ],
         "y": [
          421,
          414,
          908
         ]
        },
        {
         "marker": {
          "opacity": 0.5
         },
         "mode": "markers",
         "name": "In another",
         "type": "scatter",
         "x": [
          1603,
          1605,
          1602
         ],
         "y": [
          1603,
          1553,
          1610
         ]
        },
        {
         "marker": {
          "opacity": 0.5
         },
         "mode": "markers",
         "name": "Barber , w",
         "type": "scatter",
         "x": [
          72,
          74,
          71
         ],
         "y": [
          72,
          67,
          74
         ]
        },
        {
         "marker": {
          "opacity": 0.5
         },
         "mode": "markers",
         "name": "Only Bucky",
         "type": "scatter",
         "x": [
          1206,
          1205,
          1177
         ],
         "y": [
          1206,
          1177,
          1173
         ]
        },
        {
         "marker": {
          "opacity": 0.5
         },
         "mode": "markers",
         "name": "know enoug",
         "type": "scatter",
         "x": [
          755,
          749,
          752
         ],
         "y": [
          755,
          751,
          749
         ]
        },
        {
         "marker": {
          "opacity": 0.5
         },
         "mode": "markers",
         "name": "After a le",
         "type": "scatter",
         "x": [
          1347,
          1346,
          1349
         ],
         "y": [
          1347,
          1346,
          1349
         ]
        },
        {
         "marker": {
          "opacity": 0.5
         },
         "mode": "markers",
         "name": "His sense ",
         "type": "scatter",
         "x": [
          352,
          346,
          350
         ],
         "y": [
          352,
          346,
          353
         ]
        },
        {
         "marker": {
          "opacity": 0.5
         },
         "mode": "markers",
         "name": "It made hi",
         "type": "scatter",
         "x": [
          1271,
          1275,
          1324
         ],
         "y": [
          1271,
          1543,
          1426
         ]
        },
        {
         "marker": {
          "opacity": 0.5
         },
         "mode": "markers",
         "name": "It was gre",
         "type": "scatter",
         "x": [
          442,
          857,
          275
         ],
         "y": [
          442,
          648,
          1721
         ]
        },
        {
         "marker": {
          "opacity": 0.5
         },
         "mode": "markers",
         "name": "Services t",
         "type": "scatter",
         "x": [
          1988,
          1987,
          1998
         ],
         "y": [
          1988,
          1987,
          1993
         ]
        },
        {
         "marker": {
          "opacity": 0.5
         },
         "mode": "markers",
         "name": "As we bull",
         "type": "scatter",
         "x": [
          1505,
          1436,
          1629
         ],
         "y": [
          1505,
          1570,
          1485
         ]
        },
        {
         "marker": {
          "opacity": 0.5
         },
         "mode": "markers",
         "name": "The contra",
         "type": "scatter",
         "x": [
          742,
          743,
          729
         ],
         "y": [
          742,
          743,
          729
         ]
        },
        {
         "marker": {
          "opacity": 0.5
         },
         "mode": "markers",
         "name": "He said he",
         "type": "scatter",
         "x": [
          1158,
          1157,
          1150
         ],
         "y": [
          1158,
          1157,
          261
         ]
        },
        {
         "marker": {
          "opacity": 0.5
         },
         "mode": "markers",
         "name": "Gene Marsh",
         "type": "scatter",
         "x": [
          1556,
          1553,
          1340
         ],
         "y": [
          1556,
          1553,
          907
         ]
        },
        {
         "marker": {
          "opacity": 0.5
         },
         "mode": "markers",
         "name": "When the A",
         "type": "scatter",
         "x": [
          1761,
          1645,
          1661
         ],
         "y": [
          1761,
          1744,
          1758
         ]
        },
        {
         "marker": {
          "opacity": 0.5
         },
         "mode": "markers",
         "name": "Some 30 sp",
         "type": "scatter",
         "x": [
          1983,
          1984,
          217
         ],
         "y": [
          1983,
          218,
          1982
         ]
        },
        {
         "marker": {
          "opacity": 0.5
         },
         "mode": "markers",
         "name": "Yes , with",
         "type": "scatter",
         "x": [
          1171,
          880,
          1580
         ],
         "y": [
          1171,
          1178,
          1718
         ]
        },
        {
         "marker": {
          "opacity": 0.5
         },
         "mode": "markers",
         "name": "The educat",
         "type": "scatter",
         "x": [
          576,
          580,
          139
         ],
         "y": [
          576,
          580,
          578
         ]
        },
        {
         "marker": {
          "opacity": 0.5
         },
         "mode": "markers",
         "name": "`` Lindy M",
         "type": "scatter",
         "x": [
          1352,
          1355,
          1362
         ],
         "y": [
          1352,
          1057,
          1164
         ]
        },
        {
         "marker": {
          "opacity": 0.5
         },
         "mode": "markers",
         "name": "Kowalski ,",
         "type": "scatter",
         "x": [
          1996,
          1824,
          1998
         ],
         "y": [
          1996,
          1994,
          1997
         ]
        },
        {
         "marker": {
          "opacity": 0.5
         },
         "mode": "markers",
         "name": "But from a",
         "type": "scatter",
         "x": [
          643,
          1673,
          306
         ],
         "y": [
          643,
          330,
          666
         ]
        },
        {
         "marker": {
          "opacity": 0.5
         },
         "mode": "markers",
         "name": "I remember",
         "type": "scatter",
         "x": [
          1173,
          1418,
          1133
         ],
         "y": [
          1173,
          1206,
          1418
         ]
        },
        {
         "marker": {
          "opacity": 0.5
         },
         "mode": "markers",
         "name": "The women ",
         "type": "scatter",
         "x": [
          1667,
          1753,
          1721
         ],
         "y": [
          1667,
          1721,
          1702
         ]
        },
        {
         "marker": {
          "opacity": 0.5
         },
         "mode": "markers",
         "name": "The 22-yea",
         "type": "scatter",
         "x": [
          970,
          172,
          953
         ],
         "y": [
          970,
          958,
          976
         ]
        },
        {
         "marker": {
          "opacity": 0.5
         },
         "mode": "markers",
         "name": "Along with",
         "type": "scatter",
         "x": [
          363,
          374,
          354
         ],
         "y": [
          363,
          360,
          374
         ]
        },
        {
         "marker": {
          "opacity": 0.5
         },
         "mode": "markers",
         "name": "!",
         "type": "scatter",
         "x": [
          1470,
          1521,
          1624
         ],
         "y": [
          1535,
          1531,
          1523
         ]
        },
        {
         "marker": {
          "opacity": 0.5
         },
         "mode": "markers",
         "name": "She was mo",
         "type": "scatter",
         "x": [
          989,
          1258,
          256
         ],
         "y": [
          989,
          774,
          1692
         ]
        },
        {
         "marker": {
          "opacity": 0.5
         },
         "mode": "markers",
         "name": "He succeed",
         "type": "scatter",
         "x": [
          1209,
          50,
          39
         ],
         "y": [
          1209,
          1226,
          50
         ]
        },
        {
         "marker": {
          "opacity": 0.5
         },
         "mode": "markers",
         "name": "Some even ",
         "type": "scatter",
         "x": [
          1620,
          1619,
          1610
         ],
         "y": [
          1620,
          1619,
          875
         ]
        },
        {
         "marker": {
          "opacity": 0.5
         },
         "mode": "markers",
         "name": "Denials we",
         "type": "scatter",
         "x": [
          916,
          915,
          203
         ],
         "y": [
          916,
          1976,
          196
         ]
        },
        {
         "marker": {
          "opacity": 0.5
         },
         "mode": "markers",
         "name": "They knew ",
         "type": "scatter",
         "x": [
          1383,
          1382,
          1917
         ],
         "y": [
          1383,
          707,
          649
         ]
        },
        {
         "marker": {
          "opacity": 0.5
         },
         "mode": "markers",
         "name": "Asked Palm",
         "type": "scatter",
         "x": [
          1315,
          449,
          1273
         ],
         "y": [
          1315,
          1297,
          1307
         ]
        },
        {
         "marker": {
          "opacity": 0.5
         },
         "mode": "markers",
         "name": "And after ",
         "type": "scatter",
         "x": [
          335,
          334,
          24
         ],
         "y": [
          335,
          334,
          339
         ]
        },
        {
         "marker": {
          "opacity": 0.5
         },
         "mode": "markers",
         "name": "Mr. Hawksl",
         "type": "scatter",
         "x": [
          372,
          369,
          623
         ],
         "y": [
          372,
          364,
          369
         ]
        },
        {
         "marker": {
          "opacity": 0.5
         },
         "mode": "markers",
         "name": "Miss Joan ",
         "type": "scatter",
         "x": [
          1636,
          1653,
          1637
         ],
         "y": [
          1636,
          1653,
          1645
         ]
        },
        {
         "marker": {
          "opacity": 0.5
         },
         "mode": "markers",
         "name": "One advant",
         "type": "scatter",
         "x": [
          365,
          354,
          359
         ],
         "y": [
          365,
          354,
          356
         ]
        },
        {
         "marker": {
          "opacity": 0.5
         },
         "mode": "markers",
         "name": "He was cal",
         "type": "scatter",
         "x": [
          1092,
          1277,
          1023
         ],
         "y": [
          1092,
          1277,
          1099
         ]
        },
        {
         "marker": {
          "opacity": 0.5
         },
         "mode": "markers",
         "name": "Division s",
         "type": "scatter",
         "x": [
          662,
          661,
          659
         ],
         "y": [
          662,
          661,
          658
         ]
        },
        {
         "marker": {
          "opacity": 0.5
         },
         "mode": "markers",
         "name": "The most v",
         "type": "scatter",
         "x": [
          1379,
          1380,
          1262
         ],
         "y": [
          1379,
          1386,
          1387
         ]
        },
        {
         "marker": {
          "opacity": 0.5
         },
         "mode": "markers",
         "name": "We've been",
         "type": "scatter",
         "x": [
          1670,
          1070,
          1069
         ],
         "y": [
          1670,
          1070,
          1819
         ]
        },
        {
         "marker": {
          "opacity": 0.5
         },
         "mode": "markers",
         "name": "Rice has n",
         "type": "scatter",
         "x": [
          1065,
          1060,
          1073
         ],
         "y": [
          1065,
          1061,
          1073
         ]
        },
        {
         "marker": {
          "opacity": 0.5
         },
         "mode": "markers",
         "name": "He suggest",
         "type": "scatter",
         "x": [
          400,
          43,
          520
         ],
         "y": [
          400,
          541,
          88
         ]
        },
        {
         "marker": {
          "opacity": 0.5
         },
         "mode": "markers",
         "name": "There are ",
         "type": "scatter",
         "x": [
          1192,
          565,
          430
         ],
         "y": [
          1192,
          393,
          390
         ]
        },
        {
         "marker": {
          "opacity": 0.5
         },
         "mode": "markers",
         "name": "Nursing ho",
         "type": "scatter",
         "x": [
          234,
          235,
          236
         ],
         "y": [
          234,
          236,
          235
         ]
        },
        {
         "marker": {
          "opacity": 0.5
         },
         "mode": "markers",
         "name": "He also re",
         "type": "scatter",
         "x": [
          168,
          634,
          828
         ],
         "y": [
          168,
          167,
          828
         ]
        },
        {
         "marker": {
          "opacity": 0.5
         },
         "mode": "markers",
         "name": "Decisions ",
         "type": "scatter",
         "x": [
          201,
          202,
          200
         ],
         "y": [
          201,
          202,
          122
         ]
        },
        {
         "marker": {
          "opacity": 0.5
         },
         "mode": "markers",
         "name": "Other spea",
         "type": "scatter",
         "x": [
          872,
          1265,
          870
         ],
         "y": [
          872,
          1725,
          869
         ]
        },
        {
         "marker": {
          "opacity": 0.5
         },
         "mode": "markers",
         "name": "Ordinary C",
         "type": "scatter",
         "x": [
          79,
          88,
          87
         ],
         "y": [
          79,
          88,
          87
         ]
        },
        {
         "marker": {
          "opacity": 0.5
         },
         "mode": "markers",
         "name": "Just when ",
         "type": "scatter",
         "x": [
          1163,
          1412,
          1186
         ],
         "y": [
          1163,
          1186,
          1432
         ]
        },
        {
         "marker": {
          "opacity": 0.5
         },
         "mode": "markers",
         "name": "An assista",
         "type": "scatter",
         "x": [
          564,
          388,
          351
         ],
         "y": [
          564,
          825,
          350
         ]
        },
        {
         "marker": {
          "opacity": 0.5
         },
         "mode": "markers",
         "name": "They , on ",
         "type": "scatter",
         "x": [
          1925,
          1924,
          1932
         ],
         "y": [
          1925,
          1924,
          1272
         ]
        },
        {
         "marker": {
          "opacity": 0.5
         },
         "mode": "markers",
         "name": "The $6,100",
         "type": "scatter",
         "x": [
          574,
          568,
          514
         ],
         "y": [
          574,
          568,
          124
         ]
        },
        {
         "marker": {
          "opacity": 0.5
         },
         "mode": "markers",
         "name": "But we hav",
         "type": "scatter",
         "x": [
          1680,
          1676,
          1684
         ],
         "y": [
          1680,
          1676,
          1684
         ]
        },
        {
         "marker": {
          "opacity": 0.5
         },
         "mode": "markers",
         "name": "Skorich re",
         "type": "scatter",
         "x": [
          1208,
          1220,
          1771
         ],
         "y": [
          1208,
          1220,
          1227
         ]
        },
        {
         "marker": {
          "opacity": 0.5
         },
         "mode": "markers",
         "name": "Districts ",
         "type": "scatter",
         "x": [
          677,
          679,
          721
         ],
         "y": [
          677,
          679,
          717
         ]
        },
        {
         "marker": {
          "opacity": 0.5
         },
         "mode": "markers",
         "name": "The aged c",
         "type": "scatter",
         "x": [
          223,
          266,
          221
         ],
         "y": [
          223,
          266,
          222
         ]
        },
        {
         "marker": {
          "opacity": 0.5
         },
         "mode": "markers",
         "name": "`` We want",
         "type": "scatter",
         "x": [
          757,
          759,
          758
         ],
         "y": [
          757,
          758,
          759
         ]
        },
        {
         "marker": {
          "opacity": 0.5
         },
         "mode": "markers",
         "name": "Now 38 , M",
         "type": "scatter",
         "x": [
          1843,
          1845,
          1842
         ],
         "y": [
          1843,
          1845,
          1842
         ]
        },
        {
         "marker": {
          "opacity": 0.5
         },
         "mode": "markers",
         "name": "The U. S. ",
         "type": "scatter",
         "x": [
          590,
          591,
          575
         ],
         "y": [
          590,
          591,
          582
         ]
        },
        {
         "marker": {
          "opacity": 0.5
         },
         "mode": "markers",
         "name": "Dick McAul",
         "type": "scatter",
         "x": [
          1110,
          1114,
          1111
         ],
         "y": [
          1110,
          1114,
          945
         ]
        },
        {
         "marker": {
          "opacity": 0.5
         },
         "mode": "markers",
         "name": "Tactics st",
         "type": "scatter",
         "x": [
          624,
          304,
          298
         ],
         "y": [
          624,
          297,
          293
         ]
        },
        {
         "marker": {
          "opacity": 0.5
         },
         "mode": "markers",
         "name": "Her husban",
         "type": "scatter",
         "x": [
          1832,
          1831,
          1794
         ],
         "y": [
          1832,
          1831,
          1971
         ]
        }
       ],
       "layout": {
        "template": {
         "data": {
          "bar": [
           {
            "error_x": {
             "color": "#2a3f5f"
            },
            "error_y": {
             "color": "#2a3f5f"
            },
            "marker": {
             "line": {
              "color": "#E5ECF6",
              "width": 0.5
             },
             "pattern": {
              "fillmode": "overlay",
              "size": 10,
              "solidity": 0.2
             }
            },
            "type": "bar"
           }
          ],
          "barpolar": [
           {
            "marker": {
             "line": {
              "color": "#E5ECF6",
              "width": 0.5
             },
             "pattern": {
              "fillmode": "overlay",
              "size": 10,
              "solidity": 0.2
             }
            },
            "type": "barpolar"
           }
          ],
          "carpet": [
           {
            "aaxis": {
             "endlinecolor": "#2a3f5f",
             "gridcolor": "white",
             "linecolor": "white",
             "minorgridcolor": "white",
             "startlinecolor": "#2a3f5f"
            },
            "baxis": {
             "endlinecolor": "#2a3f5f",
             "gridcolor": "white",
             "linecolor": "white",
             "minorgridcolor": "white",
             "startlinecolor": "#2a3f5f"
            },
            "type": "carpet"
           }
          ],
          "choropleth": [
           {
            "colorbar": {
             "outlinewidth": 0,
             "ticks": ""
            },
            "type": "choropleth"
           }
          ],
          "contour": [
           {
            "colorbar": {
             "outlinewidth": 0,
             "ticks": ""
            },
            "colorscale": [
             [
              0,
              "#0d0887"
             ],
             [
              0.1111111111111111,
              "#46039f"
             ],
             [
              0.2222222222222222,
              "#7201a8"
             ],
             [
              0.3333333333333333,
              "#9c179e"
             ],
             [
              0.4444444444444444,
              "#bd3786"
             ],
             [
              0.5555555555555556,
              "#d8576b"
             ],
             [
              0.6666666666666666,
              "#ed7953"
             ],
             [
              0.7777777777777778,
              "#fb9f3a"
             ],
             [
              0.8888888888888888,
              "#fdca26"
             ],
             [
              1,
              "#f0f921"
             ]
            ],
            "type": "contour"
           }
          ],
          "contourcarpet": [
           {
            "colorbar": {
             "outlinewidth": 0,
             "ticks": ""
            },
            "type": "contourcarpet"
           }
          ],
          "heatmap": [
           {
            "colorbar": {
             "outlinewidth": 0,
             "ticks": ""
            },
            "colorscale": [
             [
              0,
              "#0d0887"
             ],
             [
              0.1111111111111111,
              "#46039f"
             ],
             [
              0.2222222222222222,
              "#7201a8"
             ],
             [
              0.3333333333333333,
              "#9c179e"
             ],
             [
              0.4444444444444444,
              "#bd3786"
             ],
             [
              0.5555555555555556,
              "#d8576b"
             ],
             [
              0.6666666666666666,
              "#ed7953"
             ],
             [
              0.7777777777777778,
              "#fb9f3a"
             ],
             [
              0.8888888888888888,
              "#fdca26"
             ],
             [
              1,
              "#f0f921"
             ]
            ],
            "type": "heatmap"
           }
          ],
          "heatmapgl": [
           {
            "colorbar": {
             "outlinewidth": 0,
             "ticks": ""
            },
            "colorscale": [
             [
              0,
              "#0d0887"
             ],
             [
              0.1111111111111111,
              "#46039f"
             ],
             [
              0.2222222222222222,
              "#7201a8"
             ],
             [
              0.3333333333333333,
              "#9c179e"
             ],
             [
              0.4444444444444444,
              "#bd3786"
             ],
             [
              0.5555555555555556,
              "#d8576b"
             ],
             [
              0.6666666666666666,
              "#ed7953"
             ],
             [
              0.7777777777777778,
              "#fb9f3a"
             ],
             [
              0.8888888888888888,
              "#fdca26"
             ],
             [
              1,
              "#f0f921"
             ]
            ],
            "type": "heatmapgl"
           }
          ],
          "histogram": [
           {
            "marker": {
             "pattern": {
              "fillmode": "overlay",
              "size": 10,
              "solidity": 0.2
             }
            },
            "type": "histogram"
           }
          ],
          "histogram2d": [
           {
            "colorbar": {
             "outlinewidth": 0,
             "ticks": ""
            },
            "colorscale": [
             [
              0,
              "#0d0887"
             ],
             [
              0.1111111111111111,
              "#46039f"
             ],
             [
              0.2222222222222222,
              "#7201a8"
             ],
             [
              0.3333333333333333,
              "#9c179e"
             ],
             [
              0.4444444444444444,
              "#bd3786"
             ],
             [
              0.5555555555555556,
              "#d8576b"
             ],
             [
              0.6666666666666666,
              "#ed7953"
             ],
             [
              0.7777777777777778,
              "#fb9f3a"
             ],
             [
              0.8888888888888888,
              "#fdca26"
             ],
             [
              1,
              "#f0f921"
             ]
            ],
            "type": "histogram2d"
           }
          ],
          "histogram2dcontour": [
           {
            "colorbar": {
             "outlinewidth": 0,
             "ticks": ""
            },
            "colorscale": [
             [
              0,
              "#0d0887"
             ],
             [
              0.1111111111111111,
              "#46039f"
             ],
             [
              0.2222222222222222,
              "#7201a8"
             ],
             [
              0.3333333333333333,
              "#9c179e"
             ],
             [
              0.4444444444444444,
              "#bd3786"
             ],
             [
              0.5555555555555556,
              "#d8576b"
             ],
             [
              0.6666666666666666,
              "#ed7953"
             ],
             [
              0.7777777777777778,
              "#fb9f3a"
             ],
             [
              0.8888888888888888,
              "#fdca26"
             ],
             [
              1,
              "#f0f921"
             ]
            ],
            "type": "histogram2dcontour"
           }
          ],
          "mesh3d": [
           {
            "colorbar": {
             "outlinewidth": 0,
             "ticks": ""
            },
            "type": "mesh3d"
           }
          ],
          "parcoords": [
           {
            "line": {
             "colorbar": {
              "outlinewidth": 0,
              "ticks": ""
             }
            },
            "type": "parcoords"
           }
          ],
          "pie": [
           {
            "automargin": true,
            "type": "pie"
           }
          ],
          "scatter": [
           {
            "fillpattern": {
             "fillmode": "overlay",
             "size": 10,
             "solidity": 0.2
            },
            "type": "scatter"
           }
          ],
          "scatter3d": [
           {
            "line": {
             "colorbar": {
              "outlinewidth": 0,
              "ticks": ""
             }
            },
            "marker": {
             "colorbar": {
              "outlinewidth": 0,
              "ticks": ""
             }
            },
            "type": "scatter3d"
           }
          ],
          "scattercarpet": [
           {
            "marker": {
             "colorbar": {
              "outlinewidth": 0,
              "ticks": ""
             }
            },
            "type": "scattercarpet"
           }
          ],
          "scattergeo": [
           {
            "marker": {
             "colorbar": {
              "outlinewidth": 0,
              "ticks": ""
             }
            },
            "type": "scattergeo"
           }
          ],
          "scattergl": [
           {
            "marker": {
             "colorbar": {
              "outlinewidth": 0,
              "ticks": ""
             }
            },
            "type": "scattergl"
           }
          ],
          "scattermapbox": [
           {
            "marker": {
             "colorbar": {
              "outlinewidth": 0,
              "ticks": ""
             }
            },
            "type": "scattermapbox"
           }
          ],
          "scatterpolar": [
           {
            "marker": {
             "colorbar": {
              "outlinewidth": 0,
              "ticks": ""
             }
            },
            "type": "scatterpolar"
           }
          ],
          "scatterpolargl": [
           {
            "marker": {
             "colorbar": {
              "outlinewidth": 0,
              "ticks": ""
             }
            },
            "type": "scatterpolargl"
           }
          ],
          "scatterternary": [
           {
            "marker": {
             "colorbar": {
              "outlinewidth": 0,
              "ticks": ""
             }
            },
            "type": "scatterternary"
           }
          ],
          "surface": [
           {
            "colorbar": {
             "outlinewidth": 0,
             "ticks": ""
            },
            "colorscale": [
             [
              0,
              "#0d0887"
             ],
             [
              0.1111111111111111,
              "#46039f"
             ],
             [
              0.2222222222222222,
              "#7201a8"
             ],
             [
              0.3333333333333333,
              "#9c179e"
             ],
             [
              0.4444444444444444,
              "#bd3786"
             ],
             [
              0.5555555555555556,
              "#d8576b"
             ],
             [
              0.6666666666666666,
              "#ed7953"
             ],
             [
              0.7777777777777778,
              "#fb9f3a"
             ],
             [
              0.8888888888888888,
              "#fdca26"
             ],
             [
              1,
              "#f0f921"
             ]
            ],
            "type": "surface"
           }
          ],
          "table": [
           {
            "cells": {
             "fill": {
              "color": "#EBF0F8"
             },
             "line": {
              "color": "white"
             }
            },
            "header": {
             "fill": {
              "color": "#C8D4E3"
             },
             "line": {
              "color": "white"
             }
            },
            "type": "table"
           }
          ]
         },
         "layout": {
          "annotationdefaults": {
           "arrowcolor": "#2a3f5f",
           "arrowhead": 0,
           "arrowwidth": 1
          },
          "autotypenumbers": "strict",
          "coloraxis": {
           "colorbar": {
            "outlinewidth": 0,
            "ticks": ""
           }
          },
          "colorscale": {
           "diverging": [
            [
             0,
             "#8e0152"
            ],
            [
             0.1,
             "#c51b7d"
            ],
            [
             0.2,
             "#de77ae"
            ],
            [
             0.3,
             "#f1b6da"
            ],
            [
             0.4,
             "#fde0ef"
            ],
            [
             0.5,
             "#f7f7f7"
            ],
            [
             0.6,
             "#e6f5d0"
            ],
            [
             0.7,
             "#b8e186"
            ],
            [
             0.8,
             "#7fbc41"
            ],
            [
             0.9,
             "#4d9221"
            ],
            [
             1,
             "#276419"
            ]
           ],
           "sequential": [
            [
             0,
             "#0d0887"
            ],
            [
             0.1111111111111111,
             "#46039f"
            ],
            [
             0.2222222222222222,
             "#7201a8"
            ],
            [
             0.3333333333333333,
             "#9c179e"
            ],
            [
             0.4444444444444444,
             "#bd3786"
            ],
            [
             0.5555555555555556,
             "#d8576b"
            ],
            [
             0.6666666666666666,
             "#ed7953"
            ],
            [
             0.7777777777777778,
             "#fb9f3a"
            ],
            [
             0.8888888888888888,
             "#fdca26"
            ],
            [
             1,
             "#f0f921"
            ]
           ],
           "sequentialminus": [
            [
             0,
             "#0d0887"
            ],
            [
             0.1111111111111111,
             "#46039f"
            ],
            [
             0.2222222222222222,
             "#7201a8"
            ],
            [
             0.3333333333333333,
             "#9c179e"
            ],
            [
             0.4444444444444444,
             "#bd3786"
            ],
            [
             0.5555555555555556,
             "#d8576b"
            ],
            [
             0.6666666666666666,
             "#ed7953"
            ],
            [
             0.7777777777777778,
             "#fb9f3a"
            ],
            [
             0.8888888888888888,
             "#fdca26"
            ],
            [
             1,
             "#f0f921"
            ]
           ]
          },
          "colorway": [
           "#636efa",
           "#EF553B",
           "#00cc96",
           "#ab63fa",
           "#FFA15A",
           "#19d3f3",
           "#FF6692",
           "#B6E880",
           "#FF97FF",
           "#FECB52"
          ],
          "font": {
           "color": "#2a3f5f"
          },
          "geo": {
           "bgcolor": "white",
           "lakecolor": "white",
           "landcolor": "#E5ECF6",
           "showlakes": true,
           "showland": true,
           "subunitcolor": "white"
          },
          "hoverlabel": {
           "align": "left"
          },
          "hovermode": "closest",
          "mapbox": {
           "style": "light"
          },
          "paper_bgcolor": "white",
          "plot_bgcolor": "#E5ECF6",
          "polar": {
           "angularaxis": {
            "gridcolor": "white",
            "linecolor": "white",
            "ticks": ""
           },
           "bgcolor": "#E5ECF6",
           "radialaxis": {
            "gridcolor": "white",
            "linecolor": "white",
            "ticks": ""
           }
          },
          "scene": {
           "xaxis": {
            "backgroundcolor": "#E5ECF6",
            "gridcolor": "white",
            "gridwidth": 2,
            "linecolor": "white",
            "showbackground": true,
            "ticks": "",
            "zerolinecolor": "white"
           },
           "yaxis": {
            "backgroundcolor": "#E5ECF6",
            "gridcolor": "white",
            "gridwidth": 2,
            "linecolor": "white",
            "showbackground": true,
            "ticks": "",
            "zerolinecolor": "white"
           },
           "zaxis": {
            "backgroundcolor": "#E5ECF6",
            "gridcolor": "white",
            "gridwidth": 2,
            "linecolor": "white",
            "showbackground": true,
            "ticks": "",
            "zerolinecolor": "white"
           }
          },
          "shapedefaults": {
           "line": {
            "color": "#2a3f5f"
           }
          },
          "ternary": {
           "aaxis": {
            "gridcolor": "white",
            "linecolor": "white",
            "ticks": ""
           },
           "baxis": {
            "gridcolor": "white",
            "linecolor": "white",
            "ticks": ""
           },
           "bgcolor": "#E5ECF6",
           "caxis": {
            "gridcolor": "white",
            "linecolor": "white",
            "ticks": ""
           }
          },
          "title": {
           "x": 0.05
          },
          "xaxis": {
           "automargin": true,
           "gridcolor": "white",
           "linecolor": "white",
           "ticks": "",
           "title": {
            "standoff": 15
           },
           "zerolinecolor": "white",
           "zerolinewidth": 2
          },
          "yaxis": {
           "automargin": true,
           "gridcolor": "white",
           "linecolor": "white",
           "ticks": "",
           "title": {
            "standoff": 15
           },
           "zerolinecolor": "white",
           "zerolinewidth": 2
          }
         }
        },
        "title": {
         "text": "Comparison of all-mpnet-base-v2 vs all-MiniLM-L6-v2"
        },
        "xaxis": {
         "anchor": "y",
         "domain": [
          0,
          1
         ],
         "title": {
          "text": "all-mpnet-base-v2"
         }
        },
        "yaxis": {
         "anchor": "x",
         "domain": [
          0,
          1
         ],
         "title": {
          "text": "all-MiniLM-L6-v2"
         }
        }
       }
      }
     },
     "metadata": {},
     "output_type": "display_data"
    }
   ],
   "source": [
    "rt.show_model_comparison_plots(\n",
    "    # optional\n",
    "    ranking_dicts = rt.ranking_dicts,\n",
    "    target_model = rt.target_ranking_name,\n",
    "    compared_models = [model_name for model_name in rt.embedding_model_names \\\n",
    "                if model_name != rt.target_ranking_name],\n",
    "    top_n = 3, \n",
    "    alpha = 0.5,\n",
    "    text_lim = rt.plots_params['text_lim'])"
   ]
  }
 ],
 "metadata": {
  "kernelspec": {
   "display_name": "testenv",
   "language": "python",
   "name": "python3"
  },
  "language_info": {
   "codemirror_mode": {
    "name": "ipython",
    "version": 3
   },
   "file_extension": ".py",
   "mimetype": "text/x-python",
   "name": "python",
   "nbconvert_exporter": "python",
   "pygments_lexer": "ipython3",
   "version": "3.9.15"
  },
  "orig_nbformat": 4
 },
 "nbformat": 4,
 "nbformat_minor": 2
}
