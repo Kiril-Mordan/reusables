{
 "cells": [
  {
   "cell_type": "markdown",
   "metadata": {},
   "source": [
    "# Retriever tunner\n",
    "\n",
    "A simple tool to compare and tune retriever performance, given a desired ranking to strive for. \n",
    "The goal is to provide a simple metric to measure how a given retriver is close to the 'ideal', generated for example\n",
    "with a use of more expensive, slower or simply no-existant method. "
   ]
  },
  {
   "cell_type": "code",
   "execution_count": 1,
   "metadata": {},
   "outputs": [],
   "source": [
    "import sys\n",
    "sys.path.append('../')\n",
    "from python_modules.retriever_tunner import RetrieverTunner"
   ]
  },
  {
   "cell_type": "markdown",
   "metadata": {},
   "source": [
    "### 1. Downloading test data"
   ]
  },
  {
   "cell_type": "code",
   "execution_count": 2,
   "metadata": {},
   "outputs": [
    {
     "name": "stderr",
     "output_type": "stream",
     "text": [
      "[nltk_data] Downloading package brown to\n",
      "[nltk_data]     /Users/insani_dei/nltk_data...\n",
      "[nltk_data]   Package brown is already up-to-date!\n",
      "[nltk_data] Downloading package punkt to\n",
      "[nltk_data]     /Users/insani_dei/nltk_data...\n",
      "[nltk_data]   Package punkt is already up-to-date!\n"
     ]
    },
    {
     "name": "stdout",
     "output_type": "stream",
     "text": [
      "Number of sentences: 56601\n",
      "First few sentences:\n",
      "The Fulton County Grand Jury said Friday an investigation of Atlanta's recent primary election produced `` no evidence '' that any irregularities took place .\n",
      "The jury further said in term-end presentments that the City Executive Committee , which had over-all charge of the election , `` deserves the praise and thanks of the City of Atlanta '' for the manner in which the election was conducted .\n",
      "The September-October term jury had been charged by Fulton Superior Court Judge Durwood Pye to investigate reports of possible `` irregularities '' in the hard-fought primary which was won by Mayor-nominate Ivan Allen Jr. .\n",
      "`` Only a relative handful of such reports was received '' , the jury said , `` considering the widespread interest in the election , the number of voters and the size of this city '' .\n",
      "The jury said it did find that many of Georgia's registration and election laws `` are outmoded or inadequate and often ambiguous '' .\n"
     ]
    }
   ],
   "source": [
    "import nltk\n",
    "from nltk.corpus import brown\n",
    "\n",
    "# Download the necessary datasets from NLTK\n",
    "nltk.download('brown')\n",
    "nltk.download('punkt')\n",
    "\n",
    "# Load the Brown Corpus as plain text\n",
    "brown_corpus_text = ' '.join(brown.words())\n",
    "\n",
    "# Split the corpus into sentences\n",
    "sentences = nltk.sent_tokenize(brown_corpus_text)\n",
    "\n",
    "# Display the number of sentences and first few sentences as a sample\n",
    "print(f\"Number of sentences: {len(sentences)}\")\n",
    "print(\"First few sentences:\")\n",
    "for sentence in sentences[:5]:\n",
    "    print(sentence)"
   ]
  },
  {
   "cell_type": "markdown",
   "metadata": {},
   "source": [
    "### 2. Initialize RetrieverTunner"
   ]
  },
  {
   "cell_type": "code",
   "execution_count": 3,
   "metadata": {},
   "outputs": [],
   "source": [
    "rt = RetrieverTunner(\n",
    "    # optional/ required\n",
    "    search_values_list = sentences[0:1000],\n",
    "    target_ranking_name = 'all-mpnet-base-v2',\n",
    "    embedding_model_names = ['paraphrase-multilingual-mpnet-base-v2','all-mpnet-base-v2'],\n",
    "    # optionla\n",
    "    similarity_search_h_params = {'processing_type' : 'parallel',\n",
    "                                                  'max_workers' : 4,\n",
    "                                                   'tbatch_size' : 1000},\n",
    "    n_random_queries = 100,\n",
    "    seed = 23,\n",
    "    metrics_params = {'n_results' : [3,5,10],   \n",
    "                      'prep_types' : ['correction', 'ceiling'],\n",
    "                      'ratio' : 0.6,\n",
    "                      'target_sum' : 1})\n"
   ]
  },
  {
   "cell_type": "markdown",
   "metadata": {},
   "source": [
    "### 3. Construct ranking and score"
   ]
  },
  {
   "cell_type": "code",
   "execution_count": 6,
   "metadata": {},
   "outputs": [
    {
     "data": {
      "text/plain": [
       "{'all-mpnet-base-v2|paraphrase-multilingual-mpnet-base-v2': {'mean3correction': 77.05339871604721,\n",
       "  'mean3ceiling': 1.1937121240807114,\n",
       "  'mean5correction': 77.05339871604721,\n",
       "  'mean5ceiling': 1.8648521209294744,\n",
       "  'mean10correction': 77.05339871604721,\n",
       "  'mean10ceiling': 3.3938589759760873,\n",
       "  'mean100correction': 77.05339871604721,\n",
       "  'mean100ceiling': 23.471943300857607}}"
      ]
     },
     "execution_count": 6,
     "metadata": {},
     "output_type": "execute_result"
    }
   ],
   "source": [
    "rt.construct_rankings()\n",
    "rt.make_scores_dict()"
   ]
  }
 ],
 "metadata": {
  "kernelspec": {
   "display_name": "testenv",
   "language": "python",
   "name": "python3"
  },
  "language_info": {
   "codemirror_mode": {
    "name": "ipython",
    "version": 3
   },
   "file_extension": ".py",
   "mimetype": "text/x-python",
   "name": "python",
   "nbconvert_exporter": "python",
   "pygments_lexer": "ipython3",
   "version": "3.9.15"
  },
  "orig_nbformat": 4
 },
 "nbformat": 4,
 "nbformat_minor": 2
}
