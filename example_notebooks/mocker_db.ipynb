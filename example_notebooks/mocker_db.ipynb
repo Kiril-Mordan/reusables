{
 "cells": [
  {
   "cell_type": "markdown",
   "metadata": {},
   "source": [
    "# Mocker DB\n",
    "\n",
    "This class is a mock handler for simulating a vector database, designed primarily for testing and development scenarios.\n",
    "It offers functionalities such as text embedding, hierarchical navigable small world (HNSW) search,\n",
    "and basic data management within a simulated environment resembling a vector database.\n"
   ]
  },
  {
   "cell_type": "code",
   "execution_count": 1,
   "metadata": {},
   "outputs": [],
   "source": [
    "import sys\n",
    "import numpy as np\n",
    "sys.path.append('../')\n",
    "from python_modules.mocker_db import MockerDB, SentenceTransformerEmbedder, MockerSimilaritySearch"
   ]
  },
  {
   "cell_type": "markdown",
   "metadata": {},
   "source": [
    "## Usage examples\n",
    "\n",
    "The examples contain:\n",
    "1. Basic data insertion and retrieval\n",
    "2. Text embedding and searching\n",
    "3. Advanced filtering and removal\n",
    "4. Testing the HNSW search algorithm\n",
    "5. Simulating database connection and persistence\n"
   ]
  },
  {
   "cell_type": "markdown",
   "metadata": {},
   "source": [
    "### 1. Basic Data Insertion and Retrieval"
   ]
  },
  {
   "cell_type": "code",
   "execution_count": 2,
   "metadata": {},
   "outputs": [
    {
     "name": "stdout",
     "output_type": "stream",
     "text": [
      "Items in the database 3\n",
      "[{'text': 'Sample text 1'}]\n"
     ]
    }
   ],
   "source": [
    "# Initialization\n",
    "handler = MockerDB(\n",
    "    # optional\n",
    "    embedder_params = {'model_name_or_path' : 'paraphrase-multilingual-mpnet-base-v2',\n",
    "                        'processing_type' : 'batch',\n",
    "                        'tbatch_size' : 500},\n",
    "    embedder = SentenceTransformerEmbedder,\n",
    "    ## optional/ for similarity search\n",
    "    similarity_search_h = MockerSimilaritySearch,\n",
    "    return_keys_list = [],\n",
    "    search_results_n = 3,\n",
    "    similarity_search_type = 'linear',\n",
    "    similarity_params = {'space':'cosine'},\n",
    "    ## optional/ inputs with defaults\n",
    "    file_path = \"./mock_persist\",\n",
    "    persist = True,\n",
    "    embedder_error_tolerance = 0.0\n",
    ")\n",
    "# Initialize empty database\n",
    "handler.establish_connection()\n",
    "\n",
    "# Insert Data\n",
    "values_list = [\n",
    "    {\"text\": \"Sample text 1\"},\n",
    "    {\"text\": \"Sample text 2\"}\n",
    "]\n",
    "handler.insert_values(values_list, \"text\")\n",
    "print(f\"Items in the database {len(handler.data)}\")\n",
    "\n",
    "# Retrieve Data\n",
    "handler.filter_keys(subkey=\"text\", subvalue=\"Sample text 1\")\n",
    "handler.search_database_keys(query='text')\n",
    "results = handler.get_dict_results(return_keys_list=[\"text\"])\n",
    "print(results)\n"
   ]
  },
  {
   "cell_type": "markdown",
   "metadata": {},
   "source": [
    "### 2. Text Embedding and Searching"
   ]
  },
  {
   "cell_type": "code",
   "execution_count": 3,
   "metadata": {},
   "outputs": [],
   "source": [
    "ste = SentenceTransformerEmbedder(# optional / adaptor parameters\n",
    "                                  processing_type = '',\n",
    "                                  tbatch_size = 500,\n",
    "                                  max_workers = 2,\n",
    "                                  # sentence transformer parameters\n",
    "                                  model_name_or_path = 'paraphrase-multilingual-mpnet-base-v2',)"
   ]
  },
  {
   "cell_type": "code",
   "execution_count": 4,
   "metadata": {},
   "outputs": [
    {
     "name": "stdout",
     "output_type": "stream",
     "text": [
      "[-0.04973586  0.09520271 -0.01219508  0.09253868 -0.02301829 -0.02721021\n",
      "  0.05683944  0.09710986  0.10683879  0.05812281  0.1322755   0.01142838\n",
      " -0.06957251  0.06980741 -0.05259361 -0.05755987  0.00816179 -0.0083684\n",
      " -0.00861259  0.01442069  0.01188816 -0.09503669  0.07125735 -0.04827787\n",
      "  0.01473163  0.01084182 -0.10482487  0.07012529 -0.04720649  0.10030047\n",
      "  0.04455935  0.02131893  0.00667916 -0.05259186  0.06822994 -0.09520471\n",
      " -0.00581367 -0.0245188  -0.00384988  0.02750719  0.06960273  0.2401374\n",
      " -0.01220021  0.05890934 -0.08468664  0.11379704 -0.03594773 -0.05652965\n",
      " -0.01621818  0.09546728]\n"
     ]
    }
   ],
   "source": [
    "# Single Text Embedding\n",
    "query = \"Sample query\"\n",
    "embedded_query = ste.embed(query,\n",
    "                           # optional\n",
    "                           processing_type='')\n",
    "print(embedded_query[0:50])"
   ]
  },
  {
   "cell_type": "code",
   "execution_count": 5,
   "metadata": {},
   "outputs": [
    {
     "name": "stdout",
     "output_type": "stream",
     "text": [
      "[-0.04973587  0.09520268 -0.01219508  0.09253863 -0.02301828 -0.02721019\n",
      "  0.05683948  0.09710983  0.10683877  0.05812275  0.13227554  0.01142835\n",
      " -0.06957251  0.0698074  -0.05259359 -0.05755989  0.00816178 -0.00836837\n",
      " -0.00861255  0.01442071  0.01188814 -0.09503672  0.07125732 -0.04827785\n",
      "  0.01473167  0.01084183 -0.10482489  0.07012529 -0.04720643  0.10030049\n",
      "  0.04455935  0.02131888  0.00667915 -0.0525919   0.06822994 -0.09520471\n",
      " -0.00581362 -0.02451884 -0.00384985  0.02750718  0.06960283  0.24013746\n",
      " -0.01220023  0.05890931 -0.08468661  0.11379693 -0.03594768 -0.05652963\n",
      " -0.01621819  0.09546733]\n",
      "---\n",
      "[-0.05087027  0.12317685 -0.0139253   0.10524715 -0.07614326 -0.02349633\n",
      "  0.0582977   0.15128359  0.18119799  0.03745934  0.12174655  0.00639841\n",
      " -0.04045051  0.12758307 -0.06155455 -0.06736138  0.04713943 -0.04134273\n",
      " -0.1216595   0.04409876  0.01834144 -0.04796624  0.04922181 -0.00641206\n",
      "  0.01420632 -0.0360294  -0.01026764  0.0923226  -0.04927175  0.03985449\n",
      "  0.03566911  0.08338928  0.049226   -0.09951881  0.05138117 -0.13344647\n",
      "  0.01626781 -0.01189727  0.00599228  0.05663403  0.04282103  0.2643278\n",
      " -0.01122816  0.07177627 -0.11822139  0.08731954 -0.04965358  0.03697523\n",
      "  0.08965264  0.03107015]\n"
     ]
    }
   ],
   "source": [
    "# Batch Text Embedding\n",
    "queries = [\"Sample query\", \"Sample query 2\"]\n",
    "embedded_query = ste.embed(queries,\n",
    "                           # optional\n",
    "                           processing_type='batch')\n",
    "print(embedded_query[0][0:50])\n",
    "print(\"---\")\n",
    "print(embedded_query[1][0:50])"
   ]
  },
  {
   "cell_type": "code",
   "execution_count": 6,
   "metadata": {},
   "outputs": [
    {
     "name": "stdout",
     "output_type": "stream",
     "text": [
      "[{'text': 'Sample text 1'}]\n"
     ]
    }
   ],
   "source": [
    "# Search Database\n",
    "search_results = handler.search_database(query, return_keys_list=[\"text\"])\n",
    "\n",
    "# Display Results\n",
    "print(search_results)\n"
   ]
  },
  {
   "cell_type": "markdown",
   "metadata": {},
   "source": [
    "### 3. Advanced Filtering and Removal"
   ]
  },
  {
   "cell_type": "code",
   "execution_count": 7,
   "metadata": {},
   "outputs": [
    {
     "name": "stdout",
     "output_type": "stream",
     "text": [
      "Filtered data 1\n",
      "Items left in the database 2\n"
     ]
    }
   ],
   "source": [
    "# Advanced Filtering\n",
    "filter_criteria = {\"text\": \"Sample text 1\"}\n",
    "handler.filter_database(filter_criteria)\n",
    "filtered_data = handler.filtered_data\n",
    "print(f\"Filtered data {len(filtered_data)}\")\n",
    "\n",
    "# Data Removal\n",
    "handler.remove_from_database(filter_criteria)\n",
    "print(f\"Items left in the database {len(handler.data)}\")\n"
   ]
  },
  {
   "cell_type": "markdown",
   "metadata": {},
   "source": [
    "### 4. Testing the HNSW Search Algorithm"
   ]
  },
  {
   "cell_type": "code",
   "execution_count": 8,
   "metadata": {},
   "outputs": [],
   "source": [
    "mss = MockerSimilaritySearch(\n",
    "    # optional\n",
    "    search_results_n = 3,\n",
    "    similarity_params = {'space':'cosine'},\n",
    "    similarity_search_type ='linear'\n",
    ")"
   ]
  },
  {
   "cell_type": "code",
   "execution_count": 9,
   "metadata": {},
   "outputs": [
    {
     "name": "stdout",
     "output_type": "stream",
     "text": [
      "[0] [1.1920929e-07]\n"
     ]
    }
   ],
   "source": [
    "# Create embeddings\n",
    "embeddings = [ste.embed(\"example1\"), ste.embed(\"example2\")]\n",
    "\n",
    "\n",
    "# Assuming embeddings are pre-calculated and stored in 'embeddings'\n",
    "data_with_embeddings = {\"record1\": {\"embedding\": embeddings[0]}, \"record2\": {\"embedding\": embeddings[1]}}\n",
    "handler.data = data_with_embeddings\n",
    "\n",
    "# HNSW Search\n",
    "query_embedding = embeddings[0]  # Example query embedding\n",
    "labels, distances = mss.hnsw_search(query_embedding, np.array(embeddings), k=1)\n",
    "print(labels, distances)\n"
   ]
  },
  {
   "cell_type": "markdown",
   "metadata": {},
   "source": [
    "### 5. Simulating Database Connection and Persistence"
   ]
  },
  {
   "cell_type": "code",
   "execution_count": 10,
   "metadata": {},
   "outputs": [
    {
     "name": "stdout",
     "output_type": "stream",
     "text": [
      "Items in the database 2\n"
     ]
    }
   ],
   "source": [
    "# Establish Connection\n",
    "handler.establish_connection()\n",
    "\n",
    "# Change and Persist Data\n",
    "handler.insert_values([{\"text\": \"New sample text\"}], \"text\")\n",
    "handler.save_data()\n",
    "\n",
    "# Reload Data\n",
    "handler.establish_connection()\n",
    "print(f\"Items in the database {len(handler.data)}\")\n"
   ]
  }
 ],
 "metadata": {
  "kernelspec": {
   "display_name": "msearch",
   "language": "python",
   "name": "python3"
  },
  "language_info": {
   "codemirror_mode": {
    "name": "ipython",
    "version": 3
   },
   "file_extension": ".py",
   "mimetype": "text/x-python",
   "name": "python",
   "nbconvert_exporter": "python",
   "pygments_lexer": "ipython3",
   "version": "3.9.15"
  },
  "orig_nbformat": 4
 },
 "nbformat": 4,
 "nbformat_minor": 2
}
