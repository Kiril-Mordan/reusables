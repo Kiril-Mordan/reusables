{
 "cells": [
  {
   "cell_type": "code",
   "execution_count": 1,
   "metadata": {},
   "outputs": [],
   "source": [
    "import attrsx\n",
    "import attrs"
   ]
  },
  {
   "cell_type": "markdown",
   "metadata": {},
   "source": [
    "## Usage"
   ]
  },
  {
   "cell_type": "markdown",
   "metadata": {},
   "source": [
    "### 1. Built-in logger"
   ]
  },
  {
   "cell_type": "markdown",
   "metadata": {},
   "source": [
    "One of the primary extensions in `attrsx` is `automatic logging`. It can be accessed via `self.logger` in any `attrsx`-decorated class."
   ]
  },
  {
   "cell_type": "markdown",
   "metadata": {},
   "source": [
    "#### Example: Basic Logger Usage"
   ]
  },
  {
   "cell_type": "code",
   "execution_count": 2,
   "metadata": {},
   "outputs": [],
   "source": [
    "@attrsx.define\n",
    "class ProcessData:\n",
    "    data: str = attrs.field(default=None)\n",
    "\n",
    "    def run(self):\n",
    "        self.logger.info(\"Running data processing...\")\n",
    "        self.logger.debug(f\"Processing data: {self.data}\")\n",
    "        return f\"Processed: {self.data}\"\n"
   ]
  },
  {
   "cell_type": "code",
   "execution_count": 3,
   "metadata": {},
   "outputs": [
    {
     "name": "stderr",
     "output_type": "stream",
     "text": [
      "INFO:ProcessData:Running data processing...\n"
     ]
    },
    {
     "data": {
      "text/plain": [
       "'Processed: data'"
      ]
     },
     "execution_count": 3,
     "metadata": {},
     "output_type": "execute_result"
    }
   ],
   "source": [
    "ProcessData(data = \"data\").run()"
   ]
  },
  {
   "cell_type": "markdown",
   "metadata": {},
   "source": [
    "#### Logger Configuration"
   ]
  },
  {
   "cell_type": "markdown",
   "metadata": {},
   "source": [
    "The logging behavior can be customized using the following optional attributes:\n",
    "\n",
    "- `loggerLvl` : Sets the log level (from `logging`), defaults to `logging.INFO`.\n",
    "- `logger_name` : Specifies the logger name; defaults to the class name.\n",
    "- `logger_format` : Sets the logging message format; defaults to `%(levelname)s:%(name)s:%(message)s`.\n",
    "\n",
    "`self.logger` becomes available starting from `__attrs_post_init__`."
   ]
  },
  {
   "cell_type": "code",
   "execution_count": 4,
   "metadata": {},
   "outputs": [],
   "source": [
    "import logging\n",
    "\n",
    "@attrsx.define\n",
    "class ProcessData2:\n",
    "    data: str = attrs.field(default=None)\n",
    "    \n",
    "    # optional attributes\n",
    "    loggerLvl: int = attrs.field(default=logging.DEBUG) \n",
    "    logger_name : str = attrs.field(default=\"ProcessData\")\n",
    "    logger_format : str = attrs.field(default=\"%(asctime)s - %(name)s - %(levelname)s - %(message)s\")\n",
    "\n",
    "    def __attrs_post_init__(self):\n",
    "        self.logger.info(\"Custom post-init logic running!\")\n",
    "        self.data = \"DATA\"\n",
    "\n",
    "    def run(self):\n",
    "        self.logger.info(\"Running data processing...\")\n",
    "        self.logger.debug(f\"Processing data: {self.data}\")\n",
    "        return f\"Processed: {self.data}\""
   ]
  },
  {
   "cell_type": "code",
   "execution_count": 5,
   "metadata": {},
   "outputs": [
    {
     "name": "stderr",
     "output_type": "stream",
     "text": [
      "2025-01-02 23:26:02,710 - ProcessData - INFO - Custom post-init logic running!\n",
      "2025-01-02 23:26:02,711 - ProcessData - INFO - Running data processing...\n",
      "2025-01-02 23:26:02,711 - ProcessData - DEBUG - Processing data: DATA\n"
     ]
    },
    {
     "data": {
      "text/plain": [
       "'Processed: DATA'"
      ]
     },
     "execution_count": 5,
     "metadata": {},
     "output_type": "execute_result"
    }
   ],
   "source": [
    "ProcessData2(data = \"data\").run()"
   ]
  },
  {
   "cell_type": "markdown",
   "metadata": {},
   "source": [
    "#### Using External Loggers"
   ]
  },
  {
   "cell_type": "markdown",
   "metadata": {},
   "source": [
    "An external, pre-initialized logger can also be provided to the class using the `logger` attribute."
   ]
  },
  {
   "cell_type": "code",
   "execution_count": 6,
   "metadata": {},
   "outputs": [
    {
     "name": "stderr",
     "output_type": "stream",
     "text": [
      "INFO:ProcessData:Custom post-init logic running!\n",
      "INFO:ProcessData:Running data processing...\n"
     ]
    },
    {
     "data": {
      "text/plain": [
       "'Processed: DATA'"
      ]
     },
     "execution_count": 6,
     "metadata": {},
     "output_type": "execute_result"
    }
   ],
   "source": [
    "ProcessData2(\n",
    "    data = \"data\",\n",
    "    logger = ProcessData().logger\n",
    ").run()"
   ]
  }
 ],
 "metadata": {
  "kernelspec": {
   "display_name": "testenv",
   "language": "python",
   "name": "python3"
  },
  "language_info": {
   "codemirror_mode": {
    "name": "ipython",
    "version": 3
   },
   "file_extension": ".py",
   "mimetype": "text/x-python",
   "name": "python",
   "nbconvert_exporter": "python",
   "pygments_lexer": "ipython3",
   "version": "3.10.14"
  }
 },
 "nbformat": 4,
 "nbformat_minor": 2
}
