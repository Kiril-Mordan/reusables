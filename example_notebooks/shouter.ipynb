{
 "cells": [
  {
   "cell_type": "markdown",
   "metadata": {},
   "source": [
    "# Shouter Usage Examples\n",
    "\n",
    "The Shouter class is designed for managing and displaying formatted log messages, utilizing Python's logging module. \n"
   ]
  },
  {
   "cell_type": "code",
   "execution_count": 26,
   "metadata": {},
   "outputs": [],
   "source": [
    "import sys\n",
    "sys.path.append('../')\n",
    "from python_modules.shouter import Shouter\n",
    "# optional\n",
    "import logging"
   ]
  },
  {
   "cell_type": "markdown",
   "metadata": {},
   "source": [
    "## Usage examples"
   ]
  },
  {
   "cell_type": "markdown",
   "metadata": {},
   "source": [
    "The examples contain: \n",
    "1. initialize Shouter class\n",
    "2. basic usage like logging\n",
    "3. using different output types\n",
    "4. custom logger configuration\n",
    "5. backwards compatibility with existing loggers"
   ]
  },
  {
   "cell_type": "markdown",
   "metadata": {},
   "source": [
    "### 1. Initialize Shouter Class"
   ]
  },
  {
   "cell_type": "code",
   "execution_count": 27,
   "metadata": {},
   "outputs": [],
   "source": [
    "shouter = Shouter(\n",
    "    # optionally \n",
    "    ## Formatting settings\n",
    "    dotline_length = 50,\n",
    "    ## Logger settings\n",
    "    logger = None,\n",
    "    logger_name = 'Shouter',\n",
    "    loggerLvl = logging.DEBUG,\n",
    "    logger_format = '(%(asctime)s) : %(name)s : [%(levelname)s] : %(message)s'\n",
    ")\n"
   ]
  },
  {
   "cell_type": "markdown",
   "metadata": {},
   "source": [
    "### 2. Basic usage like logging"
   ]
  },
  {
   "cell_type": "code",
   "execution_count": 28,
   "metadata": {},
   "outputs": [
    {
     "name": "stderr",
     "output_type": "stream",
     "text": [
      "(2024-01-06 22:29:47,767) : Shouter : [DEBUG] : ==============================\n",
      "(2024-01-06 22:29:47,769) : Shouter : [DEBUG] : This is a debug message!\n",
      "(2024-01-06 22:29:47,770) : Shouter : [INFO] : This is an info message!\n",
      "(2024-01-06 22:29:47,772) : Shouter : [WARNING] : This is a warning message!\n",
      "(2024-01-06 22:29:47,774) : Shouter : [ERROR] : This is an error message!\n",
      "(2024-01-06 22:29:47,775) : Shouter : [CRITICAL] : This is a fatal message!\n",
      "(2024-01-06 22:29:47,776) : Shouter : [CRITICAL] : This is a critical message!\n"
     ]
    }
   ],
   "source": [
    "shouter.debug(\n",
    "    # optional\n",
    "    dotline_length=30)\n",
    "shouter.debug(\"This is a debug message!\")\n",
    "shouter.info(\"This is an info message!\")\n",
    "shouter.warning(\"This is a warning message!\")\n",
    "shouter.error(\"This is an error message!\")\n",
    "shouter.fatal(\"This is a fatal message!\")\n",
    "shouter.critical(\"This is a critical message!\")"
   ]
  },
  {
   "cell_type": "markdown",
   "metadata": {},
   "source": [
    "### 3. Using different output types"
   ]
  },
  {
   "cell_type": "code",
   "execution_count": 29,
   "metadata": {},
   "outputs": [
    {
     "name": "stderr",
     "output_type": "stream",
     "text": [
      "(2024-01-06 22:29:47,787) : Shouter : [INFO] : ==================================================\n",
      "(2024-01-06 22:29:47,788) : Shouter : [INFO] : \n",
      "==================================================\n",
      "-----------------Header Message----------------- \n",
      "==================================================\n"
     ]
    }
   ],
   "source": [
    "# Different types of outputs\n",
    "shouter.info(output_type=\"dline\")\n",
    "shouter.info(output_type=\"HEAD1\", mess=\"Header Message\")"
   ]
  },
  {
   "cell_type": "markdown",
   "metadata": {},
   "source": [
    "### 4. Custom logger configuration"
   ]
  },
  {
   "cell_type": "code",
   "execution_count": 30,
   "metadata": {},
   "outputs": [
    {
     "name": "stderr",
     "output_type": "stream",
     "text": [
      "(2024-01-06 22:29:47,801) : CustomLogger : [INFO] : Message with custom logger\n"
     ]
    }
   ],
   "source": [
    "import logging\n",
    "\n",
    "# Custom logger\n",
    "custom_logger = logging.getLogger(\"CustomLogger\")\n",
    "custom_logger.setLevel(logging.INFO)\n",
    "\n",
    "# Shouter with custom logger\n",
    "shouter_with_custom_logger = Shouter(logger=custom_logger)\n",
    "shouter_with_custom_logger.info(mess=\"Message with custom logger\")"
   ]
  },
  {
   "cell_type": "markdown",
   "metadata": {},
   "source": [
    "### 5. Backwards compatibility with existing loggers"
   ]
  },
  {
   "cell_type": "code",
   "execution_count": 31,
   "metadata": {},
   "outputs": [],
   "source": [
    "import logging\n",
    "import attr #>=22.2.0\n",
    "\n",
    "\n",
    "@attr.s\n",
    "class ExampleClass:\n",
    "\n",
    "    # Logger settings\n",
    "    logger = attr.ib(default=None)\n",
    "    logger_name = attr.ib(default='Example Class')\n",
    "    loggerLvl = attr.ib(default=logging.DEBUG)\n",
    "    logger_format = attr.ib(default='(%(asctime)s) : %(name)s : [%(levelname)s] : %(message)s')\n",
    "\n",
    "    def __attrs_post_init__(self):\n",
    "        self.initialize_logger()\n",
    "\n",
    "    def initialize_logger(self):\n",
    "\n",
    "        \"\"\"\n",
    "        Initialize a logger for the class instance based on\n",
    "        the specified logging level and logger name.\n",
    "        \"\"\"\n",
    "\n",
    "        if self.logger is None:\n",
    "            logging.basicConfig(level=self.loggerLvl,format=self.logger_format)\n",
    "            logger = logging.getLogger(self.logger_name)\n",
    "            logger.setLevel(self.loggerLvl)\n",
    "\n",
    "            self.logger = logger\n",
    "            \n",
    "    def print_debug(self):\n",
    "        \n",
    "        self.logger.debug(\"This is a debug message!\")\n",
    "        \n",
    "    def print_info(self):\n",
    "        \n",
    "        self.logger.info(\"This is a info message!\")\n",
    "        \n",
    "    def print_warning(self):\n",
    "        \n",
    "        self.logger.warning(\"This is a warning message!\")\n",
    "        \n",
    "    def print_error(self):\n",
    "        \n",
    "        self.logger.error(\"This is a error message!\")\n",
    "        \n",
    "    def print_critical(self):\n",
    "        \n",
    "        self.logger.critical(\"This is a critical message!\")\n",
    "        \n",
    "    def perform_action_chain_1(self):\n",
    "        \n",
    "        self.logger.debug(\"Action 1\")\n",
    "        \n",
    "        ##\n",
    "        \n",
    "        self.logger.debug(\"Action 2\")"
   ]
  },
  {
   "cell_type": "code",
   "execution_count": 33,
   "metadata": {},
   "outputs": [
    {
     "name": "stderr",
     "output_type": "stream",
     "text": [
      "(2024-01-06 22:57:29,550) : Example Class : [DEBUG] : This is a debug message!\n",
      "(2024-01-06 22:57:29,552) : Example Class : [INFO] : This is a info message!\n",
      "(2024-01-06 22:57:29,553) : Example Class : [WARNING] : This is a warning message!\n",
      "(2024-01-06 22:57:29,554) : Example Class : [ERROR] : This is a error message!\n",
      "(2024-01-06 22:57:29,554) : Example Class : [CRITICAL] : This is a critical message!\n"
     ]
    }
   ],
   "source": [
    "ec = ExampleClass()\n",
    "\n",
    "ec.print_debug()\n",
    "ec.print_info()\n",
    "ec.print_warning()\n",
    "ec.print_error()\n",
    "ec.print_critical()"
   ]
  },
  {
   "cell_type": "code",
   "execution_count": 34,
   "metadata": {},
   "outputs": [
    {
     "name": "stderr",
     "output_type": "stream",
     "text": [
      "(2024-01-06 22:57:57,628) : Shouter : [DEBUG] : This is a debug message!\n",
      "(2024-01-06 22:57:57,629) : Shouter : [INFO] : This is a info message!\n",
      "(2024-01-06 22:57:57,630) : Shouter : [WARNING] : This is a warning message!\n",
      "(2024-01-06 22:57:57,631) : Shouter : [ERROR] : This is a error message!\n",
      "(2024-01-06 22:57:57,632) : Shouter : [CRITICAL] : This is a critical message!\n"
     ]
    }
   ],
   "source": [
    "ec = ExampleClass(logger=shouter)\n",
    "\n",
    "ec.print_debug()\n",
    "ec.print_info()\n",
    "ec.print_warning()\n",
    "ec.print_error()\n",
    "ec.print_critical()"
   ]
  }
 ],
 "metadata": {
  "kernelspec": {
   "display_name": "testenv",
   "language": "python",
   "name": "testenv"
  },
  "language_info": {
   "codemirror_mode": {
    "name": "ipython",
    "version": 3
   },
   "file_extension": ".py",
   "mimetype": "text/x-python",
   "name": "python",
   "nbconvert_exporter": "python",
   "pygments_lexer": "ipython3",
   "version": "3.9.15"
  },
  "orig_nbformat": 4
 },
 "nbformat": 4,
 "nbformat_minor": 2
}
