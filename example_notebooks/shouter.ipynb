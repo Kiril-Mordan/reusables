{
 "cells": [
  {
   "cell_type": "markdown",
   "metadata": {},
   "source": [
    "# Shouter Usage Examples\n",
    "\n",
    "The Shouter class is designed for managing and displaying formatted log messages, utilizing Python's logging module. \n"
   ]
  },
  {
   "cell_type": "code",
   "execution_count": 1,
   "metadata": {},
   "outputs": [],
   "source": [
    "import sys\n",
    "sys.path.append('../')\n",
    "from python_modules.shouter import Shouter\n",
    "# optional\n",
    "import logging"
   ]
  },
  {
   "cell_type": "markdown",
   "metadata": {},
   "source": [
    "## Usage examples"
   ]
  },
  {
   "cell_type": "markdown",
   "metadata": {},
   "source": [
    "The examples contain: \n",
    "1. initialize Shouter class\n",
    "2. basic usage of shout method\n",
    "3. using different output types\n",
    "4. custom logger configuration"
   ]
  },
  {
   "cell_type": "markdown",
   "metadata": {},
   "source": [
    "### 1. Initialize Shouter Class"
   ]
  },
  {
   "cell_type": "code",
   "execution_count": 2,
   "metadata": {},
   "outputs": [],
   "source": [
    "shouter = Shouter(\n",
    "    # optionally \n",
    "    ## Formatting settings\n",
    "    dotline_length = 50,\n",
    "    ## Logger settings\n",
    "    logger = None,\n",
    "    logger_name = 'Shouter',\n",
    "    loggerLvl = logging.DEBUG,\n",
    "    logger_format = '(%(asctime)s) : %(name)s : [%(levelname)s] : %(message)s'\n",
    ")\n"
   ]
  },
  {
   "cell_type": "markdown",
   "metadata": {},
   "source": [
    "### 2. Basic usage of shout method"
   ]
  },
  {
   "cell_type": "code",
   "execution_count": 3,
   "metadata": {},
   "outputs": [
    {
     "name": "stderr",
     "output_type": "stream",
     "text": [
      "(2023-12-09 23:07:02,238) : Shouter : [INFO] : ==================================================\n",
      "(2023-12-09 23:07:02,240) : Shouter : [INFO] : *** Custom Message\n"
     ]
    }
   ],
   "source": [
    "# Simple shout with default settings\n",
    "shouter.shout()\n",
    "\n",
    "# Shout with a custom message and line length\n",
    "shouter.shout(mess=\"Custom Message\", dotline_length=30)\n"
   ]
  },
  {
   "cell_type": "markdown",
   "metadata": {},
   "source": [
    "### 3. Using different output types"
   ]
  },
  {
   "cell_type": "code",
   "execution_count": 4,
   "metadata": {},
   "outputs": [
    {
     "name": "stderr",
     "output_type": "stream",
     "text": [
      "(2023-12-09 23:07:02,247) : Shouter : [INFO] : ==================================================\n",
      "(2023-12-09 23:07:02,249) : Shouter : [INFO] : \n",
      "==================================================\n",
      "-----------------Header Message----------------- \n",
      "==================================================\n"
     ]
    }
   ],
   "source": [
    "# Different types of outputs\n",
    "shouter.shout(output_type=\"dline\")\n",
    "shouter.shout(output_type=\"HEAD1\", mess=\"Header Message\")"
   ]
  },
  {
   "cell_type": "markdown",
   "metadata": {},
   "source": [
    "### 4. Custom logger configuration"
   ]
  },
  {
   "cell_type": "code",
   "execution_count": 5,
   "metadata": {},
   "outputs": [
    {
     "name": "stderr",
     "output_type": "stream",
     "text": [
      "(2023-12-09 23:07:02,256) : CustomLogger : [INFO] : *** Message with custom logger\n"
     ]
    }
   ],
   "source": [
    "import logging\n",
    "\n",
    "# Custom logger\n",
    "custom_logger = logging.getLogger(\"CustomLogger\")\n",
    "custom_logger.setLevel(logging.INFO)\n",
    "\n",
    "# Shouter with custom logger\n",
    "shouter_with_custom_logger = Shouter(logger=custom_logger)\n",
    "shouter_with_custom_logger.shout(mess=\"Message with custom logger\")"
   ]
  }
 ],
 "metadata": {
  "kernelspec": {
   "display_name": "mscraper",
   "language": "python",
   "name": "mscraper"
  },
  "language_info": {
   "codemirror_mode": {
    "name": "ipython",
    "version": 3
   },
   "file_extension": ".py",
   "mimetype": "text/x-python",
   "name": "python",
   "nbconvert_exporter": "python",
   "pygments_lexer": "ipython3",
   "version": "3.10.12"
  },
  "orig_nbformat": 4
 },
 "nbformat": 4,
 "nbformat_minor": 2
}
