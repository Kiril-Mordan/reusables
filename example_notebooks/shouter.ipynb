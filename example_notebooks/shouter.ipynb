{
 "cells": [
  {
   "cell_type": "markdown",
   "metadata": {},
   "source": [
    "# Shouter Usage Examples\n",
    "\n",
    "The Shouter class is designed for managing and displaying formatted log messages, utilizing Python's logging module. \n"
   ]
  },
  {
   "cell_type": "code",
   "execution_count": 1,
   "metadata": {},
   "outputs": [],
   "source": [
    "import sys\n",
    "sys.path.append('../')\n",
    "from python_modules.shouter import Shouter\n",
    "# optional\n",
    "import logging"
   ]
  },
  {
   "cell_type": "markdown",
   "metadata": {},
   "source": [
    "## Usage examples"
   ]
  },
  {
   "cell_type": "markdown",
   "metadata": {},
   "source": [
    "The examples contain: \n",
    "1. initialize Shouter class\n",
    "2. basic usage like logging\n",
    "3. using different output types\n",
    "4. custom logger configuration\n",
    "5. backwards compatibility with existing loggers\n",
    "6. built-in records from Shouter usage\n",
    "7. debugging capabilities of Shouter"
   ]
  },
  {
   "cell_type": "markdown",
   "metadata": {},
   "source": [
    "### 1. Initialize Shouter Class"
   ]
  },
  {
   "cell_type": "code",
   "execution_count": 2,
   "metadata": {},
   "outputs": [],
   "source": [
    "shouter = Shouter(\n",
    "    # optional/ required\n",
    "    supported_classes = (),\n",
    "    # optionally \n",
    "    ## Formatting settings\n",
    "    dotline_length = 50,\n",
    "    # For saving records\n",
    "    tears_persist_path = '../env_spec/log_records.json',\n",
    "    datetime_format = \"%Y-%m-%d %H:%M:%S\",\n",
    "    # For saving env\n",
    "    persist_env = False,\n",
    "    env_persist_path = '../env_spec/environment.dill',\n",
    "    ## Logger settings\n",
    "    logger = None,\n",
    "    logger_name = 'Shouter',\n",
    "    loggerLvl = logging.DEBUG,\n",
    "    logger_format = '(%(asctime)s) : %(name)s : [%(levelname)s] : %(message)s'\n",
    ")\n"
   ]
  },
  {
   "cell_type": "markdown",
   "metadata": {},
   "source": [
    "### 2. Basic usage like logging"
   ]
  },
  {
   "cell_type": "code",
   "execution_count": null,
   "metadata": {},
   "outputs": [],
   "source": [
    "shouter.debug(\n",
    "    # optional\n",
    "    dotline_length=30)\n",
    "shouter.debug(\"This is a debug message!\")\n",
    "shouter.info(\"This is an info message!\")\n",
    "shouter.warning(\"This is a warning message!\")\n",
    "shouter.error(\"This is an error message!\")\n",
    "shouter.fatal(\"This is a fatal message!\")\n",
    "shouter.critical(\"This is a critical message!\")"
   ]
  },
  {
   "cell_type": "markdown",
   "metadata": {},
   "source": [
    "### 3. Using different output types"
   ]
  },
  {
   "cell_type": "code",
   "execution_count": 4,
   "metadata": {},
   "outputs": [
    {
     "name": "stderr",
     "output_type": "stream",
     "text": [
      "(2024-01-08 20:26:29,568) : Shouter : [INFO] : ==================================================\n",
      "(2024-01-08 20:26:29,570) : Shouter : [INFO] : \n",
      "==================================================\n",
      "-----------------Header Message----------------- \n",
      "==================================================\n"
     ]
    }
   ],
   "source": [
    "# Different types of outputs\n",
    "shouter.info(output_type=\"dline\")\n",
    "shouter.info(output_type=\"HEAD1\", mess=\"Header Message\")"
   ]
  },
  {
   "cell_type": "markdown",
   "metadata": {},
   "source": [
    "### 4. Custom logger configuration"
   ]
  },
  {
   "cell_type": "code",
   "execution_count": 5,
   "metadata": {},
   "outputs": [
    {
     "name": "stderr",
     "output_type": "stream",
     "text": [
      "(2024-01-08 20:26:29,582) : CustomLogger : [INFO] : Message with custom logger\n"
     ]
    }
   ],
   "source": [
    "import logging\n",
    "\n",
    "# Custom logger\n",
    "custom_logger = logging.getLogger(\"CustomLogger\")\n",
    "custom_logger.setLevel(logging.INFO)\n",
    "\n",
    "# Shouter with custom logger\n",
    "shouter_with_custom_logger = Shouter(supported_classes=(), logger=custom_logger)\n",
    "shouter_with_custom_logger.info(mess=\"Message with custom logger\")"
   ]
  },
  {
   "cell_type": "markdown",
   "metadata": {},
   "source": [
    "### 5. Backwards compatibility with existing loggers"
   ]
  },
  {
   "cell_type": "code",
   "execution_count": 7,
   "metadata": {},
   "outputs": [],
   "source": [
    "import logging\n",
    "import attr #>=22.2.0\n",
    "\n",
    "\n",
    "@attr.s\n",
    "class ExampleClass:\n",
    "\n",
    "    # Logger settings\n",
    "    logger = attr.ib(default=None)\n",
    "    logger_name = attr.ib(default='Example Class')\n",
    "    loggerLvl = attr.ib(default=logging.DEBUG)\n",
    "    logger_format = attr.ib(default='(%(asctime)s) : %(name)s : [%(levelname)s] : %(message)s')\n",
    "\n",
    "    def __attrs_post_init__(self):\n",
    "        self.initialize_logger()\n",
    "\n",
    "    def initialize_logger(self):\n",
    "\n",
    "        \"\"\"\n",
    "        Initialize a logger for the class instance based on\n",
    "        the specified logging level and logger name.\n",
    "        \"\"\"\n",
    "\n",
    "        if self.logger is None:\n",
    "            logging.basicConfig(level=self.loggerLvl,format=self.logger_format)\n",
    "            logger = logging.getLogger(self.logger_name)\n",
    "            logger.setLevel(self.loggerLvl)\n",
    "\n",
    "            self.logger = logger\n",
    "            \n",
    "    def print_debug(self):\n",
    "        \n",
    "        self.logger.debug(\"This is a debug message!\")\n",
    "        \n",
    "    def print_info(self):\n",
    "        \n",
    "        self.logger.info(\"This is a info message!\")\n",
    "        \n",
    "    def print_warning(self):\n",
    "        \n",
    "        self.logger.warning(\"This is a warning message!\")\n",
    "        \n",
    "    def print_error(self):\n",
    "        \n",
    "        self.logger.error(\"This is a error message!\")\n",
    "        \n",
    "    def print_critical(self):\n",
    "        \n",
    "        self.logger.critical(\"This is a critical message!\")\n",
    "        \n",
    "    def perform_action_chain_1(self):\n",
    "        \n",
    "        self.logger.debug(\"Action 1\")\n",
    "        self.print_debug()\n",
    "                \n",
    "        self.logger.debug(\"Action 2\")\n",
    "        self.print_error()\n",
    "        \n",
    "    def perform_action_chain_2(self):\n",
    "                \n",
    "        a = 1\n",
    "        b = 'b'\n",
    "        c = ['list']\n",
    "        d = {'key' : 'value'}\n",
    "        e = Shouter()\n",
    "        \n",
    "        self.logger.error(\"Saving env\")"
   ]
  },
  {
   "cell_type": "code",
   "execution_count": 7,
   "metadata": {},
   "outputs": [
    {
     "name": "stderr",
     "output_type": "stream",
     "text": [
      "(2024-01-08 20:26:29,605) : Example Class : [DEBUG] : This is a debug message!\n",
      "(2024-01-08 20:26:29,607) : Example Class : [INFO] : This is a info message!\n",
      "(2024-01-08 20:26:29,608) : Example Class : [WARNING] : This is a warning message!\n",
      "(2024-01-08 20:26:29,609) : Example Class : [ERROR] : This is a error message!\n",
      "(2024-01-08 20:26:29,610) : Example Class : [CRITICAL] : This is a critical message!\n"
     ]
    }
   ],
   "source": [
    "ec = ExampleClass()\n",
    "\n",
    "ec.print_debug()\n",
    "ec.print_info()\n",
    "ec.print_warning()\n",
    "ec.print_error()\n",
    "ec.print_critical()"
   ]
  },
  {
   "cell_type": "code",
   "execution_count": 8,
   "metadata": {},
   "outputs": [
    {
     "name": "stderr",
     "output_type": "stream",
     "text": [
      "(2024-01-08 20:26:29,618) : Shouter : [DEBUG] : This is a debug message!\n",
      "(2024-01-08 20:26:29,620) : Shouter : [INFO] : This is a info message!\n",
      "(2024-01-08 20:26:29,621) : Shouter : [WARNING] : This is a warning message!\n",
      "(2024-01-08 20:26:29,657) : Shouter : [ERROR] : This is a error message!\n",
      "(2024-01-08 20:26:29,696) : Shouter : [CRITICAL] : This is a critical message!\n",
      "(2024-01-08 20:26:29,697) : Shouter : [DEBUG] : Action 1\n",
      "(2024-01-08 20:26:29,698) : Shouter : [DEBUG] : This is a debug message!\n",
      "(2024-01-08 20:26:29,699) : Shouter : [DEBUG] : Action 2\n",
      "(2024-01-08 20:26:29,737) : Shouter : [ERROR] : This is a error message!\n"
     ]
    }
   ],
   "source": [
    "shouter_for_example_class = Shouter(\n",
    "    supported_classes = (ExampleClass),\n",
    "    tears_persist_path = '../env_spec/log_records.json'\n",
    "    )\n",
    "\n",
    "ec = ExampleClass(logger=shouter_for_example_class)\n",
    "\n",
    "ec.print_debug()\n",
    "ec.print_info()\n",
    "ec.print_warning()\n",
    "ec.print_error()\n",
    "ec.print_critical()\n",
    "ec.perform_action_chain_1()"
   ]
  },
  {
   "cell_type": "markdown",
   "metadata": {},
   "source": [
    "### 6. Built-in records from Shouter usage"
   ]
  },
  {
   "cell_type": "code",
   "execution_count": 3,
   "metadata": {},
   "outputs": [
    {
     "name": "stderr",
     "output_type": "stream",
     "text": [
      "(2024-01-08 22:43:32,285) : Shouter : [DEBUG] : This is a debug message!\n",
      "(2024-01-08 22:43:32,287) : Shouter : [DEBUG] : Action 1\n",
      "(2024-01-08 22:43:32,287) : Shouter : [DEBUG] : This is a debug message!\n",
      "(2024-01-08 22:43:32,288) : Shouter : [DEBUG] : Action 2\n",
      "(2024-01-08 22:43:32,289) : Shouter : [ERROR] : This is a error message!\n"
     ]
    }
   ],
   "source": [
    "shouter_for_example_class = Shouter(\n",
    "    supported_classes = (ExampleClass),\n",
    "    tears_persist_path = '../env_spec/log_records.json'\n",
    "    )\n",
    "\n",
    "ec = ExampleClass(logger=shouter_for_example_class)\n",
    "\n",
    "ec.print_debug()\n",
    "ec.perform_action_chain_1()"
   ]
  },
  {
   "cell_type": "code",
   "execution_count": 4,
   "metadata": {},
   "outputs": [
    {
     "data": {
      "text/plain": [
       "[{'datetime': '2024-01-08 22:43:32',\n",
       "  'level': 'debug',\n",
       "  'function': 'ExampleClass.print_debug',\n",
       "  'mess': 'This is a debug message!',\n",
       "  'line': 33,\n",
       "  'lines': [33],\n",
       "  'traceback': ['ExampleClass.print_debug']},\n",
       " {'datetime': '2024-01-08 22:43:32',\n",
       "  'level': 'debug',\n",
       "  'function': 'ExampleClass.perform_action_chain_1',\n",
       "  'mess': 'Action 1',\n",
       "  'line': 56,\n",
       "  'lines': [56],\n",
       "  'traceback': ['ExampleClass.perform_action_chain_1']},\n",
       " {'datetime': '2024-01-08 22:43:32',\n",
       "  'level': 'debug',\n",
       "  'function': 'ExampleClass.perform_action_chain_1',\n",
       "  'mess': 'This is a debug message!',\n",
       "  'line': 57,\n",
       "  'lines': [33, 57],\n",
       "  'traceback': ['ExampleClass.print_debug',\n",
       "   'ExampleClass.perform_action_chain_1']},\n",
       " {'datetime': '2024-01-08 22:43:32',\n",
       "  'level': 'debug',\n",
       "  'function': 'ExampleClass.perform_action_chain_1',\n",
       "  'mess': 'Action 2',\n",
       "  'line': 63,\n",
       "  'lines': [63],\n",
       "  'traceback': ['ExampleClass.perform_action_chain_1']},\n",
       " {'datetime': '2024-01-08 22:43:32',\n",
       "  'level': 'error',\n",
       "  'function': 'ExampleClass.perform_action_chain_1',\n",
       "  'mess': 'This is a error message!',\n",
       "  'line': 64,\n",
       "  'lines': [48, 64],\n",
       "  'traceback': ['ExampleClass.print_error',\n",
       "   'ExampleClass.perform_action_chain_1']}]"
      ]
     },
     "execution_count": 4,
     "metadata": {},
     "output_type": "execute_result"
    }
   ],
   "source": [
    "ec.logger.return_logged_tears()"
   ]
  },
  {
   "cell_type": "code",
   "execution_count": 11,
   "metadata": {},
   "outputs": [
    {
     "data": {
      "text/html": [
       "<div>\n",
       "<style scoped>\n",
       "    .dataframe tbody tr th:only-of-type {\n",
       "        vertical-align: middle;\n",
       "    }\n",
       "\n",
       "    .dataframe tbody tr th {\n",
       "        vertical-align: top;\n",
       "    }\n",
       "\n",
       "    .dataframe thead th {\n",
       "        text-align: right;\n",
       "    }\n",
       "</style>\n",
       "<table border=\"1\" class=\"dataframe\">\n",
       "  <thead>\n",
       "    <tr style=\"text-align: right;\">\n",
       "      <th></th>\n",
       "      <th>datetime</th>\n",
       "      <th>level</th>\n",
       "      <th>function</th>\n",
       "      <th>mess</th>\n",
       "      <th>line</th>\n",
       "      <th>lines</th>\n",
       "      <th>traceback</th>\n",
       "    </tr>\n",
       "  </thead>\n",
       "  <tbody>\n",
       "    <tr>\n",
       "      <th>0</th>\n",
       "      <td>2024-01-08 20:26:29</td>\n",
       "      <td>debug</td>\n",
       "      <td>ExampleClass.print_debug</td>\n",
       "      <td>This is a debug message!</td>\n",
       "      <td>33</td>\n",
       "      <td>[33]</td>\n",
       "      <td>[ExampleClass.print_debug]</td>\n",
       "    </tr>\n",
       "    <tr>\n",
       "      <th>1</th>\n",
       "      <td>2024-01-08 20:26:29</td>\n",
       "      <td>debug</td>\n",
       "      <td>ExampleClass.perform_action_chain_1</td>\n",
       "      <td>Action 1</td>\n",
       "      <td>53</td>\n",
       "      <td>[53]</td>\n",
       "      <td>[ExampleClass.perform_action_chain_1]</td>\n",
       "    </tr>\n",
       "    <tr>\n",
       "      <th>2</th>\n",
       "      <td>2024-01-08 20:26:29</td>\n",
       "      <td>debug</td>\n",
       "      <td>ExampleClass.perform_action_chain_1</td>\n",
       "      <td>This is a debug message!</td>\n",
       "      <td>54</td>\n",
       "      <td>[33, 54]</td>\n",
       "      <td>[ExampleClass.print_debug, ExampleClass.perfor...</td>\n",
       "    </tr>\n",
       "    <tr>\n",
       "      <th>3</th>\n",
       "      <td>2024-01-08 20:26:29</td>\n",
       "      <td>debug</td>\n",
       "      <td>ExampleClass.perform_action_chain_1</td>\n",
       "      <td>Action 2</td>\n",
       "      <td>60</td>\n",
       "      <td>[60]</td>\n",
       "      <td>[ExampleClass.perform_action_chain_1]</td>\n",
       "    </tr>\n",
       "    <tr>\n",
       "      <th>4</th>\n",
       "      <td>2024-01-08 20:26:29</td>\n",
       "      <td>error</td>\n",
       "      <td>ExampleClass.perform_action_chain_1</td>\n",
       "      <td>This is a error message!</td>\n",
       "      <td>61</td>\n",
       "      <td>[45, 61]</td>\n",
       "      <td>[ExampleClass.print_error, ExampleClass.perfor...</td>\n",
       "    </tr>\n",
       "  </tbody>\n",
       "</table>\n",
       "</div>"
      ],
      "text/plain": [
       "              datetime  level                             function  \\\n",
       "0  2024-01-08 20:26:29  debug             ExampleClass.print_debug   \n",
       "1  2024-01-08 20:26:29  debug  ExampleClass.perform_action_chain_1   \n",
       "2  2024-01-08 20:26:29  debug  ExampleClass.perform_action_chain_1   \n",
       "3  2024-01-08 20:26:29  debug  ExampleClass.perform_action_chain_1   \n",
       "4  2024-01-08 20:26:29  error  ExampleClass.perform_action_chain_1   \n",
       "\n",
       "                       mess  line     lines  \\\n",
       "0  This is a debug message!    33      [33]   \n",
       "1                  Action 1    53      [53]   \n",
       "2  This is a debug message!    54  [33, 54]   \n",
       "3                  Action 2    60      [60]   \n",
       "4  This is a error message!    61  [45, 61]   \n",
       "\n",
       "                                           traceback  \n",
       "0                         [ExampleClass.print_debug]  \n",
       "1              [ExampleClass.perform_action_chain_1]  \n",
       "2  [ExampleClass.print_debug, ExampleClass.perfor...  \n",
       "3              [ExampleClass.perform_action_chain_1]  \n",
       "4  [ExampleClass.print_error, ExampleClass.perfor...  "
      ]
     },
     "execution_count": 11,
     "metadata": {},
     "output_type": "execute_result"
    }
   ],
   "source": [
    "import pandas as pd\n",
    "\n",
    "pd.DataFrame(ec.logger.return_logged_tears())"
   ]
  },
  {
   "cell_type": "markdown",
   "metadata": {},
   "source": [
    "### 7. Debugging capabilities of Shouter"
   ]
  },
  {
   "cell_type": "code",
   "execution_count": 12,
   "metadata": {},
   "outputs": [
    {
     "name": "stderr",
     "output_type": "stream",
     "text": [
      "(2024-01-08 22:57:06,250) : Shouter : [DEBUG] : This is a debug message!\n",
      "(2024-01-08 22:57:06,252) : Shouter : [ERROR] : Saving env\n"
     ]
    }
   ],
   "source": [
    "shouter_for_example_class = Shouter(\n",
    "    supported_classes = (ExampleClass),\n",
    "    tears_persist_path = '../env_spec/log_records.json',\n",
    "    persist_env = True,\n",
    "    env_persist_path = '../env_spec/environment.dill'\n",
    ")\n",
    "\n",
    "ec = ExampleClass(logger=shouter_for_example_class)\n",
    "\n",
    "ec.print_debug()\n",
    "ec.perform_action_chain_2()"
   ]
  },
  {
   "cell_type": "code",
   "execution_count": 14,
   "metadata": {},
   "outputs": [
    {
     "data": {
      "text/plain": [
       "{'a': 1,\n",
       " 'b': 'b',\n",
       " 'c': ['list'],\n",
       " 'd': {'key': 'value'},\n",
       " 'e': Shouter(supported_classes=(), dotline_length=50, tears_persist_path='log_records.json', env_persist_path='environment.dill', datetime_format='%Y-%m-%d %H:%M:%S', log_records=[], persist_env=False, logger=<Logger Shouter (DEBUG)>, logger_name='Shouter', loggerLvl=10, logger_format='(%(asctime)s) : %(name)s : [%(levelname)s] : %(message)s')}"
      ]
     },
     "execution_count": 14,
     "metadata": {},
     "output_type": "execute_result"
    }
   ],
   "source": [
    "ec.logger.return_last_words(\n",
    "    # optional\n",
    "    env_persist_path = '../env_spec/environment.dill'\n",
    ")"
   ]
  }
 ],
 "metadata": {
  "kernelspec": {
  "display_name": "Python 3",
  "language": "python",
  "name": "python3"
  },
  "language_info": {
   "codemirror_mode": {
    "name": "ipython",
    "version": 3
   },
   "file_extension": ".py",
   "mimetype": "text/x-python",
   "name": "python",
   "nbconvert_exporter": "python",
   "pygments_lexer": "ipython3",
   "version": "3.9.15"
  },
  "orig_nbformat": 4
 },
 "nbformat": 4,
 "nbformat_minor": 2
}
