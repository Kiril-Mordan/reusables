{
 "cells": [
  {
   "cell_type": "markdown",
   "metadata": {},
   "source": [
    "# Grid Looper\n",
    "\n",
    "A tool to run experiments based on defined grid and function with single iteration."
   ]
  },
  {
   "cell_type": "code",
   "execution_count": 1,
   "metadata": {},
   "outputs": [],
   "source": [
    "import sys\n",
    "sys.path.append('../')\n",
    "from python_modules.gridlooper import GridLooper"
   ]
  },
  {
   "cell_type": "markdown",
   "metadata": {},
   "source": [
    "## Usage examples\n",
    "\n",
    "The examples contain:\n",
    "\n",
    "1. preparing runner function\n",
    "2. preparing search grid\n",
    "3. running experiments\n",
    "4. analysing results\n",
    "    "
   ]
  },
  {
   "cell_type": "markdown",
   "metadata": {},
   "source": [
    "### 1. Preparing runner function\n",
    "\n",
    "Runner funtion should contain logic of experiment in a way that the parameters could be supplied with `embedder_params` "
   ]
  },
  {
   "cell_type": "code",
   "execution_count": 2,
   "metadata": {},
   "outputs": [],
   "source": [
    "def runner_function(runner_params : dict, c : int):\n",
    "\n",
    "    result = int(runner_params['a']) + runner_params['b'] + c\n",
    "\n",
    "    return result"
   ]
  },
  {
   "cell_type": "markdown",
   "metadata": {},
   "source": [
    "### 2. Preparing search grid\n",
    "\n",
    "Experiment combos can be defined in short form, transformed into a list and filtered with `exlusion_combos`. Some of the parameters in experiment definition could be ignored durring experiment with a use of `exclusion_keys` parameter."
   ]
  },
  {
   "cell_type": "code",
   "execution_count": 3,
   "metadata": {},
   "outputs": [],
   "source": [
    "experiments_settings = {\n",
    "    'runner_params': {'a' : ['1', '2','4'],\n",
    "                        'b' : [2, 6,10,100]},\n",
    "\n",
    "    'c' : [100, 500],#, 1000, 5000]\n",
    "    'name' : 'example experiment'\n",
    "}\n",
    "\n",
    "exclusion_keys = {'name'}\n",
    "\n",
    "exclusion_combos = [{'runner_params': {'a': ['1','2'],\n",
    "                                       'b': [100, 6,10]}}]"
   ]
  },
  {
   "cell_type": "code",
   "execution_count": 4,
   "metadata": {},
   "outputs": [],
   "source": [
    "gl = GridLooper(\n",
    "    # dictionary of all possible parameter combos\n",
    "    experiments_settings = experiments_settings,\n",
    "    # keys from the experiments_settings to be ignored\n",
    "    exclusion_keys = exclusion_keys,\n",
    "    # combos from experiments_settings to be exluded\n",
    "    exclusion_combos = exclusion_combos,\n",
    "    # function that be run for each of experiment combos\n",
    "    runner_function = runner_function,\n",
    "    # optional parameter to be supplied to runner function outside of experiment settings\n",
    "    data = None,\n",
    "    # path to save experiment results\n",
    "    save_path = 'example_run.dill')"
   ]
  },
  {
   "cell_type": "code",
   "execution_count": 5,
   "metadata": {},
   "outputs": [
    {
     "data": {
      "text/plain": [
       "[{'runner_params': {'a': '1', 'b': 2},\n",
       "  'c': 100,\n",
       "  'config_id': '54eac3ee5ce6ae6d126502ee87dbbafce54111b346b895e1d5e29c50097fa800'},\n",
       " {'runner_params': {'a': '1', 'b': 2},\n",
       "  'c': 500,\n",
       "  'config_id': 'b2ef1c49a36375e88203f9ff1f01db69457fc9eb6435333aaafee68bb871d9da'},\n",
       " {'runner_params': {'a': '2', 'b': 2},\n",
       "  'c': 100,\n",
       "  'config_id': '4b1a723841dbf9f6e2a415159d0deb938373ba21506285289e46cafdcf455f05'},\n",
       " {'runner_params': {'a': '2', 'b': 2},\n",
       "  'c': 500,\n",
       "  'config_id': '44a22efdfe7e385b4fbaeb84976ac0d10703a98902ce134cddd1000e09ba156a'},\n",
       " {'runner_params': {'a': '4', 'b': 2},\n",
       "  'c': 100,\n",
       "  'config_id': '6dc5a94f832532513b1d739fdad694029b6b9d97cec9fa869ce3d75b822c23ce'},\n",
       " {'runner_params': {'a': '4', 'b': 2},\n",
       "  'c': 500,\n",
       "  'config_id': '9e7ec3d2e9d7d5ccf4b8c05b9a7a145fc443f77cd7031dcdaf139a77f88d5944'},\n",
       " {'runner_params': {'a': '4', 'b': 6},\n",
       "  'c': 100,\n",
       "  'config_id': 'dcd7c1aeb1b3c41ab924ece9ed471d682cef319304a9675dfd1f7d27f6e29c7c'},\n",
       " {'runner_params': {'a': '4', 'b': 6},\n",
       "  'c': 500,\n",
       "  'config_id': 'ad38629f25dd962d157ee8b36b1fc34a54079f8b08d0d4e79fd45cecfa167d49'},\n",
       " {'runner_params': {'a': '4', 'b': 10},\n",
       "  'c': 100,\n",
       "  'config_id': '6cd8cc53587798f4fc2583a122a7cad6e79cb7b6c10639e6a9714d12fa2c3092'},\n",
       " {'runner_params': {'a': '4', 'b': 10},\n",
       "  'c': 500,\n",
       "  'config_id': '495efcc2399e24fed5a5dee4b3909f27688b7723eb62b28be6ff6eb74c4e8574'},\n",
       " {'runner_params': {'a': '4', 'b': 100},\n",
       "  'c': 100,\n",
       "  'config_id': '2dcdd7a719ce8fa4731c8d9adefd131d809fd29e014aa9acd3be8a6538cc8765'},\n",
       " {'runner_params': {'a': '4', 'b': 100},\n",
       "  'c': 500,\n",
       "  'config_id': '64f83d857c2c3a0030bd187330da30dc6d4aaf2ae1418f150b9902a269a4f3d8'}]"
      ]
     },
     "execution_count": 5,
     "metadata": {},
     "output_type": "execute_result"
    }
   ],
   "source": [
    "gl.prepare_search_grid(\n",
    "    # optional if definer earlier\n",
    "    experiments_settings = experiments_settings,\n",
    "    exclusion_keys = exclusion_keys,\n",
    "    exclusion_combos = exclusion_combos\n",
    ")\n",
    "\n",
    "\n",
    "gl.experiment_configs"
   ]
  },
  {
   "cell_type": "markdown",
   "metadata": {},
   "source": [
    "### 3. Running experiments\n",
    "\n",
    "`executing_experimets` function will run `runner_function` for each set of parameters from defined `experiment_configs` for a select loop strategy."
   ]
  },
  {
   "cell_type": "code",
   "execution_count": 6,
   "metadata": {},
   "outputs": [
    {
     "name": "stderr",
     "output_type": "stream",
     "text": [
      "Looping: 100%|██████████| 12/12 [00:00<00:00, 27715.67item/s]\n"
     ]
    }
   ],
   "source": [
    "gl.executing_experimets(\n",
    "    # optional of defined earlier\n",
    "    runner_function = runner_function,\n",
    "    experiment_configs = gl.experiment_configs,\n",
    "    data = None,\n",
    "    loop_type= 'brute',\n",
    "    save_path = 'example_run.dill'\n",
    ")"
   ]
  },
  {
   "cell_type": "markdown",
   "metadata": {},
   "source": [
    "### 4. Analysing results"
   ]
  },
  {
   "cell_type": "code",
   "execution_count": 8,
   "metadata": {},
   "outputs": [
    {
     "data": {
      "text/plain": [
       "{'54eac3ee5ce6ae6d126502ee87dbbafce54111b346b895e1d5e29c50097fa800': 103,\n",
       " 'b2ef1c49a36375e88203f9ff1f01db69457fc9eb6435333aaafee68bb871d9da': 503,\n",
       " '4b1a723841dbf9f6e2a415159d0deb938373ba21506285289e46cafdcf455f05': 104,\n",
       " '44a22efdfe7e385b4fbaeb84976ac0d10703a98902ce134cddd1000e09ba156a': 504,\n",
       " '6dc5a94f832532513b1d739fdad694029b6b9d97cec9fa869ce3d75b822c23ce': 106,\n",
       " '9e7ec3d2e9d7d5ccf4b8c05b9a7a145fc443f77cd7031dcdaf139a77f88d5944': 506,\n",
       " 'dcd7c1aeb1b3c41ab924ece9ed471d682cef319304a9675dfd1f7d27f6e29c7c': 110,\n",
       " 'ad38629f25dd962d157ee8b36b1fc34a54079f8b08d0d4e79fd45cecfa167d49': 510,\n",
       " '6cd8cc53587798f4fc2583a122a7cad6e79cb7b6c10639e6a9714d12fa2c3092': 114,\n",
       " '495efcc2399e24fed5a5dee4b3909f27688b7723eb62b28be6ff6eb74c4e8574': 514,\n",
       " '2dcdd7a719ce8fa4731c8d9adefd131d809fd29e014aa9acd3be8a6538cc8765': 204,\n",
       " '64f83d857c2c3a0030bd187330da30dc6d4aaf2ae1418f150b9902a269a4f3d8': 604}"
      ]
     },
     "execution_count": 8,
     "metadata": {},
     "output_type": "execute_result"
    }
   ],
   "source": [
    "gl.experiment_results['results']"
   ]
  }
 ],
 "metadata": {
  "kernelspec": {
   "display_name": "testenv",
   "language": "python",
   "name": "python3"
  },
  "language_info": {
   "codemirror_mode": {
    "name": "ipython",
    "version": 3
   },
   "file_extension": ".py",
   "mimetype": "text/x-python",
   "name": "python",
   "nbconvert_exporter": "python",
   "pygments_lexer": "ipython3",
   "version": "3.9.15"
  }
 },
 "nbformat": 4,
 "nbformat_minor": 2
}
