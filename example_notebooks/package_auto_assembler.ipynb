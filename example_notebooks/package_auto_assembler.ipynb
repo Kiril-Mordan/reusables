{
 "cells": [
  {
   "cell_type": "markdown",
   "metadata": {},
   "source": [
    "# Package Auto Assembler\n",
    "\n",
    "This tool is meant to streamline creation of single module packages.\n",
    "Its purpose is to automate as many aspects of python package creation as possible,\n",
    "to shorten a development cycle of reusable components, maintain certain standard of quality\n",
    "for reusable code. It provides tool to simplify the process of package creatrion\n",
    "to a point that it can be triggered automatically within ci/cd pipelines,\n",
    "with minimal preparations and requirements for new modules.\n"
   ]
  },
  {
   "cell_type": "code",
   "execution_count": 1,
   "metadata": {},
   "outputs": [],
   "source": [
    "import sys\n",
    "sys.path.append('../')\n",
    "from python_modules.package_auto_assembler import (VersionHandler, \\\n",
    "    ImportMappingHandler, RequirementsHandler, MetadataHandler, \\\n",
    "        LocalDependaciesHandler, LongDocHandler, SetupDirHandler, \\\n",
    "            PackageAutoAssembler)"
   ]
  },
  {
   "cell_type": "markdown",
   "metadata": {},
   "source": [
    "## Usage examples"
   ]
  },
  {
   "cell_type": "markdown",
   "metadata": {},
   "source": [
    "The examples contain: \n",
    "1. package versioning\n",
    "2. import mapping\n",
    "3. extracting and merging requirements\n",
    "4. preparing metadata\n",
    "5. merging local dependacies into single module\n",
    "6. prepare README\n",
    "7. assembling setup directory\n",
    "8. making a package"
   ]
  },
  {
   "cell_type": "markdown",
   "metadata": {},
   "source": [
    "### 1. Package versioning"
   ]
  },
  {
   "cell_type": "markdown",
   "metadata": {},
   "source": [
    "#### Initialize VersionHandler"
   ]
  },
  {
   "cell_type": "code",
   "execution_count": 2,
   "metadata": {},
   "outputs": [],
   "source": [
    "pv = VersionHandler(\n",
    "    # required\n",
    "    versions_filepath = '../tests/package_auto_assembler/lsts_package_versions.yml',\n",
    "    log_filepath = '../tests/package_auto_assembler/version_logs.csv',\n",
    "    # optional\n",
    "    default_version = \"0.0.1\")"
   ]
  },
  {
   "cell_type": "markdown",
   "metadata": {},
   "source": [
    "#### Add new package"
   ]
  },
  {
   "cell_type": "code",
   "execution_count": 3,
   "metadata": {},
   "outputs": [],
   "source": [
    "pv.add_package(\n",
    "    package_name = \"new_package\",\n",
    "    # optional\n",
    "    version = \"0.0.1\"\n",
    ")"
   ]
  },
  {
   "cell_type": "markdown",
   "metadata": {},
   "source": [
    "#### Update package version"
   ]
  },
  {
   "cell_type": "code",
   "execution_count": 4,
   "metadata": {},
   "outputs": [
    {
     "name": "stderr",
     "output_type": "stream",
     "text": [
      "There are no known versions of 'another_new_package', 0.0.1 will be used!\n"
     ]
    }
   ],
   "source": [
    "pv.increment_patch(\n",
    "    package_name = \"new_package\"\n",
    ")\n",
    "## for not tracked package\n",
    "pv.increment_patch(\n",
    "    package_name = \"another_new_package\",\n",
    "    # optional\n",
    "    default_version = \"0.0.1\"\n",
    ")"
   ]
  },
  {
   "cell_type": "markdown",
   "metadata": {},
   "source": [
    "#### Display current versions and logs"
   ]
  },
  {
   "cell_type": "code",
   "execution_count": 5,
   "metadata": {},
   "outputs": [
    {
     "data": {
      "text/plain": [
       "{'another_new_package': '0.0.1', 'new_package': '0.0.2'}"
      ]
     },
     "execution_count": 5,
     "metadata": {},
     "output_type": "execute_result"
    }
   ],
   "source": [
    "pv.get_versions(\n",
    "    # optional\n",
    "    versions_filepath = '../tests/package_auto_assembler/lsts_package_versions.yml'\n",
    ")"
   ]
  },
  {
   "cell_type": "code",
   "execution_count": 6,
   "metadata": {},
   "outputs": [
    {
     "data": {
      "text/plain": [
       "'0.0.2'"
      ]
     },
     "execution_count": 6,
     "metadata": {},
     "output_type": "execute_result"
    }
   ],
   "source": [
    "pv.get_version(\n",
    "    package_name='new_package'\n",
    ")"
   ]
  },
  {
   "cell_type": "code",
   "execution_count": 7,
   "metadata": {},
   "outputs": [
    {
     "data": {
      "text/html": [
       "<div>\n",
       "<style scoped>\n",
       "    .dataframe tbody tr th:only-of-type {\n",
       "        vertical-align: middle;\n",
       "    }\n",
       "\n",
       "    .dataframe tbody tr th {\n",
       "        vertical-align: top;\n",
       "    }\n",
       "\n",
       "    .dataframe thead th {\n",
       "        text-align: right;\n",
       "    }\n",
       "</style>\n",
       "<table border=\"1\" class=\"dataframe\">\n",
       "  <thead>\n",
       "    <tr style=\"text-align: right;\">\n",
       "      <th></th>\n",
       "      <th>Timestamp</th>\n",
       "      <th>Package</th>\n",
       "      <th>Version</th>\n",
       "    </tr>\n",
       "  </thead>\n",
       "  <tbody>\n",
       "    <tr>\n",
       "      <th>0</th>\n",
       "      <td>2024-03-03 05:37:44</td>\n",
       "      <td>new_package</td>\n",
       "      <td>0.0.1</td>\n",
       "    </tr>\n",
       "    <tr>\n",
       "      <th>1</th>\n",
       "      <td>2024-03-03 05:37:44</td>\n",
       "      <td>new_package</td>\n",
       "      <td>0.0.2</td>\n",
       "    </tr>\n",
       "    <tr>\n",
       "      <th>2</th>\n",
       "      <td>2024-03-03 05:37:44</td>\n",
       "      <td>another_new_package</td>\n",
       "      <td>0.0.1</td>\n",
       "    </tr>\n",
       "  </tbody>\n",
       "</table>\n",
       "</div>"
      ],
      "text/plain": [
       "             Timestamp              Package Version\n",
       "0  2024-03-03 05:37:44          new_package   0.0.1\n",
       "1  2024-03-03 05:37:44          new_package   0.0.2\n",
       "2  2024-03-03 05:37:44  another_new_package   0.0.1"
      ]
     },
     "execution_count": 7,
     "metadata": {},
     "output_type": "execute_result"
    }
   ],
   "source": [
    "pv.get_logs(\n",
    "    # optional\n",
    "    log_filepath = '../tests/package_auto_assembler/version_logs.csv'\n",
    ")"
   ]
  },
  {
   "cell_type": "markdown",
   "metadata": {},
   "source": [
    "#### Flush versions and logs"
   ]
  },
  {
   "cell_type": "code",
   "execution_count": 8,
   "metadata": {},
   "outputs": [],
   "source": [
    "pv.flush_versions()\n",
    "pv.flush_logs()"
   ]
  },
  {
   "cell_type": "markdown",
   "metadata": {},
   "source": [
    "### 2. Import mapping"
   ]
  },
  {
   "cell_type": "markdown",
   "metadata": {},
   "source": [
    "#### Initialize ImportMappingHandler"
   ]
  },
  {
   "cell_type": "code",
   "execution_count": 9,
   "metadata": {},
   "outputs": [],
   "source": [
    "im = ImportMappingHandler(\n",
    "    # required\n",
    "    mapping_filepath = \"../env_spec/package_mapping.json\"\n",
    ")"
   ]
  },
  {
   "cell_type": "markdown",
   "metadata": {},
   "source": [
    "#### Load package mappings"
   ]
  },
  {
   "cell_type": "code",
   "execution_count": 10,
   "metadata": {},
   "outputs": [
    {
     "data": {
      "text/plain": [
       "{'PIL': 'Pillow',\n",
       " 'bs4': 'beautifulsoup4',\n",
       " 'fitz': 'PyMuPDF',\n",
       " 'attr': 'attrs',\n",
       " 'dotenv': 'python-dotenv',\n",
       " 'googleapiclient': 'google-api-python-client',\n",
       " 'google_auth_oauthlib': 'google-auth-oauthlib',\n",
       " 'sentence_transformers': 'sentence-transformers',\n",
       " 'flask': 'Flask',\n",
       " 'stdlib_list': 'stdlib-list',\n",
       " 'sklearn': 'scikit-learn',\n",
       " 'yaml': 'pyyaml',\n",
       " 'package_auto_assembler': 'package-auto-assembler',\n",
       " 'mocker_db': 'mocker-db'}"
      ]
     },
     "execution_count": 10,
     "metadata": {},
     "output_type": "execute_result"
    }
   ],
   "source": [
    "im.load_package_mappings(\n",
    "    # optional\n",
    "    mapping_filepath = \"../env_spec/package_mapping.json\"\n",
    ")"
   ]
  },
  {
   "cell_type": "markdown",
   "metadata": {},
   "source": [
    "### 3. Extracting and merging requirements"
   ]
  },
  {
   "cell_type": "markdown",
   "metadata": {},
   "source": [
    "#### Initialize RequirementsHandler"
   ]
  },
  {
   "cell_type": "code",
   "execution_count": 11,
   "metadata": {},
   "outputs": [],
   "source": [
    "rh = RequirementsHandler(\n",
    "    # optional/required later\n",
    "    module_filepath = \"../tests/package_auto_assembler/example_module.py\",\n",
    "    package_mappings = {'PIL': 'Pillow',\n",
    "                        'bs4': 'beautifulsoup4',\n",
    "                        'fitz': 'PyMuPDF',\n",
    "                        'attr': 'attrs',\n",
    "                        'dotenv': 'python-dotenv',\n",
    "                        'googleapiclient': 'google-api-python-client',\n",
    "                        'sentence_transformers': 'sentence-transformers',\n",
    "                        'flask': 'Flask',\n",
    "                        'stdlib_list': 'stdlib-list',\n",
    "                        'sklearn': 'scikit-learn',\n",
    "                        'yaml': 'pyyaml'},\n",
    "    requirements_output_path = \"../tests/package_auto_assembler/\",\n",
    "    output_requirements_prefix = \"requirements_\",\n",
    "    custom_modules_filepath = \"../tests/package_auto_assembler/dependancies\",\n",
    "    python_version = '3.8'\n",
    ")"
   ]
  },
  {
   "cell_type": "markdown",
   "metadata": {},
   "source": [
    "#### List custom modules for a given directory"
   ]
  },
  {
   "cell_type": "code",
   "execution_count": 12,
   "metadata": {},
   "outputs": [
    {
     "data": {
      "text/plain": [
       "['example_local_dependacy_1', 'example_local_dependacy_2']"
      ]
     },
     "execution_count": 12,
     "metadata": {},
     "output_type": "execute_result"
    }
   ],
   "source": [
    "rh.list_custom_modules(\n",
    "    # optional\n",
    "    custom_modules_filepath=\"../tests/package_auto_assembler/dependancies\"\n",
    ")"
   ]
  },
  {
   "cell_type": "markdown",
   "metadata": {},
   "source": [
    "#### Check if module is a standard python library"
   ]
  },
  {
   "cell_type": "code",
   "execution_count": 13,
   "metadata": {},
   "outputs": [
    {
     "data": {
      "text/plain": [
       "False"
      ]
     },
     "execution_count": 13,
     "metadata": {},
     "output_type": "execute_result"
    }
   ],
   "source": [
    "rh.is_standard_library(\n",
    "    # required\n",
    "    module_name = 'example_local_dependacy_1',\n",
    "    # optional\n",
    "    python_version = '3.8'\n",
    ")"
   ]
  },
  {
   "cell_type": "code",
   "execution_count": 14,
   "metadata": {},
   "outputs": [
    {
     "data": {
      "text/plain": [
       "True"
      ]
     },
     "execution_count": 14,
     "metadata": {},
     "output_type": "execute_result"
    }
   ],
   "source": [
    "rh.is_standard_library(\n",
    "    # required\n",
    "    module_name = 'logging',\n",
    "    # optional\n",
    "    python_version = '3.8'\n",
    ")"
   ]
  },
  {
   "cell_type": "markdown",
   "metadata": {},
   "source": [
    "#### Extract requirements from the module file"
   ]
  },
  {
   "cell_type": "code",
   "execution_count": 15,
   "metadata": {},
   "outputs": [
    {
     "data": {
      "text/plain": [
       "['### example_module.py', 'langchain', 'attrs>=22.2.0']"
      ]
     },
     "execution_count": 15,
     "metadata": {},
     "output_type": "execute_result"
    }
   ],
   "source": [
    "rh.extract_requirements(\n",
    "    # optional\n",
    "    module_filepath = \"../tests/package_auto_assembler/example_module.py\",\n",
    "    custom_modules = ['example_local_dependacy_2', 'example_local_dependacy_1'],\n",
    "    package_mappings = {'PIL': 'Pillow',\n",
    "                        'bs4': 'beautifulsoup4',\n",
    "                        'fitz': 'PyMuPDF',\n",
    "                        'attr': 'attrs',\n",
    "                        'dotenv': 'python-dotenv',\n",
    "                        'googleapiclient': 'google-api-python-client',\n",
    "                        'sentence_transformers': 'sentence-transformers',\n",
    "                        'flask': 'Flask',\n",
    "                        'stdlib_list': 'stdlib-list',\n",
    "                        'sklearn': 'scikit-learn',\n",
    "                        'yaml': 'pyyaml'},\n",
    "    python_version = '3.8'\n",
    ")"
   ]
  },
  {
   "cell_type": "markdown",
   "metadata": {},
   "source": [
    "#### Save requirements to a file"
   ]
  },
  {
   "cell_type": "code",
   "execution_count": 16,
   "metadata": {},
   "outputs": [],
   "source": [
    "rh.write_requirements_file(\n",
    "    # optional/required later\n",
    "    module_name = 'example_module',\n",
    "    requirements = ['### example_module.py', 'attrs>=22.2.0'],\n",
    "    output_path = \"../tests/package_auto_assembler/\",\n",
    "    prefix = \"requirements_\"\n",
    ")"
   ]
  },
  {
   "cell_type": "markdown",
   "metadata": {},
   "source": [
    "#### Read requirements"
   ]
  },
  {
   "cell_type": "code",
   "execution_count": 17,
   "metadata": {},
   "outputs": [
    {
     "data": {
      "text/plain": [
       "['attrs>=22.2.0']"
      ]
     },
     "execution_count": 17,
     "metadata": {},
     "output_type": "execute_result"
    }
   ],
   "source": [
    "rh.read_requirements_file(\n",
    "    # required\n",
    "    requirements_filepath = \"../tests/package_auto_assembler/requirements_example_module.txt\"\n",
    ")"
   ]
  },
  {
   "cell_type": "markdown",
   "metadata": {},
   "source": [
    "### 4. Preparing metadata"
   ]
  },
  {
   "cell_type": "markdown",
   "metadata": {},
   "source": [
    "#### Initializing MetadataHandler"
   ]
  },
  {
   "cell_type": "code",
   "execution_count": 18,
   "metadata": {},
   "outputs": [],
   "source": [
    "mh = MetadataHandler(\n",
    "    # optional/required later\n",
    "    module_filepath = \"../tests/package_auto_assembler/example_module.py\"\n",
    ")"
   ]
  },
  {
   "cell_type": "markdown",
   "metadata": {},
   "source": [
    "#### Check if metadata is available"
   ]
  },
  {
   "cell_type": "code",
   "execution_count": 19,
   "metadata": {},
   "outputs": [
    {
     "data": {
      "text/plain": [
       "True"
      ]
     },
     "execution_count": 19,
     "metadata": {},
     "output_type": "execute_result"
    }
   ],
   "source": [
    "mh.is_metadata_available(\n",
    "    # optional\n",
    "    module_filepath = \"../tests/package_auto_assembler/example_module.py\"\n",
    ")"
   ]
  },
  {
   "cell_type": "markdown",
   "metadata": {},
   "source": [
    "#### Extract metadata from module"
   ]
  },
  {
   "cell_type": "code",
   "execution_count": 20,
   "metadata": {},
   "outputs": [
    {
     "data": {
      "text/plain": [
       "{'author': 'Kyrylo Mordan',\n",
       " 'author_email': 'parachute.repo@gmail.com',\n",
       " 'version': '0.0.1',\n",
       " 'description': 'A mock handler for simulating a vector database.',\n",
       " 'keywords': ['python', 'vector database', 'similarity search']}"
      ]
     },
     "execution_count": 20,
     "metadata": {},
     "output_type": "execute_result"
    }
   ],
   "source": [
    "mh.get_package_metadata(\n",
    "    # optional\n",
    "    module_filepath = \"../tests/package_auto_assembler/example_module.py\"\n",
    ")"
   ]
  },
  {
   "cell_type": "markdown",
   "metadata": {},
   "source": [
    "### 5. Merging local dependacies into single module"
   ]
  },
  {
   "cell_type": "markdown",
   "metadata": {},
   "source": [
    "#### Initializing LocalDependaciesHandler"
   ]
  },
  {
   "cell_type": "code",
   "execution_count": 21,
   "metadata": {},
   "outputs": [],
   "source": [
    "ldh = LocalDependaciesHandler(\n",
    "    # required\n",
    "    main_module_filepath = \"../tests/package_auto_assembler/example_module.py\",\n",
    "    dependencies_dir = \"../tests/package_auto_assembler/dependancies/\",\n",
    "    # optional\n",
    "    save_filepath = \"./combined_example_module.py\"\n",
    ")"
   ]
  },
  {
   "cell_type": "markdown",
   "metadata": {},
   "source": [
    "#### Combine main module with dependacies"
   ]
  },
  {
   "cell_type": "code",
   "execution_count": 22,
   "metadata": {},
   "outputs": [
    {
     "name": "stdout",
     "output_type": "stream",
     "text": [
      "\"\"\"\n",
      "Mock Vector Db Handler\n",
      "\n",
      "This class is a mock handler for simulating a vector database, designed primarily for testing and development scenarios.\n",
      "It offers functionalities such as text embedding, hierarchical navigable small world (HNSW) search,\n",
      "and basic data management within a simulated environment resembling a vector database.\n",
      "\"\"\"\n",
      "\n",
      "import logging\n",
      "import json\n",
      "import time\n",
      "import attr #>=22.2.0\n",
      "from langchain.text_splitter import RecursiveCharacterTextSplitter\n",
      "import string\n",
      "import os\n",
      "import csv\n",
      "\n",
      "__design_choices__ = {'example_local_dependacy_1': {'example_choice_title_1': ['choice']}}\n",
      "\n",
      "# Metadata for package creation\n",
      "\n",
      "\n",
      "@attr.s\n",
      "class ComparisonFrame:\n",
      "\n",
      "    \"\"\"\n",
      "    Compares query:response pairs expected vs recieved with semantic similarity\n",
      "    and simple metrics of word count, line count etc.\n",
      "\n",
      "    ...\n",
      "\n",
      "    Attributes\n",
      "    ----------\n",
      "    embedder : SentenceTransformer\n",
      "        The model used to generate embeddings for semantic comparison.\n",
      "    record_file : str\n",
      "        The name of the CSV\n"
     ]
    }
   ],
   "source": [
    "print(ldh.combine_modules(\n",
    "    # optional\n",
    "    main_module_filepath = \"../tests/package_auto_assembler/example_module.py\",\n",
    "    dependencies_dir = \"../tests/package_auto_assembler/dependancies/\",\n",
    "    add_empty_design_choices = False\n",
    ")[0:1000])"
   ]
  },
  {
   "cell_type": "code",
   "execution_count": 23,
   "metadata": {},
   "outputs": [
    {
     "data": {
      "text/plain": [
       "['example_local_dependacy_1', 'example_local_dependacy_2']"
      ]
     },
     "execution_count": 23,
     "metadata": {},
     "output_type": "execute_result"
    }
   ],
   "source": [
    "ldh.dependencies_names_list"
   ]
  },
  {
   "cell_type": "markdown",
   "metadata": {},
   "source": [
    "#### Save combined module"
   ]
  },
  {
   "cell_type": "code",
   "execution_count": 24,
   "metadata": {},
   "outputs": [],
   "source": [
    "ldh.save_combined_modules(\n",
    "    # optional\n",
    "    combined_module = ldh.combine_modules(),\n",
    "    save_filepath = \"./combined_example_module.py\"\n",
    ")"
   ]
  },
  {
   "cell_type": "markdown",
   "metadata": {},
   "source": [
    "### 6. Prepare README"
   ]
  },
  {
   "cell_type": "code",
   "execution_count": 25,
   "metadata": {},
   "outputs": [],
   "source": [
    "import logging\n",
    "ldh = LongDocHandler(\n",
    "    # optional/required later\n",
    "    notebook_path = \"../tests/package_auto_assembler/example_module.ipynb\",\n",
    "    markdown_filepath = \"../example_module.md\",\n",
    "    timeout = 600,\n",
    "    kernel_name = 'python3',\n",
    "    # logger\n",
    "    loggerLvl = logging.DEBUG\n",
    ")"
   ]
  },
  {
   "cell_type": "markdown",
   "metadata": {},
   "source": [
    "#### Convert notebook to md without executing"
   ]
  },
  {
   "cell_type": "code",
   "execution_count": 26,
   "metadata": {},
   "outputs": [
    {
     "name": "stderr",
     "output_type": "stream",
     "text": [
      "Converted ../tests/package_auto_assembler/example_module.ipynb to ../example_module.md\n"
     ]
    }
   ],
   "source": [
    "ldh.convert_notebook_to_md(\n",
    "    # optional\n",
    "    notebook_path = \"../tests/package_auto_assembler/example_module.ipynb\",\n",
    "    output_path = \"../example_module.md\"\n",
    ")"
   ]
  },
  {
   "cell_type": "markdown",
   "metadata": {},
   "source": [
    "#### Convert notebook to md with executing"
   ]
  },
  {
   "cell_type": "code",
   "execution_count": 27,
   "metadata": {},
   "outputs": [
    {
     "name": "stderr",
     "output_type": "stream",
     "text": [
      "Converted and executed ../tests/package_auto_assembler/example_module.ipynb to ../example_module.md\n"
     ]
    }
   ],
   "source": [
    "ldh.convert_and_execute_notebook_to_md(\n",
    "    # optional\n",
    "    notebook_path = \"../tests/package_auto_assembler/example_module.ipynb\",\n",
    "    output_path = \"../example_module.md\",\n",
    "    timeout = 600,\n",
    "    kernel_name = 'python3'\n",
    ")"
   ]
  },
  {
   "cell_type": "markdown",
   "metadata": {},
   "source": [
    "#### Return long description"
   ]
  },
  {
   "cell_type": "code",
   "execution_count": 28,
   "metadata": {},
   "outputs": [],
   "source": [
    "long_description = ldh.return_long_description(\n",
    "    # optional\n",
    "    markdown_filepath = \"../example_module.md\"\n",
    ")"
   ]
  },
  {
   "cell_type": "markdown",
   "metadata": {},
   "source": [
    "### 7. Assembling setup directory"
   ]
  },
  {
   "cell_type": "markdown",
   "metadata": {},
   "source": [
    "#### Initializing SetupDirHandler"
   ]
  },
  {
   "cell_type": "code",
   "execution_count": 29,
   "metadata": {},
   "outputs": [],
   "source": [
    "sdh = SetupDirHandler(\n",
    "    # required\n",
    "    module_filepath = \"../tests/package_auto_assembler/example_module.py\",\n",
    "    # optional/ required\n",
    "    module_name = \"example_module\",\n",
    "    metadata = {'author': 'Kyrylo Mordan',\n",
    "                'version': '0.0.1',\n",
    "                'description': 'Example module.',\n",
    "                'long_description' : long_description,\n",
    "                'keywords': ['python']},\n",
    "    requirements = ['attrs>=22.2.0'],\n",
    "    classifiers = ['Development Status :: 3 - Alpha',\n",
    "                   'Intended Audience :: Developers',\n",
    "                   'Intended Audience :: Science/Research',\n",
    "                   'Programming Language :: Python :: 3',\n",
    "                   'Programming Language :: Python :: 3.9',\n",
    "                   'Programming Language :: Python :: 3.10',\n",
    "                   'Programming Language :: Python :: 3.11',\n",
    "                   'License :: OSI Approved :: MIT License',\n",
    "                   'Topic :: Scientific/Engineering'],\n",
    "    setup_directory = \"./example_setup_dir\"\n",
    ")"
   ]
  },
  {
   "cell_type": "markdown",
   "metadata": {},
   "source": [
    "#### Create empty setup dir"
   ]
  },
  {
   "cell_type": "code",
   "execution_count": 30,
   "metadata": {},
   "outputs": [],
   "source": [
    "sdh.flush_n_make_setup_dir(\n",
    "    # optional\n",
    "    setup_directory = \"./example_setup_dir\"\n",
    ")"
   ]
  },
  {
   "cell_type": "markdown",
   "metadata": {},
   "source": [
    "#### Copy module to setup dir"
   ]
  },
  {
   "cell_type": "code",
   "execution_count": 31,
   "metadata": {},
   "outputs": [],
   "source": [
    "sdh.copy_module_to_setup_dir(\n",
    "    # optional\n",
    "    module_filepath = \"./combined_example_module.py\",\n",
    "    setup_directory = \"./example_setup_dir\"\n",
    ")"
   ]
  },
  {
   "cell_type": "markdown",
   "metadata": {},
   "source": [
    "#### Create init file"
   ]
  },
  {
   "cell_type": "code",
   "execution_count": 32,
   "metadata": {},
   "outputs": [],
   "source": [
    "sdh.create_init_file(\n",
    "    # optional\n",
    "    module_name = \"example_module\",\n",
    "    setup_directory = \"./example_setup_dir\"\n",
    ")"
   ]
  },
  {
   "cell_type": "markdown",
   "metadata": {},
   "source": [
    "#### Create setup file"
   ]
  },
  {
   "cell_type": "code",
   "execution_count": 33,
   "metadata": {},
   "outputs": [],
   "source": [
    "sdh.write_setup_file(\n",
    "    # optional\n",
    "    module_name = \"example_module\",\n",
    "    metadata = {'author': 'Kyrylo Mordan',\n",
    "                'version': '0.0.1',\n",
    "                'description': 'Example Module',\n",
    "                'keywords': ['python']},\n",
    "    requirements = ['attrs>=22.2.0'],\n",
    "    classifiers = ['Development Status :: 3 - Alpha',\n",
    "                   'Intended Audience :: Developers',\n",
    "                   'Intended Audience :: Science/Research',\n",
    "                   'Programming Language :: Python :: 3',\n",
    "                   'Programming Language :: Python :: 3.9',\n",
    "                   'Programming Language :: Python :: 3.10',\n",
    "                   'Programming Language :: Python :: 3.11',\n",
    "                   'License :: OSI Approved :: MIT License',\n",
    "                   'Topic :: Scientific/Engineering'],\n",
    "    setup_directory = \"./example_setup_dir\"\n",
    ")"
   ]
  },
  {
   "cell_type": "markdown",
   "metadata": {},
   "source": [
    "### 8. Making a package"
   ]
  },
  {
   "cell_type": "markdown",
   "metadata": {},
   "source": [
    "#### Initializing PackageAutoAssembler"
   ]
  },
  {
   "cell_type": "code",
   "execution_count": 34,
   "metadata": {},
   "outputs": [],
   "source": [
    "paa = PackageAutoAssembler(\n",
    "    # required\n",
    "    module_name = \"example_module\",\n",
    "    module_filepath  = \"../tests/package_auto_assembler/example_module.py\",\n",
    "    # optional\n",
    "    mapping_filepath = \"../env_spec/package_mapping.json\",\n",
    "    dependencies_dir = \"../tests/package_auto_assembler/dependancies/\",\n",
    "    example_notebook_path = \"./mock_vector_database.ipynb\",\n",
    "    versions_filepath = '../tests/package_auto_assembler/lsts_package_versions.yml',\n",
    "    log_filepath = '../tests/package_auto_assembler/version_logs.csv',\n",
    "    setup_directory = \"./example_module\",\n",
    "    classifiers = ['Development Status :: 3 - Alpha',\n",
    "                    'Intended Audience :: Developers',\n",
    "                    'Intended Audience :: Science/Research',\n",
    "                    'Programming Language :: Python :: 3',\n",
    "                    'Programming Language :: Python :: 3.9',\n",
    "                    'Programming Language :: Python :: 3.10',\n",
    "                    'Programming Language :: Python :: 3.11',\n",
    "                    'License :: OSI Approved :: MIT License',\n",
    "                    'Topic :: Scientific/Engineering'],\n",
    "    requirements_list = [],\n",
    "    execute_readme_notebook = True,\n",
    "    python_version = \"3.8\",\n",
    "    version_increment_type = \"patch\",\n",
    "    default_version = \"0.0.1\"\n",
    ")"
   ]
  },
  {
   "cell_type": "markdown",
   "metadata": {},
   "source": [
    "#### Add metadata from module"
   ]
  },
  {
   "cell_type": "code",
   "execution_count": 35,
   "metadata": {},
   "outputs": [],
   "source": [
    "paa.add_metadata_from_module(\n",
    "    # optional\n",
    "    module_filepath  = \"../tests/package_auto_assembler/example_module.py\"\n",
    ")"
   ]
  },
  {
   "cell_type": "markdown",
   "metadata": {},
   "source": [
    "#### Add or update version"
   ]
  },
  {
   "cell_type": "code",
   "execution_count": 36,
   "metadata": {},
   "outputs": [
    {
     "name": "stderr",
     "output_type": "stream",
     "text": [
      "There are no known versions of 'example_module', 0.0.1 will be used!\n"
     ]
    }
   ],
   "source": [
    "paa.add_or_update_version(\n",
    "    # optional\n",
    "    module_name = \"example_module\",\n",
    "    version_increment_type = \"patch\",\n",
    "    version = \"0.0.1\",\n",
    "    versions_filepath = '../tests/package_auto_assembler/lsts_package_versions.yml',\n",
    "    log_filepath = '../tests/package_auto_assembler/version_logs.csv'\n",
    ")"
   ]
  },
  {
   "cell_type": "markdown",
   "metadata": {},
   "source": [
    "#### Prepare setup directory"
   ]
  },
  {
   "cell_type": "code",
   "execution_count": 37,
   "metadata": {},
   "outputs": [],
   "source": [
    "paa.prep_setup_dir()"
   ]
  },
  {
   "cell_type": "markdown",
   "metadata": {},
   "source": [
    "#### Merge local dependacies"
   ]
  },
  {
   "cell_type": "code",
   "execution_count": 38,
   "metadata": {},
   "outputs": [],
   "source": [
    "paa.merge_local_dependacies(\n",
    "    # optional\n",
    "    main_module_filepath = \"../tests/package_auto_assembler/example_module.py\",\n",
    "    dependencies_dir= \"../tests/package_auto_assembler/dependancies/\",\n",
    "    save_filepath = \"./example_module/example_module.py\"\n",
    ")"
   ]
  },
  {
   "cell_type": "markdown",
   "metadata": {},
   "source": [
    "#### Add requirements from module"
   ]
  },
  {
   "cell_type": "code",
   "execution_count": 39,
   "metadata": {},
   "outputs": [],
   "source": [
    "paa.add_requirements_from_module(\n",
    "    # optional\n",
    "    module_filepath = \"../tests/package_auto_assembler/example_module.py\",\n",
    "    import_mappings = {'PIL': 'Pillow',\n",
    "                        'bs4': 'beautifulsoup4',\n",
    "                        'fitz': 'PyMuPDF',\n",
    "                        'attr': 'attrs',\n",
    "                        'dotenv': 'python-dotenv',\n",
    "                        'googleapiclient': 'google-api-python-client',\n",
    "                        'sentence_transformers': 'sentence-transformers',\n",
    "                        'flask': 'Flask',\n",
    "                        'stdlib_list': 'stdlib-list',\n",
    "                        'sklearn': 'scikit-learn',\n",
    "                        'yaml': 'pyyaml'}\n",
    ")"
   ]
  },
  {
   "cell_type": "markdown",
   "metadata": {},
   "source": [
    "#### Make README out of example notebook"
   ]
  },
  {
   "cell_type": "code",
   "execution_count": 40,
   "metadata": {},
   "outputs": [],
   "source": [
    "paa.add_readme(\n",
    "    # optional\n",
    "    example_notebook_path = \"../tests/package_auto_assembler/example_module.ipynb\",\n",
    "    output_path = \"./example_module/README.md\",\n",
    "    execute_notebook=False,\n",
    ")"
   ]
  },
  {
   "cell_type": "code",
   "execution_count": 41,
   "metadata": {},
   "outputs": [
    {
     "data": {
      "text/plain": [
       "['### example_module.py', 'langchain', 'attrs>=22.2.0']"
      ]
     },
     "execution_count": 41,
     "metadata": {},
     "output_type": "execute_result"
    }
   ],
   "source": [
    "paa.requirements_list"
   ]
  },
  {
   "cell_type": "markdown",
   "metadata": {},
   "source": [
    "#### Prepare setup file"
   ]
  },
  {
   "cell_type": "code",
   "execution_count": 42,
   "metadata": {},
   "outputs": [],
   "source": [
    "paa.prep_setup_file(\n",
    "    # optional\n",
    "    metadata = {'author': 'Kyrylo Mordan',\n",
    "                'version': '0.0.1',\n",
    "                'description': 'Example module',\n",
    "                'keywords': ['python']},\n",
    "    requirements = ['### example_module.py',\n",
    "                    'attr>=22.2.0'],\n",
    "    classifiers = ['Development Status :: 3 - Alpha',\n",
    "                    'Intended Audience :: Developers',\n",
    "                    'Intended Audience :: Science/Research',\n",
    "                    'Programming Language :: Python :: 3',\n",
    "                    'Programming Language :: Python :: 3.9',\n",
    "                    'Programming Language :: Python :: 3.10',\n",
    "                    'Programming Language :: Python :: 3.11',\n",
    "                    'License :: OSI Approved :: MIT License',\n",
    "                    'Topic :: Scientific/Engineering']\n",
    "\n",
    ")"
   ]
  },
  {
   "cell_type": "markdown",
   "metadata": {},
   "source": [
    "#### Make package"
   ]
  },
  {
   "cell_type": "code",
   "execution_count": 43,
   "metadata": {},
   "outputs": [
    {
     "data": {
      "text/plain": [
       "CompletedProcess(args=['python', './example_module/setup.py', 'sdist', 'bdist_wheel'], returncode=1, stdout=\"running sdist\\nrunning egg_info\\nwriting example_module.egg-info/PKG-INFO\\nwriting dependency_links to example_module.egg-info/dependency_links.txt\\nwriting requirements to example_module.egg-info/requires.txt\\nwriting top-level names to example_module.egg-info/top_level.txt\\nreading manifest file 'example_module.egg-info/SOURCES.txt'\\nwriting manifest file 'example_module.egg-info/SOURCES.txt'\\nrunning check\\ncreating example_module-0.0.1\\ncreating example_module-0.0.1/example_module\\ncreating example_module-0.0.1/example_module.egg-info\\ncopying files to example_module-0.0.1...\\ncopying example_module/__init__.py -> example_module-0.0.1/example_module\\ncopying example_module/example_module.py -> example_module-0.0.1/example_module\\ncopying example_module/setup.py -> example_module-0.0.1/example_module\\ncopying example_module.egg-info/PKG-INFO -> example_module-0.0.1/example_module.egg-info\\ncopying example_module.egg-info/SOURCES.txt -> example_module-0.0.1/example_module.egg-info\\ncopying example_module.egg-info/dependency_links.txt -> example_module-0.0.1/example_module.egg-info\\ncopying example_module.egg-info/requires.txt -> example_module-0.0.1/example_module.egg-info\\ncopying example_module.egg-info/top_level.txt -> example_module-0.0.1/example_module.egg-info\\ncopying example_module.egg-info/SOURCES.txt -> example_module-0.0.1/example_module.egg-info\\nWriting example_module-0.0.1/setup.cfg\\nCreating tar archive\\nremoving 'example_module-0.0.1' (and everything under it)\\nrunning bdist_wheel\\n\", stderr='warning: sdist: standard file not found: should have one of README, README.rst, README.txt, README.md\\n\\nTraceback (most recent call last):\\n  File \"/Users/insani_dei/Documents/NLP/reus3/example_notebooks/./example_module/setup.py\", line 14, in <module>\\n    setup(\\n  File \"/Users/insani_dei/miniconda3/envs/testenv/lib/python3.9/site-packages/setuptools/__init__.py\", line 103, in setup\\n    return distutils.core.setup(**attrs)\\n  File \"/Users/insani_dei/miniconda3/envs/testenv/lib/python3.9/site-packages/setuptools/_distutils/core.py\", line 185, in setup\\n    return run_commands(dist)\\n  File \"/Users/insani_dei/miniconda3/envs/testenv/lib/python3.9/site-packages/setuptools/_distutils/core.py\", line 201, in run_commands\\n    dist.run_commands()\\n  File \"/Users/insani_dei/miniconda3/envs/testenv/lib/python3.9/site-packages/setuptools/_distutils/dist.py\", line 969, in run_commands\\n    self.run_command(cmd)\\n  File \"/Users/insani_dei/miniconda3/envs/testenv/lib/python3.9/site-packages/setuptools/dist.py\", line 963, in run_command\\n    super().run_command(command)\\n  File \"/Users/insani_dei/miniconda3/envs/testenv/lib/python3.9/site-packages/setuptools/_distutils/dist.py\", line 988, in run_command\\n    cmd_obj.run()\\n  File \"/Users/insani_dei/miniconda3/envs/testenv/lib/python3.9/site-packages/wheel/bdist_wheel.py\", line 295, in run\\n    build_ext = self.reinitialize_command(\\'build_ext\\')\\n  File \"/Users/insani_dei/miniconda3/envs/testenv/lib/python3.9/site-packages/setuptools/__init__.py\", line 216, in reinitialize_command\\n    cmd = _Command.reinitialize_command(self, command, reinit_subcommands)\\n  File \"/Users/insani_dei/miniconda3/envs/testenv/lib/python3.9/site-packages/setuptools/_distutils/cmd.py\", line 311, in reinitialize_command\\n    return self.distribution.reinitialize_command(command, reinit_subcommands)\\n  File \"/Users/insani_dei/miniconda3/envs/testenv/lib/python3.9/site-packages/setuptools/_distutils/dist.py\", line 941, in reinitialize_command\\n    command = self.get_command_obj(command_name)\\n  File \"/Users/insani_dei/miniconda3/envs/testenv/lib/python3.9/site-packages/setuptools/_distutils/dist.py\", line 860, in get_command_obj\\n    klass = self.get_command_class(command)\\n  File \"/Users/insani_dei/miniconda3/envs/testenv/lib/python3.9/site-packages/setuptools/dist.py\", line 710, in get_command_class\\n    self.cmdclass[command] = cmdclass = ep.load()\\n  File \"/Users/insani_dei/miniconda3/envs/testenv/lib/python3.9/site-packages/setuptools/_vendor/importlib_metadata/__init__.py\", line 208, in load\\n    module = import_module(match.group(\\'module\\'))\\n  File \"/Users/insani_dei/miniconda3/envs/testenv/lib/python3.9/importlib/__init__.py\", line 127, in import_module\\n    return _bootstrap._gcd_import(name[level:], package, level)\\n  File \"<frozen importlib._bootstrap>\", line 1030, in _gcd_import\\n  File \"<frozen importlib._bootstrap>\", line 1007, in _find_and_load\\n  File \"<frozen importlib._bootstrap>\", line 986, in _find_and_load_unlocked\\n  File \"<frozen importlib._bootstrap>\", line 680, in _load_unlocked\\n  File \"<frozen importlib._bootstrap_external>\", line 850, in exec_module\\n  File \"<frozen importlib._bootstrap>\", line 228, in _call_with_frames_removed\\n  File \"/Users/insani_dei/miniconda3/envs/testenv/lib/python3.9/site-packages/setuptools/command/build_ext.py\", line 23, in <module>\\n    __import__(\\'Cython.Compiler.Main\\')\\n  File \"/Users/insani_dei/miniconda3/envs/testenv/lib/python3.9/site-packages/Cython/Compiler/Main.py\", line 28, in <module>\\n    from .Scanning import PyrexScanner, FileSourceDescriptor\\n  File \"Cython/Compiler/Scanning.py\", line 1, in init Cython.Compiler.Scanning\\n  File \"/Users/insani_dei/miniconda3/envs/testenv/lib/python3.9/site-packages/Cython/Plex/__init__.py\", line 36, in <module>\\n    from .Lexicons import Lexicon, State\\n  File \"/Users/insani_dei/miniconda3/envs/testenv/lib/python3.9/site-packages/Cython/Plex/Lexicons.py\", line 14, in <module>\\n    from . import DFA\\n  File \"Cython/Plex/DFA.py\", line 1, in init Cython.Plex.DFA\\nAttributeError: module \\'Cython.Plex.Actions\\' has no attribute \\'Method\\'\\n')"
      ]
     },
     "execution_count": 43,
     "metadata": {},
     "output_type": "execute_result"
    }
   ],
   "source": [
    "paa.make_package(\n",
    "    # optional\n",
    "    setup_directory = \"./example_module\"\n",
    ")"
   ]
  }
 ],
 "metadata": {
  "kernelspec": {
   "display_name": "testenv",
   "language": "python",
   "name": "python3"
  },
  "language_info": {
   "codemirror_mode": {
    "name": "ipython",
    "version": 3
   },
   "file_extension": ".py",
   "mimetype": "text/x-python",
   "name": "python",
   "nbconvert_exporter": "python",
   "pygments_lexer": "ipython3",
   "version": "3.9.15"
  },
  "orig_nbformat": 4
 },
 "nbformat": 4,
 "nbformat_minor": 2
}
