{
 "cells": [
  {
   "cell_type": "markdown",
   "metadata": {},
   "source": [
    "# Parameter frame\n",
    "\n",
    "The module provides an interface for managing solution parameters.\n",
    "It allows for the structured storage and retrieval of parameter sets from a database.\n"
   ]
  },
  {
   "cell_type": "code",
   "execution_count": 1,
   "metadata": {},
   "outputs": [],
   "source": [
    "import sys\n",
    "sys.path.append('../')\n",
    "from draft_modules.parameterframe import FileTypeHandler, ParameterFrame, DatabaseConnector\n",
    "import pandas as pd"
   ]
  },
  {
   "cell_type": "markdown",
   "metadata": {},
   "source": [
    "## Content\n",
    "\n",
    "1. Processing and reconstructing yaml and txt with FileTypeHandler\n",
    "2. Assembling parameter sets and adding to solution with ParameterFrame\n",
    "3. Commiting and pushing solutions with DatabaseConnector"
   ]
  },
  {
   "cell_type": "markdown",
   "metadata": {},
   "source": [
    "## Example data"
   ]
  },
  {
   "cell_type": "code",
   "execution_count": 2,
   "metadata": {},
   "outputs": [],
   "source": [
    "yaml_content = \"\"\"\n",
    "key_1: value_1\n",
    "key_2:\n",
    "  subkey_1: value_1\n",
    "  subkey_2: value_2\n",
    "key_3:\n",
    "  - val_1\n",
    "  - val_2\n",
    "\"\"\"\n",
    "\n",
    "txt_content = \"\"\"\n",
    "Lorem ipsum dolor sit amet, consectetur adipiscing elit. Aliquam ac est a dolor porta mollis.\n",
    "Integer quis egestas augue. Donec fermentum magna in neque venenatis, ut pulvinar lorem porta.\n",
    "Etiam dictum tristique ligula vel convallis. Donec pretium porta vulputate. Vestibulum vel justo\n",
    "fringilla, eleifend arcu aliquet, hendrerit urna. Sed sed vehicula quam. Donec interdum at magna eget\n",
    "gravida. Vestibulum eleifend gravida semper. Nullam arcu lectus, tempus ut posuere ut, euismod ac nulla.\n",
    "Donec condimentum diam lectus. Nullam tincidunt libero id metus placerat suscipit. In vel ornare arcu.\n",
    "\n",
    "Integer malesuada posuere tempor. Nullam pharetra mollis justo et tempus. Maecenas molestie,\n",
    "orci a rhoncus placerat, enim tellus ornare ligula, quis facilisis lectus mi in est.\n",
    "Nulla auctor purus dolor, quis hendrerit ligula tincidunt eu. Suspendisse elit lacus, suscipit\n",
    "ullamcorper lacus et, tristique accumsan sem. Quisque a metus sapien. Cras mattis lorem sed tortor\n",
    "finibus euismod. Sed non lacus pretium, condimentum urna et, facilisis dui.\n",
    "\"\"\"\n",
    "\n",
    "param_path_1 = \"param_1.yaml\"\n",
    "param_path_2 = \"param_2.yaml\"\n",
    "\n",
    "with open(param_path_1, 'w', encoding='utf-8') as file:\n",
    "  file.write(yaml_content)\n",
    "\n",
    "with open(param_path_2, 'w', encoding='utf-8') as file:\n",
    "  file.write(txt_content)\n",
    "\n",
    "params_path = \"../tests/parameterframe/example_configs\""
   ]
  },
  {
   "cell_type": "markdown",
   "metadata": {},
   "source": [
    "### 1. Processing and reconstructing yaml and txt with FileTypeHandler"
   ]
  },
  {
   "cell_type": "code",
   "execution_count": 3,
   "metadata": {},
   "outputs": [],
   "source": [
    "pf = ParameterFrame(\n",
    "    params_path = params_path\n",
    ")\n",
    "\n",
    "pf.process_parameters_from_files()"
   ]
  },
  {
   "cell_type": "markdown",
   "metadata": {},
   "source": [
    "### 2. Assembling parameter sets and adding to solution with ParameterFrame"
   ]
  },
  {
   "cell_type": "code",
   "execution_count": 5,
   "metadata": {},
   "outputs": [],
   "source": [
    "pf.make_parameter_set(\n",
    "    parameter_set_name=\"test_set\",\n",
    "    parameter_set_description=\"example parameters for test purposes\",\n",
    "    parameter_names=['param_1','param_2','param_10']\n",
    ")"
   ]
  },
  {
   "cell_type": "code",
   "execution_count": 6,
   "metadata": {},
   "outputs": [
    {
     "data": {
      "text/plain": [
       "{'test_set': {'parameter_set': [{'parameter_set_id': 'e73396d2601456e8bb84a811aaec5fb46dda83d70f9cd706ec58d5ea76e0d5dd',\n",
       "    'parameter_id': '4cea5b09e77da310c5105978f2ceea5c5d8c9c7b65d0e00b45135ea90fc011af'},\n",
       "   {'parameter_set_id': 'e73396d2601456e8bb84a811aaec5fb46dda83d70f9cd706ec58d5ea76e0d5dd',\n",
       "    'parameter_id': 'bf11768decb1d0204e2636edd05c354573d473e67f1b048369b2ee99c865bf5f'},\n",
       "   {'parameter_set_id': 'e73396d2601456e8bb84a811aaec5fb46dda83d70f9cd706ec58d5ea76e0d5dd',\n",
       "    'parameter_id': '9a4a3ace265c9bf2facc0044ca24260c42805c6e7b2a608dfd2f56a54d9d36be'}],\n",
       "  'parameter_set_description': [{'parameter_set_id': 'e73396d2601456e8bb84a811aaec5fb46dda83d70f9cd706ec58d5ea76e0d5dd',\n",
       "    'parameter_set_name': 'test_set',\n",
       "    'parameter_set_description': 'example parameters for test purposes'}]}}"
      ]
     },
     "execution_count": 6,
     "metadata": {},
     "output_type": "execute_result"
    }
   ],
   "source": [
    "pf.param_sets"
   ]
  },
  {
   "cell_type": "code",
   "execution_count": 7,
   "metadata": {},
   "outputs": [],
   "source": [
    "pf.add_solution_description(solution_name = \"example_solution\",\n",
    "                            solution_description = \"example solution for test\")"
   ]
  },
  {
   "cell_type": "code",
   "execution_count": 8,
   "metadata": {},
   "outputs": [
    {
     "data": {
      "text/plain": [
       "{'solution_id': 'ffb2fa4d1f14786e7a11641a870c3db55f08f375fb7ac00c9a2127f7cd801a60',\n",
       " 'solution_description': {'solution_id': 'ffb2fa4d1f14786e7a11641a870c3db55f08f375fb7ac00c9a2127f7cd801a60',\n",
       "  'solution_name': 'example_solution',\n",
       "  'solution_description': 'example solution for test',\n",
       "  'deployment_date': None,\n",
       "  'deprication_date': None,\n",
       "  'maintainers': None}}"
      ]
     },
     "execution_count": 8,
     "metadata": {},
     "output_type": "execute_result"
    }
   ],
   "source": [
    "pf.solutions['example_solution']"
   ]
  },
  {
   "cell_type": "code",
   "execution_count": 9,
   "metadata": {},
   "outputs": [],
   "source": [
    "pf.add_parameter_set_to_solution(solution_name=\"example_solution\",\n",
    "                                 parameter_set_name=\"test_set\")"
   ]
  },
  {
   "cell_type": "code",
   "execution_count": 10,
   "metadata": {},
   "outputs": [
    {
     "data": {
      "text/html": [
       "<div>\n",
       "<style scoped>\n",
       "    .dataframe tbody tr th:only-of-type {\n",
       "        vertical-align: middle;\n",
       "    }\n",
       "\n",
       "    .dataframe tbody tr th {\n",
       "        vertical-align: top;\n",
       "    }\n",
       "\n",
       "    .dataframe thead th {\n",
       "        text-align: right;\n",
       "    }\n",
       "</style>\n",
       "<table border=\"1\" class=\"dataframe\">\n",
       "  <thead>\n",
       "    <tr style=\"text-align: right;\">\n",
       "      <th></th>\n",
       "      <th>solution_id</th>\n",
       "      <th>parameter_set_id</th>\n",
       "      <th>deployment_status</th>\n",
       "      <th>insertion_datetime</th>\n",
       "    </tr>\n",
       "  </thead>\n",
       "  <tbody>\n",
       "    <tr>\n",
       "      <th>0</th>\n",
       "      <td>ffb2fa4d1f14786e7a11641a870c3db55f08f375fb7ac0...</td>\n",
       "      <td>e73396d2601456e8bb84a811aaec5fb46dda83d70f9cd7...</td>\n",
       "      <td>STAGING</td>\n",
       "      <td>2024-04-05 06:31:55</td>\n",
       "    </tr>\n",
       "  </tbody>\n",
       "</table>\n",
       "</div>"
      ],
      "text/plain": [
       "                                         solution_id  \\\n",
       "0  ffb2fa4d1f14786e7a11641a870c3db55f08f375fb7ac0...   \n",
       "\n",
       "                                    parameter_set_id deployment_status  \\\n",
       "0  e73396d2601456e8bb84a811aaec5fb46dda83d70f9cd7...           STAGING   \n",
       "\n",
       "    insertion_datetime  \n",
       "0  2024-04-05 06:31:55  "
      ]
     },
     "execution_count": 10,
     "metadata": {},
     "output_type": "execute_result"
    }
   ],
   "source": [
    "pd.DataFrame([pf.solutions['example_solution']['solution_parameter_set']['test_set']])"
   ]
  },
  {
   "cell_type": "markdown",
   "metadata": {},
   "source": [
    "### 3. Commiting and pushing solutions with DatabaseConnector"
   ]
  },
  {
   "cell_type": "code",
   "execution_count": 11,
   "metadata": {},
   "outputs": [],
   "source": [
    "pf.commit_solution(solution_name=\"example_solution\",\n",
    "                    parameter_set_names=[\"test_set\"])"
   ]
  },
  {
   "cell_type": "markdown",
   "metadata": {},
   "source": [
    "#### solution_description"
   ]
  },
  {
   "cell_type": "code",
   "execution_count": 12,
   "metadata": {},
   "outputs": [
    {
     "data": {
      "text/html": [
       "<div>\n",
       "<style scoped>\n",
       "    .dataframe tbody tr th:only-of-type {\n",
       "        vertical-align: middle;\n",
       "    }\n",
       "\n",
       "    .dataframe tbody tr th {\n",
       "        vertical-align: top;\n",
       "    }\n",
       "\n",
       "    .dataframe thead th {\n",
       "        text-align: right;\n",
       "    }\n",
       "</style>\n",
       "<table border=\"1\" class=\"dataframe\">\n",
       "  <thead>\n",
       "    <tr style=\"text-align: right;\">\n",
       "      <th></th>\n",
       "      <th>solution_id</th>\n",
       "      <th>solution_name</th>\n",
       "      <th>solution_description</th>\n",
       "      <th>deployment_date</th>\n",
       "      <th>deprication_date</th>\n",
       "      <th>maintainers</th>\n",
       "    </tr>\n",
       "  </thead>\n",
       "  <tbody>\n",
       "    <tr>\n",
       "      <th>0</th>\n",
       "      <td>ffb2fa4d1f14786e7a11641a870c3db55f08f375fb7ac0...</td>\n",
       "      <td>example_solution</td>\n",
       "      <td>example solution for test</td>\n",
       "      <td>None</td>\n",
       "      <td>None</td>\n",
       "      <td>None</td>\n",
       "    </tr>\n",
       "  </tbody>\n",
       "</table>\n",
       "</div>"
      ],
      "text/plain": [
       "                                         solution_id     solution_name  \\\n",
       "0  ffb2fa4d1f14786e7a11641a870c3db55f08f375fb7ac0...  example_solution   \n",
       "\n",
       "        solution_description deployment_date deprication_date maintainers  \n",
       "0  example solution for test            None             None        None  "
      ]
     },
     "execution_count": 12,
     "metadata": {},
     "output_type": "execute_result"
    }
   ],
   "source": [
    "pd.DataFrame(pf.commited_tables['ffb2fa4d1f14786e7a11641a870c3db55f08f375fb7ac00c9a2127f7cd801a60']['solution_description'])"
   ]
  },
  {
   "cell_type": "markdown",
   "metadata": {},
   "source": [
    "#### solution_parameter_set"
   ]
  },
  {
   "cell_type": "code",
   "execution_count": 13,
   "metadata": {},
   "outputs": [
    {
     "data": {
      "text/html": [
       "<div>\n",
       "<style scoped>\n",
       "    .dataframe tbody tr th:only-of-type {\n",
       "        vertical-align: middle;\n",
       "    }\n",
       "\n",
       "    .dataframe tbody tr th {\n",
       "        vertical-align: top;\n",
       "    }\n",
       "\n",
       "    .dataframe thead th {\n",
       "        text-align: right;\n",
       "    }\n",
       "</style>\n",
       "<table border=\"1\" class=\"dataframe\">\n",
       "  <thead>\n",
       "    <tr style=\"text-align: right;\">\n",
       "      <th></th>\n",
       "      <th>solution_id</th>\n",
       "      <th>parameter_set_id</th>\n",
       "      <th>deployment_status</th>\n",
       "      <th>insertion_datetime</th>\n",
       "    </tr>\n",
       "  </thead>\n",
       "  <tbody>\n",
       "    <tr>\n",
       "      <th>0</th>\n",
       "      <td>ffb2fa4d1f14786e7a11641a870c3db55f08f375fb7ac0...</td>\n",
       "      <td>e73396d2601456e8bb84a811aaec5fb46dda83d70f9cd7...</td>\n",
       "      <td>STAGING</td>\n",
       "      <td>2024-04-05 06:31:55</td>\n",
       "    </tr>\n",
       "  </tbody>\n",
       "</table>\n",
       "</div>"
      ],
      "text/plain": [
       "                                         solution_id  \\\n",
       "0  ffb2fa4d1f14786e7a11641a870c3db55f08f375fb7ac0...   \n",
       "\n",
       "                                    parameter_set_id deployment_status  \\\n",
       "0  e73396d2601456e8bb84a811aaec5fb46dda83d70f9cd7...           STAGING   \n",
       "\n",
       "    insertion_datetime  \n",
       "0  2024-04-05 06:31:55  "
      ]
     },
     "execution_count": 13,
     "metadata": {},
     "output_type": "execute_result"
    }
   ],
   "source": [
    "pd.DataFrame(pf.commited_tables['ffb2fa4d1f14786e7a11641a870c3db55f08f375fb7ac00c9a2127f7cd801a60']['solution_parameter_set']['e73396d2601456e8bb84a811aaec5fb46dda83d70f9cd706ec58d5ea76e0d5dd'])"
   ]
  },
  {
   "cell_type": "markdown",
   "metadata": {},
   "source": [
    "#### parameter_set"
   ]
  },
  {
   "cell_type": "code",
   "execution_count": 14,
   "metadata": {},
   "outputs": [
    {
     "data": {
      "text/html": [
       "<div>\n",
       "<style scoped>\n",
       "    .dataframe tbody tr th:only-of-type {\n",
       "        vertical-align: middle;\n",
       "    }\n",
       "\n",
       "    .dataframe tbody tr th {\n",
       "        vertical-align: top;\n",
       "    }\n",
       "\n",
       "    .dataframe thead th {\n",
       "        text-align: right;\n",
       "    }\n",
       "</style>\n",
       "<table border=\"1\" class=\"dataframe\">\n",
       "  <thead>\n",
       "    <tr style=\"text-align: right;\">\n",
       "      <th></th>\n",
       "      <th>parameter_set_id</th>\n",
       "      <th>parameter_id</th>\n",
       "    </tr>\n",
       "  </thead>\n",
       "  <tbody>\n",
       "    <tr>\n",
       "      <th>0</th>\n",
       "      <td>e73396d2601456e8bb84a811aaec5fb46dda83d70f9cd7...</td>\n",
       "      <td>4cea5b09e77da310c5105978f2ceea5c5d8c9c7b65d0e0...</td>\n",
       "    </tr>\n",
       "    <tr>\n",
       "      <th>1</th>\n",
       "      <td>e73396d2601456e8bb84a811aaec5fb46dda83d70f9cd7...</td>\n",
       "      <td>bf11768decb1d0204e2636edd05c354573d473e67f1b04...</td>\n",
       "    </tr>\n",
       "    <tr>\n",
       "      <th>2</th>\n",
       "      <td>e73396d2601456e8bb84a811aaec5fb46dda83d70f9cd7...</td>\n",
       "      <td>9a4a3ace265c9bf2facc0044ca24260c42805c6e7b2a60...</td>\n",
       "    </tr>\n",
       "  </tbody>\n",
       "</table>\n",
       "</div>"
      ],
      "text/plain": [
       "                                    parameter_set_id  \\\n",
       "0  e73396d2601456e8bb84a811aaec5fb46dda83d70f9cd7...   \n",
       "1  e73396d2601456e8bb84a811aaec5fb46dda83d70f9cd7...   \n",
       "2  e73396d2601456e8bb84a811aaec5fb46dda83d70f9cd7...   \n",
       "\n",
       "                                        parameter_id  \n",
       "0  4cea5b09e77da310c5105978f2ceea5c5d8c9c7b65d0e0...  \n",
       "1  bf11768decb1d0204e2636edd05c354573d473e67f1b04...  \n",
       "2  9a4a3ace265c9bf2facc0044ca24260c42805c6e7b2a60...  "
      ]
     },
     "execution_count": 14,
     "metadata": {},
     "output_type": "execute_result"
    }
   ],
   "source": [
    "pd.DataFrame(pf.commited_tables['ffb2fa4d1f14786e7a11641a870c3db55f08f375fb7ac00c9a2127f7cd801a60']\\\n",
    "    ['parameter_set']\\\n",
    "        ['e73396d2601456e8bb84a811aaec5fb46dda83d70f9cd706ec58d5ea76e0d5dd'])"
   ]
  },
  {
   "cell_type": "markdown",
   "metadata": {},
   "source": [
    "#### parameter_set_description"
   ]
  },
  {
   "cell_type": "code",
   "execution_count": 15,
   "metadata": {},
   "outputs": [
    {
     "data": {
      "text/html": [
       "<div>\n",
       "<style scoped>\n",
       "    .dataframe tbody tr th:only-of-type {\n",
       "        vertical-align: middle;\n",
       "    }\n",
       "\n",
       "    .dataframe tbody tr th {\n",
       "        vertical-align: top;\n",
       "    }\n",
       "\n",
       "    .dataframe thead th {\n",
       "        text-align: right;\n",
       "    }\n",
       "</style>\n",
       "<table border=\"1\" class=\"dataframe\">\n",
       "  <thead>\n",
       "    <tr style=\"text-align: right;\">\n",
       "      <th></th>\n",
       "      <th>parameter_set_id</th>\n",
       "      <th>parameter_set_name</th>\n",
       "      <th>parameter_set_description</th>\n",
       "    </tr>\n",
       "  </thead>\n",
       "  <tbody>\n",
       "    <tr>\n",
       "      <th>0</th>\n",
       "      <td>e73396d2601456e8bb84a811aaec5fb46dda83d70f9cd7...</td>\n",
       "      <td>test_set</td>\n",
       "      <td>example parameters for test purposes</td>\n",
       "    </tr>\n",
       "  </tbody>\n",
       "</table>\n",
       "</div>"
      ],
      "text/plain": [
       "                                    parameter_set_id parameter_set_name  \\\n",
       "0  e73396d2601456e8bb84a811aaec5fb46dda83d70f9cd7...           test_set   \n",
       "\n",
       "              parameter_set_description  \n",
       "0  example parameters for test purposes  "
      ]
     },
     "execution_count": 15,
     "metadata": {},
     "output_type": "execute_result"
    }
   ],
   "source": [
    "pd.DataFrame(pf.commited_tables['ffb2fa4d1f14786e7a11641a870c3db55f08f375fb7ac00c9a2127f7cd801a60']\\\n",
    "    ['parameter_set_description']\\\n",
    "        ['e73396d2601456e8bb84a811aaec5fb46dda83d70f9cd706ec58d5ea76e0d5dd'])"
   ]
  },
  {
   "cell_type": "markdown",
   "metadata": {},
   "source": [
    "#### parameter_description"
   ]
  },
  {
   "cell_type": "code",
   "execution_count": 16,
   "metadata": {},
   "outputs": [
    {
     "data": {
      "text/plain": [
       "{'4cea5b09e77da310c5105978f2ceea5c5d8c9c7b65d0e00b45135ea90fc011af': [{'parameter_id': '4cea5b09e77da310c5105978f2ceea5c5d8c9c7b65d0e00b45135ea90fc011af',\n",
       "   'parameter_name': 'param_1',\n",
       "   'parameter_description': '',\n",
       "   'file_name': 'param_1.yaml',\n",
       "   'file_type': 'yaml'}],\n",
       " 'bf11768decb1d0204e2636edd05c354573d473e67f1b048369b2ee99c865bf5f': [{'parameter_id': 'bf11768decb1d0204e2636edd05c354573d473e67f1b048369b2ee99c865bf5f',\n",
       "   'parameter_name': 'param_2',\n",
       "   'parameter_description': '',\n",
       "   'file_name': 'param_2.yaml',\n",
       "   'file_type': 'yaml'}],\n",
       " '9a4a3ace265c9bf2facc0044ca24260c42805c6e7b2a608dfd2f56a54d9d36be': [{'parameter_id': '9a4a3ace265c9bf2facc0044ca24260c42805c6e7b2a608dfd2f56a54d9d36be',\n",
       "   'parameter_name': 'param_10',\n",
       "   'parameter_description': '',\n",
       "   'file_name': 'param_10.txt',\n",
       "   'file_type': 'txt'}]}"
      ]
     },
     "execution_count": 16,
     "metadata": {},
     "output_type": "execute_result"
    }
   ],
   "source": [
    "pf.commited_tables['ffb2fa4d1f14786e7a11641a870c3db55f08f375fb7ac00c9a2127f7cd801a60']['parameter_description']['e73396d2601456e8bb84a811aaec5fb46dda83d70f9cd706ec58d5ea76e0d5dd']"
   ]
  },
  {
   "cell_type": "markdown",
   "metadata": {},
   "source": [
    "#### parameter_description"
   ]
  },
  {
   "cell_type": "code",
   "execution_count": 17,
   "metadata": {},
   "outputs": [
    {
     "data": {
      "text/html": [
       "<div>\n",
       "<style scoped>\n",
       "    .dataframe tbody tr th:only-of-type {\n",
       "        vertical-align: middle;\n",
       "    }\n",
       "\n",
       "    .dataframe tbody tr th {\n",
       "        vertical-align: top;\n",
       "    }\n",
       "\n",
       "    .dataframe thead th {\n",
       "        text-align: right;\n",
       "    }\n",
       "</style>\n",
       "<table border=\"1\" class=\"dataframe\">\n",
       "  <thead>\n",
       "    <tr style=\"text-align: right;\">\n",
       "      <th></th>\n",
       "      <th>parameter_id</th>\n",
       "      <th>parameter_name</th>\n",
       "      <th>parameter_description</th>\n",
       "      <th>file_name</th>\n",
       "      <th>file_type</th>\n",
       "    </tr>\n",
       "  </thead>\n",
       "  <tbody>\n",
       "    <tr>\n",
       "      <th>0</th>\n",
       "      <td>4cea5b09e77da310c5105978f2ceea5c5d8c9c7b65d0e0...</td>\n",
       "      <td>param_1</td>\n",
       "      <td></td>\n",
       "      <td>param_1.yaml</td>\n",
       "      <td>yaml</td>\n",
       "    </tr>\n",
       "    <tr>\n",
       "      <th>1</th>\n",
       "      <td>bf11768decb1d0204e2636edd05c354573d473e67f1b04...</td>\n",
       "      <td>param_2</td>\n",
       "      <td></td>\n",
       "      <td>param_2.yaml</td>\n",
       "      <td>yaml</td>\n",
       "    </tr>\n",
       "    <tr>\n",
       "      <th>2</th>\n",
       "      <td>9a4a3ace265c9bf2facc0044ca24260c42805c6e7b2a60...</td>\n",
       "      <td>param_10</td>\n",
       "      <td></td>\n",
       "      <td>param_10.txt</td>\n",
       "      <td>txt</td>\n",
       "    </tr>\n",
       "  </tbody>\n",
       "</table>\n",
       "</div>"
      ],
      "text/plain": [
       "                                        parameter_id parameter_name  \\\n",
       "0  4cea5b09e77da310c5105978f2ceea5c5d8c9c7b65d0e0...        param_1   \n",
       "1  bf11768decb1d0204e2636edd05c354573d473e67f1b04...        param_2   \n",
       "2  9a4a3ace265c9bf2facc0044ca24260c42805c6e7b2a60...       param_10   \n",
       "\n",
       "  parameter_description     file_name file_type  \n",
       "0                        param_1.yaml      yaml  \n",
       "1                        param_2.yaml      yaml  \n",
       "2                        param_10.txt       txt  "
      ]
     },
     "execution_count": 17,
     "metadata": {},
     "output_type": "execute_result"
    }
   ],
   "source": [
    "pd.DataFrame([tab for param_id, tab_list in pf.commited_tables['ffb2fa4d1f14786e7a11641a870c3db55f08f375fb7ac00c9a2127f7cd801a60']\\\n",
    "    ['parameter_description']\\\n",
    "        ['e73396d2601456e8bb84a811aaec5fb46dda83d70f9cd706ec58d5ea76e0d5dd'].items()\\\n",
    "            for tab in tab_list])"
   ]
  },
  {
   "cell_type": "markdown",
   "metadata": {},
   "source": [
    "#### parameter_attribute"
   ]
  },
  {
   "cell_type": "code",
   "execution_count": 18,
   "metadata": {},
   "outputs": [
    {
     "data": {
      "text/html": [
       "<div>\n",
       "<style scoped>\n",
       "    .dataframe tbody tr th:only-of-type {\n",
       "        vertical-align: middle;\n",
       "    }\n",
       "\n",
       "    .dataframe tbody tr th {\n",
       "        vertical-align: top;\n",
       "    }\n",
       "\n",
       "    .dataframe thead th {\n",
       "        text-align: right;\n",
       "    }\n",
       "</style>\n",
       "<table border=\"1\" class=\"dataframe\">\n",
       "  <thead>\n",
       "    <tr style=\"text-align: right;\">\n",
       "      <th></th>\n",
       "      <th>parameter_id</th>\n",
       "      <th>attribute_id</th>\n",
       "      <th>previous_attribute_id</th>\n",
       "    </tr>\n",
       "  </thead>\n",
       "  <tbody>\n",
       "    <tr>\n",
       "      <th>0</th>\n",
       "      <td>4cea5b09e77da310c5105978f2ceea5c5d8c9c7b65d0e0...</td>\n",
       "      <td>ee25af17445d7622cbf61a5b9424246a1f3104704b68bd...</td>\n",
       "      <td>None</td>\n",
       "    </tr>\n",
       "    <tr>\n",
       "      <th>1</th>\n",
       "      <td>4cea5b09e77da310c5105978f2ceea5c5d8c9c7b65d0e0...</td>\n",
       "      <td>8b5b2be24e60ba407b90967820da8a1385a6d67691a02b...</td>\n",
       "      <td>None</td>\n",
       "    </tr>\n",
       "    <tr>\n",
       "      <th>2</th>\n",
       "      <td>4cea5b09e77da310c5105978f2ceea5c5d8c9c7b65d0e0...</td>\n",
       "      <td>52ea872c99c586530348ba8902dcab831761673d25cf1c...</td>\n",
       "      <td>None</td>\n",
       "    </tr>\n",
       "    <tr>\n",
       "      <th>3</th>\n",
       "      <td>bf11768decb1d0204e2636edd05c354573d473e67f1b04...</td>\n",
       "      <td>7d5ee0e0cd00c3703e5f346c6887baf503faaf9fe09077...</td>\n",
       "      <td>None</td>\n",
       "    </tr>\n",
       "    <tr>\n",
       "      <th>4</th>\n",
       "      <td>bf11768decb1d0204e2636edd05c354573d473e67f1b04...</td>\n",
       "      <td>ee25af17445d7622cbf61a5b9424246a1f3104704b68bd...</td>\n",
       "      <td>7d5ee0e0cd00c3703e5f346c6887baf503faaf9fe09077...</td>\n",
       "    </tr>\n",
       "    <tr>\n",
       "      <th>5</th>\n",
       "      <td>bf11768decb1d0204e2636edd05c354573d473e67f1b04...</td>\n",
       "      <td>3367512147bf19ae99c986b356af11dcdc067376aa1b79...</td>\n",
       "      <td>7d5ee0e0cd00c3703e5f346c6887baf503faaf9fe09077...</td>\n",
       "    </tr>\n",
       "    <tr>\n",
       "      <th>6</th>\n",
       "      <td>bf11768decb1d0204e2636edd05c354573d473e67f1b04...</td>\n",
       "      <td>341769820d8937a5c9f9b980eefca37f3f37fcc6fd01c6...</td>\n",
       "      <td>7d5ee0e0cd00c3703e5f346c6887baf503faaf9fe09077...</td>\n",
       "    </tr>\n",
       "    <tr>\n",
       "      <th>7</th>\n",
       "      <td>bf11768decb1d0204e2636edd05c354573d473e67f1b04...</td>\n",
       "      <td>2e8b00e571f9d835d3f022a9ff49b9779034ab21bffdcd...</td>\n",
       "      <td>341769820d8937a5c9f9b980eefca37f3f37fcc6fd01c6...</td>\n",
       "    </tr>\n",
       "    <tr>\n",
       "      <th>8</th>\n",
       "      <td>bf11768decb1d0204e2636edd05c354573d473e67f1b04...</td>\n",
       "      <td>ecd93cf051988b23b3590415f4e7d550de264600d7d2af...</td>\n",
       "      <td>341769820d8937a5c9f9b980eefca37f3f37fcc6fd01c6...</td>\n",
       "    </tr>\n",
       "    <tr>\n",
       "      <th>9</th>\n",
       "      <td>9a4a3ace265c9bf2facc0044ca24260c42805c6e7b2a60...</td>\n",
       "      <td>9a4a3ace265c9bf2facc0044ca24260c42805c6e7b2a60...</td>\n",
       "      <td>None</td>\n",
       "    </tr>\n",
       "  </tbody>\n",
       "</table>\n",
       "</div>"
      ],
      "text/plain": [
       "                                        parameter_id  \\\n",
       "0  4cea5b09e77da310c5105978f2ceea5c5d8c9c7b65d0e0...   \n",
       "1  4cea5b09e77da310c5105978f2ceea5c5d8c9c7b65d0e0...   \n",
       "2  4cea5b09e77da310c5105978f2ceea5c5d8c9c7b65d0e0...   \n",
       "3  bf11768decb1d0204e2636edd05c354573d473e67f1b04...   \n",
       "4  bf11768decb1d0204e2636edd05c354573d473e67f1b04...   \n",
       "5  bf11768decb1d0204e2636edd05c354573d473e67f1b04...   \n",
       "6  bf11768decb1d0204e2636edd05c354573d473e67f1b04...   \n",
       "7  bf11768decb1d0204e2636edd05c354573d473e67f1b04...   \n",
       "8  bf11768decb1d0204e2636edd05c354573d473e67f1b04...   \n",
       "9  9a4a3ace265c9bf2facc0044ca24260c42805c6e7b2a60...   \n",
       "\n",
       "                                        attribute_id  \\\n",
       "0  ee25af17445d7622cbf61a5b9424246a1f3104704b68bd...   \n",
       "1  8b5b2be24e60ba407b90967820da8a1385a6d67691a02b...   \n",
       "2  52ea872c99c586530348ba8902dcab831761673d25cf1c...   \n",
       "3  7d5ee0e0cd00c3703e5f346c6887baf503faaf9fe09077...   \n",
       "4  ee25af17445d7622cbf61a5b9424246a1f3104704b68bd...   \n",
       "5  3367512147bf19ae99c986b356af11dcdc067376aa1b79...   \n",
       "6  341769820d8937a5c9f9b980eefca37f3f37fcc6fd01c6...   \n",
       "7  2e8b00e571f9d835d3f022a9ff49b9779034ab21bffdcd...   \n",
       "8  ecd93cf051988b23b3590415f4e7d550de264600d7d2af...   \n",
       "9  9a4a3ace265c9bf2facc0044ca24260c42805c6e7b2a60...   \n",
       "\n",
       "                               previous_attribute_id  \n",
       "0                                               None  \n",
       "1                                               None  \n",
       "2                                               None  \n",
       "3                                               None  \n",
       "4  7d5ee0e0cd00c3703e5f346c6887baf503faaf9fe09077...  \n",
       "5  7d5ee0e0cd00c3703e5f346c6887baf503faaf9fe09077...  \n",
       "6  7d5ee0e0cd00c3703e5f346c6887baf503faaf9fe09077...  \n",
       "7  341769820d8937a5c9f9b980eefca37f3f37fcc6fd01c6...  \n",
       "8  341769820d8937a5c9f9b980eefca37f3f37fcc6fd01c6...  \n",
       "9                                               None  "
      ]
     },
     "execution_count": 18,
     "metadata": {},
     "output_type": "execute_result"
    }
   ],
   "source": [
    "pd.DataFrame([tab for param_id, tab_list in pf.commited_tables['ffb2fa4d1f14786e7a11641a870c3db55f08f375fb7ac00c9a2127f7cd801a60']\\\n",
    "    ['parameter_attribute']\\\n",
    "        ['e73396d2601456e8bb84a811aaec5fb46dda83d70f9cd706ec58d5ea76e0d5dd'].items() \\\n",
    "            for tab in tab_list])"
   ]
  },
  {
   "cell_type": "markdown",
   "metadata": {},
   "source": [
    "#### attribute_values"
   ]
  },
  {
   "cell_type": "code",
   "execution_count": 19,
   "metadata": {},
   "outputs": [
    {
     "data": {
      "text/html": [
       "<div>\n",
       "<style scoped>\n",
       "    .dataframe tbody tr th:only-of-type {\n",
       "        vertical-align: middle;\n",
       "    }\n",
       "\n",
       "    .dataframe tbody tr th {\n",
       "        vertical-align: top;\n",
       "    }\n",
       "\n",
       "    .dataframe thead th {\n",
       "        text-align: right;\n",
       "    }\n",
       "</style>\n",
       "<table border=\"1\" class=\"dataframe\">\n",
       "  <thead>\n",
       "    <tr style=\"text-align: right;\">\n",
       "      <th></th>\n",
       "      <th>attribute_id</th>\n",
       "      <th>attribute_name</th>\n",
       "      <th>attribute_value</th>\n",
       "      <th>attribute_value_type</th>\n",
       "    </tr>\n",
       "  </thead>\n",
       "  <tbody>\n",
       "    <tr>\n",
       "      <th>0</th>\n",
       "      <td>ee25af17445d7622cbf61a5b9424246a1f3104704b68bd...</td>\n",
       "      <td>name</td>\n",
       "      <td>Some name</td>\n",
       "      <td>str</td>\n",
       "    </tr>\n",
       "    <tr>\n",
       "      <th>1</th>\n",
       "      <td>8b5b2be24e60ba407b90967820da8a1385a6d67691a02b...</td>\n",
       "      <td>age</td>\n",
       "      <td>111</td>\n",
       "      <td>int</td>\n",
       "    </tr>\n",
       "    <tr>\n",
       "      <th>2</th>\n",
       "      <td>52ea872c99c586530348ba8902dcab831761673d25cf1c...</td>\n",
       "      <td>country</td>\n",
       "      <td>Some land</td>\n",
       "      <td>str</td>\n",
       "    </tr>\n",
       "    <tr>\n",
       "      <th>3</th>\n",
       "      <td>7d5ee0e0cd00c3703e5f346c6887baf503faaf9fe09077...</td>\n",
       "      <td>employee</td>\n",
       "      <td>{'name': 'Some name', 'id': 10293, 'contact': ...</td>\n",
       "      <td>dict</td>\n",
       "    </tr>\n",
       "    <tr>\n",
       "      <th>4</th>\n",
       "      <td>ee25af17445d7622cbf61a5b9424246a1f3104704b68bd...</td>\n",
       "      <td>name</td>\n",
       "      <td>Some name</td>\n",
       "      <td>str</td>\n",
       "    </tr>\n",
       "    <tr>\n",
       "      <th>5</th>\n",
       "      <td>3367512147bf19ae99c986b356af11dcdc067376aa1b79...</td>\n",
       "      <td>id</td>\n",
       "      <td>10293</td>\n",
       "      <td>int</td>\n",
       "    </tr>\n",
       "    <tr>\n",
       "      <th>6</th>\n",
       "      <td>341769820d8937a5c9f9b980eefca37f3f37fcc6fd01c6...</td>\n",
       "      <td>contact</td>\n",
       "      <td>{'email': 'some.name@example.com', 'phone': '+...</td>\n",
       "      <td>dict</td>\n",
       "    </tr>\n",
       "    <tr>\n",
       "      <th>7</th>\n",
       "      <td>2e8b00e571f9d835d3f022a9ff49b9779034ab21bffdcd...</td>\n",
       "      <td>email</td>\n",
       "      <td>some.name@example.com</td>\n",
       "      <td>str</td>\n",
       "    </tr>\n",
       "    <tr>\n",
       "      <th>8</th>\n",
       "      <td>ecd93cf051988b23b3590415f4e7d550de264600d7d2af...</td>\n",
       "      <td>phone</td>\n",
       "      <td>+1234567890</td>\n",
       "      <td>str</td>\n",
       "    </tr>\n",
       "    <tr>\n",
       "      <th>9</th>\n",
       "      <td>9a4a3ace265c9bf2facc0044ca24260c42805c6e7b2a60...</td>\n",
       "      <td>None</td>\n",
       "      <td>\\X/Fc7;/v`6joU5z*n{35zFB&lt;&lt;6BMC,}/_04],&gt;v$Jr2&amp;0...</td>\n",
       "      <td>str</td>\n",
       "    </tr>\n",
       "  </tbody>\n",
       "</table>\n",
       "</div>"
      ],
      "text/plain": [
       "                                        attribute_id attribute_name  \\\n",
       "0  ee25af17445d7622cbf61a5b9424246a1f3104704b68bd...           name   \n",
       "1  8b5b2be24e60ba407b90967820da8a1385a6d67691a02b...            age   \n",
       "2  52ea872c99c586530348ba8902dcab831761673d25cf1c...        country   \n",
       "3  7d5ee0e0cd00c3703e5f346c6887baf503faaf9fe09077...       employee   \n",
       "4  ee25af17445d7622cbf61a5b9424246a1f3104704b68bd...           name   \n",
       "5  3367512147bf19ae99c986b356af11dcdc067376aa1b79...             id   \n",
       "6  341769820d8937a5c9f9b980eefca37f3f37fcc6fd01c6...        contact   \n",
       "7  2e8b00e571f9d835d3f022a9ff49b9779034ab21bffdcd...          email   \n",
       "8  ecd93cf051988b23b3590415f4e7d550de264600d7d2af...          phone   \n",
       "9  9a4a3ace265c9bf2facc0044ca24260c42805c6e7b2a60...           None   \n",
       "\n",
       "                                     attribute_value attribute_value_type  \n",
       "0                                          Some name                  str  \n",
       "1                                                111                  int  \n",
       "2                                          Some land                  str  \n",
       "3  {'name': 'Some name', 'id': 10293, 'contact': ...                 dict  \n",
       "4                                          Some name                  str  \n",
       "5                                              10293                  int  \n",
       "6  {'email': 'some.name@example.com', 'phone': '+...                 dict  \n",
       "7                              some.name@example.com                  str  \n",
       "8                                        +1234567890                  str  \n",
       "9  \\X/Fc7;/v`6joU5z*n{35zFB<<6BMC,}/_04],>v$Jr2&0...                  str  "
      ]
     },
     "execution_count": 19,
     "metadata": {},
     "output_type": "execute_result"
    }
   ],
   "source": [
    "pd.DataFrame([tab for param_id, tab_list in pf.commited_tables['ffb2fa4d1f14786e7a11641a870c3db55f08f375fb7ac00c9a2127f7cd801a60']\\\n",
    "    ['attribute_values']\\\n",
    "        ['e73396d2601456e8bb84a811aaec5fb46dda83d70f9cd706ec58d5ea76e0d5dd'].items() \\\n",
    "            for tab in tab_list])"
   ]
  },
  {
   "cell_type": "code",
   "execution_count": 20,
   "metadata": {},
   "outputs": [
    {
     "data": {
      "text/plain": [
       "True"
      ]
     },
     "execution_count": 20,
     "metadata": {},
     "output_type": "execute_result"
    }
   ],
   "source": [
    "pf.database_connector.add_entries(table_name = 'attribute_values',\n",
    "             entries = pf.commited_tables['ffb2fa4d1f14786e7a11641a870c3db55f08f375fb7ac00c9a2127f7cd801a60']['attribute_values']['e73396d2601456e8bb84a811aaec5fb46dda83d70f9cd706ec58d5ea76e0d5dd']['4cea5b09e77da310c5105978f2ceea5c5d8c9c7b65d0e00b45135ea90fc011af'])"
   ]
  },
  {
   "cell_type": "code",
   "execution_count": 22,
   "metadata": {},
   "outputs": [
    {
     "data": {
      "text/plain": [
       "[{'attribute_id': 'ee25af17445d7622cbf61a5b9424246a1f3104704b68bd31b9b7532471d492e5',\n",
       "  'attribute_name': 'name',\n",
       "  'attribute_value': 'Some name',\n",
       "  'attribute_value_type': 'str'},\n",
       " {'attribute_id': '8b5b2be24e60ba407b90967820da8a1385a6d67691a02bc663703160ef655101',\n",
       "  'attribute_name': 'age',\n",
       "  'attribute_value': '111',\n",
       "  'attribute_value_type': 'int'},\n",
       " {'attribute_id': '52ea872c99c586530348ba8902dcab831761673d25cf1cb0023576820289ce6b',\n",
       "  'attribute_name': 'country',\n",
       "  'attribute_value': 'Some land',\n",
       "  'attribute_value_type': 'str'}]"
      ]
     },
     "execution_count": 22,
     "metadata": {},
     "output_type": "execute_result"
    }
   ],
   "source": [
    "pf.database_connector.get_entries(table_name = 'attribute_values',\n",
    "               return_keys = ['attribute_id',\n",
    "                                'attribute_name',\n",
    "                                'attribute_value',\n",
    "                                'attribute_value_type'])"
   ]
  },
  {
   "cell_type": "code",
   "execution_count": 25,
   "metadata": {},
   "outputs": [],
   "source": [
    "pf.database_connector.commit()"
   ]
  }
 ],
 "metadata": {
  "kernelspec": {
   "display_name": "testenv",
   "language": "python",
   "name": "python3"
  },
  "language_info": {
   "codemirror_mode": {
    "name": "ipython",
    "version": 3
   },
   "file_extension": ".py",
   "mimetype": "text/x-python",
   "name": "python",
   "nbconvert_exporter": "python",
   "pygments_lexer": "ipython3",
   "version": "3.9.15"
  },
  "orig_nbformat": 4
 },
 "nbformat": 4,
 "nbformat_minor": 2
}
