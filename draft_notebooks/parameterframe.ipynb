{
 "cells": [
  {
   "cell_type": "markdown",
   "metadata": {},
   "source": [
    "# Parameter frame\n",
    "\n",
    "The module provides an interface for managing solution parameters.\n",
    "It allows for the structured storage and retrieval of parameter sets from a database.\n"
   ]
  },
  {
   "cell_type": "code",
   "execution_count": 1,
   "metadata": {},
   "outputs": [],
   "source": [
    "import sys\n",
    "sys.path.append('../')\n",
    "from draft_modules.parameterframe import FileTypeHandler"
   ]
  },
  {
   "cell_type": "markdown",
   "metadata": {},
   "source": [
    "## Content\n",
    "\n",
    "1. Processing and reconstructing yaml and txt with FileTypeHandler"
   ]
  },
  {
   "cell_type": "markdown",
   "metadata": {},
   "source": [
    "## Example data"
   ]
  },
  {
   "cell_type": "code",
   "execution_count": null,
   "metadata": {},
   "outputs": [],
   "source": [
    "yaml_content = \"\"\"\n",
    "key_1: value_1\n",
    "key_2:\n",
    "  subkey_1: value_1\n",
    "  subkey_2: value_2\n",
    "key_3:\n",
    "  - val_1\n",
    "  - val_2\n",
    "\"\"\"\n",
    "\n",
    "txt_content = \"\"\"\n",
    "Lorem ipsum dolor sit amet, consectetur adipiscing elit. Aliquam ac est a dolor porta mollis.\n",
    "Integer quis egestas augue. Donec fermentum magna in neque venenatis, ut pulvinar lorem porta.\n",
    "Etiam dictum tristique ligula vel convallis. Donec pretium porta vulputate. Vestibulum vel justo\n",
    "fringilla, eleifend arcu aliquet, hendrerit urna. Sed sed vehicula quam. Donec interdum at magna eget\n",
    "gravida. Vestibulum eleifend gravida semper. Nullam arcu lectus, tempus ut posuere ut, euismod ac nulla.\n",
    "Donec condimentum diam lectus. Nullam tincidunt libero id metus placerat suscipit. In vel ornare arcu.\n",
    "\n",
    "Integer malesuada posuere tempor. Nullam pharetra mollis justo et tempus. Maecenas molestie,\n",
    "orci a rhoncus placerat, enim tellus ornare ligula, quis facilisis lectus mi in est.\n",
    "Nulla auctor purus dolor, quis hendrerit ligula tincidunt eu. Suspendisse elit lacus, suscipit\n",
    "ullamcorper lacus et, tristique accumsan sem. Quisque a metus sapien. Cras mattis lorem sed tortor\n",
    "finibus euismod. Sed non lacus pretium, condimentum urna et, facilisis dui.\n",
    "\"\"\""
   ]
  },
  {
   "cell_type": "markdown",
   "metadata": {},
   "source": [
    "### 1. Processing and reconstructing yaml and txt with FileTypeHandler"
   ]
  },
  {
   "cell_type": "code",
   "execution_count": null,
   "metadata": {},
   "outputs": [],
   "source": [
    "fth = FileTypeHandler(file_path = \"../tests/parameterframe/example_configs/param_6.txt\")"
   ]
  },
  {
   "cell_type": "code",
   "execution_count": 22,
   "metadata": {},
   "outputs": [],
   "source": [
    "fth = FileTypeHandler(file_path = \"../tests/parameterframe/example_configs/param_6.txt\")\n",
    "fth.process_file()\n",
    "#fth.reconstruct_file(file_path = \"../example2.txt\")"
   ]
  },
  {
   "cell_type": "code",
   "execution_count": 23,
   "metadata": {},
   "outputs": [
    {
     "data": {
      "text/plain": [
       "'*LGZV8_jG3opmt_Y!tq_m.(@OnMtA\"D\\\\}.l(+PoZhd&I>`a48qo90R)Wh?~!,!!\\n\\\\I4{I&WnZ2k)hH&p2PN3$^g)dVw*&5\"<^^2m.Id0ic2~rdt1u8_z\\\\LgZpCuo+6Wcz'"
      ]
     },
     "execution_count": 23,
     "metadata": {},
     "output_type": "execute_result"
    }
   ],
   "source": [
    "fth.file_content"
   ]
  },
  {
   "cell_type": "code",
   "execution_count": 24,
   "metadata": {},
   "outputs": [
    {
     "data": {
      "text/plain": [
       "[{'parameter_id': '690c453a2b998f1cc22993e569b0489bcd5a63493767e5bba05a905aca1a1617',\n",
       "  'attribute_id': '690c453a2b998f1cc22993e569b0489bcd5a63493767e5bba05a905aca1a1617',\n",
       "  'previous_attribute_id': None}]"
      ]
     },
     "execution_count": 24,
     "metadata": {},
     "output_type": "execute_result"
    }
   ],
   "source": [
    "fth.parameter_attributes_list"
   ]
  },
  {
   "cell_type": "code",
   "execution_count": 25,
   "metadata": {},
   "outputs": [],
   "source": [
    "input_file = \"../example.txt\"\n",
    "# fth = FileTypeHandler(file_path = input_file)\n",
    "# fth.process_file()\n",
    "\n",
    "output_file = \"../example2.txt\"\n",
    "parameter_id = fth.parameter_id\n",
    "parameter_attributes_list = fth.parameter_attributes_list\n",
    "attribute_values_list = fth.attribute_values_list\n",
    "\n",
    "fth2 = FileTypeHandler()\n",
    "\n",
    "fth2.reconstruct_file(\n",
    "    file_path = output_file,\n",
    "    parameter_id = fth.parameter_id,\n",
    "    parameter_attributes_list = fth.parameter_attributes_list,\n",
    "    attribute_values_list = fth.attribute_values_list\n",
    ")"
   ]
  },
  {
   "cell_type": "code",
   "execution_count": 19,
   "metadata": {},
   "outputs": [
    {
     "name": "stdout",
     "output_type": "stream",
     "text": [
      "{'products': [{'name': 'Book', 'price': 12.99, 'tags': ['paperback', 'literature']}, {'name': 'Laptop', 'price': 899.99, 'tags': ['electronics', 'computers']}, ['Python', 'JavaScript', 'Rust']]}\n"
     ]
    }
   ],
   "source": [
    "print(fth2.file_content)"
   ]
  },
  {
   "cell_type": "code",
   "execution_count": 5,
   "metadata": {},
   "outputs": [],
   "source": [
    "fth2 = FileTypeHandler()\n",
    "\n",
    "fth2.reconstruct_file(\n",
    "    file_path = \"../example2.txt\",\n",
    "    parameter_id = fth.parameter_id,\n",
    "    parameter_attributes_list = fth.parameter_attributes_list,\n",
    "    attribute_values_list = fth.attribute_values_list\n",
    ")"
   ]
  },
  {
   "cell_type": "code",
   "execution_count": 10,
   "metadata": {},
   "outputs": [
    {
     "data": {
      "text/plain": [
       "'def _process_yaml(self,\\n                     data : dict,\\n                     parent_id : str = None,\\n                     parameter_id : str = None) -> tuple:\\n\\n        \"\"\"\\n        Recursive function to process the YAML dictionary and turn it into list inputs.\\n        \"\"\"\\n\\n        parameter_attributes = []\\n        attribute_values = []\\n\\n        for key, value in data.items():\\n            # Generate a unique ID for the attribute\\n            attribute_id = self._generate_unique_id(str(key)+str(value))\\n\\n            parameter_attributes.append({\\n                \\'parameter_id\\' : parameter_id,\\n                \\'attribute_id\\': attribute_id,\\n                \\'previous_attribute_id\\': parent_id\\n            })\\n\\n            # It\\'s a value, add to attribute_values\\n            attribute_values.append({\\n                \\'attribute_id\\': attribute_id,\\n                \\'attribute_name\\': key,\\n                \\'attribute_value\\': str(value),\\n                \\'attribute_value_type\\': type(value).__name__\\n            })\\n\\n            if isinstance(value, dict):\\n\\n                # It\\'s a nested dictionary, recurse\\n                sub_attrs, sub_vals = self._process_yaml(value, attribute_id, parameter_id)\\n                parameter_attributes.extend(sub_attrs)\\n                attribute_values.extend(sub_vals)\\n            elif isinstance(value, list):\\n\\n                # It\\'s a list, process each item\\n                parent_id = attribute_id\\n                for item in value:\\n\\n                    attribute_id = self._generate_unique_id(str(item))\\n\\n                    parameter_attributes.append({\\n                        \\'parameter_id\\' : parameter_id,\\n                        \\'attribute_id\\': attribute_id,\\n                        \\'previous_attribute_id\\': parent_id\\n                    })\\n\\n                    attribute_values.append({\\n                        \\'attribute_id\\': attribute_id,\\n                        \\'attribute_name\\': key,\\n                        \\'attribute_value\\': item,\\n                        \\'attribute_value_type\\': type(item).__name__\\n                    })\\n\\n        return parameter_attributes, attribute_values'"
      ]
     },
     "execution_count": 10,
     "metadata": {},
     "output_type": "execute_result"
    }
   ],
   "source": [
    "fth.attribute_values_list[0]['attribute_value']"
   ]
  },
  {
   "cell_type": "code",
   "execution_count": null,
   "metadata": {},
   "outputs": [],
   "source": [
    "file_content = fth.attribute_values_list[0]['attribute_value']"
   ]
  },
  {
   "cell_type": "code",
   "execution_count": 24,
   "metadata": {},
   "outputs": [
    {
     "data": {
      "text/plain": [
       "'txt'"
      ]
     },
     "execution_count": 24,
     "metadata": {},
     "output_type": "execute_result"
    }
   ],
   "source": [
    "fth.file_type"
   ]
  },
  {
   "cell_type": "code",
   "execution_count": 25,
   "metadata": {},
   "outputs": [],
   "source": [
    "import os"
   ]
  },
  {
   "cell_type": "code",
   "execution_count": 26,
   "metadata": {},
   "outputs": [
    {
     "data": {
      "text/plain": [
       "'example.txt'"
      ]
     },
     "execution_count": 26,
     "metadata": {},
     "output_type": "execute_result"
    }
   ],
   "source": [
    "os.path.basename(\"../example.txt\" )"
   ]
  },
  {
   "cell_type": "code",
   "execution_count": 18,
   "metadata": {},
   "outputs": [],
   "source": [
    "content = fth._load_file_content(file_path=\"../example.txt\",\n",
    "                    file_type=\"txt\")\n",
    "parameter_id = fth._generate_unique_id(str(content))\n",
    "\n",
    "\n",
    "\n",
    "attribute_id = parameter_id\n",
    "\n",
    "parameter_attributes =[{\n",
    "                'parameter_id' : parameter_id,\n",
    "                'attribute_id': attribute_id,\n",
    "                'previous_attribute_id': None\n",
    "            }]\n",
    "\n",
    "# It's a value, add to attribute_values\n",
    "attribute_values = [{\n",
    "    'attribute_id': attribute_id,\n",
    "    'attribute_name': None,\n",
    "    'attribute_value': str(content),\n",
    "    'attribute_value_type': type(content).__name__\n",
    "}]"
   ]
  },
  {
   "cell_type": "code",
   "execution_count": 13,
   "metadata": {},
   "outputs": [
    {
     "data": {
      "text/plain": [
       "[{'attribute_id': '366147cadfaf41eaada30917e3efdfbbb9ade80539dd45c579f71bebbf0512e9',\n",
       "  'attribute_name': None,\n",
       "  'attribute_value': 'def _process_yaml(self,\\n                     data : dict,\\n                     parent_id : str = None,\\n                     parameter_id : str = None) -> tuple:\\n\\n        \"\"\"\\n        Recursive function to process the YAML dictionary and turn it into list inputs.\\n        \"\"\"\\n\\n        parameter_attributes = []\\n        attribute_values = []\\n\\n        for key, value in data.items():\\n            # Generate a unique ID for the attribute\\n            attribute_id = self._generate_unique_id(str(key)+str(value))\\n\\n            parameter_attributes.append({\\n                \\'parameter_id\\' : parameter_id,\\n                \\'attribute_id\\': attribute_id,\\n                \\'previous_attribute_id\\': parent_id\\n            })\\n\\n            # It\\'s a value, add to attribute_values\\n            attribute_values.append({\\n                \\'attribute_id\\': attribute_id,\\n                \\'attribute_name\\': key,\\n                \\'attribute_value\\': str(value),\\n                \\'attribute_value_type\\': type(value).__name__\\n            })\\n\\n            if isinstance(value, dict):\\n\\n                # It\\'s a nested dictionary, recurse\\n                sub_attrs, sub_vals = self._process_yaml(value, attribute_id, parameter_id)\\n                parameter_attributes.extend(sub_attrs)\\n                attribute_values.extend(sub_vals)\\n            elif isinstance(value, list):\\n\\n                # It\\'s a list, process each item\\n                parent_id = attribute_id\\n                for item in value:\\n\\n                    attribute_id = self._generate_unique_id(str(item))\\n\\n                    parameter_attributes.append({\\n                        \\'parameter_id\\' : parameter_id,\\n                        \\'attribute_id\\': attribute_id,\\n                        \\'previous_attribute_id\\': parent_id\\n                    })\\n\\n                    attribute_values.append({\\n                        \\'attribute_id\\': attribute_id,\\n                        \\'attribute_name\\': key,\\n                        \\'attribute_value\\': item,\\n                        \\'attribute_value_type\\': type(item).__name__\\n                    })\\n\\n        return parameter_attributes, attribute_values',\n",
       "  'attribute_value_type': 'str'}]"
      ]
     },
     "execution_count": 13,
     "metadata": {},
     "output_type": "execute_result"
    }
   ],
   "source": [
    "fth.attribute_values_list"
   ]
  },
  {
   "cell_type": "code",
   "execution_count": 6,
   "metadata": {},
   "outputs": [],
   "source": [
    "fth.process_file()"
   ]
  },
  {
   "cell_type": "code",
   "execution_count": 9,
   "metadata": {},
   "outputs": [
    {
     "data": {
      "text/plain": [
       "[{'parameter_id': '366147cadfaf41eaada30917e3efdfbbb9ade80539dd45c579f71bebbf0512e9',\n",
       "  'file_name': 'example.txt',\n",
       "  'file_type': 'txt'}]"
      ]
     },
     "execution_count": 9,
     "metadata": {},
     "output_type": "execute_result"
    }
   ],
   "source": [
    "fth.parameter_description"
   ]
  },
  {
   "cell_type": "code",
   "execution_count": 12,
   "metadata": {},
   "outputs": [],
   "source": [
    "fth.reconstruct_file(file_path=\"../example_3.yaml\")"
   ]
  },
  {
   "cell_type": "code",
   "execution_count": 13,
   "metadata": {},
   "outputs": [
    {
     "data": {
      "text/plain": [
       "{'key_1': 'value_1',\n",
       " 'key_2': {'subkey_1': 'value_1', 'subkey_2': 'value_2'},\n",
       " 'key_3': ['val_1', 'val_2']}"
      ]
     },
     "execution_count": 13,
     "metadata": {},
     "output_type": "execute_result"
    }
   ],
   "source": [
    "fth.file_content"
   ]
  },
  {
   "cell_type": "code",
   "execution_count": 2,
   "metadata": {},
   "outputs": [],
   "source": [
    "# example configs\n",
    "\n",
    "yaml_file = {'key_1' : 'value_1',\n",
    "             'key_2' : {'subkey_1' : 'value_1',\n",
    "                        'subkey_2' : 'value_2'},\n",
    "             'key_3' : ['val_1', 'val_2']}\n",
    "\n",
    "txt_file = \"\"\"some text\n",
    "\n",
    "              more text\"\"\""
   ]
  },
  {
   "cell_type": "code",
   "execution_count": 11,
   "metadata": {},
   "outputs": [
    {
     "name": "stdout",
     "output_type": "stream",
     "text": [
      "Detected file type: yaml\n",
      "Content: {'key_1': 'value_1', 'key_2': {'subkey_1': 'value_1', 'subkey_2': 'value_2'}, 'key_3': ['val_1', 'val_2']}\n"
     ]
    }
   ],
   "source": [
    "import yaml\n",
    "import dill\n",
    "import os\n",
    "\n",
    "def load_file_and_determine_type(file_path):\n",
    "    # Check the file extension\n",
    "    _, file_extension = os.path.splitext(file_path)\n",
    "\n",
    "    # Try to guess and load the file based on the extension\n",
    "    try:\n",
    "        if file_extension in ['.yml', '.yaml']:\n",
    "            with open(file_path, 'r') as file:\n",
    "                content = yaml.safe_load(file)\n",
    "            return 'yaml', content\n",
    "        elif file_extension == '.txt':\n",
    "            with open(file_path, 'r') as file:\n",
    "                content = file.read()\n",
    "            return 'txt', content\n",
    "        elif file_extension == '.dill':\n",
    "            with open(file_path, 'rb') as file:\n",
    "                content = dill.load(file)\n",
    "            return 'dill', content\n",
    "        else:\n",
    "            # Fallback or additional file types can be handled here\n",
    "            return 'unknown', None\n",
    "    except Exception as e:\n",
    "        return 'error', str(e)\n",
    "\n",
    "# Example usage\n",
    "file_path = '../example.yaml'  # Change this to your actual file path\n",
    "file_type, content = load_file_and_determine_type(file_path)\n",
    "\n",
    "print(f\"Detected file type: {file_type}\")\n",
    "print(\"Content:\", content)\n"
   ]
  },
  {
   "cell_type": "code",
   "execution_count": 3,
   "metadata": {},
   "outputs": [],
   "source": [
    "import hashlib\n",
    "\n",
    "parameter = yaml_file.copy()\n",
    "\n",
    "# if parameter type == dict\n",
    "\n",
    "## hash\n",
    "parameter_id = hashlib.sha256(str(parameter).encode()).hexdigest()\n",
    "\n",
    "## if hash not exists\n",
    "## recurserve split on attributes\n",
    "\n",
    "\n"
   ]
  },
  {
   "cell_type": "code",
   "execution_count": 4,
   "metadata": {},
   "outputs": [
    {
     "name": "stdout",
     "output_type": "stream",
     "text": [
      "                                        parameter_id  \\\n",
      "0  0c1bd0fad92e911689da93927eded5b41fa8d278773588...   \n",
      "1  0c1bd0fad92e911689da93927eded5b41fa8d278773588...   \n",
      "2  0c1bd0fad92e911689da93927eded5b41fa8d278773588...   \n",
      "3  0c1bd0fad92e911689da93927eded5b41fa8d278773588...   \n",
      "4  0c1bd0fad92e911689da93927eded5b41fa8d278773588...   \n",
      "5  0c1bd0fad92e911689da93927eded5b41fa8d278773588...   \n",
      "6  0c1bd0fad92e911689da93927eded5b41fa8d278773588...   \n",
      "\n",
      "                                        attribute_id  \\\n",
      "0  cfccd7264ce1a67d362b43648cc142d7ccf04f076c99c4...   \n",
      "1  7c45181a51928e899367fb78d97b487d904a3910897d77...   \n",
      "2  8e9e032d6b3a54dc7a4901153b31feb85b54540116b25b...   \n",
      "3  1c0781100143bd87ecd5c510e123dc199111b0b31f0a58...   \n",
      "4  d6a2e9806dc21a1f2900e82e79da2fa96d0ebd319fa6fc...   \n",
      "5  41e3f57d7635d8142a1118b098382cb3f4003036fcca00...   \n",
      "6  129f21905bd414ad095946f4ea40880884d1db332d4cc7...   \n",
      "\n",
      "                               previous_attribute_id  \n",
      "0                                               None  \n",
      "1                                               None  \n",
      "2  7c45181a51928e899367fb78d97b487d904a3910897d77...  \n",
      "3  7c45181a51928e899367fb78d97b487d904a3910897d77...  \n",
      "4                                               None  \n",
      "5  d6a2e9806dc21a1f2900e82e79da2fa96d0ebd319fa6fc...  \n",
      "6  d6a2e9806dc21a1f2900e82e79da2fa96d0ebd319fa6fc...  \n",
      "                                        attribute_id attribute_name  \\\n",
      "0  cfccd7264ce1a67d362b43648cc142d7ccf04f076c99c4...          key_1   \n",
      "1  7c45181a51928e899367fb78d97b487d904a3910897d77...          key_2   \n",
      "2  8e9e032d6b3a54dc7a4901153b31feb85b54540116b25b...       subkey_1   \n",
      "3  1c0781100143bd87ecd5c510e123dc199111b0b31f0a58...       subkey_2   \n",
      "4  d6a2e9806dc21a1f2900e82e79da2fa96d0ebd319fa6fc...          key_3   \n",
      "5  41e3f57d7635d8142a1118b098382cb3f4003036fcca00...          key_3   \n",
      "6  129f21905bd414ad095946f4ea40880884d1db332d4cc7...          key_3   \n",
      "\n",
      "                                  attribute_value attribute_value_type  \n",
      "0                                         value_1                  str  \n",
      "1  {'subkey_1': 'value_1', 'subkey_2': 'value_2'}                 dict  \n",
      "2                                         value_1                  str  \n",
      "3                                         value_2                  str  \n",
      "4                              ['val_1', 'val_2']                 list  \n",
      "5                                           val_1                  str  \n",
      "6                                           val_2                  str  \n"
     ]
    }
   ],
   "source": [
    "import yaml\n",
    "import pandas as pd\n",
    "\n",
    "# This is your YAML file content as a string for the example\n",
    "yaml_content = \"\"\"\n",
    "key_1: value_1\n",
    "key_2:\n",
    "  subkey_1: value_1\n",
    "  subkey_2: value_2\n",
    "key_3:\n",
    "  - val_1\n",
    "  - val_2\n",
    "\"\"\"\n",
    "\n",
    "# Helper function to generate a unique ID for attribute entries\n",
    "def generate_unique_id(txt):\n",
    "    # Placeholder function for generating a unique ID based on the key\n",
    "    # In a real-world scenario, this could be an auto-incrementing ID from the database\n",
    "    # or some hash of the key\n",
    "    hash_id = hashlib.sha256(str(txt).encode()).hexdigest()\n",
    "    return hash_id\n",
    "\n",
    "\n",
    "# Recursive function to process the YAML dictionary\n",
    "def process_yaml(data, parent_id=None, parameter_id = None):\n",
    "\n",
    "    parameter_attributes = []\n",
    "    attribute_values = []\n",
    "\n",
    "    for key, value in data.items():\n",
    "        # Generate a unique ID for the attribute\n",
    "        attribute_id = generate_unique_id(str(key)+str(value))\n",
    "\n",
    "        parameter_attributes.append({\n",
    "            'parameter_id' : parameter_id,\n",
    "            'attribute_id': attribute_id,\n",
    "            'previous_attribute_id': parent_id\n",
    "        })\n",
    "\n",
    "        # It's a value, add to attribute_values\n",
    "        attribute_values.append({\n",
    "            'attribute_id': attribute_id,\n",
    "            'attribute_name': key,\n",
    "            'attribute_value': str(value),\n",
    "            'attribute_value_type': type(value).__name__\n",
    "        })\n",
    "\n",
    "        if isinstance(value, dict):\n",
    "\n",
    "            # It's a nested dictionary, recurse\n",
    "            sub_attrs, sub_vals = process_yaml(value, attribute_id, parameter_id)\n",
    "            parameter_attributes.extend(sub_attrs)\n",
    "            attribute_values.extend(sub_vals)\n",
    "        elif isinstance(value, list):\n",
    "\n",
    "            # It's a list, process each item\n",
    "            parent_id = attribute_id\n",
    "            for item in value:\n",
    "\n",
    "                attribute_id = generate_unique_id(str(item))\n",
    "\n",
    "                parameter_attributes.append({\n",
    "                    'parameter_id' : parameter_id,\n",
    "                    'attribute_id': attribute_id,\n",
    "                    'previous_attribute_id': parent_id\n",
    "                })\n",
    "\n",
    "                attribute_values.append({\n",
    "                    'attribute_id': attribute_id,\n",
    "                    'attribute_name': key,\n",
    "                    'attribute_value': item,\n",
    "                    'attribute_value_type': type(item).__name__\n",
    "                })\n",
    "\n",
    "    return parameter_attributes, attribute_values\n",
    "\n",
    "# Load the YAML file into a Python dictionary\n",
    "parsed_yaml = yaml.safe_load(yaml_content)\n",
    "\n",
    "parameter_id = generate_unique_id(str(parsed_yaml))\n",
    "\n",
    "# Process the YAML content\n",
    "parameter_attributes_list, attribute_values_list = process_yaml(parsed_yaml, parameter_id = parameter_id)\n",
    "\n",
    "\n",
    "\n",
    "# Convert the lists of dictionaries to pandas DataFrames\n",
    "df_parameter_attributes = pd.DataFrame(parameter_attributes_list)\n",
    "df_attribute_values = pd.DataFrame(attribute_values_list)\n",
    "\n",
    "# Display the results\n",
    "print(df_parameter_attributes)\n",
    "print(df_attribute_values)\n"
   ]
  },
  {
   "cell_type": "code",
   "execution_count": 12,
   "metadata": {},
   "outputs": [
    {
     "data": {
      "text/plain": [
       "{'key_1': 'value_1',\n",
       " 'key_2': {'subkey_1': 'value_1', 'subkey_2': 'value_2'},\n",
       " 'key_3': ['val_1', 'val_2']}"
      ]
     },
     "execution_count": 12,
     "metadata": {},
     "output_type": "execute_result"
    }
   ],
   "source": [
    "parsed_yaml"
   ]
  },
  {
   "cell_type": "code",
   "execution_count": 5,
   "metadata": {},
   "outputs": [
    {
     "name": "stdout",
     "output_type": "stream",
     "text": [
      "key_1: value_1\n",
      "key_2:\n",
      "  subkey_1: value_1\n",
      "  subkey_2: value_2\n",
      "key_3:\n",
      "- val_1\n",
      "- val_2\n",
      "\n"
     ]
    }
   ],
   "source": [
    "import yaml\n",
    "from collections import defaultdict\n",
    "\n",
    "def reconstruct_yaml(parameter_attributes_list, attribute_values_list):\n",
    "    # Build a dictionary mapping from attribute_id to attribute_name\n",
    "    id_to_name = {attr['attribute_id']: attr.get('attribute_name', None) for attr in attribute_values_list}\n",
    "\n",
    "    # Build a nested dictionary to represent the hierarchy of the attributes\n",
    "    nested_attrs = defaultdict(dict)\n",
    "\n",
    "\n",
    "    # Create a mapping from attribute_id to attribute_name\n",
    "    for attr in attribute_values_list:\n",
    "        nested_attrs[attr['attribute_id']]['name'] = attr['attribute_name']\n",
    "        nested_attrs[attr['attribute_id']]['value'] = attr['attribute_value']\n",
    "        nested_attrs[attr['attribute_id']]['type'] = attr['attribute_value_type']\n",
    "\n",
    "    # Add children based on previous_attribute_id\n",
    "    for attr in parameter_attributes_list:\n",
    "        if attr['previous_attribute_id']:\n",
    "            nested_attrs[attr['previous_attribute_id']].setdefault('children', []).append(attr['attribute_id'])\n",
    "\n",
    "    # Recursive function to construct the nested dictionary\n",
    "    def construct_dict(attr_id):\n",
    "        if 'children' in nested_attrs[attr_id]:\n",
    "            # reconstruct differently for list\n",
    "            if nested_attrs[attr_id]['type'] == 'list':\n",
    "                return [construct_dict(child_id) for child_id in nested_attrs[attr_id]['children']]\n",
    "\n",
    "            return {id_to_name[child_id]: construct_dict(child_id) for child_id in nested_attrs[attr_id]['children']}\n",
    "        else:\n",
    "            return nested_attrs[attr_id]['value']\n",
    "\n",
    "    # Start constructing the nested dictionary from the top-level attributes\n",
    "    result = {}\n",
    "    for attr in parameter_attributes_list:\n",
    "        if attr['previous_attribute_id'] is None:\n",
    "            # We are at a root attribute\n",
    "            attr_name = id_to_name[attr['attribute_id']]\n",
    "            result[attr_name] = construct_dict(attr['attribute_id'])\n",
    "\n",
    "\n",
    "    # Convert the nested dictionary to a YAML string\n",
    "    return yaml.dump(result, sort_keys=False)\n",
    "\n",
    "# Use the reconstructed YAML function\n",
    "yaml_str = reconstruct_yaml(parameter_attributes_list, attribute_values_list)\n",
    "print(yaml_str)\n"
   ]
  },
  {
   "cell_type": "code",
   "execution_count": 8,
   "metadata": {},
   "outputs": [
    {
     "data": {
      "text/html": [
       "<div>\n",
       "<style scoped>\n",
       "    .dataframe tbody tr th:only-of-type {\n",
       "        vertical-align: middle;\n",
       "    }\n",
       "\n",
       "    .dataframe tbody tr th {\n",
       "        vertical-align: top;\n",
       "    }\n",
       "\n",
       "    .dataframe thead th {\n",
       "        text-align: right;\n",
       "    }\n",
       "</style>\n",
       "<table border=\"1\" class=\"dataframe\">\n",
       "  <thead>\n",
       "    <tr style=\"text-align: right;\">\n",
       "      <th></th>\n",
       "      <th>parameter_id</th>\n",
       "      <th>attribute_id</th>\n",
       "      <th>previous_attribute_id</th>\n",
       "    </tr>\n",
       "  </thead>\n",
       "  <tbody>\n",
       "    <tr>\n",
       "      <th>0</th>\n",
       "      <td>0c1bd0fad92e911689da93927eded5b41fa8d278773588...</td>\n",
       "      <td>cfccd7264ce1a67d362b43648cc142d7ccf04f076c99c4...</td>\n",
       "      <td>None</td>\n",
       "    </tr>\n",
       "    <tr>\n",
       "      <th>1</th>\n",
       "      <td>0c1bd0fad92e911689da93927eded5b41fa8d278773588...</td>\n",
       "      <td>7c45181a51928e899367fb78d97b487d904a3910897d77...</td>\n",
       "      <td>None</td>\n",
       "    </tr>\n",
       "    <tr>\n",
       "      <th>2</th>\n",
       "      <td>0c1bd0fad92e911689da93927eded5b41fa8d278773588...</td>\n",
       "      <td>8e9e032d6b3a54dc7a4901153b31feb85b54540116b25b...</td>\n",
       "      <td>7c45181a51928e899367fb78d97b487d904a3910897d77...</td>\n",
       "    </tr>\n",
       "    <tr>\n",
       "      <th>3</th>\n",
       "      <td>0c1bd0fad92e911689da93927eded5b41fa8d278773588...</td>\n",
       "      <td>1c0781100143bd87ecd5c510e123dc199111b0b31f0a58...</td>\n",
       "      <td>7c45181a51928e899367fb78d97b487d904a3910897d77...</td>\n",
       "    </tr>\n",
       "    <tr>\n",
       "      <th>4</th>\n",
       "      <td>0c1bd0fad92e911689da93927eded5b41fa8d278773588...</td>\n",
       "      <td>d6a2e9806dc21a1f2900e82e79da2fa96d0ebd319fa6fc...</td>\n",
       "      <td>None</td>\n",
       "    </tr>\n",
       "    <tr>\n",
       "      <th>5</th>\n",
       "      <td>0c1bd0fad92e911689da93927eded5b41fa8d278773588...</td>\n",
       "      <td>41e3f57d7635d8142a1118b098382cb3f4003036fcca00...</td>\n",
       "      <td>d6a2e9806dc21a1f2900e82e79da2fa96d0ebd319fa6fc...</td>\n",
       "    </tr>\n",
       "    <tr>\n",
       "      <th>6</th>\n",
       "      <td>0c1bd0fad92e911689da93927eded5b41fa8d278773588...</td>\n",
       "      <td>129f21905bd414ad095946f4ea40880884d1db332d4cc7...</td>\n",
       "      <td>d6a2e9806dc21a1f2900e82e79da2fa96d0ebd319fa6fc...</td>\n",
       "    </tr>\n",
       "  </tbody>\n",
       "</table>\n",
       "</div>"
      ],
      "text/plain": [
       "                                        parameter_id  \\\n",
       "0  0c1bd0fad92e911689da93927eded5b41fa8d278773588...   \n",
       "1  0c1bd0fad92e911689da93927eded5b41fa8d278773588...   \n",
       "2  0c1bd0fad92e911689da93927eded5b41fa8d278773588...   \n",
       "3  0c1bd0fad92e911689da93927eded5b41fa8d278773588...   \n",
       "4  0c1bd0fad92e911689da93927eded5b41fa8d278773588...   \n",
       "5  0c1bd0fad92e911689da93927eded5b41fa8d278773588...   \n",
       "6  0c1bd0fad92e911689da93927eded5b41fa8d278773588...   \n",
       "\n",
       "                                        attribute_id  \\\n",
       "0  cfccd7264ce1a67d362b43648cc142d7ccf04f076c99c4...   \n",
       "1  7c45181a51928e899367fb78d97b487d904a3910897d77...   \n",
       "2  8e9e032d6b3a54dc7a4901153b31feb85b54540116b25b...   \n",
       "3  1c0781100143bd87ecd5c510e123dc199111b0b31f0a58...   \n",
       "4  d6a2e9806dc21a1f2900e82e79da2fa96d0ebd319fa6fc...   \n",
       "5  41e3f57d7635d8142a1118b098382cb3f4003036fcca00...   \n",
       "6  129f21905bd414ad095946f4ea40880884d1db332d4cc7...   \n",
       "\n",
       "                               previous_attribute_id  \n",
       "0                                               None  \n",
       "1                                               None  \n",
       "2  7c45181a51928e899367fb78d97b487d904a3910897d77...  \n",
       "3  7c45181a51928e899367fb78d97b487d904a3910897d77...  \n",
       "4                                               None  \n",
       "5  d6a2e9806dc21a1f2900e82e79da2fa96d0ebd319fa6fc...  \n",
       "6  d6a2e9806dc21a1f2900e82e79da2fa96d0ebd319fa6fc...  "
      ]
     },
     "execution_count": 8,
     "metadata": {},
     "output_type": "execute_result"
    }
   ],
   "source": [
    "df_parameter_attributes"
   ]
  },
  {
   "cell_type": "code",
   "execution_count": 6,
   "metadata": {},
   "outputs": [
    {
     "data": {
      "text/html": [
       "<div>\n",
       "<style scoped>\n",
       "    .dataframe tbody tr th:only-of-type {\n",
       "        vertical-align: middle;\n",
       "    }\n",
       "\n",
       "    .dataframe tbody tr th {\n",
       "        vertical-align: top;\n",
       "    }\n",
       "\n",
       "    .dataframe thead th {\n",
       "        text-align: right;\n",
       "    }\n",
       "</style>\n",
       "<table border=\"1\" class=\"dataframe\">\n",
       "  <thead>\n",
       "    <tr style=\"text-align: right;\">\n",
       "      <th></th>\n",
       "      <th>attribute_id</th>\n",
       "      <th>attribute_name</th>\n",
       "      <th>attribute_value</th>\n",
       "      <th>attribute_value_type</th>\n",
       "    </tr>\n",
       "  </thead>\n",
       "  <tbody>\n",
       "    <tr>\n",
       "      <th>0</th>\n",
       "      <td>cfccd7264ce1a67d362b43648cc142d7ccf04f076c99c4...</td>\n",
       "      <td>key_1</td>\n",
       "      <td>value_1</td>\n",
       "      <td>str</td>\n",
       "    </tr>\n",
       "    <tr>\n",
       "      <th>1</th>\n",
       "      <td>7c45181a51928e899367fb78d97b487d904a3910897d77...</td>\n",
       "      <td>key_2</td>\n",
       "      <td>{'subkey_1': 'value_1', 'subkey_2': 'value_2'}</td>\n",
       "      <td>dict</td>\n",
       "    </tr>\n",
       "    <tr>\n",
       "      <th>2</th>\n",
       "      <td>8e9e032d6b3a54dc7a4901153b31feb85b54540116b25b...</td>\n",
       "      <td>subkey_1</td>\n",
       "      <td>value_1</td>\n",
       "      <td>str</td>\n",
       "    </tr>\n",
       "    <tr>\n",
       "      <th>3</th>\n",
       "      <td>1c0781100143bd87ecd5c510e123dc199111b0b31f0a58...</td>\n",
       "      <td>subkey_2</td>\n",
       "      <td>value_2</td>\n",
       "      <td>str</td>\n",
       "    </tr>\n",
       "    <tr>\n",
       "      <th>4</th>\n",
       "      <td>d6a2e9806dc21a1f2900e82e79da2fa96d0ebd319fa6fc...</td>\n",
       "      <td>key_3</td>\n",
       "      <td>['val_1', 'val_2']</td>\n",
       "      <td>list</td>\n",
       "    </tr>\n",
       "    <tr>\n",
       "      <th>5</th>\n",
       "      <td>41e3f57d7635d8142a1118b098382cb3f4003036fcca00...</td>\n",
       "      <td>key_3</td>\n",
       "      <td>val_1</td>\n",
       "      <td>str</td>\n",
       "    </tr>\n",
       "    <tr>\n",
       "      <th>6</th>\n",
       "      <td>129f21905bd414ad095946f4ea40880884d1db332d4cc7...</td>\n",
       "      <td>key_3</td>\n",
       "      <td>val_2</td>\n",
       "      <td>str</td>\n",
       "    </tr>\n",
       "  </tbody>\n",
       "</table>\n",
       "</div>"
      ],
      "text/plain": [
       "                                        attribute_id attribute_name  \\\n",
       "0  cfccd7264ce1a67d362b43648cc142d7ccf04f076c99c4...          key_1   \n",
       "1  7c45181a51928e899367fb78d97b487d904a3910897d77...          key_2   \n",
       "2  8e9e032d6b3a54dc7a4901153b31feb85b54540116b25b...       subkey_1   \n",
       "3  1c0781100143bd87ecd5c510e123dc199111b0b31f0a58...       subkey_2   \n",
       "4  d6a2e9806dc21a1f2900e82e79da2fa96d0ebd319fa6fc...          key_3   \n",
       "5  41e3f57d7635d8142a1118b098382cb3f4003036fcca00...          key_3   \n",
       "6  129f21905bd414ad095946f4ea40880884d1db332d4cc7...          key_3   \n",
       "\n",
       "                                  attribute_value attribute_value_type  \n",
       "0                                         value_1                  str  \n",
       "1  {'subkey_1': 'value_1', 'subkey_2': 'value_2'}                 dict  \n",
       "2                                         value_1                  str  \n",
       "3                                         value_2                  str  \n",
       "4                              ['val_1', 'val_2']                 list  \n",
       "5                                           val_1                  str  \n",
       "6                                           val_2                  str  "
      ]
     },
     "execution_count": 6,
     "metadata": {},
     "output_type": "execute_result"
    }
   ],
   "source": [
    "df_attribute_values"
   ]
  },
  {
   "cell_type": "code",
   "execution_count": 4,
   "metadata": {},
   "outputs": [
    {
     "data": {
      "text/plain": [
       "'7429e7431fcfcde865a3ddb495f7334fb07e2f0f452382a48386c89c0961adf2'"
      ]
     },
     "execution_count": 4,
     "metadata": {},
     "output_type": "execute_result"
    }
   ],
   "source": [
    "parameter_id"
   ]
  },
  {
   "cell_type": "code",
   "execution_count": null,
   "metadata": {},
   "outputs": [],
   "source": [
    "## inputs\n",
    "\n",
    "# solution id\n",
    "\n",
    "# path to conf\n",
    "# list of files\n",
    "\n",
    "## prepare inputs for tables\n",
    "### read in files\n",
    "\n",
    "## > solution_parameter_set table\n",
    "# assamble parameter_set_id\n",
    "# set deployment status to \"STAGING\"\n",
    "# set insertion date\n",
    "# -> add\n",
    "\n",
    "## > parameter set\n",
    "# split parameters into individual ones based on file type\n",
    "# hash each parameter to create parameter_id\n",
    "# record paramerter type, name, file name, file type\n",
    "# depending on value of the paramter, split it into attributes\n",
    "# hash attributes and give then ids\n",
    "\n",
    "## populate tables\n",
    "\n",
    "# check with id if parameter set exists and if not add\n",
    "# check with id if parameter exists and if not add (if yes assign existing to parameter set)\n",
    "# check with id if attribute of parameter exists if not add (if yes assign to paramter)\n",
    "\n",
    "\n",
    "## persistance\n",
    "\n",
    "## > add solution description if not present\n",
    "# add/change solution name (or pull solution name if not provided)\n",
    "# add/change deployment date (pull if present or pick todays deployment date if not provided)\n",
    "# edit deprication date\n",
    "# edit maintainers\n",
    "\n",
    "## > translate tables into database connector format\n",
    "\n",
    "# upload parameter set\n",
    "# pull parameter set\n",
    "# update parameter set\n",
    "\n",
    "\n",
    "\n"
   ]
  },
  {
   "cell_type": "code",
   "execution_count": 8,
   "metadata": {},
   "outputs": [],
   "source": [
    "import attr\n",
    "import attrs\n",
    "import hashlib\n",
    "from datetime import datetime\n",
    "from mocker_db import MockerDB\n",
    "import logging\n",
    "\n",
    "# connection handler\n",
    "@attr.s\n",
    "class DatabaseConnector:\n",
    "\n",
    "    local_db_handler = attr.ib(default=MockerDB)\n",
    "\n",
    "    logger = attr.ib(default=None)\n",
    "    logger_name = attr.ib(default='Database Connector')\n",
    "    loggerLvl = attr.ib(default=logging.INFO)\n",
    "    logger_format = attr.ib(default=None)\n",
    "\n",
    "\n",
    "    def __attrs_post_init__(self):\n",
    "        self._initialize_logger()\n",
    "\n",
    "    def _initialize_logger(self):\n",
    "\n",
    "        \"\"\"\n",
    "        Initialize a logger for the class instance based on the specified logging level and logger name.\n",
    "        \"\"\"\n",
    "\n",
    "        if self.logger is None:\n",
    "            logging.basicConfig(level=self.loggerLvl, format=self.logger_format)\n",
    "            logger = logging.getLogger(self.logger_name)\n",
    "            logger.setLevel(self.loggerLvl)\n",
    "\n",
    "            self.logger = logger\n",
    "\n",
    "    def _initialize_mocker(self):\n",
    "\n",
    "        self.local_db_handler = self.local_db_handler(file_path = \"./parameterframe\",\n",
    "                                                        persist = False\n",
    "                                                    )\n",
    "\n",
    "    def add_entry(self, table_name: str, entry) -> bool:\n",
    "        try:\n",
    "\n",
    "\n",
    "            # Check if entry is an instance of an attrs class and serialize accordingly\n",
    "            if hasattr(entry, '__attrs_attrs__'):\n",
    "                entry_dict = {a.name: getattr(entry, a.name) for a in attr.fields(entry.__class__) \\\n",
    "                    if a.name not in ['__tablename__', 'database_connector']}\n",
    "            else:\n",
    "                # Assume entry is already a dictionary\n",
    "                entry_dict = entry\n",
    "\n",
    "            self.local_db_handler.data[table_name].append(entry_dict)\n",
    "        except Exception as e:\n",
    "            self.logger.error(f\"Failed to add entry: {e}\")\n",
    "            return False\n",
    "\n",
    "        return True\n",
    "\n",
    "\n",
    "\n",
    "\n",
    "# table handlers\n",
    "## solution_description\n",
    "@attr.s\n",
    "class SolutionDescription():\n",
    "    __tablename__ = 'solution_description'\n",
    "\n",
    "    database_connector = attr.ib()\n",
    "\n",
    "    solution_id = attr.ib(init = False, type=str)\n",
    "    solution_name = attr.ib(init = False, type=str)\n",
    "    deployment_date = attr.ib(init = False, type=datetime)\n",
    "    deprication_date = attr.ib(init = False, type=datetime)\n",
    "    maintainers = attr.ib(init = False, type = list)\n",
    "\n",
    "    def _prepare_maintainers(self, maintainers : list) -> str:\n",
    "\n",
    "        # turn list into formated str\n",
    "        return ', '.join(name.capitalize() for name in maintainers)\n",
    "\n",
    "    def _make_solution_id(self,\n",
    "                          solution_name : str,\n",
    "                          deployment_date : datetime,\n",
    "                          maintainers : str) -> str:\n",
    "\n",
    "        input_string = solution_name + str(deployment_date) + str(maintainers)\n",
    "\n",
    "        return hashlib.sha256(input_string.encode()).hexdigest()\n",
    "\n",
    "    def add_solution(self,\n",
    "                    solution_name : str,\n",
    "                    deployment_date : datetime,\n",
    "                    maintainers : list,\n",
    "                    deprication_date  : datetime = None,\n",
    "                    solution_id : str = None) -> bool:\n",
    "\n",
    "        \"\"\"\n",
    "        Add solution description.\n",
    "        \"\"\"\n",
    "\n",
    "        try:\n",
    "\n",
    "            self.solution_name = solution_name\n",
    "            self.deployment_date = deployment_date\n",
    "            self.maintainers = self._prepare_maintainers(maintainers)\n",
    "            if deprication_date is None:\n",
    "                self.deprication_date = None\n",
    "            if solution_id is None:\n",
    "                self.solution_id = self._make_solution_id(\n",
    "                            solution_name = solution_name,\n",
    "                            deployment_date = deployment_date,\n",
    "                            maintainers = maintainers)\n",
    "\n",
    "            self.database_connector.add_entry(table_name = self.__tablename__,\n",
    "                                              entry = self)\n",
    "        except:\n",
    "            return False\n",
    "\n",
    "        return True\n",
    "\n",
    "    def update_solution_parameter(self,\n",
    "                                solution_id : str,\n",
    "                                solution_name : str = None,\n",
    "                                deployment_date : datetime = None,\n",
    "                                deprication_date  : datetime = None,\n",
    "                                maintainers : list = None) -> bool:\n",
    "\n",
    "        \"\"\"\n",
    "        Update one or multiple solution description parameters.\n",
    "        \"\"\"\n",
    "\n",
    "        try:\n",
    "\n",
    "            self.solution_id = solution_id\n",
    "\n",
    "            if solution_name is not None:\n",
    "                self.solution_name = solution_name\n",
    "            if deployment_date is not None:\n",
    "                self.deployment_date = deployment_date\n",
    "            if deprication_date is not None:\n",
    "                self.deprication_date = deprication_date\n",
    "            if maintainers is not None:\n",
    "                self.maintainers = self._prepare_maintainers(maintainers)\n",
    "\n",
    "        except:\n",
    "            return False\n",
    "\n",
    "        return True\n",
    "\n",
    "    def remove_solution(self,\n",
    "                        solution_id : str,\n",
    "                        solution_name : str = None,\n",
    "                        deployment_date : datetime = None,\n",
    "                        deprication_date  : datetime = None,\n",
    "                        maintainers : list = None) -> bool:\n",
    "\n",
    "        \"\"\"\n",
    "        Update one or multiple solution description parameters.\n",
    "        \"\"\"\n",
    "\n",
    "        try:\n",
    "\n",
    "            self.solution_id = solution_id\n",
    "\n",
    "            if solution_name is not None:\n",
    "                self.solution_name = solution_name\n",
    "            if deployment_date is not None:\n",
    "                self.deployment_date = deployment_date\n",
    "            if deprication_date is not None:\n",
    "                self.deprication_date = deprication_date\n",
    "            if maintainers is not None:\n",
    "                self.maintainers = self._prepare_maintainers(maintainers)\n",
    "\n",
    "        except:\n",
    "            return False\n",
    "\n",
    "        return True\n"
   ]
  },
  {
   "cell_type": "code",
   "execution_count": 16,
   "metadata": {},
   "outputs": [],
   "source": [
    "md = MockerDB(\n",
    "    file_path = \"./parameterframe\",\n",
    "    persist = False\n",
    ")"
   ]
  },
  {
   "cell_type": "code",
   "execution_count": 21,
   "metadata": {},
   "outputs": [
    {
     "data": {
      "text/plain": [
       "[{'solution_name': 'test'}]"
      ]
     },
     "execution_count": 21,
     "metadata": {},
     "output_type": "execute_result"
    }
   ],
   "source": [
    "md.search_database(query = '',\n",
    "                   #filter_criteria = {'table_name' : 'table_name'},\n",
    "                   perform_similarity_search = False,\n",
    "                   return_keys_list=['solution_name'])"
   ]
  },
  {
   "cell_type": "code",
   "execution_count": 19,
   "metadata": {},
   "outputs": [],
   "source": [
    "md.insert_values(values_dict_list=[{'solution_id': 'cf72e48f0d39d3a3a2b79476848c17d65055926b46515c507e9c25bb2b92a056',\n",
    "   'solution_name': 'test',\n",
    "   'deployment_date': '2000-01-01',\n",
    "   'deprication_date': None,\n",
    "   'maintainers': 'Me, And me'}], var_for_embedding_name='text',embed = False)"
   ]
  },
  {
   "cell_type": "code",
   "execution_count": 9,
   "metadata": {},
   "outputs": [],
   "source": [
    "dc = DatabaseConnector()\n",
    "sd = SolutionDescription(database_connector=dc)"
   ]
  },
  {
   "cell_type": "code",
   "execution_count": 10,
   "metadata": {},
   "outputs": [
    {
     "data": {
      "text/plain": [
       "True"
      ]
     },
     "execution_count": 10,
     "metadata": {},
     "output_type": "execute_result"
    }
   ],
   "source": [
    "sd.add_solution(solution_name='test',\n",
    "                deployment_date='2000-01-01',\n",
    "                maintainers=['me','and me'])"
   ]
  },
  {
   "cell_type": "code",
   "execution_count": 12,
   "metadata": {},
   "outputs": [
    {
     "data": {
      "text/plain": [
       "{'solution_description': [{'solution_id': 'cf72e48f0d39d3a3a2b79476848c17d65055926b46515c507e9c25bb2b92a056',\n",
       "   'solution_name': 'test',\n",
       "   'deployment_date': '2000-01-01',\n",
       "   'deprication_date': None,\n",
       "   'maintainers': 'Me, And me'}]}"
      ]
     },
     "execution_count": 12,
     "metadata": {},
     "output_type": "execute_result"
    }
   ],
   "source": [
    "sd.database_connector.data"
   ]
  },
  {
   "cell_type": "markdown",
   "metadata": {},
   "source": [
    "### solution_parameter table \n",
    "solution id, parameter_set_id, deployment status, insertion datetime \n",
    "\n",
    "### parameter_set_parameter_id table\n",
    "parameter_set_id, parameter_id\n",
    "\n",
    "### parameter_file table\n",
    "parameter_id, file_name, file_type\n",
    "\n",
    "### solution_id table \n",
    "solution id, deployment_date, deprication_date, solution name, maintainers\n",
    "\n",
    "### parameter_id table\n",
    "solution_id, param_id, param_type [scalar | nested], param_name_id, param_value\n",
    "\n",
    "### solution_parameter table\n",
    "solution_id, param_name_id, attribute_name_id, param_name, attribute_name\n",
    "\n",
    "### paramter_attribute table\n",
    "parameter_id, attribute_id, attribute_name_id, attribute_value"
   ]
  },
  {
   "cell_type": "code",
   "execution_count": null,
   "metadata": {},
   "outputs": [],
   "source": []
  },
  {
   "cell_type": "code",
   "execution_count": null,
   "metadata": {},
   "outputs": [],
   "source": [
    "class SolutionParameter:\n",
    "    def __init__(self, solution_id, parameter_set_id, deployment_status, insertion_datetime):\n",
    "        self.solution_id = solution_id\n",
    "        self.parameter_set_id = parameter_set_id\n",
    "        self.deployment_status = deployment_status\n",
    "        self.insertion_datetime = insertion_datetime\n",
    "\n",
    "class ParameterSetParameterId:\n",
    "    def __init__(self, parameter_set_id, parameter_id):\n",
    "        self.parameter_set_id = parameter_set_id\n",
    "        self.parameter_id = parameter_id\n",
    "\n",
    "class ParameterFile:\n",
    "\n",
    "    \"\"\"\n",
    "    The table is designed to manage the association between parameters and their corresponding source files.\n",
    "    \"\"\"\n",
    "\n",
    "    def __init__(self, parameter_id, file_name, file_type):\n",
    "        self.parameter_id = parameter_id\n",
    "        self.file_name = file_name\n",
    "        self.file_type = file_type\n",
    "\n",
    "    def add_file_association(self):\n",
    "        # Logic to add this file association to the database\n",
    "        pass\n",
    "\n",
    "    @staticmethod\n",
    "    def get_files_by_parameter_id(parameter_id):\n",
    "        # Logic to retrieve file associations for a specific parameter\n",
    "        pass\n",
    "\n",
    "    def update_file_association(self, new_file_details):\n",
    "        # Logic to update this file association's details\n",
    "        pass\n",
    "\n",
    "    @staticmethod\n",
    "    def delete_file_association(parameter_id):\n",
    "        # Logic to delete a file association by parameter ID\n",
    "        pass\n",
    "\n",
    "class SolutionId:\n",
    "\n",
    "    \"\"\"\n",
    "    The table is aimed at managing various solutions along with their deployment and deprecation details.\n",
    "    \"\"\"\n",
    "\n",
    "    def __init__(self, solution_id, deployment_date, deprecation_date, solution_name, maintainers):\n",
    "        self.solution_id = solution_id\n",
    "        self.deployment_date = deployment_date\n",
    "        self.deprecation_date = deprecation_date\n",
    "        self.solution_name = solution_name\n",
    "        self.maintainers = maintainers\n",
    "\n",
    "    def create_solution(self):\n",
    "        # Logic to register this solution in the database\n",
    "        pass\n",
    "\n",
    "    @staticmethod\n",
    "    def get_solution_by_id(solution_id):\n",
    "        # Logic to retrieve a solution by its ID\n",
    "        pass\n",
    "\n",
    "    def update_solution(self, new_values):\n",
    "        # Logic to update this solution's details\n",
    "        pass\n",
    "\n",
    "    @staticmethod\n",
    "    def delete_solution(solution_id):\n",
    "        # Logic to delete a solution by its ID\n",
    "        pass\n",
    "\n",
    "class ParameterId:\n",
    "\n",
    "    \"\"\"\n",
    "    The table designed to manage parameters including their types, values, and associations with specific solutions,\n",
    "    the corresponding class should include a variety of methods to effectively handle these aspects.\n",
    "    \"\"\"\n",
    "\n",
    "    def __init__(self, solution_id, param_id, param_type, param_name_id, param_value):\n",
    "        self.solution_id = solution_id\n",
    "        self.param_id = param_id\n",
    "        self.param_type = param_type\n",
    "        self.param_name_id = param_name_id\n",
    "        self.param_value = param_value\n",
    "\n",
    "    def add_parameter(self):\n",
    "        # Logic to add this parameter to the database\n",
    "        pass\n",
    "\n",
    "    @staticmethod\n",
    "    def get_parameter_by_id(param_id):\n",
    "        # Logic to retrieve a parameter by its ID\n",
    "        pass\n",
    "\n",
    "    def update_parameter(self, new_values):\n",
    "        # Logic to update this parameter's details\n",
    "        pass\n",
    "\n",
    "    @staticmethod\n",
    "    def delete_parameter(param_id):\n",
    "        # Logic to delete a parameter by its ID\n",
    "        pass\n",
    "\n",
    "class SolutionParameterDetails:\n",
    "\n",
    "    \"\"\"\n",
    "    The table designed to manage the relationship between solutions and their parameters along with additional attributes.\n",
    "    As a class it should include methods for managing these relationships and attributes.\n",
    "    \"\"\"\n",
    "\n",
    "    def __init__(self, solution_id, param_name_id, attribute_name_id, param_name, attribute_name):\n",
    "        self.solution_id = solution_id\n",
    "        self.param_name_id = param_name_id\n",
    "        self.attribute_name_id = attribute_name_id\n",
    "        self.param_name = param_name\n",
    "        self.attribute_name = attribute_name\n",
    "\n",
    "    def add_solution_parameter(self):\n",
    "        # Logic to add this entry to the database\n",
    "        pass\n",
    "\n",
    "    @staticmethod\n",
    "    def get_parameters_by_solution(solution_id):\n",
    "        # Logic to retrieve parameters for a specific solution\n",
    "        pass\n",
    "\n",
    "    def update_solution_parameter(self, new_values):\n",
    "        # Logic to update this entry's details\n",
    "        pass\n",
    "\n",
    "    @staticmethod\n",
    "    def delete_solution_parameter(solution_id, param_name_id):\n",
    "        # Logic to delete a specific solution-parameter relationship\n",
    "        pass\n",
    "\n",
    "class ParameterAttribute:\n",
    "\n",
    "    \"\"\"\n",
    "    The table involves handling different types of parameters associated with solutions,\n",
    "    extending them with additional attributes.\n",
    "    \"\"\"\n",
    "\n",
    "\n",
    "    def __init__(self, parameter_id, attribute_id, attribute_name_id, attribute_value):\n",
    "        self.parameter_id = parameter_id\n",
    "        self.attribute_id = attribute_id\n",
    "        self.attribute_name_id = attribute_name_id\n",
    "        self.attribute_value = attribute_value\n",
    "\n",
    "    def add_attribute(self):\n",
    "        # Logic to add this attribute to the database\n",
    "        pass\n",
    "\n",
    "    @staticmethod\n",
    "    def get_attribute_by_id(attribute_id):\n",
    "        # Logic to get an attribute by ID\n",
    "        pass\n",
    "\n",
    "    def update_attribute_value(self, new_value):\n",
    "        # Logic to update the attribute's value\n",
    "        self.attribute_value = new_value\n",
    "        # Update in database\n",
    "        pass\n",
    "\n",
    "    @staticmethod\n",
    "    def delete_attribute(attribute_id):\n",
    "        # Logic to delete an attribute by ID\n",
    "        pass\n"
   ]
  },
  {
   "cell_type": "markdown",
   "metadata": {},
   "source": []
  },
  {
   "cell_type": "code",
   "execution_count": 3,
   "metadata": {},
   "outputs": [],
   "source": [
    "import os\n",
    "import yaml\n",
    "import csv\n",
    "import attr\n",
    "import attrs\n",
    "from datetime import datetime\n",
    "from uuid import uuid4\n",
    "\n",
    "@attr.s\n",
    "class ParameterFrame:\n",
    "\n",
    "    sync_path = attr.ib(default=None)\n",
    "    solution_id = attr.ib(default=None)\n",
    "    #solution_name = attr.ib(default=None)\n",
    "\n",
    "    overwrite = attr.ib(default=True)\n",
    "\n",
    "\n",
    "\n",
    "    def _generate_unique_id(self):\n",
    "        return str(uuid4())\n",
    "\n",
    "    def _process_yaml_file(self, file_path):\n",
    "        with open(file_path, 'r') as file:\n",
    "            params = yaml.safe_load(file)\n",
    "            self._add_parameters_from_dict(params)\n",
    "\n",
    "    def _process_txt_file(self, file_path):\n",
    "        # Implement the logic to read and parse TXT files\n",
    "        pass\n",
    "\n",
    "    def _add_parameters_from_dict(self, params, parent_id=None):\n",
    "        for key, value in params.items():\n",
    "            param_id = self._generate_unique_id()\n",
    "            param_type = 'nested' if isinstance(value, dict) else 'scalar'\n",
    "            self.parameter.append({\n",
    "                \"solution_id\": parent_id,\n",
    "                \"param_id\": param_id,\n",
    "                \"param_type\": param_type,\n",
    "                \"param_name_id\": key,\n",
    "                \"param_value\": value if param_type == 'scalar' else None\n",
    "            })\n",
    "\n",
    "            if param_type == 'nested':\n",
    "                self._add_parameters_from_dict(value, param_id)\n",
    "\n",
    "    def create_parameter_set(self):\n",
    "        pass\n",
    "\n",
    "    def export_parameters_to_file(self, parameter_set_id, file_format):\n",
    "        # Implement logic to export parameters to a specified file format\n",
    "        pass\n",
    "\n",
    "    def _save_table_to_csv(self, table, file_name):\n",
    "        # Same as previous implementation\n",
    "        pass\n",
    "\n",
    "    def _check_if_parameter_set_exists(self):\n",
    "        pass\n",
    "\n",
    "    def _establish_connection(self):\n",
    "        pass\n",
    "\n",
    "    def add_parameters(self):\n",
    "        for file_name in os.listdir(self.folder_path):\n",
    "            full_path = os.path.join(self.folder_path, file_name)\n",
    "            if file_name.endswith('.yaml'):\n",
    "                self._process_yaml_file(full_path)\n",
    "            elif file_name.endswith('.txt'):\n",
    "                self._process_txt_file(full_path)\n",
    "\n",
    "\n",
    "\n",
    "    def log_solution(self, solution_name, maintainers, deployment_date=None, deprecation_date=None):\n",
    "        solution_id = self._generate_unique_id()\n",
    "        self.solution.append({\n",
    "            \"solution_id\": solution_id,\n",
    "            \"deployment_date\": deployment_date or datetime.now(),\n",
    "            \"deprecation_date\": deprecation_date,\n",
    "            \"solution_name\": solution_name,\n",
    "            \"maintainers\": maintainers\n",
    "        })\n",
    "        # Generate parameter_set_id and link to solution_id\n",
    "        parameter_set_id = self._generate_unique_id()\n",
    "        # Linking process (not fully implemented here)\n",
    "\n",
    "    def change_deployment_status(self):\n",
    "        pass\n",
    "\n",
    "    def display_parameters(self):\n",
    "        pass\n",
    "\n",
    "    def push_parameter(self):\n",
    "        pass\n",
    "\n",
    "    def commit_parameters(self):\n",
    "        pass\n",
    "\n",
    "    def pull_parameters(self):\n",
    "        pass\n",
    "\n",
    "    def switch_parameters(self):\n",
    "        pass\n",
    "\n",
    "\n"
   ]
  },
  {
   "cell_type": "code",
   "execution_count": null,
   "metadata": {},
   "outputs": [],
   "source": []
  }
 ],
 "metadata": {
  "kernelspec": {
   "display_name": "testenv",
   "language": "python",
   "name": "python3"
  },
  "language_info": {
   "codemirror_mode": {
    "name": "ipython",
    "version": 3
   },
   "file_extension": ".py",
   "mimetype": "text/x-python",
   "name": "python",
   "nbconvert_exporter": "python",
   "pygments_lexer": "ipython3",
   "version": "3.9.15"
  },
  "orig_nbformat": 4
 },
 "nbformat": 4,
 "nbformat_minor": 2
}
